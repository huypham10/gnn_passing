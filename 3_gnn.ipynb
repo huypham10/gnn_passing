{
 "cells": [
  {
   "cell_type": "code",
   "execution_count": 1,
   "id": "c54f46d9",
   "metadata": {
    "ExecuteTime": {
     "end_time": "2022-08-11T12:53:09.479466Z",
     "start_time": "2022-08-11T12:52:03.029223Z"
    }
   },
   "outputs": [
    {
     "name": "stdout",
     "output_type": "stream",
     "text": [
      "Requirement already satisfied: torch in c:\\for_work\\anaconda\\lib\\site-packages (1.12.0)\n",
      "Collecting torch\n",
      "  Downloading torch-1.12.1-cp38-cp38-win_amd64.whl (161.9 MB)\n",
      "Requirement already satisfied: typing-extensions in c:\\for_work\\anaconda\\lib\\site-packages (from torch) (4.3.0)\n",
      "Installing collected packages: torch\n",
      "Successfully installed torch-1.12.1\n"
     ]
    },
    {
     "name": "stderr",
     "output_type": "stream",
     "text": [
      "  WARNING: The scripts convert-caffe2-to-onnx.exe, convert-onnx-to-caffe2.exe and torchrun.exe are installed in 'C:\\Users\\Huy's\\AppData\\Roaming\\Python\\Python38\\Scripts' which is not on PATH.\n",
      "  Consider adding this directory to PATH or, if you prefer to suppress this warning, use --no-warn-script-location.\n",
      "ERROR: pip's dependency resolver does not currently take into account all the packages that are installed. This behaviour is the source of the following dependency conflicts.\n",
      "torchvision 0.12.0 requires torch==1.11.0, but you have torch 1.12.1 which is incompatible.\n",
      "torchaudio 0.10.0 requires torch==1.10.0, but you have torch 1.12.1 which is incompatible.\n"
     ]
    }
   ],
   "source": [
    "!pip install --upgrade torch --user"
   ]
  },
  {
   "cell_type": "code",
   "execution_count": 2,
   "id": "b4cdd251",
   "metadata": {
    "ExecuteTime": {
     "end_time": "2022-08-11T12:53:30.739757Z",
     "start_time": "2022-08-11T12:53:28.479852Z"
    }
   },
   "outputs": [
    {
     "name": "stdout",
     "output_type": "stream",
     "text": [
      "1.12.1+cpu\n"
     ]
    }
   ],
   "source": [
    "import torch\n",
    "os.environ['TORCH'] = torch.__version__\n",
    "print(torch.__version__)\n",
    "import glob\n",
    "import pandas as pd\n",
    "import numpy as np\n",
    "import os\n",
    "import math\n",
    "from pandas import json_normalize\n",
    "import matplotlib.pyplot as plt\n",
    "from matplotlib.patches import Arc\n",
    "from matplotlib.animation import FuncAnimation\n",
    "import pickle\n",
    "from statsbombpy import sb\n",
    "from datetime import datetime, timedelta\n",
    "from tqdm import tqdm\n",
    "import itertools\n",
    "import seaborn as sns\n",
    "\n"
   ]
  },
  {
   "cell_type": "code",
   "execution_count": null,
   "id": "f9e49bd7",
   "metadata": {
    "ExecuteTime": {
     "end_time": "2022-08-01T20:41:02.192858Z",
     "start_time": "2022-08-01T20:41:00.730Z"
    }
   },
   "outputs": [],
   "source": [
    "# !pip uninstall torch-scatter\n",
    "# !pip install torch-scatter -f https://data.pyg.org/whl/torch-1.12.1+cpu.html\n",
    "# !pip uninstall torch-sparse\n",
    "# !pip install torch-sparse -f https://data.pyg.org/whl/torch-1.12.1+cpu.html\n",
    "# !pip install torch-geometric"
   ]
  },
  {
   "cell_type": "code",
   "execution_count": 4,
   "id": "8b4d7fdc",
   "metadata": {
    "ExecuteTime": {
     "end_time": "2022-08-11T12:54:44.735553Z",
     "start_time": "2022-08-11T12:53:34.997674Z"
    }
   },
   "outputs": [],
   "source": [
    "import os.path as osp\n",
    "from torch_geometric.data import Data, Dataset, download_url\n",
    "from torch_geometric.loader import DataLoader\n"
   ]
  },
  {
   "cell_type": "markdown",
   "id": "84b70929",
   "metadata": {},
   "source": [
    "# Graph data preprocessing\n",
    "\n",
    "## input files: master_data_training.json, tracking_data.json, train_index.pkl, test_index.pkl\n",
    "\n",
    "### Graph elements:\n",
    "\n",
    "To create a graph, there needs to be:\n",
    "- Nodes - in this instance each node is a player on the field. Each node feature will be the player's location (x&y), flag ball carrier and flag goalkeeper\n",
    "- Edges - denotes relationships between each pair of players. Edge features will be flag teammate, distance and angle between each pair of players\n",
    "- Labels - each graph has its own label - binary_pass_risk and binary_pass_reward."
   ]
  },
  {
   "cell_type": "markdown",
   "id": "7675d811",
   "metadata": {},
   "source": [
    "#### First step: create a Dataset class that takes json master data and tracking data files as input and output graphs \n",
    "- The main method used is \"process\", which processes player tracking data into node features, create the adjacency matrix, create edge feature, and the labels from the master data file."
   ]
  },
  {
   "cell_type": "code",
   "execution_count": 5,
   "id": "98276126",
   "metadata": {
    "ExecuteTime": {
     "end_time": "2022-08-11T12:58:55.953585Z",
     "start_time": "2022-08-11T12:58:55.911576Z"
    }
   },
   "outputs": [],
   "source": [
    "\n",
    "class tracking_Dataset(Dataset):\n",
    "    def __init__(self, root, raw_files, event_file, test=False, transform=None, pre_transform=None):\n",
    "        \"\"\"\n",
    "        root = Where the dataset should be stored. This folder is split\n",
    "        into raw_dir (downloaded dataset) and processed_dir (processed data). \n",
    "        \"\"\"\n",
    "        self.test = test\n",
    "        self.raw_files = raw_files\n",
    "        self.event_file = open(event_file, 'r')\n",
    "        \n",
    "        super(tracking_Dataset, self).__init__(root, transform, pre_transform)\n",
    "        \n",
    "    @property\n",
    "    def raw_file_names(self):\n",
    "        \"\"\" If this file exists in raw_dir, the download is not triggered.\n",
    "            (The download func. is not implemented here)  \n",
    "        \"\"\"\n",
    "        return self.raw_files\n",
    "\n",
    "    @property\n",
    "    def processed_file_names(self):\n",
    "        \"\"\" If these files are found in raw_dir, processing is skipped\"\"\"\n",
    "        self.event_df = pd.read_json(self.event_file)\n",
    "        self.event_lst = self.event_df.index\n",
    "        return [f'data_{i}.pt' for i in self.event_lst]\n",
    "\n",
    "    def download(self):\n",
    "        pass\n",
    "\n",
    "    def process(self):\n",
    "        #loop through each json file in raw_paths \n",
    "        for raw_path in self.raw_paths:\n",
    "            #get tracking dataframe for each match (only get events in master_data)\n",
    "            self.data = self._frames(raw_path)\n",
    "            #loop through each match event to create a graph\n",
    "            for index, event in enumerate(tqdm(self.event_lst, total=len(self.event_lst))):\n",
    "                \n",
    "                df = self.data.loc[self.data['id']==event].reset_index()\n",
    "                \n",
    "                # Get node features\n",
    "                node_feats = self._get_node_attr(df)\n",
    "                # Get adjacency info\n",
    "                edge_index = self._get_adjacency_info(df)\n",
    "                # Get edge features\n",
    "                edge_feats = self._get_edge_attr(df, edge_index)\n",
    "                # Get labels info\n",
    "#                 label = self._get_label(self.event_df, event)\n",
    "                label_risk = self._get_label_risk(self.event_df, event)\n",
    "                label_reward = self._get_label_reward(self.event_df, event)\n",
    "                # Get universal features\n",
    "#                 uni_feats = self._get_universal_attr(self.event_df, event)\n",
    "\n",
    "                # Create data object\n",
    "                data = Data(x=node_feats, \n",
    "                            edge_index=edge_index,\n",
    "                            edge_attr=edge_feats,\n",
    "                            y_risk=label_risk,\n",
    "                            y_reward=label_reward,\n",
    "                            event=event\n",
    "                            ) \n",
    "                if self.test:\n",
    "                    torch.save(data, \n",
    "                        os.path.join(self.processed_dir, \n",
    "                                     f'data_test_{index}.pt'))\n",
    "                else:\n",
    "                    torch.save(data, \n",
    "                        os.path.join(self.processed_dir, \n",
    "                                     f'data_{index}.pt'))\n",
    "\n",
    "\n",
    "    def len(self):\n",
    "        return self.data.shape[0]\n",
    "\n",
    "    def get(self, idx):\n",
    "        \"\"\" - Equivalent to __getitem__ in pytorch\n",
    "            - Is not needed for PyG's InMemoryDataset\n",
    "        \"\"\"\n",
    "        if self.test:\n",
    "            data = torch.load(os.path.join(self.processed_dir, \n",
    "                                 f'data_test_{idx}.pt'))\n",
    "        else:\n",
    "            data = torch.load(os.path.join(self.processed_dir, \n",
    "                                 f'data_{idx}.pt'))        \n",
    "        return data\n",
    "    \n",
    "    def _frames(self, path):\n",
    "        with open(path, 'r', encoding='utf-8') as tracking_file:\n",
    "            frames = pd.read_json(tracking_file)\n",
    "            frames = frames.loc[frames['id'].isin(self.event_lst)]\n",
    "        return frames\n",
    "\n",
    "    def _get_node_attr(self, df):\n",
    "        \n",
    "        \n",
    "        df['loc_x']=df.apply(lambda x: self._get_1d_coor(x['location'], 'x'), axis=1)\n",
    "        df['loc_y']=df.apply(lambda x: self._get_1d_coor(x['location'], 'y'), axis=1)\n",
    "        df = df.drop(['id', 'actor', 'location', 'visible_area', 'match_id', 'type', \n",
    "                 'pass_length', 'location_pass','pass_end_location', \n",
    "                 'pass_degree', 'passer_degree_to_goal', 'br_degree_to_goal', \n",
    "                 'actor_location', 'dist_actor_from_goal', 'dist_br_from_goal'], axis=1)\n",
    "        df = df.astype({'keeper':int})\n",
    "        df = np.vstack(df.values).astype(np.float)\n",
    "        return torch.from_numpy(df)\n",
    "\n",
    "    def _get_adjacency_info(self, df):\n",
    "        players = df.index.to_list()\n",
    "        permutations = list(itertools.combinations(players, 2))\n",
    "        edges_source = [e[0] for e in permutations]\n",
    "        edges_target = [e[1] for e in permutations]\n",
    "        adjacency_info = np.column_stack([edges_source, edges_target])\n",
    "        adjacency_info = torch.tensor(adjacency_info.T)\n",
    "        return adjacency_info\n",
    "    \n",
    "    def _get_edge_attr(self, df, edge_index):\n",
    "        edge_index = np.array(edge_index.t())\n",
    "        # maxmimum distance between 2 players are the length between 2 diagonal corner flag\n",
    "        max_dist_pitch = math.sqrt(80**2+120**2)\n",
    "        dist = [self._get_dist(df.at[edge[0],'location'], df.at[edge[1],'location']) for edge in edge_index]\n",
    "        edge_features = torch.FloatTensor([(max_dist_pitch-x)/max_dist_pitch for x in dist])\n",
    "        return edge_features\n",
    "    \n",
    "    def _get_label_reward(self, event_df, event):\n",
    "        label = event_df.loc[event, 'binary_pass_reward']\n",
    "        return torch.tensor(label, dtype=torch.int64)\n",
    "    \n",
    "    def _get_label_risk(self, event_df, event):\n",
    "        label = event_df.loc[event, 'binary_pass_risk']\n",
    "        return torch.tensor(label, dtype=torch.int64)\n",
    "    \n",
    "    def _get_dist(self, start, end):\n",
    "        start, end = np.array(start), np.array(end)\n",
    "        return np.linalg.norm(start-end)\n",
    "    \n",
    "    def _get_angle(self, start_location, end_location):\n",
    "        if isinstance(start_location, list)&isinstance(end_location, list):\n",
    "            y= end_location[1]-start_location[1]\n",
    "            x= end_location[0]-start_location[0]\n",
    "            angles = np.degrees(np.arctan2(y, x))\n",
    "            angles = abs(angles) if abs(angles)<180 else 360-abs(angles)\n",
    "        return angles\n",
    "    \n",
    "    def _get_1d_coor(self, coor, dim):\n",
    "        dim_dict = {'x':0, 'y':1}\n",
    "        try:\n",
    "            dim=dim_dict[dim]\n",
    "            if isinstance(coor,list):\n",
    "                return coor[dim]\n",
    "            else:\n",
    "                return np.NaN\n",
    "        except:\n",
    "            return np.NaN"
   ]
  },
  {
   "cell_type": "markdown",
   "id": "50af6175",
   "metadata": {},
   "source": [
    "#### Here the root directory which should contain a \"raw\" folder with the json file and a \"processed\" folder where the graphs will be saved to"
   ]
  },
  {
   "cell_type": "code",
   "execution_count": 7,
   "id": "a0258040",
   "metadata": {
    "ExecuteTime": {
     "end_time": "2022-08-11T12:59:23.986599Z",
     "start_time": "2022-08-11T12:59:23.976568Z"
    }
   },
   "outputs": [],
   "source": [
    "root = \"pyg_data\"\n",
    "\n",
    "event_file = root+\"/raw/master_data_tabular/master_data_training.json\"\n",
    "\n",
    "tracking_file = root+\"/raw/tracking_data.json\""
   ]
  },
  {
   "cell_type": "markdown",
   "id": "8199de46",
   "metadata": {},
   "source": [
    "Calling the dataset class we just created to generate the graphs"
   ]
  },
  {
   "cell_type": "code",
   "execution_count": 304,
   "id": "58fe0df5",
   "metadata": {
    "ExecuteTime": {
     "end_time": "2022-08-12T13:14:33.070603Z",
     "start_time": "2022-08-12T13:13:33.041078Z"
    },
    "scrolled": true
   },
   "outputs": [],
   "source": [
    "tracking_dataset = tracking_Dataset(root, tracking_file)"
   ]
  },
  {
   "cell_type": "markdown",
   "id": "29ddc09b",
   "metadata": {},
   "source": [
    "### Step 2: feed train and test set into 2 dataloaders\n",
    "- First we import the training and testing index split by sklearn for the logistic regression model and "
   ]
  },
  {
   "cell_type": "code",
   "execution_count": 11,
   "id": "c68d471e",
   "metadata": {
    "ExecuteTime": {
     "end_time": "2022-08-11T13:09:13.342134Z",
     "start_time": "2022-08-11T13:09:13.304990Z"
    }
   },
   "outputs": [],
   "source": [
    "with open('train_index.pkl', 'rb') as f:\n",
    "    train_index = pickle.load(f)\n",
    "with open('test_index.pkl', 'rb') as f:\n",
    "    test_index = pickle.load(f)   "
   ]
  },
  {
   "cell_type": "markdown",
   "id": "96d5fb19",
   "metadata": {},
   "source": [
    "Put all train and test graphs in 2 separate list and feed into dataloader (because of a bug, the tracking dataset variable doesn't hold all generated graphs) "
   ]
  },
  {
   "cell_type": "code",
   "execution_count": 299,
   "id": "be50f0c0",
   "metadata": {
    "ExecuteTime": {
     "end_time": "2022-08-11T18:00:13.641006Z",
     "start_time": "2022-08-11T18:00:13.621960Z"
    }
   },
   "outputs": [
    {
     "data": {
      "text/plain": [
       "Data(x=[12, 15], edge_index=[2, 66], edge_attr=[66], y_risk=1, y_reward=0, event='5667a549-c8a6-488e-b2ff-cedce009202d')"
      ]
     },
     "execution_count": 299,
     "metadata": {},
     "output_type": "execute_result"
    }
   ],
   "source": [
    "def get_data(i):\n",
    "    data = torch.load(os.path.join(f\"C:/Users/Huy's/Desktop/pyg_data/processed/data_{i}.pt\")) \n",
    "    return data\n",
    "\n",
    "train_data_lst = [get_data(i) for i in train_index]\n",
    "test_data_lst = [get_data(i) for i in test_index]\n",
    "\n",
    "train_data_lst[0]"
   ]
  },
  {
   "cell_type": "code",
   "execution_count": 305,
   "id": "3c5125ea",
   "metadata": {
    "ExecuteTime": {
     "end_time": "2022-08-12T13:34:08.472879Z",
     "start_time": "2022-08-12T13:34:08.466879Z"
    }
   },
   "outputs": [],
   "source": [
    "train_loader = DataLoader(train_data_lst, batch_size=16, shuffle=True, drop_last=True)\n",
    "test_loader = DataLoader(test_data_lst, batch_size=64)\n",
    "                                                                                                                                                                                            "
   ]
  },
  {
   "cell_type": "markdown",
   "id": "ae861799",
   "metadata": {},
   "source": [
    "## Specify model and training"
   ]
  },
  {
   "cell_type": "markdown",
   "id": "a2c97263",
   "metadata": {},
   "source": [
    "### Model:\n",
    "- We implement a simple Graph Neural Network with 2 layers of Graph Convolutional network, activated with tanH activation function. Then we apply a global mean pool layer to collapse all node embeddings into an aggregated graph embedding. This graph embedding is then applied with a softmax function so the features won't explode, and then we run a linear layer for the final output. The weights of the final linear layer was initialised with Xavier Initialization\n",
    "- We use Pytorch's Binary Cross Entropy Loss function with logits (same as log_loss in sklearn for easy comparison) and Adam with learning rate of 0.002 (risk) and 0.0001 (reward) as the optimizer."
   ]
  },
  {
   "cell_type": "code",
   "execution_count": 454,
   "id": "571b3738",
   "metadata": {
    "ExecuteTime": {
     "end_time": "2022-08-13T00:49:34.958140Z",
     "start_time": "2022-08-13T00:49:34.943114Z"
    }
   },
   "outputs": [],
   "source": [
    "from torch import nn\n",
    "from torch.nn import Sequential, Linear, BatchNorm1d, ReLU, Softmax, Sigmoid, Tanh\n",
    "import torch.functional as F\n",
    "from torch_geometric.nn import GCNConv\n",
    "from torch_geometric.nn import global_mean_pool as gap, global_max_pool as gmp\n",
    "\n",
    "#use GPU to train\n",
    "device = torch.device(\"cuda:0\" if torch.cuda.is_available() else \"cpu\")\n",
    "\n",
    "\n",
    "class GCN(torch.nn.Module):\n",
    "    def __init__(self, first_hidden_channels, second_hidden_channels):\n",
    "        super(GCN, self).__init__()\n",
    "        torch.manual_seed(12345)\n",
    "        self.conv1 = GCNConv(14, first_hidden_channels)\n",
    "        self.conv2 = GCNConv(first_hidden_channels, second_hidden_channels)\n",
    "        self.lin = Linear(second_hidden_channels, 1)\n",
    "#         self.relu = ReLU()\n",
    "        self.tanh = Tanh()\n",
    "#         self.sigmoid = Sigmoid()\n",
    "        self.softmax = Softmax(dim=1)\n",
    "\n",
    "    def forward(self, x, edge_index, edge_weight, batch):\n",
    "        # 1. Obtain node embeddings \n",
    "        x = x[:,1:] #((x - mean)/std)\n",
    "        x = self.conv1(x, edge_index, edge_weight)\n",
    "        x = self.tanh(x)\n",
    "        x = self.conv2(x, edge_index, edge_weight)\n",
    "#         x = self.sigmoid(x)\n",
    "#         x = self.conv3(x, edge_index)\n",
    "\n",
    "        # 2. Readout layer\n",
    "        x = gap(x, batch)  # [batch_size, hidden_channels]\n",
    "        x = self.softmax(x)\n",
    "        # 3. Apply a final classifier\n",
    "        out = self.lin(x)\n",
    "        return out\n",
    "\n",
    "model_risk = GCN(first_hidden_channels=32, second_hidden_channels=20)\n",
    "model_reward = GCN(first_hidden_channels=32, second_hidden_channels=20)\n",
    "    "
   ]
  },
  {
   "cell_type": "code",
   "execution_count": 455,
   "id": "76554acb",
   "metadata": {
    "ExecuteTime": {
     "end_time": "2022-08-13T00:49:54.963477Z",
     "start_time": "2022-08-13T00:49:54.955468Z"
    },
    "scrolled": true
   },
   "outputs": [
    {
     "data": {
      "text/plain": [
       "GCN(\n",
       "  (conv1): GCNConv(14, 32)\n",
       "  (conv2): GCNConv(32, 20)\n",
       "  (lin): Linear(in_features=20, out_features=1, bias=True)\n",
       "  (tanh): Tanh()\n",
       "  (softmax): Softmax(dim=1)\n",
       ")"
      ]
     },
     "execution_count": 455,
     "metadata": {},
     "output_type": "execute_result"
    }
   ],
   "source": [
    "def init_weights(m):\n",
    "  \"\"\"Uses Xavier Initialization for all Linear layers in the model\n",
    "  \"\"\"\n",
    "  if isinstance(m, Linear): \n",
    "    nn.init.xavier_uniform_(m.weight)\n",
    "    m.bias.data.fill_(0.01)\n",
    "\n",
    "model_risk.apply(init_weights)\n",
    "\n",
    "def init_weights(m):\n",
    "  \"\"\"Uses Xavier Initialization for all Linear layers in the model\n",
    "  \"\"\"\n",
    "  if isinstance(m, Linear): \n",
    "    nn.init.xavier_uniform_(m.weight)\n",
    "    m.bias.data.fill_(0.09)\n",
    "model_reward.apply(init_weights)"
   ]
  },
  {
   "cell_type": "markdown",
   "id": "77351e02",
   "metadata": {},
   "source": [
    "### Training and testing function:\n",
    "- For each epoch we generate predictions, confusion matrix, f1_score, accuracy score, precision, recall and auc scores, and save the loss of both train and test"
   ]
  },
  {
   "cell_type": "code",
   "execution_count": 381,
   "id": "33c83534",
   "metadata": {
    "ExecuteTime": {
     "end_time": "2022-08-12T23:09:58.479676Z",
     "start_time": "2022-08-12T23:09:58.466656Z"
    }
   },
   "outputs": [],
   "source": [
    "from sklearn.metrics import confusion_matrix, f1_score, \\\n",
    "    accuracy_score, precision_score, recall_score, roc_auc_score"
   ]
  },
  {
   "cell_type": "code",
   "execution_count": 453,
   "id": "1088786f",
   "metadata": {
    "ExecuteTime": {
     "end_time": "2022-08-13T00:49:30.408971Z",
     "start_time": "2022-08-13T00:49:30.396907Z"
    }
   },
   "outputs": [],
   "source": [
    "\n",
    "def train_one_epoch(epoch, model, train_loader, optimizer, loss_fn, label='risk'):\n",
    "#     if label == \"risk\":\n",
    "#         y=batch.y_risk\n",
    "#     else:\n",
    "#         y=batch.y_reward\n",
    "    # Enumerate over the data\n",
    "    all_preds = []\n",
    "    all_labels = []\n",
    "    running_loss = 0.0\n",
    "    step = 0\n",
    "    for _, batch in enumerate(tqdm(train_loader)):\n",
    "        if label == \"risk\":\n",
    "            y=batch.y_risk\n",
    "        else:\n",
    "            y=batch.y_reward\n",
    "        # Use GPU\n",
    "        batch.to(device)  \n",
    "        # Reset gradients\n",
    "        optimizer.zero_grad() \n",
    "        # Passing the node features and the connection info\n",
    "        pred = model(batch.x.float(), \n",
    "                     batch.edge_index.type(torch.int64) ,\n",
    "                     batch.edge_attr, \n",
    "                     batch.batch) \n",
    "        \n",
    "        # Calculating the loss and gradients\n",
    "        loss = loss_fn(torch.squeeze(pred), y.float())\n",
    "        loss.backward()  \n",
    "        optimizer.step()  \n",
    "        # Update tracking\n",
    "        running_loss += loss.item()\n",
    "        step += 1\n",
    "        all_preds.append(np.rint(torch.sigmoid(pred).cpu().detach().numpy()))\n",
    "        all_labels.append(y.cpu().detach().numpy())\n",
    "    all_preds = np.concatenate(all_preds).ravel()\n",
    "    all_labels = np.concatenate(all_labels).ravel()\n",
    "    calculate_metrics(all_preds, all_labels, epoch, \"train\")\n",
    "    return running_loss/step\n",
    "\n",
    "def test(epoch, model, test_loader, loss_fn, label='risk'):\n",
    "    all_preds = []\n",
    "    all_preds_raw = []\n",
    "    all_labels = []\n",
    "    running_loss = 0.0\n",
    "    step = 0\n",
    "    for batch in test_loader:\n",
    "        if label == \"risk\":\n",
    "            y=batch.y_risk\n",
    "        else:\n",
    "            y=batch.y_reward\n",
    "        batch.to(device)  \n",
    "        pred = model(batch.x.float(), \n",
    "                     batch.edge_index.type(torch.int64) ,\n",
    "                     batch.edge_attr, \n",
    "                     batch.batch) \n",
    "        loss = loss_fn(torch.squeeze(pred), y.float())\n",
    "\n",
    "         # Update tracking\n",
    "        running_loss += loss.item()\n",
    "        step += 1\n",
    "        all_preds.append(np.rint(torch.sigmoid(pred).cpu().detach().numpy()))\n",
    "        all_preds_raw.append(torch.sigmoid(pred).cpu().detach().numpy())\n",
    "        all_labels.append(y.cpu().detach().numpy())\n",
    "    \n",
    "    all_preds = np.concatenate(all_preds).ravel()\n",
    "    all_labels = np.concatenate(all_labels).ravel()\n",
    "    print(all_preds_raw[0][:10])\n",
    "    print(all_preds[:10])\n",
    "    print(all_labels[:10])\n",
    "    calculate_metrics(all_preds, all_labels, epoch, \"test\")\n",
    "    return running_loss/step\n",
    "\n",
    "\n",
    "\n",
    "def calculate_metrics(y_pred, y_true, epoch, type):\n",
    "    print(f\"\\n Confusion matrix: \\n {confusion_matrix(y_pred, y_true)}\")\n",
    "    print(f\"F1 Score: {f1_score(y_true, y_pred)}\")\n",
    "    print(f\"Accuracy: {accuracy_score(y_true, y_pred)}\")\n",
    "    prec = precision_score(y_true, y_pred)\n",
    "    rec = recall_score(y_true, y_pred)\n",
    "    print(f\"Precision: {prec}\")\n",
    "    print(f\"Recall: {rec}\")\n",
    "\n",
    "    try:\n",
    "        roc = roc_auc_score(y_true, y_pred)\n",
    "        print(f\"ROC AUC: {roc}\")\n",
    "    except:\n",
    "        print(f\"ROC AUC: notdefined\")\n"
   ]
  },
  {
   "cell_type": "markdown",
   "id": "5ad8e7d4",
   "metadata": {},
   "source": [
    "### Run training\n",
    "- We run 100 epochs for both risk and reward models"
   ]
  },
  {
   "cell_type": "markdown",
   "id": "fe188512",
   "metadata": {},
   "source": [
    "#### Risk model"
   ]
  },
  {
   "cell_type": "code",
   "execution_count": 442,
   "id": "626afae5",
   "metadata": {
    "ExecuteTime": {
     "end_time": "2022-08-13T00:26:17.361750Z",
     "start_time": "2022-08-13T00:26:17.347677Z"
    }
   },
   "outputs": [],
   "source": [
    "loss_fn = torch.nn.BCEWithLogitsLoss()\n",
    "optimizer = torch.optim.Adam(model_risk.parameters(), lr=0.0015)"
   ]
  },
  {
   "cell_type": "code",
   "execution_count": 443,
   "id": "cefaa27f",
   "metadata": {
    "ExecuteTime": {
     "end_time": "2022-08-13T00:47:01.901486Z",
     "start_time": "2022-08-13T00:26:19.061121Z"
    }
   },
   "outputs": [
    {
     "name": "stderr",
     "output_type": "stream",
     "text": [
      "100%|█████████████████████████████████████████████████████████████████████████████| 2070/2070 [00:10<00:00, 201.37it/s]\n"
     ]
    },
    {
     "name": "stdout",
     "output_type": "stream",
     "text": [
      "\n",
      " Confusion matrix: \n",
      " [[  105   147]\n",
      " [ 5211 27657]]\n",
      "F1 Score: 0.9116890822784811\n",
      "Accuracy: 0.8382246376811594\n",
      "Precision: 0.8414567360350493\n",
      "Recall: 0.9947129909365559\n",
      "ROC AUC: 0.5072323419694066\n",
      "Epoch 0 | Train Loss 0.3898019288905001\n"
     ]
    },
    {
     "name": "stderr",
     "output_type": "stream",
     "text": [
      "  1%|▊                                                                              | 22/2070 [00:00<00:09, 213.55it/s]"
     ]
    },
    {
     "name": "stdout",
     "output_type": "stream",
     "text": [
      "[[0.6169063 ]\n",
      " [0.54942006]\n",
      " [0.5608791 ]\n",
      " [0.92351216]\n",
      " [0.91004694]\n",
      " [0.91170007]\n",
      " [0.9468801 ]\n",
      " [0.66060853]\n",
      " [0.9037067 ]\n",
      " [0.5079565 ]]\n",
      "[1. 1. 1. 1. 1. 1. 1. 1. 1. 1.]\n",
      "[0 0 0 0 0 1 1 0 1 1]\n",
      "\n",
      " Confusion matrix: \n",
      " [[   38    35]\n",
      " [ 2312 11814]]\n",
      "F1 Score: 0.9096438883541867\n",
      "Accuracy: 0.8347066694837665\n",
      "Precision: 0.8363301713153051\n",
      "Recall: 0.9970461642332686\n",
      "ROC AUC: 0.506608188499613\n",
      "Epoch 0 | Test Loss 0.34127464460897017\n"
     ]
    },
    {
     "name": "stderr",
     "output_type": "stream",
     "text": [
      "100%|█████████████████████████████████████████████████████████████████████████████| 2070/2070 [00:10<00:00, 201.32it/s]\n"
     ]
    },
    {
     "name": "stdout",
     "output_type": "stream",
     "text": [
      "\n",
      " Confusion matrix: \n",
      " [[ 1242   748]\n",
      " [ 4078 27052]]\n",
      "F1 Score: 0.9181062277278127\n",
      "Accuracy: 0.8542874396135266\n",
      "Precision: 0.8690009637006103\n",
      "Recall: 0.9730935251798561\n",
      "ROC AUC: 0.6032760858981987\n",
      "Epoch 1 | Train Loss 0.3296320251652584\n"
     ]
    },
    {
     "name": "stderr",
     "output_type": "stream",
     "text": [
      "  1%|▉                                                                              | 23/2070 [00:00<00:09, 221.10it/s]"
     ]
    },
    {
     "name": "stdout",
     "output_type": "stream",
     "text": [
      "[[0.64138305]\n",
      " [0.48191667]\n",
      " [0.58631223]\n",
      " [0.7582749 ]\n",
      " [0.8489832 ]\n",
      " [0.9034672 ]\n",
      " [0.963796  ]\n",
      " [0.5962397 ]\n",
      " [0.8528697 ]\n",
      " [0.5825252 ]]\n",
      "[1. 0. 1. 1. 1. 1. 1. 1. 1. 1.]\n",
      "[0 0 0 0 0 1 1 0 1 1]\n",
      "\n",
      " Confusion matrix: \n",
      " [[  671   366]\n",
      " [ 1679 11483]]\n",
      "F1 Score: 0.9182359761704851\n",
      "Accuracy: 0.8559757729417564\n",
      "Precision: 0.8724358000303906\n",
      "Recall: 0.969111317410752\n",
      "ROC AUC: 0.6273216161521845\n",
      "Epoch 1 | Test Loss 0.32666726417101183\n"
     ]
    },
    {
     "name": "stderr",
     "output_type": "stream",
     "text": [
      "100%|█████████████████████████████████████████████████████████████████████████████| 2070/2070 [00:10<00:00, 198.71it/s]\n"
     ]
    },
    {
     "name": "stdout",
     "output_type": "stream",
     "text": [
      "\n",
      " Confusion matrix: \n",
      " [[ 1918  1252]\n",
      " [ 3402 26548]]\n",
      "F1 Score: 0.9194112554112555\n",
      "Accuracy: 0.8594806763285024\n",
      "Precision: 0.8864106844741235\n",
      "Recall: 0.9549640287769784\n",
      "ROC AUC: 0.6577451722832262\n",
      "Epoch 2 | Train Loss 0.3228129346895477\n"
     ]
    },
    {
     "name": "stderr",
     "output_type": "stream",
     "text": [
      "  1%|▊                                                                              | 20/2070 [00:00<00:10, 196.06it/s]"
     ]
    },
    {
     "name": "stdout",
     "output_type": "stream",
     "text": [
      "[[0.65700626]\n",
      " [0.4733518 ]\n",
      " [0.5513659 ]\n",
      " [0.91433305]\n",
      " [0.9183346 ]\n",
      " [0.9291322 ]\n",
      " [0.97105217]\n",
      " [0.4778204 ]\n",
      " [0.83319116]\n",
      " [0.5586704 ]]\n",
      "[1. 0. 1. 1. 1. 1. 1. 0. 1. 1.]\n",
      "[0 0 0 0 0 1 1 0 1 1]\n",
      "\n",
      " Confusion matrix: \n",
      " [[  786   464]\n",
      " [ 1564 11385]]\n",
      "F1 Score: 0.9182192112267119\n",
      "Accuracy: 0.8571730403549546\n",
      "Precision: 0.8792184724689165\n",
      "Recall: 0.9608405772639041\n",
      "ROC AUC: 0.6476543311851435\n",
      "Epoch 2 | Test Loss 0.32137968371043335\n"
     ]
    },
    {
     "name": "stderr",
     "output_type": "stream",
     "text": [
      "100%|█████████████████████████████████████████████████████████████████████████████| 2070/2070 [00:10<00:00, 203.64it/s]\n"
     ]
    },
    {
     "name": "stdout",
     "output_type": "stream",
     "text": [
      "\n",
      " Confusion matrix: \n",
      " [[ 1899  1197]\n",
      " [ 3420 26604]]\n",
      "F1 Score: 0.9201556420233463\n",
      "Accuracy: 0.8605978260869566\n",
      "Precision: 0.8860911270983214\n",
      "Recall: 0.9569439948203302\n",
      "ROC AUC: 0.6569829957181177\n",
      "Epoch 3 | Train Loss 0.3179188975947347\n"
     ]
    },
    {
     "name": "stderr",
     "output_type": "stream",
     "text": [
      "  1%|▊                                                                              | 20/2070 [00:00<00:10, 192.23it/s]"
     ]
    },
    {
     "name": "stdout",
     "output_type": "stream",
     "text": [
      "[[0.68480927]\n",
      " [0.44460782]\n",
      " [0.81876254]\n",
      " [0.7539256 ]\n",
      " [0.86946976]\n",
      " [0.8790372 ]\n",
      " [0.9748345 ]\n",
      " [0.56811184]\n",
      " [0.8842135 ]\n",
      " [0.39976078]]\n",
      "[1. 0. 1. 1. 1. 1. 1. 1. 1. 0.]\n",
      "[0 0 0 0 0 1 1 0 1 1]\n",
      "\n",
      " Confusion matrix: \n",
      " [[ 1057   662]\n",
      " [ 1293 11187]]\n",
      "F1 Score: 0.919643224135805\n",
      "Accuracy: 0.8623142474822171\n",
      "Precision: 0.8963942307692307\n",
      "Recall: 0.9441303063549666\n",
      "ROC AUC: 0.6969587701987598\n",
      "Epoch 3 | Test Loss 0.32017456471651523\n"
     ]
    },
    {
     "name": "stderr",
     "output_type": "stream",
     "text": [
      "100%|█████████████████████████████████████████████████████████████████████████████| 2070/2070 [00:10<00:00, 206.15it/s]\n"
     ]
    },
    {
     "name": "stdout",
     "output_type": "stream",
     "text": [
      "\n",
      " Confusion matrix: \n",
      " [[ 1973  1228]\n",
      " [ 3345 26574]]\n",
      "F1 Score: 0.920774068363334\n",
      "Accuracy: 0.8619263285024155\n",
      "Precision: 0.8881981349644039\n",
      "Recall: 0.9558305157902309\n",
      "ROC AUC: 0.6634173263419\n",
      "Epoch 4 | Train Loss 0.317430502127694\n"
     ]
    },
    {
     "name": "stderr",
     "output_type": "stream",
     "text": [
      "  1%|▋                                                                              | 19/2070 [00:00<00:11, 184.40it/s]"
     ]
    },
    {
     "name": "stdout",
     "output_type": "stream",
     "text": [
      "[[0.7186142 ]\n",
      " [0.40044338]\n",
      " [0.52318287]\n",
      " [0.82582635]\n",
      " [0.94126135]\n",
      " [0.8861598 ]\n",
      " [0.96757495]\n",
      " [0.6091814 ]\n",
      " [0.78687674]\n",
      " [0.51924855]]\n",
      "[1. 0. 1. 1. 1. 1. 1. 1. 1. 1.]\n",
      "[0 0 0 0 0 1 1 0 1 1]\n",
      "\n",
      " Confusion matrix: \n",
      " [[  796   496]\n",
      " [ 1554 11353]]\n",
      "F1 Score: 0.917191791888835\n",
      "Accuracy: 0.8556236354672865\n",
      "Precision: 0.8796002169365461\n",
      "Recall: 0.9581399274200354\n",
      "ROC AUC: 0.6484316658376773\n",
      "Epoch 4 | Test Loss 0.3202527683597427\n"
     ]
    },
    {
     "name": "stderr",
     "output_type": "stream",
     "text": [
      "100%|█████████████████████████████████████████████████████████████████████████████| 2070/2070 [00:11<00:00, 187.83it/s]\n"
     ]
    },
    {
     "name": "stdout",
     "output_type": "stream",
     "text": [
      "\n",
      " Confusion matrix: \n",
      " [[ 2051  1289]\n",
      " [ 3266 26514]]\n",
      "F1 Score: 0.9208967924561069\n",
      "Accuracy: 0.862469806763285\n",
      "Precision: 0.890329079919409\n",
      "Recall: 0.9536380966082797\n",
      "ROC AUC: 0.6696909685599233\n",
      "Epoch 5 | Train Loss 0.3133117157461994\n"
     ]
    },
    {
     "name": "stderr",
     "output_type": "stream",
     "text": [
      "  1%|▊                                                                              | 20/2070 [00:00<00:10, 194.13it/s]"
     ]
    },
    {
     "name": "stdout",
     "output_type": "stream",
     "text": [
      "[[0.7098904 ]\n",
      " [0.48415333]\n",
      " [0.5439865 ]\n",
      " [0.89386946]\n",
      " [0.94600993]\n",
      " [0.8834487 ]\n",
      " [0.9821482 ]\n",
      " [0.8546287 ]\n",
      " [0.8593789 ]\n",
      " [0.5482099 ]]\n",
      "[1. 0. 1. 1. 1. 1. 1. 1. 1. 1.]\n",
      "[0 0 0 0 0 1 1 0 1 1]\n",
      "\n",
      " Confusion matrix: \n",
      " [[  727   342]\n",
      " [ 1623 11507]]\n",
      "F1 Score: 0.9213339204932143\n",
      "Accuracy: 0.861609972533277\n",
      "Precision: 0.8763899466869763\n",
      "Recall: 0.9711368047936535\n",
      "ROC AUC: 0.6402492534606565\n",
      "Epoch 5 | Test Loss 0.3203230200855582\n"
     ]
    },
    {
     "name": "stderr",
     "output_type": "stream",
     "text": [
      "100%|█████████████████████████████████████████████████████████████████████████████| 2070/2070 [00:10<00:00, 195.58it/s]\n"
     ]
    },
    {
     "name": "stdout",
     "output_type": "stream",
     "text": [
      "\n",
      " Confusion matrix: \n",
      " [[ 2084  1262]\n",
      " [ 3236 26538]]\n",
      "F1 Score: 0.9218744572202731\n",
      "Accuracy: 0.8641908212560386\n",
      "Precision: 0.89131456975885\n",
      "Recall: 0.9546043165467626\n",
      "ROC AUC: 0.6731668199275167\n",
      "Epoch 6 | Train Loss 0.3096164327546738\n"
     ]
    },
    {
     "name": "stderr",
     "output_type": "stream",
     "text": [
      "  1%|▋                                                                              | 19/2070 [00:00<00:11, 186.23it/s]"
     ]
    },
    {
     "name": "stdout",
     "output_type": "stream",
     "text": [
      "[[0.626924  ]\n",
      " [0.39063695]\n",
      " [0.57463175]\n",
      " [0.7941705 ]\n",
      " [0.8840646 ]\n",
      " [0.86057746]\n",
      " [0.9756495 ]\n",
      " [0.45334902]\n",
      " [0.79221547]\n",
      " [0.6168738 ]]\n",
      "[1. 0. 1. 1. 1. 1. 1. 0. 1. 1.]\n",
      "[0 0 0 0 0 1 1 0 1 1]\n",
      "\n",
      " Confusion matrix: \n",
      " [[  953   600]\n",
      " [ 1397 11249]]\n",
      "F1 Score: 0.9184731577873035\n",
      "Accuracy: 0.8593562926966688\n",
      "Precision: 0.8895302862565238\n",
      "Recall: 0.9493628154274623\n",
      "ROC AUC: 0.6774473651605397\n",
      "Epoch 6 | Test Loss 0.3113180729182991\n"
     ]
    },
    {
     "name": "stderr",
     "output_type": "stream",
     "text": [
      "100%|█████████████████████████████████████████████████████████████████████████████| 2070/2070 [00:10<00:00, 201.21it/s]\n"
     ]
    },
    {
     "name": "stdout",
     "output_type": "stream",
     "text": [
      "\n",
      " Confusion matrix: \n",
      " [[ 2115  1293]\n",
      " [ 3205 26507]]\n",
      "F1 Score: 0.9217902350813743\n",
      "Accuracy: 0.8641908212560386\n",
      "Precision: 0.8921311254711901\n",
      "Recall: 0.9534892086330935\n",
      "ROC AUC: 0.6755227998052686\n",
      "Epoch 7 | Train Loss 0.3090629283302792\n"
     ]
    },
    {
     "name": "stderr",
     "output_type": "stream",
     "text": [
      "  1%|▊                                                                              | 21/2070 [00:00<00:09, 205.84it/s]"
     ]
    },
    {
     "name": "stdout",
     "output_type": "stream",
     "text": [
      "[[0.6617347 ]\n",
      " [0.4178298 ]\n",
      " [0.7069145 ]\n",
      " [0.8046858 ]\n",
      " [0.91647327]\n",
      " [0.9085842 ]\n",
      " [0.97681355]\n",
      " [0.58551365]\n",
      " [0.7512153 ]\n",
      " [0.57170445]]\n",
      "[1. 0. 1. 1. 1. 1. 1. 1. 1. 1.]\n",
      "[0 0 0 0 0 1 1 0 1 1]\n",
      "\n",
      " Confusion matrix: \n",
      " [[ 1054   680]\n",
      " [ 1296 11169]]\n",
      "F1 Score: 0.9187299498231472\n",
      "Accuracy: 0.8608352700894429\n",
      "Precision: 0.896028880866426\n",
      "Recall: 0.9426111908177905\n",
      "ROC AUC: 0.6955609145578314\n",
      "Epoch 7 | Test Loss 0.3108627184688508\n"
     ]
    },
    {
     "name": "stderr",
     "output_type": "stream",
     "text": [
      "100%|█████████████████████████████████████████████████████████████████████████████| 2070/2070 [00:10<00:00, 191.70it/s]\n"
     ]
    },
    {
     "name": "stdout",
     "output_type": "stream",
     "text": [
      "\n",
      " Confusion matrix: \n",
      " [[ 2071  1237]\n",
      " [ 3250 26562]]\n",
      "F1 Score: 0.9221155682074604\n",
      "Accuracy: 0.8645229468599034\n",
      "Precision: 0.890983496578559\n",
      "Recall: 0.9555019964746934\n",
      "ROC AUC: 0.6723572752529452\n",
      "Epoch 8 | Train Loss 0.3069140252373789\n"
     ]
    },
    {
     "name": "stderr",
     "output_type": "stream",
     "text": [
      "  1%|▋                                                                              | 19/2070 [00:00<00:11, 180.91it/s]"
     ]
    },
    {
     "name": "stdout",
     "output_type": "stream",
     "text": [
      "[[0.5008438 ]\n",
      " [0.37920642]\n",
      " [0.57267153]\n",
      " [0.7995471 ]\n",
      " [0.873417  ]\n",
      " [0.9457944 ]\n",
      " [0.9757116 ]\n",
      " [0.5086775 ]\n",
      " [0.742636  ]\n",
      " [0.6332344 ]]\n",
      "[1. 0. 1. 1. 1. 1. 1. 1. 1. 1.]\n",
      "[0 0 0 0 0 1 1 0 1 1]\n",
      "\n",
      " Confusion matrix: \n",
      " [[ 1016   602]\n",
      " [ 1334 11247]]\n",
      "F1 Score: 0.9207531723291036\n",
      "Accuracy: 0.8636523698852032\n",
      "Precision: 0.8939670932358318\n",
      "Recall: 0.9491940248122205\n",
      "ROC AUC: 0.6907672251720677\n",
      "Epoch 8 | Test Loss 0.3122369349002838\n"
     ]
    },
    {
     "name": "stderr",
     "output_type": "stream",
     "text": [
      "100%|█████████████████████████████████████████████████████████████████████████████| 2070/2070 [00:11<00:00, 185.58it/s]\n"
     ]
    },
    {
     "name": "stdout",
     "output_type": "stream",
     "text": [
      "\n",
      " Confusion matrix: \n",
      " [[ 2193  1317]\n",
      " [ 3127 26483]]\n",
      "F1 Score: 0.9225918829472217\n",
      "Accuracy: 0.8658212560386473\n",
      "Precision: 0.8943937858831476\n",
      "Recall: 0.9526258992805755\n",
      "ROC AUC: 0.6824219721966787\n",
      "Epoch 9 | Train Loss 0.30747972976434346\n"
     ]
    },
    {
     "name": "stderr",
     "output_type": "stream",
     "text": [
      "  1%|▋                                                                              | 19/2070 [00:00<00:10, 189.96it/s]"
     ]
    },
    {
     "name": "stdout",
     "output_type": "stream",
     "text": [
      "[[0.43706045]\n",
      " [0.44805813]\n",
      " [0.6502951 ]\n",
      " [0.81117624]\n",
      " [0.82003903]\n",
      " [0.7732749 ]\n",
      " [0.9868967 ]\n",
      " [0.62464356]\n",
      " [0.7098554 ]\n",
      " [0.6710459 ]]\n",
      "[0. 0. 1. 1. 1. 1. 1. 1. 1. 1.]\n",
      "[0 0 0 0 0 1 1 0 1 1]\n",
      "\n",
      " Confusion matrix: \n",
      " [[ 1000   662]\n",
      " [ 1350 11187]]\n",
      "F1 Score: 0.9174936438940375\n",
      "Accuracy: 0.8582998802732587\n",
      "Precision: 0.8923187365398421\n",
      "Recall: 0.9441303063549666\n",
      "ROC AUC: 0.6848311106242918\n",
      "Epoch 9 | Test Loss 0.3111389082025837\n"
     ]
    },
    {
     "name": "stderr",
     "output_type": "stream",
     "text": [
      "100%|█████████████████████████████████████████████████████████████████████████████| 2070/2070 [00:10<00:00, 197.20it/s]\n"
     ]
    },
    {
     "name": "stdout",
     "output_type": "stream",
     "text": [
      "\n",
      " Confusion matrix: \n",
      " [[ 2214  1313]\n",
      " [ 3106 26487]]\n",
      "F1 Score: 0.9230045475929121\n",
      "Accuracy: 0.8665760869565218\n",
      "Precision: 0.8950427465954787\n",
      "Recall: 0.9527697841726619\n",
      "ROC AUC: 0.6844675988532483\n",
      "Epoch 10 | Train Loss 0.3053167061493305\n"
     ]
    },
    {
     "name": "stderr",
     "output_type": "stream",
     "text": [
      "  1%|▊                                                                              | 20/2070 [00:00<00:10, 194.13it/s]"
     ]
    },
    {
     "name": "stdout",
     "output_type": "stream",
     "text": [
      "[[0.4416764 ]\n",
      " [0.40720385]\n",
      " [0.6676892 ]\n",
      " [0.79782355]\n",
      " [0.8015342 ]\n",
      " [0.8461972 ]\n",
      " [0.9779389 ]\n",
      " [0.523876  ]\n",
      " [0.7678002 ]\n",
      " [0.6398892 ]]\n",
      "[0. 0. 1. 1. 1. 1. 1. 1. 1. 1.]\n",
      "[0 0 0 0 0 1 1 0 1 1]\n",
      "\n",
      " Confusion matrix: \n",
      " [[  903   498]\n",
      " [ 1447 11351]]\n",
      "F1 Score: 0.92108573051487\n",
      "Accuracy: 0.8630185224311572\n",
      "Precision: 0.8869354586654165\n",
      "Recall: 0.9579711368047936\n",
      "ROC AUC: 0.6711132279768649\n",
      "Epoch 10 | Test Loss 0.305395684129483\n"
     ]
    },
    {
     "name": "stderr",
     "output_type": "stream",
     "text": [
      "100%|█████████████████████████████████████████████████████████████████████████████| 2070/2070 [00:10<00:00, 193.37it/s]\n"
     ]
    },
    {
     "name": "stdout",
     "output_type": "stream",
     "text": [
      "\n",
      " Confusion matrix: \n",
      " [[ 2159  1265]\n",
      " [ 3160 26536]]\n",
      "F1 Score: 0.9230394629285007\n",
      "Accuracy: 0.8663949275362319\n",
      "Precision: 0.8935883620689655\n",
      "Recall: 0.9544980396388619\n",
      "ROC AUC: 0.6802007024665451\n",
      "Epoch 11 | Train Loss 0.3053634246874259\n"
     ]
    },
    {
     "name": "stderr",
     "output_type": "stream",
     "text": [
      "  1%|▊                                                                              | 20/2070 [00:00<00:10, 197.99it/s]"
     ]
    },
    {
     "name": "stdout",
     "output_type": "stream",
     "text": [
      "[[0.60018206]\n",
      " [0.39111266]\n",
      " [0.68583953]\n",
      " [0.7889601 ]\n",
      " [0.90871704]\n",
      " [0.8970535 ]\n",
      " [0.98403555]\n",
      " [0.72052246]\n",
      " [0.7977749 ]\n",
      " [0.5997361 ]]\n",
      "[1. 0. 1. 1. 1. 1. 1. 1. 1. 1.]\n",
      "[0 0 0 0 0 1 1 0 1 1]\n",
      "\n",
      " Confusion matrix: \n",
      " [[ 1134   695]\n",
      " [ 1216 11154]]\n",
      "F1 Score: 0.9210950080515299\n",
      "Accuracy: 0.8654130572575534\n",
      "Precision: 0.9016976556184317\n",
      "Recall: 0.9413452612034771\n",
      "ROC AUC: 0.7119492263464193\n",
      "Epoch 11 | Test Loss 0.30441537439017685\n"
     ]
    },
    {
     "name": "stderr",
     "output_type": "stream",
     "text": [
      "100%|█████████████████████████████████████████████████████████████████████████████| 2070/2070 [00:10<00:00, 194.40it/s]\n"
     ]
    },
    {
     "name": "stdout",
     "output_type": "stream",
     "text": [
      "\n",
      " Confusion matrix: \n",
      " [[ 2145  1246]\n",
      " [ 3174 26555]]\n",
      "F1 Score: 0.9231705197288371\n",
      "Accuracy: 0.8665458937198067\n",
      "Precision: 0.893235561236503\n",
      "Recall: 0.9551814682925075\n",
      "ROC AUC: 0.6792263799443361\n",
      "Epoch 12 | Train Loss 0.3043799616612386\n"
     ]
    },
    {
     "name": "stderr",
     "output_type": "stream",
     "text": [
      "  1%|▊                                                                              | 20/2070 [00:00<00:10, 199.94it/s]"
     ]
    },
    {
     "name": "stdout",
     "output_type": "stream",
     "text": [
      "[[0.50348467]\n",
      " [0.38747224]\n",
      " [0.31325194]\n",
      " [0.84508944]\n",
      " [0.84912974]\n",
      " [0.9014589 ]\n",
      " [0.9777956 ]\n",
      " [0.79562014]\n",
      " [0.77336484]\n",
      " [0.5033839 ]]\n",
      "[1. 0. 0. 1. 1. 1. 1. 1. 1. 1.]\n",
      "[0 0 0 0 0 1 1 0 1 1]\n",
      "\n",
      " Confusion matrix: \n",
      " [[ 1076   650]\n",
      " [ 1274 11199]]\n",
      "F1 Score: 0.9208946632678233\n",
      "Accuracy: 0.8644974998239313\n",
      "Precision: 0.8978593762527058\n",
      "Recall: 0.9451430500464174\n",
      "ROC AUC: 0.7015076952359747\n",
      "Epoch 12 | Test Loss 0.30846457814311123\n"
     ]
    },
    {
     "name": "stderr",
     "output_type": "stream",
     "text": [
      "100%|█████████████████████████████████████████████████████████████████████████████| 2070/2070 [00:10<00:00, 201.96it/s]\n"
     ]
    },
    {
     "name": "stdout",
     "output_type": "stream",
     "text": [
      "\n",
      " Confusion matrix: \n",
      " [[ 2159  1256]\n",
      " [ 3161 26544]]\n",
      "F1 Score: 0.9231892878880098\n",
      "Accuracy: 0.8666364734299516\n",
      "Precision: 0.8935869382258879\n",
      "Recall: 0.9548201438848921\n",
      "ROC AUC: 0.6803236057770325\n",
      "Epoch 13 | Train Loss 0.30422043578096347\n"
     ]
    },
    {
     "name": "stderr",
     "output_type": "stream",
     "text": [
      "  1%|▊                                                                              | 20/2070 [00:00<00:10, 196.03it/s]"
     ]
    },
    {
     "name": "stdout",
     "output_type": "stream",
     "text": [
      "[[0.49461693]\n",
      " [0.50513613]\n",
      " [0.5566902 ]\n",
      " [0.78492504]\n",
      " [0.8342824 ]\n",
      " [0.89991856]\n",
      " [0.98032826]\n",
      " [0.38010255]\n",
      " [0.8136393 ]\n",
      " [0.63677734]]\n",
      "[0. 1. 1. 1. 1. 1. 1. 0. 1. 1.]\n",
      "[0 0 0 0 0 1 1 0 1 1]\n",
      "\n",
      " Confusion matrix: \n",
      " [[ 1048   606]\n",
      " [ 1302 11243]]\n",
      "F1 Score: 0.9217840452570304\n",
      "Accuracy: 0.8656243397422354\n",
      "Precision: 0.8962136309286568\n",
      "Recall: 0.9488564435817368\n",
      "ROC AUC: 0.6974069451951237\n",
      "Epoch 13 | Test Loss 0.3091818254004728\n"
     ]
    },
    {
     "name": "stderr",
     "output_type": "stream",
     "text": [
      "100%|█████████████████████████████████████████████████████████████████████████████| 2070/2070 [00:10<00:00, 200.82it/s]\n"
     ]
    },
    {
     "name": "stdout",
     "output_type": "stream",
     "text": [
      "\n",
      " Confusion matrix: \n",
      " [[ 2135  1185]\n",
      " [ 3182 26618]]\n",
      "F1 Score: 0.9241879763206777\n",
      "Accuracy: 0.8681461352657005\n",
      "Precision: 0.8932214765100671\n",
      "Recall: 0.9573787001402726\n",
      "ROC AUC: 0.679460461599194\n",
      "Epoch 14 | Train Loss 0.30202017883063803\n"
     ]
    },
    {
     "name": "stderr",
     "output_type": "stream",
     "text": [
      "  1%|▊                                                                              | 20/2070 [00:00<00:10, 197.95it/s]"
     ]
    },
    {
     "name": "stdout",
     "output_type": "stream",
     "text": [
      "[[0.6833081 ]\n",
      " [0.31220526]\n",
      " [0.58909005]\n",
      " [0.8106571 ]\n",
      " [0.76333416]\n",
      " [0.7473255 ]\n",
      " [0.97940433]\n",
      " [0.37742224]\n",
      " [0.6679739 ]\n",
      " [0.5557304 ]]\n",
      "[1. 0. 1. 1. 1. 1. 1. 0. 1. 1.]\n",
      "[0 0 0 0 0 1 1 0 1 1]\n",
      "\n",
      " Confusion matrix: \n",
      " [[  959   548]\n",
      " [ 1391 11301]]\n",
      "F1 Score: 0.9209893647365632\n",
      "Accuracy: 0.8634410874005212\n",
      "Precision: 0.890403403718878\n",
      "Recall: 0.9537513714237489\n",
      "ROC AUC: 0.6809182389033638\n",
      "Epoch 14 | Test Loss 0.31006867076094086\n"
     ]
    },
    {
     "name": "stderr",
     "output_type": "stream",
     "text": [
      "100%|█████████████████████████████████████████████████████████████████████████████| 2070/2070 [00:11<00:00, 186.04it/s]\n"
     ]
    },
    {
     "name": "stdout",
     "output_type": "stream",
     "text": [
      "\n",
      " Confusion matrix: \n",
      " [[ 2093  1183]\n",
      " [ 3224 26620]]\n",
      "F1 Score: 0.9235519628081253\n",
      "Accuracy: 0.8669384057971015\n",
      "Precision: 0.8919715855783407\n",
      "Recall: 0.9574506348235802\n",
      "ROC AUC: 0.6755468333042105\n",
      "Epoch 15 | Train Loss 0.3035133004998383\n"
     ]
    },
    {
     "name": "stderr",
     "output_type": "stream",
     "text": [
      "  1%|▋                                                                              | 18/2070 [00:00<00:11, 174.72it/s]"
     ]
    },
    {
     "name": "stdout",
     "output_type": "stream",
     "text": [
      "[[0.45348495]\n",
      " [0.559881  ]\n",
      " [0.4595442 ]\n",
      " [0.77972585]\n",
      " [0.8109245 ]\n",
      " [0.8592564 ]\n",
      " [0.97755915]\n",
      " [0.36538932]\n",
      " [0.8183727 ]\n",
      " [0.31224617]]\n",
      "[0. 1. 0. 1. 1. 1. 1. 0. 1. 0.]\n",
      "[0 0 0 0 0 1 1 0 1 1]\n",
      "\n",
      " Confusion matrix: \n",
      " [[ 1102   707]\n",
      " [ 1248 11142]]\n",
      "F1 Score: 0.9193448574611164\n",
      "Accuracy: 0.8623142474822171\n",
      "Precision: 0.899273607748184\n",
      "Recall: 0.9403325175120263\n",
      "ROC AUC: 0.7046343438623962\n",
      "Epoch 15 | Test Loss 0.3068374573244705\n"
     ]
    },
    {
     "name": "stderr",
     "output_type": "stream",
     "text": [
      "100%|█████████████████████████████████████████████████████████████████████████████| 2070/2070 [00:11<00:00, 186.95it/s]\n"
     ]
    },
    {
     "name": "stdout",
     "output_type": "stream",
     "text": [
      "\n",
      " Confusion matrix: \n",
      " [[ 2139  1239]\n",
      " [ 3181 26561]]\n",
      "F1 Score: 0.9231865420041013\n",
      "Accuracy: 0.8665458937198067\n",
      "Precision: 0.8930468697464865\n",
      "Recall: 0.955431654676259\n",
      "ROC AUC: 0.6787496619245956\n",
      "Epoch 16 | Train Loss 0.30267451294306397\n"
     ]
    },
    {
     "name": "stderr",
     "output_type": "stream",
     "text": [
      "  1%|▋                                                                              | 19/2070 [00:00<00:10, 189.93it/s]"
     ]
    },
    {
     "name": "stdout",
     "output_type": "stream",
     "text": [
      "[[0.68021905]\n",
      " [0.38983554]\n",
      " [0.5781502 ]\n",
      " [0.792158  ]\n",
      " [0.8932153 ]\n",
      " [0.8917457 ]\n",
      " [0.98338413]\n",
      " [0.32369208]\n",
      " [0.6821878 ]\n",
      " [0.5751894 ]]\n",
      "[1. 0. 1. 1. 1. 1. 1. 0. 1. 1.]\n",
      "[0 0 0 0 0 1 1 0 1 1]\n",
      "\n",
      " Confusion matrix: \n",
      " [[ 1036   649]\n",
      " [ 1314 11200]]\n",
      "F1 Score: 0.9194269999589543\n",
      "Accuracy: 0.861750827523065\n",
      "Precision: 0.8949976026849928\n",
      "Recall: 0.9452274453540384\n",
      "ROC AUC: 0.6930392545919128\n",
      "Epoch 16 | Test Loss 0.30844581543325306\n"
     ]
    },
    {
     "name": "stderr",
     "output_type": "stream",
     "text": [
      "100%|█████████████████████████████████████████████████████████████████████████████| 2070/2070 [00:11<00:00, 187.08it/s]\n"
     ]
    },
    {
     "name": "stdout",
     "output_type": "stream",
     "text": [
      "\n",
      " Confusion matrix: \n",
      " [[ 2107  1209]\n",
      " [ 3214 26590]]\n",
      "F1 Score: 0.9232158047323923\n",
      "Accuracy: 0.8664553140096618\n",
      "Precision: 0.8921621258891423\n",
      "Recall: 0.9565092269506097\n",
      "ROC AUC: 0.6762437132685768\n",
      "Epoch 17 | Train Loss 0.3049621552768825\n"
     ]
    },
    {
     "name": "stderr",
     "output_type": "stream",
     "text": [
      "  1%|▋                                                                              | 18/2070 [00:00<00:11, 178.18it/s]"
     ]
    },
    {
     "name": "stdout",
     "output_type": "stream",
     "text": [
      "[[0.57994413]\n",
      " [0.47169405]\n",
      " [0.41542035]\n",
      " [0.7509822 ]\n",
      " [0.9165165 ]\n",
      " [0.86727786]\n",
      " [0.98207295]\n",
      " [0.58267087]\n",
      " [0.75595313]\n",
      " [0.3262465 ]]\n",
      "[1. 0. 0. 1. 1. 1. 1. 1. 1. 0.]\n",
      "[0 0 0 0 0 1 1 0 1 1]\n",
      "\n",
      " Confusion matrix: \n",
      " [[ 1139   745]\n",
      " [ 1211 11104]]\n",
      "F1 Score: 0.9190531368978646\n",
      "Accuracy: 0.862243819987323\n",
      "Precision: 0.9016646366220057\n",
      "Recall: 0.9371254958224323\n",
      "ROC AUC: 0.710903173443131\n",
      "Epoch 17 | Test Loss 0.30791721982998893\n"
     ]
    },
    {
     "name": "stderr",
     "output_type": "stream",
     "text": [
      "100%|█████████████████████████████████████████████████████████████████████████████| 2070/2070 [00:11<00:00, 186.19it/s]\n"
     ]
    },
    {
     "name": "stdout",
     "output_type": "stream",
     "text": [
      "\n",
      " Confusion matrix: \n",
      " [[ 2180  1283]\n",
      " [ 3139 26518]]\n",
      "F1 Score: 0.9230394375021755\n",
      "Accuracy: 0.8664855072463769\n",
      "Precision: 0.8941565229119601\n",
      "Recall: 0.9538505809143556\n",
      "ROC AUC: 0.6818510283778396\n",
      "Epoch 18 | Train Loss 0.302813617642159\n"
     ]
    },
    {
     "name": "stderr",
     "output_type": "stream",
     "text": [
      "  1%|▋                                                                              | 19/2070 [00:00<00:10, 188.04it/s]"
     ]
    },
    {
     "name": "stdout",
     "output_type": "stream",
     "text": [
      "[[0.6531557 ]\n",
      " [0.44358978]\n",
      " [0.7023581 ]\n",
      " [0.7719284 ]\n",
      " [0.85516137]\n",
      " [0.90012306]\n",
      " [0.98623174]\n",
      " [0.34828347]\n",
      " [0.7651531 ]\n",
      " [0.5675849 ]]\n",
      "[1. 0. 1. 1. 1. 1. 1. 0. 1. 1.]\n",
      "[0 0 0 0 0 1 1 0 1 1]\n",
      "\n",
      " Confusion matrix: \n",
      " [[ 1011   582]\n",
      " [ 1339 11267]]\n",
      "F1 Score: 0.9214475567368635\n",
      "Accuracy: 0.8647087823086133\n",
      "Precision: 0.8937807393304775\n",
      "Recall: 0.9508819309646384\n",
      "ROC AUC: 0.6905473484610426\n",
      "Epoch 18 | Test Loss 0.3054607511909158\n"
     ]
    },
    {
     "name": "stderr",
     "output_type": "stream",
     "text": [
      "100%|█████████████████████████████████████████████████████████████████████████████| 2070/2070 [00:10<00:00, 189.25it/s]\n"
     ]
    },
    {
     "name": "stdout",
     "output_type": "stream",
     "text": [
      "\n",
      " Confusion matrix: \n",
      " [[ 2129  1194]\n",
      " [ 3191 26606]]\n",
      "F1 Score: 0.9238675625466605\n",
      "Accuracy: 0.867602657004831\n",
      "Precision: 0.8929086820820888\n",
      "Recall: 0.9570503597122302\n",
      "ROC AUC: 0.6786191648185211\n",
      "Epoch 19 | Train Loss 0.30289702090988124\n"
     ]
    },
    {
     "name": "stderr",
     "output_type": "stream",
     "text": [
      "  1%|▊                                                                              | 21/2070 [00:00<00:09, 205.82it/s]"
     ]
    },
    {
     "name": "stdout",
     "output_type": "stream",
     "text": [
      "[[0.73075193]\n",
      " [0.41808   ]\n",
      " [0.5373475 ]\n",
      " [0.8350726 ]\n",
      " [0.9237321 ]\n",
      " [0.9219273 ]\n",
      " [0.9806138 ]\n",
      " [0.36406606]\n",
      " [0.7962821 ]\n",
      " [0.40490547]]\n",
      "[1. 0. 1. 1. 1. 1. 1. 0. 1. 0.]\n",
      "[0 0 0 0 0 1 1 0 1 1]\n",
      "\n",
      " Confusion matrix: \n",
      " [[  967   519]\n",
      " [ 1383 11330]]\n",
      "F1 Score: 0.9225633091767771\n",
      "Accuracy: 0.8660469047115994\n",
      "Precision: 0.8912137182411705\n",
      "Recall: 0.9561988353447548\n",
      "ROC AUC: 0.6838440985234413\n",
      "Epoch 19 | Test Loss 0.3065024179381293\n"
     ]
    },
    {
     "name": "stderr",
     "output_type": "stream",
     "text": [
      "100%|█████████████████████████████████████████████████████████████████████████████| 2070/2070 [00:10<00:00, 197.12it/s]\n"
     ]
    },
    {
     "name": "stdout",
     "output_type": "stream",
     "text": [
      "\n",
      " Confusion matrix: \n",
      " [[ 2172  1178]\n",
      " [ 3149 26621]]\n",
      "F1 Score: 0.9248380204624016\n",
      "Accuracy: 0.8693538647342995\n",
      "Precision: 0.894222371514948\n",
      "Recall: 0.9576243749775172\n",
      "ROC AUC: 0.6829091617417186\n",
      "Epoch 20 | Train Loss 0.3018315013840003\n"
     ]
    },
    {
     "name": "stderr",
     "output_type": "stream",
     "text": [
      "  1%|▋                                                                              | 19/2070 [00:00<00:11, 180.91it/s]"
     ]
    },
    {
     "name": "stdout",
     "output_type": "stream",
     "text": [
      "[[0.7155119 ]\n",
      " [0.31383097]\n",
      " [0.6670641 ]\n",
      " [0.831901  ]\n",
      " [0.7978816 ]\n",
      " [0.9137329 ]\n",
      " [0.983451  ]\n",
      " [0.51737756]\n",
      " [0.83120507]\n",
      " [0.47395557]]\n",
      "[1. 0. 1. 1. 1. 1. 1. 1. 1. 0.]\n",
      "[0 0 0 0 0 1 1 0 1 1]\n",
      "\n",
      " Confusion matrix: \n",
      " [[  941   508]\n",
      " [ 1409 11341]]\n",
      "F1 Score: 0.9220700028456441\n",
      "Accuracy: 0.8649904922881894\n",
      "Precision: 0.8894901960784314\n",
      "Recall: 0.9571271837285847\n",
      "ROC AUC: 0.6787763578217392\n",
      "Epoch 20 | Test Loss 0.30303459198356747\n"
     ]
    },
    {
     "name": "stderr",
     "output_type": "stream",
     "text": [
      "100%|█████████████████████████████████████████████████████████████████████████████| 2070/2070 [00:10<00:00, 202.41it/s]\n"
     ]
    },
    {
     "name": "stdout",
     "output_type": "stream",
     "text": [
      "\n",
      " Confusion matrix: \n",
      " [[ 2179  1237]\n",
      " [ 3140 26564]]\n",
      "F1 Score: 0.9238848795756891\n",
      "Accuracy: 0.8678442028985507\n",
      "Precision: 0.894290331268516\n",
      "Recall: 0.9555051976547606\n",
      "ROC AUC: 0.6825843341159683\n",
      "Epoch 21 | Train Loss 0.3003999021228241\n"
     ]
    },
    {
     "name": "stderr",
     "output_type": "stream",
     "text": [
      "  1%|▋                                                                              | 19/2070 [00:00<00:10, 188.10it/s]"
     ]
    },
    {
     "name": "stdout",
     "output_type": "stream",
     "text": [
      "[[0.62901354]\n",
      " [0.48955345]\n",
      " [0.58733857]\n",
      " [0.8103138 ]\n",
      " [0.83233535]\n",
      " [0.8717167 ]\n",
      " [0.9904469 ]\n",
      " [0.5780519 ]\n",
      " [0.81817335]\n",
      " [0.62021387]]\n",
      "[1. 0. 1. 1. 1. 1. 1. 1. 1. 1.]\n",
      "[0 0 0 0 0 1 1 0 1 1]\n",
      "\n",
      " Confusion matrix: \n",
      " [[  777   356]\n",
      " [ 1573 11493]]\n",
      "F1 Score: 0.9225767609873571\n",
      "Accuracy: 0.8641453623494613\n",
      "Precision: 0.8796112046532987\n",
      "Recall: 0.969955270486961\n",
      "ROC AUC: 0.6502967841796508\n",
      "Epoch 21 | Test Loss 0.3059347716940416\n"
     ]
    },
    {
     "name": "stderr",
     "output_type": "stream",
     "text": [
      "100%|█████████████████████████████████████████████████████████████████████████████| 2070/2070 [00:10<00:00, 190.23it/s]\n"
     ]
    },
    {
     "name": "stdout",
     "output_type": "stream",
     "text": [
      "\n",
      " Confusion matrix: \n",
      " [[ 2130  1152]\n",
      " [ 3188 26650]]\n",
      "F1 Score: 0.9247050659264399\n",
      "Accuracy: 0.8689613526570048\n",
      "Precision: 0.8931563777733093\n",
      "Recall: 0.958564132076829\n",
      "ROC AUC: 0.6795453229018971\n",
      "Epoch 22 | Train Loss 0.3004819054966388\n"
     ]
    },
    {
     "name": "stderr",
     "output_type": "stream",
     "text": [
      "  1%|▊                                                                              | 20/2070 [00:00<00:10, 194.15it/s]"
     ]
    },
    {
     "name": "stdout",
     "output_type": "stream",
     "text": [
      "[[0.5765869 ]\n",
      " [0.44176397]\n",
      " [0.68487394]\n",
      " [0.7741672 ]\n",
      " [0.7520052 ]\n",
      " [0.8591035 ]\n",
      " [0.9897301 ]\n",
      " [0.45652354]\n",
      " [0.7266657 ]\n",
      " [0.67570734]]\n",
      "[1. 0. 1. 1. 1. 1. 1. 0. 1. 1.]\n",
      "[0 0 0 0 0 1 1 0 1 1]\n",
      "\n",
      " Confusion matrix: \n",
      " [[  873   415]\n",
      " [ 1477 11434]]\n",
      "F1 Score: 0.9235864297253635\n",
      "Accuracy: 0.8667511796605395\n",
      "Precision: 0.8856014251413523\n",
      "Recall: 0.964975947337328\n",
      "ROC AUC: 0.6682326545197279\n",
      "Epoch 22 | Test Loss 0.30589310952403526\n"
     ]
    },
    {
     "name": "stderr",
     "output_type": "stream",
     "text": [
      "100%|█████████████████████████████████████████████████████████████████████████████| 2070/2070 [00:10<00:00, 189.27it/s]\n"
     ]
    },
    {
     "name": "stdout",
     "output_type": "stream",
     "text": [
      "\n",
      " Confusion matrix: \n",
      " [[ 2167  1198]\n",
      " [ 3152 26603]]\n",
      "F1 Score: 0.9244214330391272\n",
      "Accuracy: 0.8686594202898551\n",
      "Precision: 0.894068223827928\n",
      "Recall: 0.956908024891191\n",
      "ROC AUC: 0.6821577161492992\n",
      "Epoch 23 | Train Loss 0.3007567467932828\n"
     ]
    },
    {
     "name": "stderr",
     "output_type": "stream",
     "text": [
      "  1%|▊                                                                              | 20/2070 [00:00<00:10, 192.27it/s]"
     ]
    },
    {
     "name": "stdout",
     "output_type": "stream",
     "text": [
      "[[0.6890348 ]\n",
      " [0.38138622]\n",
      " [0.6723754 ]\n",
      " [0.791675  ]\n",
      " [0.8758428 ]\n",
      " [0.9197176 ]\n",
      " [0.9872913 ]\n",
      " [0.3989722 ]\n",
      " [0.738895  ]\n",
      " [0.48380524]]\n",
      "[1. 0. 1. 1. 1. 1. 1. 0. 1. 0.]\n",
      "[0 0 0 0 0 1 1 0 1 1]\n",
      "\n",
      " Confusion matrix: \n",
      " [[ 1050   574]\n",
      " [ 1300 11275]]\n",
      "F1 Score: 0.9232721912872585\n",
      "Accuracy: 0.8680188745686316\n",
      "Precision: 0.8966202783300199\n",
      "Recall: 0.9515570934256056\n",
      "ROC AUC: 0.6991828020319517\n",
      "Epoch 23 | Test Loss 0.3043675946893993\n"
     ]
    },
    {
     "name": "stderr",
     "output_type": "stream",
     "text": [
      "100%|█████████████████████████████████████████████████████████████████████████████| 2070/2070 [00:10<00:00, 189.95it/s]\n"
     ]
    },
    {
     "name": "stdout",
     "output_type": "stream",
     "text": [
      "\n",
      " Confusion matrix: \n",
      " [[ 2187  1214]\n",
      " [ 3133 26586]]\n",
      "F1 Score: 0.9244249726177438\n",
      "Accuracy: 0.86875\n",
      "Precision: 0.894579225411353\n",
      "Recall: 0.9563309352517986\n",
      "ROC AUC: 0.6837105804078542\n",
      "Epoch 24 | Train Loss 0.3003476365518887\n"
     ]
    },
    {
     "name": "stderr",
     "output_type": "stream",
     "text": [
      "  1%|▊                                                                              | 20/2070 [00:00<00:10, 192.27it/s]"
     ]
    },
    {
     "name": "stdout",
     "output_type": "stream",
     "text": [
      "[[0.5960642 ]\n",
      " [0.5629399 ]\n",
      " [0.70548314]\n",
      " [0.7588486 ]\n",
      " [0.80691653]\n",
      " [0.90933865]\n",
      " [0.98548895]\n",
      " [0.45463526]\n",
      " [0.73310214]\n",
      " [0.35644937]]\n",
      "[1. 1. 1. 1. 1. 1. 1. 0. 1. 0.]\n",
      "[0 0 0 0 0 1 1 0 1 1]\n",
      "\n",
      " Confusion matrix: \n",
      " [[ 1024   593]\n",
      " [ 1326 11256]]\n",
      "F1 Score: 0.9214522532847612\n",
      "Accuracy: 0.8648496372984013\n",
      "Precision: 0.8946113495469719\n",
      "Recall: 0.9499535825808085\n",
      "ROC AUC: 0.6928491317159362\n",
      "Epoch 24 | Test Loss 0.3050018320749472\n"
     ]
    },
    {
     "name": "stderr",
     "output_type": "stream",
     "text": [
      "100%|█████████████████████████████████████████████████████████████████████████████| 2070/2070 [00:10<00:00, 202.78it/s]\n"
     ]
    },
    {
     "name": "stdout",
     "output_type": "stream",
     "text": [
      "\n",
      " Confusion matrix: \n",
      " [[ 2158  1205]\n",
      " [ 3162 26595]]\n",
      "F1 Score: 0.9241273867644249\n",
      "Accuracy: 0.8681461352657005\n",
      "Precision: 0.8937392882347011\n",
      "Recall: 0.9566546762589928\n",
      "ROC AUC: 0.6811468870016768\n",
      "Epoch 25 | Train Loss 0.30058426890198303\n"
     ]
    },
    {
     "name": "stderr",
     "output_type": "stream",
     "text": [
      "  1%|▊                                                                              | 20/2070 [00:00<00:10, 199.96it/s]"
     ]
    },
    {
     "name": "stdout",
     "output_type": "stream",
     "text": [
      "[[0.59078306]\n",
      " [0.37427744]\n",
      " [0.71182626]\n",
      " [0.78820276]\n",
      " [0.7890381 ]\n",
      " [0.9309887 ]\n",
      " [0.9898801 ]\n",
      " [0.47405282]\n",
      " [0.80686533]\n",
      " [0.5515614 ]]\n",
      "[1. 0. 1. 1. 1. 1. 1. 0. 1. 1.]\n",
      "[0 0 0 0 0 1 1 0 1 1]\n",
      "\n",
      " Confusion matrix: \n",
      " [[  912   467]\n",
      " [ 1438 11382]]\n",
      "F1 Score: 0.9227775750942478\n",
      "Accuracy: 0.8658356222269173\n",
      "Precision: 0.8878315132605304\n",
      "Recall: 0.9605873913410414\n",
      "ROC AUC: 0.6743362488620102\n",
      "Epoch 25 | Test Loss 0.303940246234069\n"
     ]
    },
    {
     "name": "stderr",
     "output_type": "stream",
     "text": [
      "100%|█████████████████████████████████████████████████████████████████████████████| 2070/2070 [00:10<00:00, 192.47it/s]\n"
     ]
    },
    {
     "name": "stdout",
     "output_type": "stream",
     "text": [
      "\n",
      " Confusion matrix: \n",
      " [[ 2136  1168]\n",
      " [ 3183 26633]]\n",
      "F1 Score: 0.9244840932363712\n",
      "Accuracy: 0.86862922705314\n",
      "Precision: 0.8932452374563993\n",
      "Recall: 0.9579871227653681\n",
      "ROC AUC: 0.6797831834921032\n",
      "Epoch 26 | Train Loss 0.2994819880413692\n"
     ]
    },
    {
     "name": "stderr",
     "output_type": "stream",
     "text": [
      "  1%|▋                                                                              | 19/2070 [00:00<00:11, 184.45it/s]"
     ]
    },
    {
     "name": "stdout",
     "output_type": "stream",
     "text": [
      "[[0.5553776 ]\n",
      " [0.47255662]\n",
      " [0.77975816]\n",
      " [0.73183566]\n",
      " [0.787231  ]\n",
      " [0.86931914]\n",
      " [0.98503244]\n",
      " [0.6005368 ]\n",
      " [0.78384507]\n",
      " [0.5914836 ]]\n",
      "[1. 0. 1. 1. 1. 1. 1. 1. 1. 1.]\n",
      "[0 0 0 0 0 1 1 0 1 1]\n",
      "\n",
      " Confusion matrix: \n",
      " [[  839   424]\n",
      " [ 1511 11425]]\n",
      "F1 Score: 0.9219285858382086\n",
      "Accuracy: 0.8637227973800972\n",
      "Precision: 0.8831941867656153\n",
      "Recall: 0.96421638956874\n",
      "ROC AUC: 0.6606188330822422\n",
      "Epoch 26 | Test Loss 0.30581044190907264\n"
     ]
    },
    {
     "name": "stderr",
     "output_type": "stream",
     "text": [
      "100%|█████████████████████████████████████████████████████████████████████████████| 2070/2070 [00:11<00:00, 185.01it/s]\n"
     ]
    },
    {
     "name": "stdout",
     "output_type": "stream",
     "text": [
      "\n",
      " Confusion matrix: \n",
      " [[ 2121  1103]\n",
      " [ 3199 26697]]\n",
      "F1 Score: 0.9254367720465889\n",
      "Accuracy: 0.8701086956521739\n",
      "Precision: 0.892995718490768\n",
      "Recall: 0.9603237410071942\n",
      "ROC AUC: 0.6795039757667549\n",
      "Epoch 27 | Train Loss 0.29921724931629384\n"
     ]
    },
    {
     "name": "stderr",
     "output_type": "stream",
     "text": [
      "  1%|▋                                                                              | 19/2070 [00:00<00:11, 186.12it/s]"
     ]
    },
    {
     "name": "stdout",
     "output_type": "stream",
     "text": [
      "[[0.6251077 ]\n",
      " [0.27254617]\n",
      " [0.6613413 ]\n",
      " [0.7458154 ]\n",
      " [0.8361945 ]\n",
      " [0.91530794]\n",
      " [0.9805171 ]\n",
      " [0.32924724]\n",
      " [0.5695814 ]\n",
      " [0.61638874]]\n",
      "[1. 0. 1. 1. 1. 1. 1. 0. 1. 1.]\n",
      "[0 0 0 0 0 1 1 0 1 1]\n",
      "\n",
      " Confusion matrix: \n",
      " [[  851   391]\n",
      " [ 1499 11458]]\n",
      "F1 Score: 0.923808755946142\n",
      "Accuracy: 0.8668920346503275\n",
      "Precision: 0.8843096395770625\n",
      "Recall: 0.9670014347202296\n",
      "ROC AUC: 0.6645645471473489\n",
      "Epoch 27 | Test Loss 0.30332991031107603\n"
     ]
    },
    {
     "name": "stderr",
     "output_type": "stream",
     "text": [
      "100%|█████████████████████████████████████████████████████████████████████████████| 2070/2070 [00:10<00:00, 189.99it/s]\n"
     ]
    },
    {
     "name": "stdout",
     "output_type": "stream",
     "text": [
      "\n",
      " Confusion matrix: \n",
      " [[ 2119  1124]\n",
      " [ 3199 26678]]\n",
      "F1 Score: 0.9250507116974983\n",
      "Accuracy: 0.8694746376811594\n",
      "Precision: 0.8929276701141347\n",
      "Recall: 0.9595712538666283\n",
      "ROC AUC: 0.679014660404544\n",
      "Epoch 28 | Train Loss 0.2980316082096618\n"
     ]
    },
    {
     "name": "stderr",
     "output_type": "stream",
     "text": [
      "  1%|▊                                                                              | 20/2070 [00:00<00:10, 199.96it/s]"
     ]
    },
    {
     "name": "stdout",
     "output_type": "stream",
     "text": [
      "[[0.59393305]\n",
      " [0.3202136 ]\n",
      " [0.6416378 ]\n",
      " [0.7474358 ]\n",
      " [0.72665524]\n",
      " [0.92278016]\n",
      " [0.9885343 ]\n",
      " [0.2802654 ]\n",
      " [0.6436479 ]\n",
      " [0.45752403]]\n",
      "[1. 0. 1. 1. 1. 1. 1. 0. 1. 0.]\n",
      "[0 0 0 0 0 1 1 0 1 1]\n",
      "\n",
      " Confusion matrix: \n",
      " [[ 1072   591]\n",
      " [ 1278 11258]]\n",
      "F1 Score: 0.9233545212220626\n",
      "Accuracy: 0.8683710120431016\n",
      "Precision: 0.8980536056158264\n",
      "Recall: 0.9501223731960503\n",
      "ROC AUC: 0.703146292981004\n",
      "Epoch 28 | Test Loss 0.2996046215564281\n"
     ]
    },
    {
     "name": "stderr",
     "output_type": "stream",
     "text": [
      "100%|█████████████████████████████████████████████████████████████████████████████| 2070/2070 [00:10<00:00, 194.80it/s]\n"
     ]
    },
    {
     "name": "stdout",
     "output_type": "stream",
     "text": [
      "\n",
      " Confusion matrix: \n",
      " [[ 2123  1152]\n",
      " [ 3195 26650]]\n",
      "F1 Score: 0.9245927801967144\n",
      "Accuracy: 0.86875\n",
      "Precision: 0.8929468922767633\n",
      "Recall: 0.958564132076829\n",
      "ROC AUC: 0.6788871807431907\n",
      "Epoch 29 | Train Loss 0.2986705616944366\n"
     ]
    },
    {
     "name": "stderr",
     "output_type": "stream",
     "text": [
      "  1%|▋                                                                              | 18/2070 [00:00<00:11, 178.18it/s]"
     ]
    },
    {
     "name": "stdout",
     "output_type": "stream",
     "text": [
      "[[0.4320692 ]\n",
      " [0.36367968]\n",
      " [0.6499272 ]\n",
      " [0.8020552 ]\n",
      " [0.7904323 ]\n",
      " [0.92293686]\n",
      " [0.9832909 ]\n",
      " [0.6000483 ]\n",
      " [0.7026622 ]\n",
      " [0.36605248]]\n",
      "[0. 0. 1. 1. 1. 1. 1. 1. 1. 0.]\n",
      "[0 0 0 0 0 1 1 0 1 1]\n",
      "\n",
      " Confusion matrix: \n",
      " [[ 1008   539]\n",
      " [ 1342 11310]]\n",
      "F1 Score: 0.9232276233623118\n",
      "Accuracy: 0.8675258821043735\n",
      "Precision: 0.8939298134682264\n",
      "Recall: 0.9545109291923369\n",
      "ROC AUC: 0.6917235497025513\n",
      "Epoch 29 | Test Loss 0.30482077054880763\n"
     ]
    },
    {
     "name": "stderr",
     "output_type": "stream",
     "text": [
      "100%|█████████████████████████████████████████████████████████████████████████████| 2070/2070 [00:10<00:00, 195.06it/s]\n"
     ]
    },
    {
     "name": "stdout",
     "output_type": "stream",
     "text": [
      "\n",
      " Confusion matrix: \n",
      " [[ 2176  1154]\n",
      " [ 3142 26648]]\n",
      "F1 Score: 0.9254063064314488\n",
      "Accuracy: 0.8702898550724638\n",
      "Precision: 0.8945283652232293\n",
      "Recall: 0.958492194806129\n",
      "ROC AUC: 0.6838342884523312\n",
      "Epoch 30 | Train Loss 0.2981838756803297\n"
     ]
    },
    {
     "name": "stderr",
     "output_type": "stream",
     "text": [
      "  1%|▊                                                                              | 20/2070 [00:00<00:10, 196.03it/s]"
     ]
    },
    {
     "name": "stdout",
     "output_type": "stream",
     "text": [
      "[[0.62160945]\n",
      " [0.3766227 ]\n",
      " [0.73196054]\n",
      " [0.88131285]\n",
      " [0.8674175 ]\n",
      " [0.8963817 ]\n",
      " [0.97891885]\n",
      " [0.55574256]\n",
      " [0.65823454]\n",
      " [0.5460626 ]]\n",
      "[1. 0. 1. 1. 1. 1. 1. 1. 1. 1.]\n",
      "[0 0 0 0 0 1 1 0 1 1]\n",
      "\n",
      " Confusion matrix: \n",
      " [[  811   372]\n",
      " [ 1539 11477]]\n",
      "F1 Score: 0.9231449829077016\n",
      "Accuracy: 0.8654130572575534\n",
      "Precision: 0.8817609096496619\n",
      "Recall: 0.9686049455650266\n",
      "ROC AUC: 0.656855664271875\n",
      "Epoch 30 | Test Loss 0.31109535224265883\n"
     ]
    },
    {
     "name": "stderr",
     "output_type": "stream",
     "text": [
      "100%|█████████████████████████████████████████████████████████████████████████████| 2070/2070 [00:10<00:00, 199.25it/s]\n"
     ]
    },
    {
     "name": "stdout",
     "output_type": "stream",
     "text": [
      "\n",
      " Confusion matrix: \n",
      " [[ 2122  1155]\n",
      " [ 3196 26647]]\n",
      "F1 Score: 0.9245207737011015\n",
      "Accuracy: 0.86862922705314\n",
      "Precision: 0.8929062091612774\n",
      "Recall: 0.9584562261707791\n",
      "ROC AUC: 0.6787392074817792\n",
      "Epoch 31 | Train Loss 0.2991219342078852\n"
     ]
    },
    {
     "name": "stderr",
     "output_type": "stream",
     "text": [
      "  1%|▊                                                                              | 21/2070 [00:00<00:10, 201.88it/s]"
     ]
    },
    {
     "name": "stdout",
     "output_type": "stream",
     "text": [
      "[[0.65754217]\n",
      " [0.3166607 ]\n",
      " [0.57113034]\n",
      " [0.8015512 ]\n",
      " [0.7950879 ]\n",
      " [0.9234489 ]\n",
      " [0.9778171 ]\n",
      " [0.45344034]\n",
      " [0.66928273]\n",
      " [0.46649238]]\n",
      "[1. 0. 1. 1. 1. 1. 1. 0. 1. 0.]\n",
      "[0 0 0 0 0 1 1 0 1 1]\n",
      "\n",
      " Confusion matrix: \n",
      " [[ 1002   526]\n",
      " [ 1348 11323]]\n",
      "F1 Score: 0.9235725938009787\n",
      "Accuracy: 0.8680188745686316\n",
      "Precision: 0.8936153421198011\n",
      "Recall: 0.9556080681914085\n",
      "ROC AUC: 0.6909955234574063\n",
      "Epoch 31 | Test Loss 0.30370236852684535\n"
     ]
    },
    {
     "name": "stderr",
     "output_type": "stream",
     "text": [
      "100%|█████████████████████████████████████████████████████████████████████████████| 2070/2070 [00:10<00:00, 201.76it/s]\n"
     ]
    },
    {
     "name": "stdout",
     "output_type": "stream",
     "text": [
      "\n",
      " Confusion matrix: \n",
      " [[ 2162  1183]\n",
      " [ 3157 26618]]\n",
      "F1 Score: 0.9246213700152841\n",
      "Accuracy: 0.8689613526570048\n",
      "Precision: 0.8939714525608732\n",
      "Recall: 0.9574475738282796\n",
      "ROC AUC: 0.681957477457475\n",
      "Epoch 32 | Train Loss 0.2983149059350796\n"
     ]
    },
    {
     "name": "stderr",
     "output_type": "stream",
     "text": [
      "  1%|▊                                                                              | 20/2070 [00:00<00:10, 197.98it/s]"
     ]
    },
    {
     "name": "stdout",
     "output_type": "stream",
     "text": [
      "[[0.5472345 ]\n",
      " [0.3355141 ]\n",
      " [0.79162663]\n",
      " [0.82015806]\n",
      " [0.8868849 ]\n",
      " [0.9323551 ]\n",
      " [0.9858374 ]\n",
      " [0.32832733]\n",
      " [0.71444046]\n",
      " [0.4382348 ]]\n",
      "[1. 0. 1. 1. 1. 1. 1. 0. 1. 0.]\n",
      "[0 0 0 0 0 1 1 0 1 1]\n",
      "\n",
      " Confusion matrix: \n",
      " [[  941   506]\n",
      " [ 1409 11343]]\n",
      "F1 Score: 0.9221576358684607\n",
      "Accuracy: 0.8651313472779774\n",
      "Precision: 0.8895075282308658\n",
      "Recall: 0.9572959743438265\n",
      "ROC AUC: 0.67886075312936\n",
      "Epoch 32 | Test Loss 0.3071632463787053\n"
     ]
    },
    {
     "name": "stderr",
     "output_type": "stream",
     "text": [
      "100%|█████████████████████████████████████████████████████████████████████████████| 2070/2070 [00:10<00:00, 199.48it/s]\n"
     ]
    },
    {
     "name": "stdout",
     "output_type": "stream",
     "text": [
      "\n",
      " Confusion matrix: \n",
      " [[ 2184  1211]\n",
      " [ 3136 26589]]\n",
      "F1 Score: 0.9244328552803129\n",
      "Accuracy: 0.86875\n",
      "Precision: 0.8944995794785534\n",
      "Recall: 0.9564388489208633\n",
      "ROC AUC: 0.6834825823551685\n",
      "Epoch 33 | Train Loss 0.2974944995743209\n"
     ]
    },
    {
     "name": "stderr",
     "output_type": "stream",
     "text": [
      "  1%|▋                                                                              | 18/2070 [00:00<00:11, 179.99it/s]"
     ]
    },
    {
     "name": "stdout",
     "output_type": "stream",
     "text": [
      "[[0.57762897]\n",
      " [0.5381393 ]\n",
      " [0.5627205 ]\n",
      " [0.7937381 ]\n",
      " [0.7683632 ]\n",
      " [0.92665464]\n",
      " [0.9870702 ]\n",
      " [0.44572875]\n",
      " [0.7460585 ]\n",
      " [0.57574105]]\n",
      "[1. 1. 1. 1. 1. 1. 1. 0. 1. 1.]\n",
      "[0 0 0 0 0 1 1 0 1 1]\n",
      "\n",
      " Confusion matrix: \n",
      " [[  878   448]\n",
      " [ 1472 11401]]\n",
      "F1 Score: 0.9223363805517353\n",
      "Accuracy: 0.8647792098035073\n",
      "Precision: 0.8856521401382739\n",
      "Recall: 0.9621909021858385\n",
      "ROC AUC: 0.6679039617312171\n",
      "Epoch 33 | Test Loss 0.302980451970487\n"
     ]
    },
    {
     "name": "stderr",
     "output_type": "stream",
     "text": [
      "100%|█████████████████████████████████████████████████████████████████████████████| 2070/2070 [00:10<00:00, 195.76it/s]\n"
     ]
    },
    {
     "name": "stdout",
     "output_type": "stream",
     "text": [
      "\n",
      " Confusion matrix: \n",
      " [[ 2166  1214]\n",
      " [ 3154 26586]]\n",
      "F1 Score: 0.924087591240876\n",
      "Accuracy: 0.8681159420289855\n",
      "Precision: 0.8939475453934096\n",
      "Recall: 0.9563309352517986\n",
      "ROC AUC: 0.6817368961973278\n",
      "Epoch 34 | Train Loss 0.2977178780092061\n"
     ]
    },
    {
     "name": "stderr",
     "output_type": "stream",
     "text": [
      "  1%|▋                                                                              | 18/2070 [00:00<00:11, 178.18it/s]"
     ]
    },
    {
     "name": "stdout",
     "output_type": "stream",
     "text": [
      "[[0.65819097]\n",
      " [0.34315705]\n",
      " [0.72091854]\n",
      " [0.83206344]\n",
      " [0.89353096]\n",
      " [0.87872833]\n",
      " [0.9869867 ]\n",
      " [0.31069702]\n",
      " [0.768382  ]\n",
      " [0.5045934 ]]\n",
      "[1. 0. 1. 1. 1. 1. 1. 0. 1. 1.]\n",
      "[0 0 0 0 0 1 1 0 1 1]\n",
      "\n",
      " Confusion matrix: \n",
      " [[  940   470]\n",
      " [ 1410 11379]]\n",
      "F1 Score: 0.9236951051221689\n",
      "Accuracy: 0.8675963095992676\n",
      "Precision: 0.8897490030494957\n",
      "Recall: 0.9603342054181787\n",
      "ROC AUC: 0.6801671027090894\n",
      "Epoch 34 | Test Loss 0.3024199705000396\n"
     ]
    },
    {
     "name": "stderr",
     "output_type": "stream",
     "text": [
      "100%|█████████████████████████████████████████████████████████████████████████████| 2070/2070 [00:10<00:00, 193.50it/s]\n"
     ]
    },
    {
     "name": "stdout",
     "output_type": "stream",
     "text": [
      "\n",
      " Confusion matrix: \n",
      " [[ 2258  1249]\n",
      " [ 3062 26551]]\n",
      "F1 Score: 0.9249124762684409\n",
      "Accuracy: 0.8698369565217391\n",
      "Precision: 0.8965994664505453\n",
      "Recall: 0.9550719424460432\n",
      "ROC AUC: 0.6897540163358036\n",
      "Epoch 35 | Train Loss 0.29771274001234105\n"
     ]
    },
    {
     "name": "stderr",
     "output_type": "stream",
     "text": [
      "  1%|▋                                                                              | 19/2070 [00:00<00:11, 186.23it/s]"
     ]
    },
    {
     "name": "stdout",
     "output_type": "stream",
     "text": [
      "[[0.49066392]\n",
      " [0.29875866]\n",
      " [0.48313504]\n",
      " [0.7571304 ]\n",
      " [0.7368436 ]\n",
      " [0.9103252 ]\n",
      " [0.97690034]\n",
      " [0.41714147]\n",
      " [0.6931894 ]\n",
      " [0.4635667 ]]\n",
      "[0. 0. 0. 1. 1. 1. 1. 0. 1. 0.]\n",
      "[0 0 0 0 0 1 1 0 1 1]\n",
      "\n",
      " Confusion matrix: \n",
      " [[ 1076   628]\n",
      " [ 1274 11221]]\n",
      "F1 Score: 0.9218698652645416\n",
      "Accuracy: 0.8660469047115994\n",
      "Precision: 0.8980392156862745\n",
      "Recall: 0.9469997468140772\n",
      "ROC AUC: 0.7024360436198045\n",
      "Epoch 35 | Test Loss 0.3020430467015988\n"
     ]
    },
    {
     "name": "stderr",
     "output_type": "stream",
     "text": [
      "100%|█████████████████████████████████████████████████████████████████████████████| 2070/2070 [00:10<00:00, 197.98it/s]\n"
     ]
    },
    {
     "name": "stdout",
     "output_type": "stream",
     "text": [
      "\n",
      " Confusion matrix: \n",
      " [[ 2191  1236]\n",
      " [ 3126 26567]]\n",
      "F1 Score: 0.9241338527897592\n",
      "Accuracy: 0.8682971014492754\n",
      "Precision: 0.8947226619068467\n",
      "Recall: 0.9555443657159299\n",
      "ROC AUC: 0.683809421902539\n",
      "Epoch 36 | Train Loss 0.29797577966400535\n"
     ]
    },
    {
     "name": "stderr",
     "output_type": "stream",
     "text": [
      "  1%|▊                                                                              | 21/2070 [00:00<00:09, 207.87it/s]"
     ]
    },
    {
     "name": "stdout",
     "output_type": "stream",
     "text": [
      "[[0.54386216]\n",
      " [0.39323336]\n",
      " [0.49035633]\n",
      " [0.80896765]\n",
      " [0.7952027 ]\n",
      " [0.92825943]\n",
      " [0.9620168 ]\n",
      " [0.32529372]\n",
      " [0.6757163 ]\n",
      " [0.61423844]]\n",
      "[1. 0. 0. 1. 1. 1. 1. 0. 1. 1.]\n",
      "[0 0 0 0 0 1 1 0 1 1]\n",
      "\n",
      " Confusion matrix: \n",
      " [[  970   527]\n",
      " [ 1380 11322]]\n",
      "F1 Score: 0.9223249562135961\n",
      "Accuracy: 0.8656947672371293\n",
      "Precision: 0.8913556920170052\n",
      "Recall: 0.9555236728837877\n",
      "ROC AUC: 0.6841448151652981\n",
      "Epoch 36 | Test Loss 0.30159638184416404\n"
     ]
    },
    {
     "name": "stderr",
     "output_type": "stream",
     "text": [
      "100%|█████████████████████████████████████████████████████████████████████████████| 2070/2070 [00:10<00:00, 191.49it/s]\n"
     ]
    },
    {
     "name": "stdout",
     "output_type": "stream",
     "text": [
      "\n",
      " Confusion matrix: \n",
      " [[ 2155  1160]\n",
      " [ 3164 26641]]\n",
      "F1 Score: 0.9249383744748811\n",
      "Accuracy: 0.8694444444444445\n",
      "Precision: 0.8938433148800536\n",
      "Recall: 0.9582748821984821\n",
      "ROC AUC: 0.6817131132180604\n",
      "Epoch 37 | Train Loss 0.2970377664113246\n"
     ]
    },
    {
     "name": "stderr",
     "output_type": "stream",
     "text": [
      "  1%|▋                                                                              | 19/2070 [00:00<00:10, 189.96it/s]"
     ]
    },
    {
     "name": "stdout",
     "output_type": "stream",
     "text": [
      "[[0.49086523]\n",
      " [0.43467924]\n",
      " [0.6291907 ]\n",
      " [0.737697  ]\n",
      " [0.71096444]\n",
      " [0.92983264]\n",
      " [0.97610074]\n",
      " [0.4792063 ]\n",
      " [0.60128707]\n",
      " [0.6531054 ]]\n",
      "[0. 0. 1. 1. 1. 1. 1. 0. 1. 1.]\n",
      "[0 0 0 0 0 1 1 0 1 1]\n",
      "\n",
      " Confusion matrix: \n",
      " [[  898   426]\n",
      " [ 1452 11423]]\n",
      "F1 Score: 0.9240414172464003\n",
      "Accuracy: 0.8677371645890556\n",
      "Precision: 0.8872233009708738\n",
      "Recall: 0.9640475989534982\n",
      "ROC AUC: 0.6730876292639831\n",
      "Epoch 37 | Test Loss 0.30044941033597466\n"
     ]
    },
    {
     "name": "stderr",
     "output_type": "stream",
     "text": [
      "100%|█████████████████████████████████████████████████████████████████████████████| 2070/2070 [00:10<00:00, 189.64it/s]\n"
     ]
    },
    {
     "name": "stdout",
     "output_type": "stream",
     "text": [
      "\n",
      " Confusion matrix: \n",
      " [[ 2170  1178]\n",
      " [ 3150 26622]]\n",
      "F1 Score: 0.9248245674980893\n",
      "Accuracy: 0.8693236714975845\n",
      "Precision: 0.8941958887545345\n",
      "Recall: 0.9576258992805755\n",
      "ROC AUC: 0.6827603180613404\n",
      "Epoch 38 | Train Loss 0.29710866123401886\n"
     ]
    },
    {
     "name": "stderr",
     "output_type": "stream",
     "text": [
      "  1%|▊                                                                              | 20/2070 [00:00<00:10, 194.13it/s]"
     ]
    },
    {
     "name": "stdout",
     "output_type": "stream",
     "text": [
      "[[0.6062773 ]\n",
      " [0.4227262 ]\n",
      " [0.6951185 ]\n",
      " [0.7450552 ]\n",
      " [0.89219147]\n",
      " [0.90045863]\n",
      " [0.9706175 ]\n",
      " [0.37509826]\n",
      " [0.68397874]\n",
      " [0.5818952 ]]\n",
      "[1. 0. 1. 1. 1. 1. 1. 0. 1. 1.]\n",
      "[0 0 0 0 0 1 1 0 1 1]\n",
      "\n",
      " Confusion matrix: \n",
      " [[  896   436]\n",
      " [ 1454 11413]]\n",
      "F1 Score: 0.9235313157468846\n",
      "Accuracy: 0.8668920346503275\n",
      "Precision: 0.8869977461723789\n",
      "Recall: 0.9632036458772892\n",
      "ROC AUC: 0.672240120810985\n",
      "Epoch 38 | Test Loss 0.3032391543189685\n"
     ]
    },
    {
     "name": "stderr",
     "output_type": "stream",
     "text": [
      "100%|█████████████████████████████████████████████████████████████████████████████| 2070/2070 [00:10<00:00, 188.50it/s]\n"
     ]
    },
    {
     "name": "stdout",
     "output_type": "stream",
     "text": [
      "\n",
      " Confusion matrix: \n",
      " [[ 2170  1167]\n",
      " [ 3149 26634]]\n",
      "F1 Score: 0.9250486246179496\n",
      "Accuracy: 0.8696859903381643\n",
      "Precision: 0.8942685424571064\n",
      "Recall: 0.9580230926945074\n",
      "ROC AUC: 0.6829972579471785\n",
      "Epoch 39 | Train Loss 0.2974786182316605\n"
     ]
    },
    {
     "name": "stderr",
     "output_type": "stream",
     "text": [
      "  1%|▋                                                                              | 19/2070 [00:00<00:10, 189.96it/s]"
     ]
    },
    {
     "name": "stdout",
     "output_type": "stream",
     "text": [
      "[[0.46260664]\n",
      " [0.3827538 ]\n",
      " [0.5453361 ]\n",
      " [0.7814092 ]\n",
      " [0.8484871 ]\n",
      " [0.89523804]\n",
      " [0.98386014]\n",
      " [0.6192965 ]\n",
      " [0.78295845]\n",
      " [0.57207847]]\n",
      "[0. 0. 1. 1. 1. 1. 1. 1. 1. 1.]\n",
      "[0 0 0 0 0 1 1 0 1 1]\n",
      "\n",
      " Confusion matrix: \n",
      " [[ 1039   559]\n",
      " [ 1311 11290]]\n",
      "F1 Score: 0.9235173824130879\n",
      "Accuracy: 0.8683005845482076\n",
      "Precision: 0.8959606380445997\n",
      "Recall: 0.952823023039919\n",
      "ROC AUC: 0.6974753413071935\n",
      "Epoch 39 | Test Loss 0.30210818732912476\n"
     ]
    },
    {
     "name": "stderr",
     "output_type": "stream",
     "text": [
      "100%|█████████████████████████████████████████████████████████████████████████████| 2070/2070 [00:11<00:00, 188.11it/s]\n"
     ]
    },
    {
     "name": "stdout",
     "output_type": "stream",
     "text": [
      "\n",
      " Confusion matrix: \n",
      " [[ 2263  1248]\n",
      " [ 3057 26552]]\n",
      "F1 Score: 0.9250117577383337\n",
      "Accuracy: 0.8700181159420289\n",
      "Precision: 0.8967543652267892\n",
      "Recall: 0.9551079136690648\n",
      "ROC AUC: 0.6902419267593445\n",
      "Epoch 40 | Train Loss 0.2968496306200966\n"
     ]
    },
    {
     "name": "stderr",
     "output_type": "stream",
     "text": [
      "  1%|▊                                                                              | 20/2070 [00:00<00:10, 194.13it/s]"
     ]
    },
    {
     "name": "stdout",
     "output_type": "stream",
     "text": [
      "[[0.6063436 ]\n",
      " [0.44959277]\n",
      " [0.5471975 ]\n",
      " [0.76015365]\n",
      " [0.76866174]\n",
      " [0.8935912 ]\n",
      " [0.98999435]\n",
      " [0.52530175]\n",
      " [0.7616409 ]\n",
      " [0.48693067]]\n",
      "[1. 0. 1. 1. 1. 1. 1. 1. 1. 0.]\n",
      "[0 0 0 0 0 1 1 0 1 1]\n",
      "\n",
      " Confusion matrix: \n",
      " [[  838   370]\n",
      " [ 1512 11479]]\n",
      "F1 Score: 0.9242351046698873\n",
      "Accuracy: 0.8674554546094796\n",
      "Precision: 0.8836117311985221\n",
      "Recall: 0.9687737361802684\n",
      "ROC AUC: 0.6626847404305598\n",
      "Epoch 40 | Test Loss 0.30238392747737264\n"
     ]
    },
    {
     "name": "stderr",
     "output_type": "stream",
     "text": [
      "100%|█████████████████████████████████████████████████████████████████████████████| 2070/2070 [00:10<00:00, 189.71it/s]\n"
     ]
    },
    {
     "name": "stdout",
     "output_type": "stream",
     "text": [
      "\n",
      " Confusion matrix: \n",
      " [[ 2184  1179]\n",
      " [ 3137 26620]]\n",
      "F1 Score: 0.9250121620682465\n",
      "Accuracy: 0.8696859903381643\n",
      "Precision: 0.8945794266895184\n",
      "Recall: 0.9575884024605201\n",
      "ROC AUC: 0.6840187830757778\n",
      "Epoch 41 | Train Loss 0.29709167222397914\n"
     ]
    },
    {
     "name": "stderr",
     "output_type": "stream",
     "text": [
      "  1%|▊                                                                              | 20/2070 [00:00<00:10, 190.43it/s]"
     ]
    },
    {
     "name": "stdout",
     "output_type": "stream",
     "text": [
      "[[0.6582215 ]\n",
      " [0.38529468]\n",
      " [0.45170406]\n",
      " [0.75654835]\n",
      " [0.6984885 ]\n",
      " [0.9038215 ]\n",
      " [0.98664176]\n",
      " [0.39240667]\n",
      " [0.7296261 ]\n",
      " [0.48945108]]\n",
      "[1. 0. 0. 1. 1. 1. 1. 0. 1. 0.]\n",
      "[0 0 0 0 0 1 1 0 1 1]\n",
      "\n",
      " Confusion matrix: \n",
      " [[  946   443]\n",
      " [ 1404 11406]]\n",
      "F1 Score: 0.9250983413763737\n",
      "Accuracy: 0.8699204169307698\n",
      "Precision: 0.8903981264637002\n",
      "Recall: 0.962612878723943\n",
      "ROC AUC: 0.6825830351066524\n",
      "Epoch 41 | Test Loss 0.29833899633036004\n"
     ]
    },
    {
     "name": "stderr",
     "output_type": "stream",
     "text": [
      "100%|█████████████████████████████████████████████████████████████████████████████| 2070/2070 [00:10<00:00, 190.30it/s]\n"
     ]
    },
    {
     "name": "stdout",
     "output_type": "stream",
     "text": [
      "\n",
      " Confusion matrix: \n",
      " [[ 2181  1169]\n",
      " [ 3137 26633]]\n",
      "F1 Score: 0.925206697700271\n",
      "Accuracy: 0.869987922705314\n",
      "Precision: 0.8946254618743702\n",
      "Recall: 0.9579526652758794\n",
      "ROC AUC: 0.6840346252291394\n",
      "Epoch 42 | Train Loss 0.29710291969783353\n"
     ]
    },
    {
     "name": "stderr",
     "output_type": "stream",
     "text": [
      "  1%|▊                                                                              | 20/2070 [00:00<00:10, 199.96it/s]"
     ]
    },
    {
     "name": "stdout",
     "output_type": "stream",
     "text": [
      "[[0.45350045]\n",
      " [0.42757672]\n",
      " [0.32029667]\n",
      " [0.84671503]\n",
      " [0.69232345]\n",
      " [0.7808533 ]\n",
      " [0.9803992 ]\n",
      " [0.43300602]\n",
      " [0.6990727 ]\n",
      " [0.4829727 ]]\n",
      "[0. 0. 0. 1. 1. 1. 1. 0. 1. 0.]\n",
      "[0 0 0 0 0 1 1 0 1 1]\n",
      "\n",
      " Confusion matrix: \n",
      " [[ 1152   674]\n",
      " [ 1198 11175]]\n",
      "F1 Score: 0.9227148872925439\n",
      "Accuracy: 0.8681597295584196\n",
      "Precision: 0.9031762709124707\n",
      "Recall: 0.9431175626635159\n",
      "ROC AUC: 0.7166651643104813\n",
      "Epoch 42 | Test Loss 0.3015371056961584\n"
     ]
    },
    {
     "name": "stderr",
     "output_type": "stream",
     "text": [
      "100%|█████████████████████████████████████████████████████████████████████████████| 2070/2070 [00:10<00:00, 191.02it/s]\n"
     ]
    },
    {
     "name": "stdout",
     "output_type": "stream",
     "text": [
      "\n",
      " Confusion matrix: \n",
      " [[ 2189  1167]\n",
      " [ 3130 26634]]\n",
      "F1 Score: 0.9253539477112829\n",
      "Accuracy: 0.8702596618357488\n",
      "Precision: 0.8948394033060073\n",
      "Recall: 0.9580230926945074\n",
      "ROC AUC: 0.6847833079565788\n",
      "Epoch 43 | Train Loss 0.2975381400499151\n"
     ]
    },
    {
     "name": "stderr",
     "output_type": "stream",
     "text": [
      "  1%|▋                                                                              | 19/2070 [00:00<00:10, 188.08it/s]"
     ]
    },
    {
     "name": "stdout",
     "output_type": "stream",
     "text": [
      "[[0.49312901]\n",
      " [0.30056465]\n",
      " [0.62162066]\n",
      " [0.8176405 ]\n",
      " [0.73427886]\n",
      " [0.9202399 ]\n",
      " [0.988971  ]\n",
      " [0.7204709 ]\n",
      " [0.6627888 ]\n",
      " [0.47935274]]\n",
      "[0. 0. 1. 1. 1. 1. 1. 1. 1. 0.]\n",
      "[0 0 0 0 0 1 1 0 1 1]\n",
      "\n",
      " Confusion matrix: \n",
      " [[  945   474]\n",
      " [ 1405 11375]]\n",
      "F1 Score: 0.9237078241097892\n",
      "Accuracy: 0.8676667370941615\n",
      "Precision: 0.8900625978090767\n",
      "Recall: 0.9599966241876952\n",
      "ROC AUC: 0.6810621418810816\n",
      "Epoch 43 | Test Loss 0.30443971704792333\n"
     ]
    },
    {
     "name": "stderr",
     "output_type": "stream",
     "text": [
      "100%|█████████████████████████████████████████████████████████████████████████████| 2070/2070 [00:10<00:00, 189.48it/s]\n"
     ]
    },
    {
     "name": "stdout",
     "output_type": "stream",
     "text": [
      "\n",
      " Confusion matrix: \n",
      " [[ 2243  1244]\n",
      " [ 3077 26556]]\n",
      "F1 Score: 0.9247645082095659\n",
      "Accuracy: 0.8695350241545894\n",
      "Precision: 0.8961630614517598\n",
      "Recall: 0.955251798561151\n",
      "ROC AUC: 0.6884341699572673\n",
      "Epoch 44 | Train Loss 0.2980464639313123\n"
     ]
    },
    {
     "name": "stderr",
     "output_type": "stream",
     "text": [
      "  1%|▊                                                                              | 22/2070 [00:00<00:09, 217.74it/s]"
     ]
    },
    {
     "name": "stdout",
     "output_type": "stream",
     "text": [
      "[[0.6393585 ]\n",
      " [0.34461725]\n",
      " [0.673105  ]\n",
      " [0.76772213]\n",
      " [0.7440562 ]\n",
      " [0.9214306 ]\n",
      " [0.9767939 ]\n",
      " [0.44172096]\n",
      " [0.73583883]\n",
      " [0.3854184 ]]\n",
      "[1. 0. 1. 1. 1. 1. 1. 0. 1. 0.]\n",
      "[0 0 0 0 0 1 1 0 1 1]\n",
      "\n",
      " Confusion matrix: \n",
      " [[ 1034   544]\n",
      " [ 1316 11305]]\n",
      "F1 Score: 0.9239885574172455\n",
      "Accuracy: 0.8690048594971477\n",
      "Precision: 0.8957293399889074\n",
      "Recall: 0.9540889526542324\n",
      "ROC AUC: 0.6970444763271162\n",
      "Epoch 44 | Test Loss 0.3027434904833098\n"
     ]
    },
    {
     "name": "stderr",
     "output_type": "stream",
     "text": [
      "100%|█████████████████████████████████████████████████████████████████████████████| 2070/2070 [00:10<00:00, 198.19it/s]\n"
     ]
    },
    {
     "name": "stdout",
     "output_type": "stream",
     "text": [
      "\n",
      " Confusion matrix: \n",
      " [[ 2229  1233]\n",
      " [ 3091 26567]]\n",
      "F1 Score: 0.9247450311531902\n",
      "Accuracy: 0.8694444444444445\n",
      "Precision: 0.8957785420459909\n",
      "Recall: 0.9556474820143885\n",
      "ROC AUC: 0.6873162222102018\n",
      "Epoch 45 | Train Loss 0.2969513224041908\n"
     ]
    },
    {
     "name": "stderr",
     "output_type": "stream",
     "text": [
      "  1%|▋                                                                              | 19/2070 [00:00<00:11, 182.63it/s]"
     ]
    },
    {
     "name": "stdout",
     "output_type": "stream",
     "text": [
      "[[0.6159725 ]\n",
      " [0.31120402]\n",
      " [0.6848619 ]\n",
      " [0.7821746 ]\n",
      " [0.9600395 ]\n",
      " [0.9397547 ]\n",
      " [0.9901544 ]\n",
      " [0.5275465 ]\n",
      " [0.767796  ]\n",
      " [0.30179965]]\n",
      "[1. 0. 1. 1. 1. 1. 1. 1. 1. 0.]\n",
      "[0 0 0 0 0 1 1 0 1 1]\n",
      "\n",
      " Confusion matrix: \n",
      " [[ 1065   615]\n",
      " [ 1285 11234]]\n",
      "F1 Score: 0.9220288903479973\n",
      "Accuracy: 0.8661877597013874\n",
      "Precision: 0.897356018851346\n",
      "Recall: 0.9480968858131488\n",
      "ROC AUC: 0.7006441875874254\n",
      "Epoch 45 | Test Loss 0.3035205920134579\n"
     ]
    },
    {
     "name": "stderr",
     "output_type": "stream",
     "text": [
      "100%|█████████████████████████████████████████████████████████████████████████████| 2070/2070 [00:10<00:00, 199.42it/s]\n"
     ]
    },
    {
     "name": "stdout",
     "output_type": "stream",
     "text": [
      "\n",
      " Confusion matrix: \n",
      " [[ 2231  1228]\n",
      " [ 3088 26573]]\n",
      "F1 Score: 0.9248894921861404\n",
      "Accuracy: 0.8696859903381643\n",
      "Precision: 0.8958902262229864\n",
      "Recall: 0.9558289270170138\n",
      "ROC AUC: 0.6876343356649273\n",
      "Epoch 46 | Train Loss 0.29611975863791895\n"
     ]
    },
    {
     "name": "stderr",
     "output_type": "stream",
     "text": [
      "  1%|▊                                                                              | 21/2070 [00:00<00:10, 201.85it/s]"
     ]
    },
    {
     "name": "stdout",
     "output_type": "stream",
     "text": [
      "[[0.5789961 ]\n",
      " [0.5013741 ]\n",
      " [0.37685305]\n",
      " [0.8273604 ]\n",
      " [0.86561686]\n",
      " [0.950151  ]\n",
      " [0.9902159 ]\n",
      " [0.4481864 ]\n",
      " [0.7647519 ]\n",
      " [0.41403052]]\n",
      "[1. 1. 0. 1. 1. 1. 1. 0. 1. 0.]\n",
      "[0 0 0 0 0 1 1 0 1 1]\n",
      "\n",
      " Confusion matrix: \n",
      " [[ 1033   584]\n",
      " [ 1317 11265]]\n",
      "F1 Score: 0.9221890221439973\n",
      "Accuracy: 0.8661173322064935\n",
      "Precision: 0.8953266571292322\n",
      "Recall: 0.9507131403493966\n",
      "ROC AUC: 0.6951438042172515\n",
      "Epoch 46 | Test Loss 0.3082163747366484\n"
     ]
    },
    {
     "name": "stderr",
     "output_type": "stream",
     "text": [
      "100%|█████████████████████████████████████████████████████████████████████████████| 2070/2070 [00:10<00:00, 198.82it/s]\n"
     ]
    },
    {
     "name": "stdout",
     "output_type": "stream",
     "text": [
      "\n",
      " Confusion matrix: \n",
      " [[ 2275  1239]\n",
      " [ 3044 26562]]\n",
      "F1 Score: 0.9253923737523297\n",
      "Accuracy: 0.8706823671497584\n",
      "Precision: 0.8971830034452476\n",
      "Recall: 0.9554332577964821\n",
      "ROC AUC: 0.6915726168659042\n",
      "Epoch 47 | Train Loss 0.29473056499868777\n"
     ]
    },
    {
     "name": "stderr",
     "output_type": "stream",
     "text": [
      "  1%|▊                                                                              | 20/2070 [00:00<00:10, 194.11it/s]"
     ]
    },
    {
     "name": "stdout",
     "output_type": "stream",
     "text": [
      "[[0.4697957 ]\n",
      " [0.523621  ]\n",
      " [0.685673  ]\n",
      " [0.91213846]\n",
      " [0.8777359 ]\n",
      " [0.8754011 ]\n",
      " [0.98118436]\n",
      " [0.4817526 ]\n",
      " [0.70131135]\n",
      " [0.57884735]]\n",
      "[0. 1. 1. 1. 1. 1. 1. 0. 1. 1.]\n",
      "[0 0 0 0 0 1 1 0 1 1]\n",
      "\n",
      " Confusion matrix: \n",
      " [[  880   406]\n",
      " [ 1470 11443]]\n",
      "F1 Score: 0.9242387529278734\n",
      "Accuracy: 0.8678780195788436\n",
      "Precision: 0.8861612328661039\n",
      "Recall: 0.9657355051059161\n",
      "ROC AUC: 0.6701017951061496\n",
      "Epoch 47 | Test Loss 0.30438075550236143\n"
     ]
    },
    {
     "name": "stderr",
     "output_type": "stream",
     "text": [
      "100%|█████████████████████████████████████████████████████████████████████████████| 2070/2070 [00:10<00:00, 203.65it/s]\n"
     ]
    },
    {
     "name": "stdout",
     "output_type": "stream",
     "text": [
      "\n",
      " Confusion matrix: \n",
      " [[ 2217  1173]\n",
      " [ 3102 26628]]\n",
      "F1 Score: 0.9256922354904312\n",
      "Accuracy: 0.8709239130434783\n",
      "Precision: 0.8956609485368315\n",
      "Recall: 0.957807273119672\n",
      "ROC AUC: 0.6873074718672245\n",
      "Epoch 48 | Train Loss 0.29465915504123136\n"
     ]
    },
    {
     "name": "stderr",
     "output_type": "stream",
     "text": [
      "  1%|▋                                                                              | 19/2070 [00:00<00:11, 184.41it/s]"
     ]
    },
    {
     "name": "stdout",
     "output_type": "stream",
     "text": [
      "[[0.54128665]\n",
      " [0.30118856]\n",
      " [0.68809766]\n",
      " [0.7311627 ]\n",
      " [0.8739078 ]\n",
      " [0.8782574 ]\n",
      " [0.9844945 ]\n",
      " [0.8729691 ]\n",
      " [0.6841512 ]\n",
      " [0.49999475]]\n",
      "[1. 0. 1. 1. 1. 1. 1. 1. 1. 0.]\n",
      "[0 0 0 0 0 1 1 0 1 1]\n",
      "\n",
      " Confusion matrix: \n",
      " [[  959   481]\n",
      " [ 1391 11368]]\n",
      "F1 Score: 0.9239271781534459\n",
      "Accuracy: 0.8681597295584196\n",
      "Precision: 0.8909789168430128\n",
      "Recall: 0.9594058570343489\n",
      "ROC AUC: 0.6837454817086638\n",
      "Epoch 48 | Test Loss 0.30019785739011595\n"
     ]
    },
    {
     "name": "stderr",
     "output_type": "stream",
     "text": [
      "100%|█████████████████████████████████████████████████████████████████████████████| 2070/2070 [00:10<00:00, 198.76it/s]\n"
     ]
    },
    {
     "name": "stdout",
     "output_type": "stream",
     "text": [
      "\n",
      " Confusion matrix: \n",
      " [[ 2199  1224]\n",
      " [ 3118 26579]]\n",
      "F1 Score: 0.9244869565217391\n",
      "Accuracy: 0.8689009661835749\n",
      "Precision: 0.89500622958548\n",
      "Recall: 0.9559759738157753\n",
      "ROC AUC: 0.6847775298832497\n",
      "Epoch 49 | Train Loss 0.29619608220378846\n"
     ]
    },
    {
     "name": "stderr",
     "output_type": "stream",
     "text": [
      "  1%|▊                                                                              | 21/2070 [00:00<00:10, 201.88it/s]"
     ]
    },
    {
     "name": "stdout",
     "output_type": "stream",
     "text": [
      "[[0.5325929 ]\n",
      " [0.30252317]\n",
      " [0.43978214]\n",
      " [0.6933405 ]\n",
      " [0.69503003]\n",
      " [0.91746837]\n",
      " [0.9793804 ]\n",
      " [0.48495546]\n",
      " [0.6846808 ]\n",
      " [0.49246618]]\n",
      "[1. 0. 0. 1. 1. 1. 1. 0. 1. 0.]\n",
      "[0 0 0 0 0 1 1 0 1 1]\n",
      "\n",
      " Confusion matrix: \n",
      " [[ 1181   737]\n",
      " [ 1169 11112]]\n",
      "F1 Score: 0.9210111893907997\n",
      "Accuracy: 0.8657651947320234\n",
      "Precision: 0.9048123117010015\n",
      "Recall: 0.9378006582833994\n",
      "ROC AUC: 0.7201769248863805\n",
      "Epoch 49 | Test Loss 0.3045779684105435\n"
     ]
    },
    {
     "name": "stderr",
     "output_type": "stream",
     "text": [
      "100%|█████████████████████████████████████████████████████████████████████████████| 2070/2070 [00:10<00:00, 198.95it/s]\n"
     ]
    },
    {
     "name": "stdout",
     "output_type": "stream",
     "text": [
      "\n",
      " Confusion matrix: \n",
      " [[ 2250  1199]\n",
      " [ 3070 26601]]\n",
      "F1 Score: 0.9257190583076682\n",
      "Accuracy: 0.8711050724637681\n",
      "Precision: 0.8965319672407401\n",
      "Recall: 0.9568705035971223\n",
      "ROC AUC: 0.689901417212095\n",
      "Epoch 50 | Train Loss 0.29482821873276704\n"
     ]
    },
    {
     "name": "stderr",
     "output_type": "stream",
     "text": [
      "  1%|▊                                                                              | 22/2070 [00:00<00:09, 215.61it/s]"
     ]
    },
    {
     "name": "stdout",
     "output_type": "stream",
     "text": [
      "[[0.55430377]\n",
      " [0.38282645]\n",
      " [0.61210483]\n",
      " [0.717983  ]\n",
      " [0.836164  ]\n",
      " [0.8590969 ]\n",
      " [0.98550004]\n",
      " [0.43556747]\n",
      " [0.63638896]\n",
      " [0.5339126 ]]\n",
      "[1. 0. 1. 1. 1. 1. 1. 0. 1. 1.]\n",
      "[0 0 0 0 0 1 1 0 1 1]\n",
      "\n",
      " Confusion matrix: \n",
      " [[  987   521]\n",
      " [ 1363 11328]]\n",
      "F1 Score: 0.9232273838630807\n",
      "Accuracy: 0.8673145996196915\n",
      "Precision: 0.892601055866362\n",
      "Recall: 0.956030044729513\n",
      "ROC AUC: 0.6880150223647565\n",
      "Epoch 50 | Test Loss 0.29687294424385635\n"
     ]
    },
    {
     "name": "stderr",
     "output_type": "stream",
     "text": [
      "100%|█████████████████████████████████████████████████████████████████████████████| 2070/2070 [00:10<00:00, 197.30it/s]\n"
     ]
    },
    {
     "name": "stdout",
     "output_type": "stream",
     "text": [
      "\n",
      " Confusion matrix: \n",
      " [[ 2233  1208]\n",
      " [ 3084 26595]]\n",
      "F1 Score: 0.9253331477679969\n",
      "Accuracy: 0.8704106280193237\n",
      "Precision: 0.8960881431315071\n",
      "Recall: 0.9565514512822357\n",
      "ROC AUC: 0.6882625603223291\n",
      "Epoch 51 | Train Loss 0.29393645501223165\n"
     ]
    },
    {
     "name": "stderr",
     "output_type": "stream",
     "text": [
      "  1%|▊                                                                              | 21/2070 [00:00<00:09, 209.95it/s]"
     ]
    },
    {
     "name": "stdout",
     "output_type": "stream",
     "text": [
      "[[0.48086098]\n",
      " [0.30676484]\n",
      " [0.7977117 ]\n",
      " [0.8005084 ]\n",
      " [0.73274237]\n",
      " [0.9293562 ]\n",
      " [0.9841955 ]\n",
      " [0.31707895]\n",
      " [0.7700656 ]\n",
      " [0.7430706 ]]\n",
      "[0. 0. 1. 1. 1. 1. 1. 0. 1. 1.]\n",
      "[0 0 0 0 0 1 1 0 1 1]\n",
      "\n",
      " Confusion matrix: \n",
      " [[  916   454]\n",
      " [ 1434 11395]]\n",
      "F1 Score: 0.9234946105843262\n",
      "Accuracy: 0.8670328896401155\n",
      "Precision: 0.8882219970379609\n",
      "Recall: 0.9616845303401131\n",
      "ROC AUC: 0.6757358821913332\n",
      "Epoch 51 | Test Loss 0.299002325346878\n"
     ]
    },
    {
     "name": "stderr",
     "output_type": "stream",
     "text": [
      "100%|█████████████████████████████████████████████████████████████████████████████| 2070/2070 [00:10<00:00, 204.36it/s]\n"
     ]
    },
    {
     "name": "stdout",
     "output_type": "stream",
     "text": [
      "\n",
      " Confusion matrix: \n",
      " [[ 2233  1172]\n",
      " [ 3083 26632]]\n",
      "F1 Score: 0.9260244440967332\n",
      "Accuracy: 0.8715277777777778\n",
      "Precision: 0.8962476863536935\n",
      "Recall: 0.9578477916846497\n",
      "ROC AUC: 0.6889502314329945\n",
      "Epoch 52 | Train Loss 0.2937371204242758\n"
     ]
    },
    {
     "name": "stderr",
     "output_type": "stream",
     "text": [
      "  1%|▊                                                                              | 20/2070 [00:00<00:10, 192.27it/s]"
     ]
    },
    {
     "name": "stdout",
     "output_type": "stream",
     "text": [
      "[[0.5446247 ]\n",
      " [0.6297806 ]\n",
      " [0.704675  ]\n",
      " [0.8358247 ]\n",
      " [0.61312103]\n",
      " [0.929485  ]\n",
      " [0.9861855 ]\n",
      " [0.85873246]\n",
      " [0.77699345]\n",
      " [0.46986946]]\n",
      "[1. 1. 1. 1. 1. 1. 1. 1. 1. 0.]\n",
      "[0 0 0 0 0 1 1 0 1 1]\n",
      "\n",
      " Confusion matrix: \n",
      " [[  829   380]\n",
      " [ 1521 11469]]\n",
      "F1 Score: 0.9234671283062926\n",
      "Accuracy: 0.8661173322064935\n",
      "Precision: 0.8829099307159354\n",
      "Recall: 0.9679297831040594\n",
      "ROC AUC: 0.660347870275434\n",
      "Epoch 52 | Test Loss 0.304255006616717\n"
     ]
    },
    {
     "name": "stderr",
     "output_type": "stream",
     "text": [
      "100%|█████████████████████████████████████████████████████████████████████████████| 2070/2070 [00:10<00:00, 198.99it/s]\n"
     ]
    },
    {
     "name": "stdout",
     "output_type": "stream",
     "text": [
      "\n",
      " Confusion matrix: \n",
      " [[ 2259  1212]\n",
      " [ 3060 26589]]\n",
      "F1 Score: 0.925639686684073\n",
      "Accuracy: 0.8710144927536232\n",
      "Precision: 0.8967924719214814\n",
      "Recall: 0.9564044458832416\n",
      "ROC AUC: 0.6905541687961047\n",
      "Epoch 53 | Train Loss 0.2946372130084873\n"
     ]
    },
    {
     "name": "stderr",
     "output_type": "stream",
     "text": [
      "  1%|▋                                                                              | 19/2070 [00:00<00:11, 180.89it/s]"
     ]
    },
    {
     "name": "stdout",
     "output_type": "stream",
     "text": [
      "[[0.6227796 ]\n",
      " [0.5023644 ]\n",
      " [0.60705715]\n",
      " [0.79445565]\n",
      " [0.654304  ]\n",
      " [0.8198033 ]\n",
      " [0.9864131 ]\n",
      " [0.53577375]\n",
      " [0.72714335]\n",
      " [0.4850388 ]]\n",
      "[1. 1. 1. 1. 1. 1. 1. 1. 1. 0.]\n",
      "[0 0 0 0 0 1 1 0 1 1]\n",
      "\n",
      " Confusion matrix: \n",
      " [[  906   502]\n",
      " [ 1444 11347]]\n",
      "F1 Score: 0.9210227272727273\n",
      "Accuracy: 0.8629480949362631\n",
      "Precision: 0.8871081228989133\n",
      "Recall: 0.9576335555743101\n",
      "ROC AUC: 0.6715827352339636\n",
      "Epoch 53 | Test Loss 0.3028927378960558\n"
     ]
    },
    {
     "name": "stderr",
     "output_type": "stream",
     "text": [
      "100%|█████████████████████████████████████████████████████████████████████████████| 2070/2070 [00:11<00:00, 183.15it/s]\n"
     ]
    },
    {
     "name": "stdout",
     "output_type": "stream",
     "text": [
      "\n",
      " Confusion matrix: \n",
      " [[ 2237  1231]\n",
      " [ 3082 26570]]\n",
      "F1 Score: 0.9249299427358013\n",
      "Accuracy: 0.8697765700483092\n",
      "Precision: 0.8960609739646567\n",
      "Recall: 0.955721017229596\n",
      "ROC AUC: 0.6881443965636606\n",
      "Epoch 54 | Train Loss 0.2947508940950108\n"
     ]
    },
    {
     "name": "stderr",
     "output_type": "stream",
     "text": [
      "  1%|▊                                                                              | 20/2070 [00:00<00:10, 197.98it/s]"
     ]
    },
    {
     "name": "stdout",
     "output_type": "stream",
     "text": [
      "[[0.43093437]\n",
      " [0.4658803 ]\n",
      " [0.71540385]\n",
      " [0.74415874]\n",
      " [0.7742218 ]\n",
      " [0.9212921 ]\n",
      " [0.9860671 ]\n",
      " [0.38436994]\n",
      " [0.6737423 ]\n",
      " [0.6102436 ]]\n",
      "[0. 0. 1. 1. 1. 1. 1. 0. 1. 1.]\n",
      "[0 0 0 0 0 1 1 0 1 1]\n",
      "\n",
      " Confusion matrix: \n",
      " [[  924   456]\n",
      " [ 1426 11393]]\n",
      "F1 Score: 0.9237068266580184\n",
      "Accuracy: 0.8674554546094796\n",
      "Precision: 0.8887588735470786\n",
      "Recall: 0.9615157397248713\n",
      "ROC AUC: 0.6773536145432867\n",
      "Epoch 54 | Test Loss 0.29769692543122145\n"
     ]
    },
    {
     "name": "stderr",
     "output_type": "stream",
     "text": [
      "100%|█████████████████████████████████████████████████████████████████████████████| 2070/2070 [00:10<00:00, 197.86it/s]\n"
     ]
    },
    {
     "name": "stdout",
     "output_type": "stream",
     "text": [
      "\n",
      " Confusion matrix: \n",
      " [[ 2261  1167]\n",
      " [ 3059 26633]]\n",
      "F1 Score: 0.9264941209211717\n",
      "Accuracy: 0.8724033816425121\n",
      "Precision: 0.8969756163276303\n",
      "Recall: 0.958021582733813\n",
      "ROC AUC: 0.6915107913669065\n",
      "Epoch 55 | Train Loss 0.2919442765810639\n"
     ]
    },
    {
     "name": "stderr",
     "output_type": "stream",
     "text": [
      "  1%|▊                                                                              | 21/2070 [00:00<00:09, 209.95it/s]"
     ]
    },
    {
     "name": "stdout",
     "output_type": "stream",
     "text": [
      "[[0.3106733 ]\n",
      " [0.27067387]\n",
      " [0.6126786 ]\n",
      " [0.7426047 ]\n",
      " [0.574705  ]\n",
      " [0.76955986]\n",
      " [0.9899053 ]\n",
      " [0.677877  ]\n",
      " [0.5461493 ]\n",
      " [0.5633194 ]]\n",
      "[0. 0. 1. 1. 1. 1. 1. 1. 1. 1.]\n",
      "[0 0 0 0 0 1 1 0 1 1]\n",
      "\n",
      " Confusion matrix: \n",
      " [[ 1144   687]\n",
      " [ 1206 11162]]\n",
      "F1 Score: 0.9218317710699095\n",
      "Accuracy: 0.8666807521656454\n",
      "Precision: 0.902490297542044\n",
      "Recall: 0.9420204236644443\n",
      "ROC AUC: 0.7144144671513711\n",
      "Epoch 55 | Test Loss 0.29795424646890917\n"
     ]
    },
    {
     "name": "stderr",
     "output_type": "stream",
     "text": [
      "100%|█████████████████████████████████████████████████████████████████████████████| 2070/2070 [00:10<00:00, 201.36it/s]\n"
     ]
    },
    {
     "name": "stdout",
     "output_type": "stream",
     "text": [
      "\n",
      " Confusion matrix: \n",
      " [[ 2260  1232]\n",
      " [ 3060 26568]]\n",
      "F1 Score: 0.9252629379396811\n",
      "Accuracy: 0.8704106280193237\n",
      "Precision: 0.8967193195625759\n",
      "Recall: 0.9556834532374101\n",
      "ROC AUC: 0.6902477416562991\n",
      "Epoch 56 | Train Loss 0.29223015561411925\n"
     ]
    },
    {
     "name": "stderr",
     "output_type": "stream",
     "text": [
      "  1%|▊                                                                              | 20/2070 [00:00<00:10, 199.92it/s]"
     ]
    },
    {
     "name": "stdout",
     "output_type": "stream",
     "text": [
      "[[0.39599577]\n",
      " [0.34913203]\n",
      " [0.48319376]\n",
      " [0.89852214]\n",
      " [0.7916359 ]\n",
      " [0.929838  ]\n",
      " [0.9605192 ]\n",
      " [0.6694309 ]\n",
      " [0.72540504]\n",
      " [0.59824395]]\n",
      "[0. 0. 0. 1. 1. 1. 1. 1. 1. 1.]\n",
      "[0 0 0 0 0 1 1 0 1 1]\n",
      "\n",
      " Confusion matrix: \n",
      " [[ 1085   647]\n",
      " [ 1265 11202]]\n",
      "F1 Score: 0.9213686461589077\n",
      "Accuracy: 0.8653426297626593\n",
      "Precision: 0.8985321248094971\n",
      "Recall: 0.9453962359692801\n",
      "ROC AUC: 0.7035491818144273\n",
      "Epoch 56 | Test Loss 0.30082687574463923\n"
     ]
    },
    {
     "name": "stderr",
     "output_type": "stream",
     "text": [
      "100%|█████████████████████████████████████████████████████████████████████████████| 2070/2070 [00:10<00:00, 202.29it/s]\n"
     ]
    },
    {
     "name": "stdout",
     "output_type": "stream",
     "text": [
      "\n",
      " Confusion matrix: \n",
      " [[ 2198  1256]\n",
      " [ 3121 26545]]\n",
      "F1 Score: 0.9238345485235004\n",
      "Accuracy: 0.8678442028985507\n",
      "Precision: 0.8947953886604193\n",
      "Recall: 0.954821769001115\n",
      "ROC AUC: 0.6840286697985459\n",
      "Epoch 57 | Train Loss 0.2953020725822175\n"
     ]
    },
    {
     "name": "stderr",
     "output_type": "stream",
     "text": [
      "  1%|▊                                                                              | 20/2070 [00:00<00:10, 192.27it/s]"
     ]
    },
    {
     "name": "stdout",
     "output_type": "stream",
     "text": [
      "[[0.44961852]\n",
      " [0.25038272]\n",
      " [0.50022125]\n",
      " [0.91191214]\n",
      " [0.8398956 ]\n",
      " [0.8838781 ]\n",
      " [0.9801017 ]\n",
      " [0.5356107 ]\n",
      " [0.67949814]\n",
      " [0.65187126]]\n",
      "[0. 0. 1. 1. 1. 1. 1. 1. 1. 1.]\n",
      "[0 0 0 0 0 1 1 0 1 1]\n",
      "\n",
      " Confusion matrix: \n",
      " [[ 1056   613]\n",
      " [ 1294 11236]]\n",
      "F1 Score: 0.921776939168957\n",
      "Accuracy: 0.8656947672371293\n",
      "Precision: 0.8967278531524342\n",
      "Recall: 0.9482656764283905\n",
      "ROC AUC: 0.698813689278025\n",
      "Epoch 57 | Test Loss 0.30363815331512745\n"
     ]
    },
    {
     "name": "stderr",
     "output_type": "stream",
     "text": [
      "100%|█████████████████████████████████████████████████████████████████████████████| 2070/2070 [00:10<00:00, 198.75it/s]\n"
     ]
    },
    {
     "name": "stdout",
     "output_type": "stream",
     "text": [
      "\n",
      " Confusion matrix: \n",
      " [[ 2248  1207]\n",
      " [ 3072 26593]]\n",
      "F1 Score: 0.9255372835639085\n",
      "Accuracy: 0.8708031400966184\n",
      "Precision: 0.896443620428114\n",
      "Recall: 0.9565827338129497\n",
      "ROC AUC: 0.6895695623951966\n",
      "Epoch 58 | Train Loss 0.29275051717093026\n"
     ]
    },
    {
     "name": "stderr",
     "output_type": "stream",
     "text": [
      "  1%|▊                                                                              | 21/2070 [00:00<00:09, 209.95it/s]"
     ]
    },
    {
     "name": "stdout",
     "output_type": "stream",
     "text": [
      "[[0.5449339 ]\n",
      " [0.32654464]\n",
      " [0.39083254]\n",
      " [0.85527265]\n",
      " [0.8451123 ]\n",
      " [0.8636459 ]\n",
      " [0.9902166 ]\n",
      " [0.33447918]\n",
      " [0.72108203]\n",
      " [0.64428234]]\n",
      "[1. 0. 0. 1. 1. 1. 1. 0. 1. 1.]\n",
      "[0 0 0 0 0 1 1 0 1 1]\n",
      "\n",
      " Confusion matrix: \n",
      " [[ 1004   508]\n",
      " [ 1346 11341]]\n",
      "F1 Score: 0.9244375611346592\n",
      "Accuracy: 0.8694274244665118\n",
      "Precision: 0.8939071490502088\n",
      "Recall: 0.9571271837285847\n",
      "ROC AUC: 0.6921806131408881\n",
      "Epoch 58 | Test Loss 0.30056093908376524\n"
     ]
    },
    {
     "name": "stderr",
     "output_type": "stream",
     "text": [
      "100%|█████████████████████████████████████████████████████████████████████████████| 2070/2070 [00:10<00:00, 193.73it/s]\n"
     ]
    },
    {
     "name": "stdout",
     "output_type": "stream",
     "text": [
      "\n",
      " Confusion matrix: \n",
      " [[ 2323  1228]\n",
      " [ 2996 26573]]\n",
      "F1 Score: 0.9263726686421474\n",
      "Accuracy: 0.8724637681159421\n",
      "Precision: 0.8986776691805607\n",
      "Recall: 0.9558289270170138\n",
      "ROC AUC: 0.6962825778157076\n",
      "Epoch 59 | Train Loss 0.29236270706686707\n"
     ]
    },
    {
     "name": "stderr",
     "output_type": "stream",
     "text": [
      "  1%|▋                                                                              | 19/2070 [00:00<00:10, 188.08it/s]"
     ]
    },
    {
     "name": "stdout",
     "output_type": "stream",
     "text": [
      "[[0.51748997]\n",
      " [0.48442963]\n",
      " [0.60192317]\n",
      " [0.73268956]\n",
      " [0.8171164 ]\n",
      " [0.9317685 ]\n",
      " [0.9720519 ]\n",
      " [0.48277757]\n",
      " [0.5133237 ]\n",
      " [0.556068  ]]\n",
      "[1. 0. 1. 1. 1. 1. 1. 0. 1. 1.]\n",
      "[0 0 0 0 0 1 1 0 1 1]\n",
      "\n",
      " Confusion matrix: \n",
      " [[ 1037   567]\n",
      " [ 1313 11282]]\n",
      "F1 Score: 0.9230895107183766\n",
      "Accuracy: 0.8675963095992676\n",
      "Precision: 0.8957522826518459\n",
      "Recall: 0.9521478605789518\n",
      "ROC AUC: 0.6967122281618163\n",
      "Epoch 59 | Test Loss 0.2979391769648672\n"
     ]
    },
    {
     "name": "stderr",
     "output_type": "stream",
     "text": [
      "100%|█████████████████████████████████████████████████████████████████████████████| 2070/2070 [00:10<00:00, 195.86it/s]\n"
     ]
    },
    {
     "name": "stdout",
     "output_type": "stream",
     "text": [
      "\n",
      " Confusion matrix: \n",
      " [[ 2305  1254]\n",
      " [ 3015 26546]]\n",
      "F1 Score: 0.9255766112864141\n",
      "Accuracy: 0.8711050724637681\n",
      "Precision: 0.8980075098947938\n",
      "Recall: 0.9548920863309353\n",
      "ROC AUC: 0.6940813815113323\n",
      "Epoch 60 | Train Loss 0.2935569588850806\n"
     ]
    },
    {
     "name": "stderr",
     "output_type": "stream",
     "text": [
      "  1%|▊                                                                              | 20/2070 [00:00<00:10, 194.13it/s]"
     ]
    },
    {
     "name": "stdout",
     "output_type": "stream",
     "text": [
      "[[0.51013786]\n",
      " [0.26011562]\n",
      " [0.5117195 ]\n",
      " [0.7289076 ]\n",
      " [0.7605674 ]\n",
      " [0.9333361 ]\n",
      " [0.9745268 ]\n",
      " [0.6484476 ]\n",
      " [0.73698026]\n",
      " [0.5224149 ]]\n",
      "[1. 0. 1. 1. 1. 1. 1. 1. 1. 1.]\n",
      "[0 0 0 0 0 1 1 0 1 1]\n",
      "\n",
      " Confusion matrix: \n",
      " [[ 1078   599]\n",
      " [ 1272 11250]]\n",
      "F1 Score: 0.9232284272290838\n",
      "Accuracy: 0.8682301570533136\n",
      "Precision: 0.898418782942022\n",
      "Recall: 0.9494472107350831\n",
      "ROC AUC: 0.7040853074952012\n",
      "Epoch 60 | Test Loss 0.2984126946544862\n"
     ]
    },
    {
     "name": "stderr",
     "output_type": "stream",
     "text": [
      "100%|█████████████████████████████████████████████████████████████████████████████| 2070/2070 [00:10<00:00, 194.49it/s]\n"
     ]
    },
    {
     "name": "stdout",
     "output_type": "stream",
     "text": [
      "\n",
      " Confusion matrix: \n",
      " [[ 2348  1271]\n",
      " [ 2972 26529]]\n",
      "F1 Score: 0.9259524266592206\n",
      "Accuracy: 0.8718900966183575\n",
      "Precision: 0.8992576522829735\n",
      "Recall: 0.9542805755395684\n",
      "ROC AUC: 0.6978169794991074\n",
      "Epoch 61 | Train Loss 0.29382434942476127\n"
     ]
    },
    {
     "name": "stderr",
     "output_type": "stream",
     "text": [
      "  1%|▋                                                                              | 19/2070 [00:00<00:11, 186.23it/s]"
     ]
    },
    {
     "name": "stdout",
     "output_type": "stream",
     "text": [
      "[[0.5357796 ]\n",
      " [0.4478034 ]\n",
      " [0.6252308 ]\n",
      " [0.6508561 ]\n",
      " [0.716626  ]\n",
      " [0.85522294]\n",
      " [0.97055334]\n",
      " [0.6580886 ]\n",
      " [0.6641266 ]\n",
      " [0.66764516]]\n",
      "[1. 0. 1. 1. 1. 1. 1. 1. 1. 1.]\n",
      "[0 0 0 0 0 1 1 0 1 1]\n",
      "\n",
      " Confusion matrix: \n",
      " [[  882   403]\n",
      " [ 1468 11446]]\n",
      "F1 Score: 0.9244437265274805\n",
      "Accuracy: 0.8682301570533136\n",
      "Precision: 0.8863249186928914\n",
      "Recall: 0.9659886910287788\n",
      "ROC AUC: 0.6706539199824746\n",
      "Epoch 61 | Test Loss 0.29777508041074685\n"
     ]
    },
    {
     "name": "stderr",
     "output_type": "stream",
     "text": [
      "100%|█████████████████████████████████████████████████████████████████████████████| 2070/2070 [00:10<00:00, 193.63it/s]\n"
     ]
    },
    {
     "name": "stdout",
     "output_type": "stream",
     "text": [
      "\n",
      " Confusion matrix: \n",
      " [[ 2313  1192]\n",
      " [ 3008 26607]]\n",
      "F1 Score: 0.9268471104608632\n",
      "Accuracy: 0.8731884057971014\n",
      "Precision: 0.8984298497383083\n",
      "Recall: 0.957120759739559\n",
      "ROC AUC: 0.6959067433352935\n",
      "Epoch 62 | Train Loss 0.29089173561834913\n"
     ]
    },
    {
     "name": "stderr",
     "output_type": "stream",
     "text": [
      "  1%|▋                                                                              | 19/2070 [00:00<00:10, 189.93it/s]"
     ]
    },
    {
     "name": "stdout",
     "output_type": "stream",
     "text": [
      "[[0.5879883 ]\n",
      " [0.41497394]\n",
      " [0.66765916]\n",
      " [0.5958114 ]\n",
      " [0.8441496 ]\n",
      " [0.87223357]\n",
      " [0.98870635]\n",
      " [0.3610335 ]\n",
      " [0.6502536 ]\n",
      " [0.6547053 ]]\n",
      "[1. 0. 1. 1. 1. 1. 1. 0. 1. 1.]\n",
      "[0 0 0 0 0 1 1 0 1 1]\n",
      "\n",
      " Confusion matrix: \n",
      " [[  961   485]\n",
      " [ 1389 11364]]\n",
      "F1 Score: 0.9238273311112918\n",
      "Accuracy: 0.8680188745686316\n",
      "Precision: 0.8910844507174782\n",
      "Recall: 0.9590682758038653\n",
      "ROC AUC: 0.6840022230083156\n",
      "Epoch 62 | Test Loss 0.29827378361343265\n"
     ]
    },
    {
     "name": "stderr",
     "output_type": "stream",
     "text": [
      "100%|█████████████████████████████████████████████████████████████████████████████| 2070/2070 [00:10<00:00, 199.26it/s]\n"
     ]
    },
    {
     "name": "stdout",
     "output_type": "stream",
     "text": [
      "\n",
      " Confusion matrix: \n",
      " [[ 2350  1279]\n",
      " [ 2968 26523]]\n",
      "F1 Score: 0.9258722706089749\n",
      "Accuracy: 0.8717693236714976\n",
      "Precision: 0.8993591265131735\n",
      "Recall: 0.9539961153873822\n",
      "ROC AUC: 0.6979457824022282\n",
      "Epoch 63 | Train Loss 0.2912539446411501\n"
     ]
    },
    {
     "name": "stderr",
     "output_type": "stream",
     "text": [
      "  1%|▊                                                                              | 20/2070 [00:00<00:10, 197.97it/s]"
     ]
    },
    {
     "name": "stdout",
     "output_type": "stream",
     "text": [
      "[[0.52774316]\n",
      " [0.25758186]\n",
      " [0.41730574]\n",
      " [0.6228246 ]\n",
      " [0.8649997 ]\n",
      " [0.93456346]\n",
      " [0.9832065 ]\n",
      " [0.4343423 ]\n",
      " [0.71632445]\n",
      " [0.6675471 ]]\n",
      "[1. 0. 0. 1. 1. 1. 1. 0. 1. 1.]\n",
      "[0 0 0 0 0 1 1 0 1 1]\n",
      "\n",
      " Confusion matrix: \n",
      " [[ 1231   767]\n",
      " [ 1119 11082]]\n",
      "F1 Score: 0.9215800415800415\n",
      "Accuracy: 0.8671737446299035\n",
      "Precision: 0.9082862060486845\n",
      "Recall: 0.9352687990547726\n",
      "ROC AUC: 0.7295492931444075\n",
      "Epoch 63 | Test Loss 0.298452018483265\n"
     ]
    },
    {
     "name": "stderr",
     "output_type": "stream",
     "text": [
      "100%|█████████████████████████████████████████████████████████████████████████████| 2070/2070 [00:10<00:00, 194.83it/s]\n"
     ]
    },
    {
     "name": "stdout",
     "output_type": "stream",
     "text": [
      "\n",
      " Confusion matrix: \n",
      " [[ 2447  1373]\n",
      " [ 2873 26427]]\n",
      "F1 Score: 0.9256392294220666\n",
      "Accuracy: 0.8717995169082126\n",
      "Precision: 0.9019453924914675\n",
      "Recall: 0.9506115107913669\n",
      "ROC AUC: 0.7052869584032022\n",
      "Epoch 64 | Train Loss 0.2907042174739538\n"
     ]
    },
    {
     "name": "stderr",
     "output_type": "stream",
     "text": [
      "  1%|▊                                                                              | 21/2070 [00:00<00:09, 209.95it/s]"
     ]
    },
    {
     "name": "stdout",
     "output_type": "stream",
     "text": [
      "[[0.3909174 ]\n",
      " [0.404981  ]\n",
      " [0.59928477]\n",
      " [0.7536739 ]\n",
      " [0.8623009 ]\n",
      " [0.9454143 ]\n",
      " [0.98620147]\n",
      " [0.5977137 ]\n",
      " [0.72013205]\n",
      " [0.58928484]]\n",
      "[0. 0. 1. 1. 1. 1. 1. 1. 1. 1.]\n",
      "[0 0 0 0 0 1 1 0 1 1]\n",
      "\n",
      " Confusion matrix: \n",
      " [[ 1091   572]\n",
      " [ 1259 11277]]\n",
      "F1 Score: 0.9249128562640968\n",
      "Accuracy: 0.8710472568490739\n",
      "Precision: 0.8995692405871091\n",
      "Recall: 0.9517258840408473\n",
      "ROC AUC: 0.7079906015948918\n",
      "Epoch 64 | Test Loss 0.2953966598924216\n"
     ]
    },
    {
     "name": "stderr",
     "output_type": "stream",
     "text": [
      "100%|█████████████████████████████████████████████████████████████████████████████| 2070/2070 [00:10<00:00, 196.81it/s]\n"
     ]
    },
    {
     "name": "stdout",
     "output_type": "stream",
     "text": [
      "\n",
      " Confusion matrix: \n",
      " [[ 2420  1340]\n",
      " [ 2900 26460]]\n",
      "F1 Score: 0.9258222533240027\n",
      "Accuracy: 0.8719806763285024\n",
      "Precision: 0.9012261580381471\n",
      "Recall: 0.9517985611510792\n",
      "ROC AUC: 0.703342889598096\n",
      "Epoch 65 | Train Loss 0.28904241137566483\n"
     ]
    },
    {
     "name": "stderr",
     "output_type": "stream",
     "text": [
      "  1%|▋                                                                              | 19/2070 [00:00<00:10, 189.96it/s]"
     ]
    },
    {
     "name": "stdout",
     "output_type": "stream",
     "text": [
      "[[0.45308605]\n",
      " [0.43046334]\n",
      " [0.62206787]\n",
      " [0.7163174 ]\n",
      " [0.7399949 ]\n",
      " [0.9572329 ]\n",
      " [0.9692648 ]\n",
      " [0.70906776]\n",
      " [0.75432074]\n",
      " [0.69080895]]\n",
      "[0. 0. 1. 1. 1. 1. 1. 1. 1. 1.]\n",
      "[0 0 0 0 0 1 1 0 1 1]\n",
      "\n",
      " Confusion matrix: \n",
      " [[  949   499]\n",
      " [ 1401 11350]]\n",
      "F1 Score: 0.9227642276422765\n",
      "Accuracy: 0.8661877597013874\n",
      "Precision: 0.8901262646066975\n",
      "Recall: 0.9578867414971728\n",
      "ROC AUC: 0.6808582643656076\n",
      "Epoch 65 | Test Loss 0.2954230036015983\n"
     ]
    },
    {
     "name": "stderr",
     "output_type": "stream",
     "text": [
      "100%|█████████████████████████████████████████████████████████████████████████████| 2070/2070 [00:10<00:00, 193.56it/s]\n"
     ]
    },
    {
     "name": "stdout",
     "output_type": "stream",
     "text": [
      "\n",
      " Confusion matrix: \n",
      " [[ 2478  1349]\n",
      " [ 2839 26454]]\n",
      "F1 Score: 0.9266498528793611\n",
      "Accuracy: 0.8735507246376811\n",
      "Precision: 0.90308264773154\n",
      "Recall: 0.951480056109053\n",
      "ROC AUC: 0.7087661706161213\n",
      "Epoch 66 | Train Loss 0.2885232450251562\n"
     ]
    },
    {
     "name": "stderr",
     "output_type": "stream",
     "text": [
      "  1%|▋                                                                              | 19/2070 [00:00<00:11, 186.23it/s]"
     ]
    },
    {
     "name": "stdout",
     "output_type": "stream",
     "text": [
      "[[0.5771431 ]\n",
      " [0.5695852 ]\n",
      " [0.75474083]\n",
      " [0.576035  ]\n",
      " [0.90378714]\n",
      " [0.9508036 ]\n",
      " [0.97948587]\n",
      " [0.65830517]\n",
      " [0.65474373]\n",
      " [0.65518343]]\n",
      "[1. 1. 1. 1. 1. 1. 1. 1. 1. 1.]\n",
      "[0 0 0 0 0 1 1 0 1 1]\n",
      "\n",
      " Confusion matrix: \n",
      " [[  976   454]\n",
      " [ 1374 11395]]\n",
      "F1 Score: 0.9257453895523601\n",
      "Accuracy: 0.8712585393337559\n",
      "Precision: 0.8923956457044404\n",
      "Recall: 0.9616845303401131\n",
      "ROC AUC: 0.6885018396381417\n",
      "Epoch 66 | Test Loss 0.29444438709063575\n"
     ]
    },
    {
     "name": "stderr",
     "output_type": "stream",
     "text": [
      "100%|█████████████████████████████████████████████████████████████████████████████| 2070/2070 [00:10<00:00, 193.41it/s]\n"
     ]
    },
    {
     "name": "stdout",
     "output_type": "stream",
     "text": [
      "\n",
      " Confusion matrix: \n",
      " [[ 2367  1299]\n",
      " [ 2953 26501]]\n",
      "F1 Score: 0.9257344465015546\n",
      "Accuracy: 0.8716183574879227\n",
      "Precision: 0.8997419705303185\n",
      "Recall: 0.9532733812949641\n",
      "ROC AUC: 0.6990990966625197\n",
      "Epoch 67 | Train Loss 0.28984300258798873\n"
     ]
    },
    {
     "name": "stderr",
     "output_type": "stream",
     "text": [
      "  1%|▊                                                                              | 21/2070 [00:00<00:10, 201.88it/s]"
     ]
    },
    {
     "name": "stdout",
     "output_type": "stream",
     "text": [
      "[[0.48498282]\n",
      " [0.47928867]\n",
      " [0.45207107]\n",
      " [0.5764022 ]\n",
      " [0.9423601 ]\n",
      " [0.94660443]\n",
      " [0.98754686]\n",
      " [0.68556756]\n",
      " [0.6085549 ]\n",
      " [0.6041911 ]]\n",
      "[0. 0. 0. 1. 1. 1. 1. 1. 1. 1.]\n",
      "[0 0 0 0 0 1 1 0 1 1]\n",
      "\n",
      " Confusion matrix: \n",
      " [[  980   484]\n",
      " [ 1370 11365]]\n",
      "F1 Score: 0.9245850959973966\n",
      "Accuracy: 0.8694274244665118\n",
      "Precision: 0.8924224577934825\n",
      "Recall: 0.9591526711114862\n",
      "ROC AUC: 0.6880869738536155\n",
      "Epoch 67 | Test Loss 0.29648317671842406\n"
     ]
    },
    {
     "name": "stderr",
     "output_type": "stream",
     "text": [
      "100%|█████████████████████████████████████████████████████████████████████████████| 2070/2070 [00:10<00:00, 197.42it/s]\n"
     ]
    },
    {
     "name": "stdout",
     "output_type": "stream",
     "text": [
      "\n",
      " Confusion matrix: \n",
      " [[ 2433  1288]\n",
      " [ 2887 26512]]\n",
      "F1 Score: 0.9270092134477876\n",
      "Accuracy: 0.8739432367149759\n",
      "Precision: 0.9017993809313242\n",
      "Recall: 0.9536690647482015\n",
      "ROC AUC: 0.7054999459079353\n",
      "Epoch 68 | Train Loss 0.2874768645660097\n"
     ]
    },
    {
     "name": "stderr",
     "output_type": "stream",
     "text": [
      "  1%|▊                                                                              | 21/2070 [00:00<00:10, 201.88it/s]"
     ]
    },
    {
     "name": "stdout",
     "output_type": "stream",
     "text": [
      "[[0.61223865]\n",
      " [0.37636027]\n",
      " [0.44819885]\n",
      " [0.80494   ]\n",
      " [0.5562994 ]\n",
      " [0.94514585]\n",
      " [0.9893694 ]\n",
      " [0.7631367 ]\n",
      " [0.7939525 ]\n",
      " [0.6157503 ]]\n",
      "[1. 0. 0. 1. 1. 1. 1. 1. 1. 1.]\n",
      "[0 0 0 0 0 1 1 0 1 1]\n",
      "\n",
      " Confusion matrix: \n",
      " [[  924   470]\n",
      " [ 1426 11379]]\n",
      "F1 Score: 0.9230956437089315\n",
      "Accuracy: 0.8664694696809635\n",
      "Precision: 0.8886372510737993\n",
      "Recall: 0.9603342054181787\n",
      "ROC AUC: 0.6767628473899404\n",
      "Epoch 68 | Test Loss 0.2974557529564376\n"
     ]
    },
    {
     "name": "stderr",
     "output_type": "stream",
     "text": [
      "100%|█████████████████████████████████████████████████████████████████████████████| 2070/2070 [00:10<00:00, 197.71it/s]\n"
     ]
    },
    {
     "name": "stdout",
     "output_type": "stream",
     "text": [
      "\n",
      " Confusion matrix: \n",
      " [[ 2431  1273]\n",
      " [ 2890 26526]]\n",
      "F1 Score: 0.9272393603076118\n",
      "Accuracy: 0.8743055555555556\n",
      "Precision: 0.901754147402774\n",
      "Recall: 0.9542069858628008\n",
      "ROC AUC: 0.7055379977237327\n",
      "Epoch 69 | Train Loss 0.2888690030751165\n"
     ]
    },
    {
     "name": "stderr",
     "output_type": "stream",
     "text": [
      "  1%|▊                                                                              | 22/2070 [00:00<00:09, 215.60it/s]"
     ]
    },
    {
     "name": "stdout",
     "output_type": "stream",
     "text": [
      "[[0.47839513]\n",
      " [0.4372068 ]\n",
      " [0.47401676]\n",
      " [0.74319917]\n",
      " [0.7520872 ]\n",
      " [0.94055384]\n",
      " [0.99031   ]\n",
      " [0.7412457 ]\n",
      " [0.8013163 ]\n",
      " [0.63899344]]\n",
      "[0. 0. 0. 1. 1. 1. 1. 1. 1. 1.]\n",
      "[0 0 0 0 0 1 1 0 1 1]\n",
      "\n",
      " Confusion matrix: \n",
      " [[  958   465]\n",
      " [ 1392 11384]]\n",
      "F1 Score: 0.9245888324873096\n",
      "Accuracy: 0.8692161419818297\n",
      "Precision: 0.8910457107075767\n",
      "Recall: 0.9607561819562832\n",
      "ROC AUC: 0.6842078782121842\n",
      "Epoch 69 | Test Loss 0.29415595471053513\n"
     ]
    },
    {
     "name": "stderr",
     "output_type": "stream",
     "text": [
      "100%|█████████████████████████████████████████████████████████████████████████████| 2070/2070 [00:10<00:00, 197.59it/s]\n"
     ]
    },
    {
     "name": "stdout",
     "output_type": "stream",
     "text": [
      "\n",
      " Confusion matrix: \n",
      " [[ 2404  1299]\n",
      " [ 2916 26501]]\n",
      "F1 Score: 0.9263330828250346\n",
      "Accuracy: 0.8727355072463768\n",
      "Precision: 0.9008736444912806\n",
      "Recall: 0.9532733812949641\n",
      "ROC AUC: 0.7025765402715423\n",
      "Epoch 70 | Train Loss 0.2884832319682059\n"
     ]
    },
    {
     "name": "stderr",
     "output_type": "stream",
     "text": [
      "  1%|▊                                                                              | 20/2070 [00:00<00:10, 199.92it/s]"
     ]
    },
    {
     "name": "stdout",
     "output_type": "stream",
     "text": [
      "[[0.6348275 ]\n",
      " [0.30238762]\n",
      " [0.53252494]\n",
      " [0.7357692 ]\n",
      " [0.6926826 ]\n",
      " [0.9389446 ]\n",
      " [0.9842353 ]\n",
      " [0.70540076]\n",
      " [0.5963067 ]\n",
      " [0.66641754]]\n",
      "[1. 0. 1. 1. 1. 1. 1. 1. 1. 1.]\n",
      "[0 0 0 0 0 1 1 0 1 1]\n",
      "\n",
      " Confusion matrix: \n",
      " [[  973   513]\n",
      " [ 1377 11336]]\n",
      "F1 Score: 0.9230518687403305\n",
      "Accuracy: 0.8668920346503275\n",
      "Precision: 0.8916856760796036\n",
      "Recall: 0.9567052071904802\n",
      "ROC AUC: 0.6853738801909848\n",
      "Epoch 70 | Test Loss 0.2951314707731341\n"
     ]
    },
    {
     "name": "stderr",
     "output_type": "stream",
     "text": [
      "100%|█████████████████████████████████████████████████████████████████████████████| 2070/2070 [00:10<00:00, 193.35it/s]\n"
     ]
    },
    {
     "name": "stdout",
     "output_type": "stream",
     "text": [
      "\n",
      " Confusion matrix: \n",
      " [[ 2407  1245]\n",
      " [ 2913 26555]]\n",
      "F1 Score: 0.9273940071243977\n",
      "Accuracy: 0.8744565217391305\n",
      "Precision: 0.9011470069227637\n",
      "Recall: 0.9552158273381295\n",
      "ROC AUC: 0.703829718180343\n",
      "Epoch 71 | Train Loss 0.2869412154994077\n"
     ]
    },
    {
     "name": "stderr",
     "output_type": "stream",
     "text": [
      "  1%|▊                                                                              | 21/2070 [00:00<00:09, 209.96it/s]"
     ]
    },
    {
     "name": "stdout",
     "output_type": "stream",
     "text": [
      "[[0.5240817 ]\n",
      " [0.31069553]\n",
      " [0.59556   ]\n",
      " [0.8124457 ]\n",
      " [0.6165013 ]\n",
      " [0.94443804]\n",
      " [0.98830754]\n",
      " [0.7174359 ]\n",
      " [0.7873787 ]\n",
      " [0.66022193]]\n",
      "[1. 0. 1. 1. 1. 1. 1. 1. 1. 1.]\n",
      "[0 0 0 0 0 1 1 0 1 1]\n",
      "\n",
      " Confusion matrix: \n",
      " [[ 1015   498]\n",
      " [ 1335 11351]]\n",
      "F1 Score: 0.9252904014672917\n",
      "Accuracy: 0.8709064018592859\n",
      "Precision: 0.8947658836512691\n",
      "Recall: 0.9579711368047936\n",
      "ROC AUC: 0.6949430152109075\n",
      "Epoch 71 | Test Loss 0.29333572425283827\n"
     ]
    },
    {
     "name": "stderr",
     "output_type": "stream",
     "text": [
      "100%|█████████████████████████████████████████████████████████████████████████████| 2070/2070 [00:10<00:00, 194.89it/s]\n"
     ]
    },
    {
     "name": "stdout",
     "output_type": "stream",
     "text": [
      "\n",
      " Confusion matrix: \n",
      " [[ 2526  1321]\n",
      " [ 2793 26480]]\n",
      "F1 Score: 0.9279181413603392\n",
      "Accuracy: 0.8757850241545894\n",
      "Precision: 0.904587845454856\n",
      "Recall: 0.9524837236070645\n",
      "ROC AUC: 0.7136925104216936\n",
      "Epoch 72 | Train Loss 0.2874028044172387\n"
     ]
    },
    {
     "name": "stderr",
     "output_type": "stream",
     "text": [
      "  1%|▊                                                                              | 20/2070 [00:00<00:10, 192.24it/s]"
     ]
    },
    {
     "name": "stdout",
     "output_type": "stream",
     "text": [
      "[[0.49013928]\n",
      " [0.44307378]\n",
      " [0.5525539 ]\n",
      " [0.6963833 ]\n",
      " [0.78770834]\n",
      " [0.95883965]\n",
      " [0.9753151 ]\n",
      " [0.5352135 ]\n",
      " [0.7916183 ]\n",
      " [0.44825384]]\n",
      "[0. 0. 1. 1. 1. 1. 1. 1. 1. 0.]\n",
      "[0 0 0 0 0 1 1 0 1 1]\n",
      "\n",
      " Confusion matrix: \n",
      " [[ 1167   667]\n",
      " [ 1183 11182]]\n",
      "F1 Score: 0.923597918559511\n",
      "Accuracy: 0.8697091344460878\n",
      "Precision: 0.904326728669632\n",
      "Recall: 0.9437083298168621\n",
      "ROC AUC: 0.7201520372488567\n",
      "Epoch 72 | Test Loss 0.294383720100463\n"
     ]
    },
    {
     "name": "stderr",
     "output_type": "stream",
     "text": [
      "100%|█████████████████████████████████████████████████████████████████████████████| 2070/2070 [00:11<00:00, 186.14it/s]\n"
     ]
    },
    {
     "name": "stdout",
     "output_type": "stream",
     "text": [
      "\n",
      " Confusion matrix: \n",
      " [[ 2492  1326]\n",
      " [ 2827 26475]]\n",
      "F1 Score: 0.9272717720610125\n",
      "Accuracy: 0.8746074879227053\n",
      "Precision: 0.9035219438946147\n",
      "Recall: 0.9523038739613683\n",
      "ROC AUC: 0.7104064961083397\n",
      "Epoch 73 | Train Loss 0.28754809678212745\n"
     ]
    },
    {
     "name": "stderr",
     "output_type": "stream",
     "text": [
      "  1%|▋                                                                              | 19/2070 [00:00<00:11, 186.21it/s]"
     ]
    },
    {
     "name": "stdout",
     "output_type": "stream",
     "text": [
      "[[0.5816162 ]\n",
      " [0.44942474]\n",
      " [0.5492132 ]\n",
      " [0.82822293]\n",
      " [0.6847203 ]\n",
      " [0.94311094]\n",
      " [0.9885889 ]\n",
      " [0.84929824]\n",
      " [0.76286054]\n",
      " [0.5888719 ]]\n",
      "[1. 0. 1. 1. 1. 1. 1. 1. 1. 1.]\n",
      "[0 0 0 0 0 1 1 0 1 1]\n",
      "\n",
      " Confusion matrix: \n",
      " [[ 1030   485]\n",
      " [ 1320 11364]]\n",
      "F1 Score: 0.926425630783027\n",
      "Accuracy: 0.8728783717163181\n",
      "Precision: 0.8959318826868495\n",
      "Recall: 0.9590682758038653\n",
      "ROC AUC: 0.6986830740721455\n",
      "Epoch 73 | Test Loss 0.2906582914628424\n"
     ]
    },
    {
     "name": "stderr",
     "output_type": "stream",
     "text": [
      "100%|█████████████████████████████████████████████████████████████████████████████| 2070/2070 [00:11<00:00, 180.24it/s]\n"
     ]
    },
    {
     "name": "stdout",
     "output_type": "stream",
     "text": [
      "\n",
      " Confusion matrix: \n",
      " [[ 2489  1302]\n",
      " [ 2831 26498]]\n",
      "F1 Score: 0.9276549563269093\n",
      "Accuracy: 0.8752113526570048\n",
      "Precision: 0.903474376896587\n",
      "Recall: 0.9531654676258993\n",
      "ROC AUC: 0.7105113052415211\n",
      "Epoch 74 | Train Loss 0.2873076917693595\n"
     ]
    },
    {
     "name": "stderr",
     "output_type": "stream",
     "text": [
      "  1%|▋                                                                              | 18/2070 [00:00<00:11, 175.62it/s]"
     ]
    },
    {
     "name": "stdout",
     "output_type": "stream",
     "text": [
      "[[0.51932585]\n",
      " [0.39505556]\n",
      " [0.39395025]\n",
      " [0.77174735]\n",
      " [0.8586717 ]\n",
      " [0.9421201 ]\n",
      " [0.98598146]\n",
      " [0.57393956]\n",
      " [0.7690775 ]\n",
      " [0.5538343 ]]\n",
      "[1. 0. 0. 1. 1. 1. 1. 1. 1. 1.]\n",
      "[0 0 0 0 0 1 1 0 1 1]\n",
      "\n",
      " Confusion matrix: \n",
      " [[ 1193   614]\n",
      " [ 1157 11235]]\n",
      "F1 Score: 0.9269419578400232\n",
      "Accuracy: 0.8752729065427143\n",
      "Precision: 0.9066333118140736\n",
      "Recall: 0.9481812811207697\n",
      "ROC AUC: 0.7279204277944274\n",
      "Epoch 74 | Test Loss 0.28928334494163327\n"
     ]
    },
    {
     "name": "stderr",
     "output_type": "stream",
     "text": [
      "100%|█████████████████████████████████████████████████████████████████████████████| 2070/2070 [00:11<00:00, 185.03it/s]\n"
     ]
    },
    {
     "name": "stdout",
     "output_type": "stream",
     "text": [
      "\n",
      " Confusion matrix: \n",
      " [[ 2467  1338]\n",
      " [ 2850 26465]]\n",
      "F1 Score: 0.9266781049756644\n",
      "Accuracy: 0.8735507246376811\n",
      "Precision: 0.9027801466825857\n",
      "Recall: 0.9518756968672445\n",
      "ROC AUC: 0.7079295730903836\n",
      "Epoch 75 | Train Loss 0.28738739513814593\n"
     ]
    },
    {
     "name": "stderr",
     "output_type": "stream",
     "text": [
      "  1%|▊                                                                              | 20/2070 [00:00<00:10, 192.27it/s]"
     ]
    },
    {
     "name": "stdout",
     "output_type": "stream",
     "text": [
      "[[0.66018575]\n",
      " [0.37529087]\n",
      " [0.62529445]\n",
      " [0.7115222 ]\n",
      " [0.76408917]\n",
      " [0.9414    ]\n",
      " [0.9887257 ]\n",
      " [0.6512673 ]\n",
      " [0.825376  ]\n",
      " [0.71463716]]\n",
      "[1. 0. 1. 1. 1. 1. 1. 1. 1. 1.]\n",
      "[0 0 0 0 0 1 1 0 1 1]\n",
      "\n",
      " Confusion matrix: \n",
      " [[ 1048   480]\n",
      " [ 1302 11369]]\n",
      "F1 Score: 0.9273246329526916\n",
      "Accuracy: 0.8744982040988802\n",
      "Precision: 0.8972456791097783\n",
      "Recall: 0.9594902523419698\n",
      "ROC AUC: 0.7027238495752401\n",
      "Epoch 75 | Test Loss 0.2887318771298941\n"
     ]
    },
    {
     "name": "stderr",
     "output_type": "stream",
     "text": [
      "100%|█████████████████████████████████████████████████████████████████████████████| 2070/2070 [00:11<00:00, 179.32it/s]\n"
     ]
    },
    {
     "name": "stdout",
     "output_type": "stream",
     "text": [
      "\n",
      " Confusion matrix: \n",
      " [[ 2502  1315]\n",
      " [ 2818 26485]]\n",
      "F1 Score: 0.9276220163564086\n",
      "Accuracy: 0.8752113526570048\n",
      "Precision: 0.9038323721120705\n",
      "Recall: 0.9526978417266188\n",
      "ROC AUC: 0.711499296803159\n",
      "Epoch 76 | Train Loss 0.2849204497852763\n"
     ]
    },
    {
     "name": "stderr",
     "output_type": "stream",
     "text": [
      "  1%|▋                                                                              | 19/2070 [00:00<00:10, 189.96it/s]"
     ]
    },
    {
     "name": "stdout",
     "output_type": "stream",
     "text": [
      "[[0.5863805 ]\n",
      " [0.5545898 ]\n",
      " [0.7137154 ]\n",
      " [0.836261  ]\n",
      " [0.7057279 ]\n",
      " [0.96720773]\n",
      " [0.9869027 ]\n",
      " [0.36536595]\n",
      " [0.8509676 ]\n",
      " [0.73104215]]\n",
      "[1. 1. 1. 1. 1. 1. 1. 0. 1. 1.]\n",
      "[0 0 0 0 0 1 1 0 1 1]\n",
      "\n",
      " Confusion matrix: \n",
      " [[  960   444]\n",
      " [ 1390 11405]]\n",
      "F1 Score: 0.9255802629443272\n",
      "Accuracy: 0.8708359743643919\n",
      "Precision: 0.8913638139898398\n",
      "Recall: 0.962528483416322\n",
      "ROC AUC: 0.6855195608570972\n",
      "Epoch 76 | Test Loss 0.29617556741645745\n"
     ]
    },
    {
     "name": "stderr",
     "output_type": "stream",
     "text": [
      "100%|█████████████████████████████████████████████████████████████████████████████| 2070/2070 [00:10<00:00, 200.53it/s]\n"
     ]
    },
    {
     "name": "stdout",
     "output_type": "stream",
     "text": [
      "\n",
      " Confusion matrix: \n",
      " [[ 2524  1344]\n",
      " [ 2796 26456]]\n",
      "F1 Score: 0.9274346210474655\n",
      "Accuracy: 0.875\n",
      "Precision: 0.9044167920142212\n",
      "Recall: 0.9516546762589928\n",
      "ROC AUC: 0.7130453832422783\n",
      "Epoch 77 | Train Loss 0.28761410108061086\n"
     ]
    },
    {
     "name": "stderr",
     "output_type": "stream",
     "text": [
      "  1%|▊                                                                              | 20/2070 [00:00<00:10, 194.14it/s]"
     ]
    },
    {
     "name": "stdout",
     "output_type": "stream",
     "text": [
      "[[0.59850085]\n",
      " [0.51127535]\n",
      " [0.5990842 ]\n",
      " [0.82513195]\n",
      " [0.69781923]\n",
      " [0.9831791 ]\n",
      " [0.99073267]\n",
      " [0.6307132 ]\n",
      " [0.9321208 ]\n",
      " [0.68390495]]\n",
      "[1. 1. 1. 1. 1. 1. 1. 1. 1. 1.]\n",
      "[0 0 0 0 0 1 1 0 1 1]\n",
      "\n",
      " Confusion matrix: \n",
      " [[ 1072   564]\n",
      " [ 1278 11285]]\n",
      "F1 Score: 0.9245453055874161\n",
      "Accuracy: 0.8702725544052398\n",
      "Precision: 0.8982727055639577\n",
      "Recall: 0.9524010465018145\n",
      "ROC AUC: 0.704285629633886\n",
      "Epoch 77 | Test Loss 0.29286608167059786\n"
     ]
    },
    {
     "name": "stderr",
     "output_type": "stream",
     "text": [
      "100%|█████████████████████████████████████████████████████████████████████████████| 2070/2070 [00:10<00:00, 190.09it/s]\n"
     ]
    },
    {
     "name": "stdout",
     "output_type": "stream",
     "text": [
      "\n",
      " Confusion matrix: \n",
      " [[ 2483  1296]\n",
      " [ 2838 26503]]\n",
      "F1 Score: 0.9276513825691285\n",
      "Accuracy: 0.8751811594202898\n",
      "Precision: 0.9032752803244607\n",
      "Recall: 0.9533796179718695\n",
      "ROC AUC: 0.7100106133460174\n",
      "Epoch 78 | Train Loss 0.28687423192288564\n"
     ]
    },
    {
     "name": "stderr",
     "output_type": "stream",
     "text": [
      "  1%|▊                                                                              | 21/2070 [00:00<00:09, 207.87it/s]"
     ]
    },
    {
     "name": "stdout",
     "output_type": "stream",
     "text": [
      "[[0.6428264 ]\n",
      " [0.4220679 ]\n",
      " [0.52308196]\n",
      " [0.7296127 ]\n",
      " [0.5811763 ]\n",
      " [0.937046  ]\n",
      " [0.9875344 ]\n",
      " [0.81211704]\n",
      " [0.67993486]\n",
      " [0.72040206]]\n",
      "[1. 0. 1. 1. 1. 1. 1. 1. 1. 1.]\n",
      "[0 0 0 0 0 1 1 0 1 1]\n",
      "\n",
      " Confusion matrix: \n",
      " [[ 1038   465]\n",
      " [ 1312 11384]]\n",
      "F1 Score: 0.9276023630067224\n",
      "Accuracy: 0.8748503415733503\n",
      "Precision: 0.8966603654694392\n",
      "Recall: 0.9607561819562832\n",
      "ROC AUC: 0.7012291548079289\n",
      "Epoch 78 | Test Loss 0.2903675488657779\n"
     ]
    },
    {
     "name": "stderr",
     "output_type": "stream",
     "text": [
      "100%|█████████████████████████████████████████████████████████████████████████████| 2070/2070 [00:10<00:00, 200.09it/s]\n"
     ]
    },
    {
     "name": "stdout",
     "output_type": "stream",
     "text": [
      "\n",
      " Confusion matrix: \n",
      " [[ 2504  1275]\n",
      " [ 2816 26525]]\n",
      "F1 Score: 0.9284051731681279\n",
      "Accuracy: 0.8764794685990338\n",
      "Precision: 0.9040250843529533\n",
      "Recall: 0.954136690647482\n",
      "ROC AUC: 0.7124066911884026\n",
      "Epoch 79 | Train Loss 0.28519248955473664\n"
     ]
    },
    {
     "name": "stderr",
     "output_type": "stream",
     "text": [
      "  1%|▋                                                                              | 19/2070 [00:00<00:11, 186.23it/s]"
     ]
    },
    {
     "name": "stdout",
     "output_type": "stream",
     "text": [
      "[[0.5301145 ]\n",
      " [0.27084374]\n",
      " [0.4724492 ]\n",
      " [0.8411784 ]\n",
      " [0.5739558 ]\n",
      " [0.9648758 ]\n",
      " [0.98514026]\n",
      " [0.73581254]\n",
      " [0.79668874]\n",
      " [0.67849255]]\n",
      "[1. 0. 0. 1. 1. 1. 1. 1. 1. 1.]\n",
      "[0 0 0 0 0 1 1 0 1 1]\n",
      "\n",
      " Confusion matrix: \n",
      " [[ 1162   566]\n",
      " [ 1188 11283]]\n",
      "F1 Score: 0.9278782894736841\n",
      "Accuracy: 0.8764701739559124\n",
      "Precision: 0.9047389944671638\n",
      "Recall: 0.9522322558865727\n",
      "ROC AUC: 0.7233501704964779\n",
      "Epoch 79 | Test Loss 0.28775595215795274\n"
     ]
    },
    {
     "name": "stderr",
     "output_type": "stream",
     "text": [
      "100%|█████████████████████████████████████████████████████████████████████████████| 2070/2070 [00:11<00:00, 188.17it/s]\n"
     ]
    },
    {
     "name": "stdout",
     "output_type": "stream",
     "text": [
      "\n",
      " Confusion matrix: \n",
      " [[ 2521  1352]\n",
      " [ 2798 26449]]\n",
      "F1 Score: 0.9272542420417893\n",
      "Accuracy: 0.8746980676328503\n",
      "Precision: 0.9043320682463158\n",
      "Recall: 0.9513686558037481\n",
      "ROC AUC: 0.7126649633596669\n",
      "Epoch 80 | Train Loss 0.28637040305144834\n"
     ]
    },
    {
     "name": "stderr",
     "output_type": "stream",
     "text": [
      "  1%|▊                                                                              | 21/2070 [00:00<00:10, 203.84it/s]"
     ]
    },
    {
     "name": "stdout",
     "output_type": "stream",
     "text": [
      "[[0.5261591 ]\n",
      " [0.2784922 ]\n",
      " [0.49989972]\n",
      " [0.767575  ]\n",
      " [0.70438594]\n",
      " [0.95970654]\n",
      " [0.99309444]\n",
      " [0.5756103 ]\n",
      " [0.7473358 ]\n",
      " [0.6207855 ]]\n",
      "[1. 0. 0. 1. 1. 1. 1. 1. 1. 1.]\n",
      "[0 0 0 0 0 1 1 0 1 1]\n",
      "\n",
      " Confusion matrix: \n",
      " [[ 1130   572]\n",
      " [ 1220 11277]]\n",
      "F1 Score: 0.926394479585969\n",
      "Accuracy: 0.8737939291499401\n",
      "Precision: 0.9023765703768905\n",
      "Recall: 0.9517258840408473\n",
      "ROC AUC: 0.7162884739353174\n",
      "Epoch 80 | Test Loss 0.29025648473887833\n"
     ]
    },
    {
     "name": "stderr",
     "output_type": "stream",
     "text": [
      "100%|█████████████████████████████████████████████████████████████████████████████| 2070/2070 [00:10<00:00, 191.44it/s]\n"
     ]
    },
    {
     "name": "stdout",
     "output_type": "stream",
     "text": [
      "\n",
      " Confusion matrix: \n",
      " [[ 2580  1379]\n",
      " [ 2741 26420]]\n",
      "F1 Score: 0.9276685393258426\n",
      "Accuracy: 0.8756038647342995\n",
      "Precision: 0.9060045951784919\n",
      "Recall: 0.9503938990611173\n",
      "ROC AUC: 0.7176325819304834\n",
      "Epoch 81 | Train Loss 0.2872533189951654\n"
     ]
    },
    {
     "name": "stderr",
     "output_type": "stream",
     "text": [
      "  1%|▊                                                                              | 20/2070 [00:00<00:10, 192.29it/s]"
     ]
    },
    {
     "name": "stdout",
     "output_type": "stream",
     "text": [
      "[[0.6330717 ]\n",
      " [0.28273407]\n",
      " [0.6909222 ]\n",
      " [0.73731786]\n",
      " [0.58234215]\n",
      " [0.86125946]\n",
      " [0.98569447]\n",
      " [0.29823372]\n",
      " [0.7174779 ]\n",
      " [0.6591614 ]]\n",
      "[1. 0. 1. 1. 1. 1. 1. 0. 1. 1.]\n",
      "[0 0 0 0 0 1 1 0 1 1]\n",
      "\n",
      " Confusion matrix: \n",
      " [[ 1210   750]\n",
      " [ 1140 11099]]\n",
      "F1 Score: 0.9215376951179011\n",
      "Accuracy: 0.8668920346503275\n",
      "Precision: 0.906855135223466\n",
      "Recall: 0.9367035192843278\n",
      "ROC AUC: 0.7257985681528022\n",
      "Epoch 81 | Test Loss 0.29516278502640425\n"
     ]
    },
    {
     "name": "stderr",
     "output_type": "stream",
     "text": [
      "100%|█████████████████████████████████████████████████████████████████████████████| 2070/2070 [00:10<00:00, 193.07it/s]\n"
     ]
    },
    {
     "name": "stdout",
     "output_type": "stream",
     "text": [
      "\n",
      " Confusion matrix: \n",
      " [[ 2547  1329]\n",
      " [ 2774 26470]]\n",
      "F1 Score: 0.9280718054800764\n",
      "Accuracy: 0.8761171497584541\n",
      "Precision: 0.9051429353029681\n",
      "Recall: 0.9521925249109681\n",
      "ROC AUC: 0.715430973975875\n",
      "Epoch 82 | Train Loss 0.285053609593227\n"
     ]
    },
    {
     "name": "stderr",
     "output_type": "stream",
     "text": [
      "  1%|▊                                                                              | 20/2070 [00:00<00:10, 196.03it/s]"
     ]
    },
    {
     "name": "stdout",
     "output_type": "stream",
     "text": [
      "[[0.4911746 ]\n",
      " [0.33709112]\n",
      " [0.6212656 ]\n",
      " [0.73426706]\n",
      " [0.6126619 ]\n",
      " [0.90041417]\n",
      " [0.98552924]\n",
      " [0.86214477]\n",
      " [0.78058875]\n",
      " [0.6670033 ]]\n",
      "[0. 0. 1. 1. 1. 1. 1. 1. 1. 1.]\n",
      "[0 0 0 0 0 1 1 0 1 1]\n",
      "\n",
      " Confusion matrix: \n",
      " [[ 1049   519]\n",
      " [ 1301 11330]]\n",
      "F1 Score: 0.9256535947712419\n",
      "Accuracy: 0.871821959292908\n",
      "Precision: 0.8969994458079329\n",
      "Recall: 0.9561988353447548\n",
      "ROC AUC: 0.7012909070340796\n",
      "Epoch 82 | Test Loss 0.2904737589729799\n"
     ]
    },
    {
     "name": "stderr",
     "output_type": "stream",
     "text": [
      "100%|█████████████████████████████████████████████████████████████████████████████| 2070/2070 [00:10<00:00, 190.46it/s]\n"
     ]
    },
    {
     "name": "stdout",
     "output_type": "stream",
     "text": [
      "\n",
      " Confusion matrix: \n",
      " [[ 2495  1244]\n",
      " [ 2823 26558]]\n",
      "F1 Score: 0.9288774635818338\n",
      "Accuracy: 0.8772041062801932\n",
      "Precision: 0.9039174977025969\n",
      "Recall: 0.9552550176246313\n",
      "ROC AUC: 0.7122081782369114\n",
      "Epoch 83 | Train Loss 0.2854207100274698\n"
     ]
    },
    {
     "name": "stderr",
     "output_type": "stream",
     "text": [
      "  1%|▋                                                                              | 18/2070 [00:00<00:11, 179.96it/s]"
     ]
    },
    {
     "name": "stdout",
     "output_type": "stream",
     "text": [
      "[[0.5011346 ]\n",
      " [0.43471614]\n",
      " [0.51646817]\n",
      " [0.7491166 ]\n",
      " [0.7647487 ]\n",
      " [0.9471853 ]\n",
      " [0.9796188 ]\n",
      " [0.7772613 ]\n",
      " [0.76662785]\n",
      " [0.6959497 ]]\n",
      "[1. 0. 1. 1. 1. 1. 1. 1. 1. 1.]\n",
      "[0 0 0 0 0 1 1 0 1 1]\n",
      "\n",
      " Confusion matrix: \n",
      " [[ 1089   536]\n",
      " [ 1261 11313]]\n",
      "F1 Score: 0.926421815501781\n",
      "Accuracy: 0.8734417916754701\n",
      "Precision: 0.8997136949260378\n",
      "Recall: 0.9547641151151995\n",
      "ROC AUC: 0.7090841852171743\n",
      "Epoch 83 | Test Loss 0.2904319453749571\n"
     ]
    },
    {
     "name": "stderr",
     "output_type": "stream",
     "text": [
      "100%|█████████████████████████████████████████████████████████████████████████████| 2070/2070 [00:10<00:00, 195.77it/s]\n"
     ]
    },
    {
     "name": "stdout",
     "output_type": "stream",
     "text": [
      "\n",
      " Confusion matrix: \n",
      " [[ 2579  1312]\n",
      " [ 2741 26488]]\n",
      "F1 Score: 0.9289308948079048\n",
      "Accuracy: 0.8776268115942029\n",
      "Precision: 0.9062232714085326\n",
      "Recall: 0.9528057553956835\n",
      "ROC AUC: 0.7187900957429545\n",
      "Epoch 84 | Train Loss 0.2856607635150065\n"
     ]
    },
    {
     "name": "stderr",
     "output_type": "stream",
     "text": [
      "  1%|▊                                                                              | 20/2070 [00:00<00:10, 192.26it/s]"
     ]
    },
    {
     "name": "stdout",
     "output_type": "stream",
     "text": [
      "[[0.62605673]\n",
      " [0.2838855 ]\n",
      " [0.69072974]\n",
      " [0.67593837]\n",
      " [0.76665926]\n",
      " [0.9215254 ]\n",
      " [0.98907113]\n",
      " [0.7446887 ]\n",
      " [0.8091698 ]\n",
      " [0.8474607 ]]\n",
      "[1. 0. 1. 1. 1. 1. 1. 1. 1. 1.]\n",
      "[0 0 0 0 0 1 1 0 1 1]\n",
      "\n",
      " Confusion matrix: \n",
      " [[ 1056   510]\n",
      " [ 1294 11339]]\n",
      "F1 Score: 0.9263132097050896\n",
      "Accuracy: 0.872948799211212\n",
      "Precision: 0.8975698567244519\n",
      "Recall: 0.9569583931133429\n",
      "ROC AUC: 0.7031600476205013\n",
      "Epoch 84 | Test Loss 0.29067199052991094\n"
     ]
    },
    {
     "name": "stderr",
     "output_type": "stream",
     "text": [
      "100%|█████████████████████████████████████████████████████████████████████████████| 2070/2070 [00:10<00:00, 193.56it/s]\n"
     ]
    },
    {
     "name": "stdout",
     "output_type": "stream",
     "text": [
      "\n",
      " Confusion matrix: \n",
      " [[ 2548  1297]\n",
      " [ 2773 26502]]\n",
      "F1 Score: 0.9286890703297473\n",
      "Accuracy: 0.8771135265700483\n",
      "Precision: 0.9052775405636209\n",
      "Recall: 0.9533436454548725\n",
      "ROC AUC: 0.716100501547207\n",
      "Epoch 85 | Train Loss 0.28436555413952197\n"
     ]
    },
    {
     "name": "stderr",
     "output_type": "stream",
     "text": [
      "  1%|▋                                                                              | 19/2070 [00:00<00:10, 188.09it/s]"
     ]
    },
    {
     "name": "stdout",
     "output_type": "stream",
     "text": [
      "[[0.5003604 ]\n",
      " [0.31290793]\n",
      " [0.4819282 ]\n",
      " [0.82203215]\n",
      " [0.81755984]\n",
      " [0.9479001 ]\n",
      " [0.987568  ]\n",
      " [0.66296256]\n",
      " [0.7127994 ]\n",
      " [0.8212506 ]]\n",
      "[1. 0. 0. 1. 1. 1. 1. 1. 1. 1.]\n",
      "[0 0 0 0 0 1 1 0 1 1]\n",
      "\n",
      " Confusion matrix: \n",
      " [[ 1003   502]\n",
      " [ 1347 11347]]\n",
      "F1 Score: 0.9246628366540357\n",
      "Accuracy: 0.8697795619409817\n",
      "Precision: 0.893886875689302\n",
      "Recall: 0.9576335555743101\n",
      "ROC AUC: 0.6922210331063039\n",
      "Epoch 85 | Test Loss 0.2973943811816138\n"
     ]
    },
    {
     "name": "stderr",
     "output_type": "stream",
     "text": [
      "100%|█████████████████████████████████████████████████████████████████████████████| 2070/2070 [00:11<00:00, 187.76it/s]\n"
     ]
    },
    {
     "name": "stdout",
     "output_type": "stream",
     "text": [
      "\n",
      " Confusion matrix: \n",
      " [[ 2520  1292]\n",
      " [ 2801 26507]]\n",
      "F1 Score: 0.9283275255222653\n",
      "Accuracy: 0.8764190821256038\n",
      "Precision: 0.9044288248942268\n",
      "Recall: 0.9535235080398575\n",
      "ROC AUC: 0.7135593484570646\n",
      "Epoch 86 | Train Loss 0.2860300209319246\n"
     ]
    },
    {
     "name": "stderr",
     "output_type": "stream",
     "text": [
      "  1%|▋                                                                              | 19/2070 [00:00<00:11, 182.62it/s]"
     ]
    },
    {
     "name": "stdout",
     "output_type": "stream",
     "text": [
      "[[0.40730634]\n",
      " [0.32518265]\n",
      " [0.64323515]\n",
      " [0.83818084]\n",
      " [0.41860676]\n",
      " [0.94476587]\n",
      " [0.9880654 ]\n",
      " [0.67868   ]\n",
      " [0.69567573]\n",
      " [0.6925814 ]]\n",
      "[0. 0. 1. 1. 0. 1. 1. 1. 1. 1.]\n",
      "[0 0 0 0 0 1 1 0 1 1]\n",
      "\n",
      " Confusion matrix: \n",
      " [[ 1275   757]\n",
      " [ 1075 11092]]\n",
      "F1 Score: 0.923717521652232\n",
      "Accuracy: 0.8709768293541799\n",
      "Precision: 0.9116462562669516\n",
      "Recall: 0.9361127521309816\n",
      "ROC AUC: 0.7393329718101718\n",
      "Epoch 86 | Test Loss 0.2927843454453322\n"
     ]
    },
    {
     "name": "stderr",
     "output_type": "stream",
     "text": [
      "100%|█████████████████████████████████████████████████████████████████████████████| 2070/2070 [00:10<00:00, 189.08it/s]\n"
     ]
    },
    {
     "name": "stdout",
     "output_type": "stream",
     "text": [
      "\n",
      " Confusion matrix: \n",
      " [[ 2555  1343]\n",
      " [ 2765 26457]]\n",
      "F1 Score: 0.9279576303882712\n",
      "Accuracy: 0.8759661835748792\n",
      "Precision: 0.905379508589419\n",
      "Recall: 0.9516906474820144\n",
      "ROC AUC: 0.7159769026883755\n",
      "Epoch 87 | Train Loss 0.285074182342432\n"
     ]
    },
    {
     "name": "stderr",
     "output_type": "stream",
     "text": [
      "  1%|▊                                                                              | 20/2070 [00:00<00:10, 199.98it/s]"
     ]
    },
    {
     "name": "stdout",
     "output_type": "stream",
     "text": [
      "[[0.5451325 ]\n",
      " [0.3214523 ]\n",
      " [0.6152399 ]\n",
      " [0.74008834]\n",
      " [0.84698695]\n",
      " [0.95838284]\n",
      " [0.9875837 ]\n",
      " [0.61951786]\n",
      " [0.8674558 ]\n",
      " [0.74210465]]\n",
      "[1. 0. 1. 1. 1. 1. 1. 1. 1. 1.]\n",
      "[0 0 0 0 0 1 1 0 1 1]\n",
      "\n",
      " Confusion matrix: \n",
      " [[  987   463]\n",
      " [ 1363 11386]]\n",
      "F1 Score: 0.925766322465241\n",
      "Accuracy: 0.871399394323544\n",
      "Precision: 0.8930896540905169\n",
      "Recall: 0.960924972571525\n",
      "ROC AUC: 0.6904624862857625\n",
      "Epoch 87 | Test Loss 0.29052353791288427\n"
     ]
    },
    {
     "name": "stderr",
     "output_type": "stream",
     "text": [
      "100%|█████████████████████████████████████████████████████████████████████████████| 2070/2070 [00:10<00:00, 201.96it/s]\n"
     ]
    },
    {
     "name": "stdout",
     "output_type": "stream",
     "text": [
      "\n",
      " Confusion matrix: \n",
      " [[ 2511  1305]\n",
      " [ 2810 26494]]\n",
      "F1 Score: 0.927937236222265\n",
      "Accuracy: 0.8757548309178744\n",
      "Precision: 0.9041086541086542\n",
      "Recall: 0.9530558653188964\n",
      "ROC AUC: 0.7124798214021657\n",
      "Epoch 88 | Train Loss 0.285643965371205\n"
     ]
    },
    {
     "name": "stderr",
     "output_type": "stream",
     "text": [
      "  1%|▊                                                                              | 21/2070 [00:00<00:10, 203.84it/s]"
     ]
    },
    {
     "name": "stdout",
     "output_type": "stream",
     "text": [
      "[[0.4838021 ]\n",
      " [0.33894342]\n",
      " [0.39178768]\n",
      " [0.74903005]\n",
      " [0.6322331 ]\n",
      " [0.9541821 ]\n",
      " [0.98660755]\n",
      " [0.779403  ]\n",
      " [0.79177505]\n",
      " [0.45875683]]\n",
      "[0. 0. 0. 1. 1. 1. 1. 1. 1. 0.]\n",
      "[0 0 0 0 0 1 1 0 1 1]\n",
      "\n",
      " Confusion matrix: \n",
      " [[ 1126   548]\n",
      " [ 1224 11301]]\n",
      "F1 Score: 0.9272995815212932\n",
      "Accuracy: 0.8752024790478202\n",
      "Precision: 0.9022754491017964\n",
      "Recall: 0.9537513714237489\n",
      "ROC AUC: 0.7164501537969808\n",
      "Epoch 88 | Test Loss 0.2884919066821133\n"
     ]
    },
    {
     "name": "stderr",
     "output_type": "stream",
     "text": [
      "100%|█████████████████████████████████████████████████████████████████████████████| 2070/2070 [00:10<00:00, 202.69it/s]\n"
     ]
    },
    {
     "name": "stdout",
     "output_type": "stream",
     "text": [
      "\n",
      " Confusion matrix: \n",
      " [[ 2564  1311]\n",
      " [ 2755 26490]]\n",
      "F1 Score: 0.9287241874978087\n",
      "Accuracy: 0.8772342995169082\n",
      "Precision: 0.9057958625406052\n",
      "Recall: 0.9528434228984569\n",
      "ROC AUC: 0.7174444600861902\n",
      "Epoch 89 | Train Loss 0.2848082220640735\n"
     ]
    },
    {
     "name": "stderr",
     "output_type": "stream",
     "text": [
      "  1%|▊                                                                              | 20/2070 [00:00<00:10, 196.03it/s]"
     ]
    },
    {
     "name": "stdout",
     "output_type": "stream",
     "text": [
      "[[0.6579459 ]\n",
      " [0.31470343]\n",
      " [0.39720255]\n",
      " [0.784251  ]\n",
      " [0.72166574]\n",
      " [0.9330902 ]\n",
      " [0.9902479 ]\n",
      " [0.866038  ]\n",
      " [0.7654715 ]\n",
      " [0.6287114 ]]\n",
      "[1. 0. 0. 1. 1. 1. 1. 1. 1. 1.]\n",
      "[0 0 0 0 0 1 1 0 1 1]\n",
      "\n",
      " Confusion matrix: \n",
      " [[ 1147   583]\n",
      " [ 1203 11266]]\n",
      "F1 Score: 0.9265564602352167\n",
      "Accuracy: 0.8742164941193041\n",
      "Precision: 0.9035207314139065\n",
      "Recall: 0.9507975356570175\n",
      "ROC AUC: 0.7194413210199981\n",
      "Epoch 89 | Test Loss 0.2904979320125537\n"
     ]
    },
    {
     "name": "stderr",
     "output_type": "stream",
     "text": [
      "100%|█████████████████████████████████████████████████████████████████████████████| 2070/2070 [00:10<00:00, 200.02it/s]\n"
     ]
    },
    {
     "name": "stdout",
     "output_type": "stream",
     "text": [
      "\n",
      " Confusion matrix: \n",
      " [[ 2525  1290]\n",
      " [ 2794 26511]]\n",
      "F1 Score: 0.9284838720975028\n",
      "Accuracy: 0.8766908212560387\n",
      "Precision: 0.9046579082067906\n",
      "Recall: 0.953598791410381\n",
      "ROC AUC: 0.7141560416912781\n",
      "Epoch 90 | Train Loss 0.28575994595525345\n"
     ]
    },
    {
     "name": "stderr",
     "output_type": "stream",
     "text": [
      "  1%|▊                                                                              | 21/2070 [00:00<00:10, 201.87it/s]"
     ]
    },
    {
     "name": "stdout",
     "output_type": "stream",
     "text": [
      "[[0.54354215]\n",
      " [0.34046406]\n",
      " [0.58504206]\n",
      " [0.6401654 ]\n",
      " [0.7032555 ]\n",
      " [0.9423455 ]\n",
      " [0.9876512 ]\n",
      " [0.89038646]\n",
      " [0.8553605 ]\n",
      " [0.49568102]]\n",
      "[1. 0. 1. 1. 1. 1. 1. 1. 1. 0.]\n",
      "[0 0 0 0 0 1 1 0 1 1]\n",
      "\n",
      " Confusion matrix: \n",
      " [[ 1067   545]\n",
      " [ 1283 11304]]\n",
      "F1 Score: 0.9251923391717138\n",
      "Accuracy: 0.8712585393337559\n",
      "Precision: 0.8980694367204258\n",
      "Recall: 0.9540045573466115\n",
      "ROC AUC: 0.7040235552690504\n",
      "Epoch 90 | Test Loss 0.29085516057035943\n"
     ]
    },
    {
     "name": "stderr",
     "output_type": "stream",
     "text": [
      "100%|█████████████████████████████████████████████████████████████████████████████| 2070/2070 [00:10<00:00, 193.70it/s]\n"
     ]
    },
    {
     "name": "stdout",
     "output_type": "stream",
     "text": [
      "\n",
      " Confusion matrix: \n",
      " [[ 2556  1288]\n",
      " [ 2765 26511]]\n",
      "F1 Score: 0.928988173455979\n",
      "Accuracy: 0.8776268115942029\n",
      "Precision: 0.9055540374368083\n",
      "Recall: 0.9536673981078456\n",
      "ROC AUC: 0.717014116268732\n",
      "Epoch 91 | Train Loss 0.2844120937629022\n"
     ]
    },
    {
     "name": "stderr",
     "output_type": "stream",
     "text": [
      "  1%|▋                                                                              | 19/2070 [00:00<00:11, 180.91it/s]"
     ]
    },
    {
     "name": "stdout",
     "output_type": "stream",
     "text": [
      "[[0.32911763]\n",
      " [0.41704732]\n",
      " [0.3844798 ]\n",
      " [0.79676414]\n",
      " [0.8159411 ]\n",
      " [0.930549  ]\n",
      " [0.98794717]\n",
      " [0.71124494]\n",
      " [0.8092212 ]\n",
      " [0.6466597 ]]\n",
      "[0. 0. 0. 1. 1. 1. 1. 1. 1. 1.]\n",
      "[0 0 0 0 0 1 1 0 1 1]\n",
      "\n",
      " Confusion matrix: \n",
      " [[ 1243   666]\n",
      " [ 1107 11183]]\n",
      "F1 Score: 0.9265503956253366\n",
      "Accuracy: 0.8751320515529263\n",
      "Precision: 0.909926769731489\n",
      "Recall: 0.9437927251244831\n",
      "ROC AUC: 0.7363644476686244\n",
      "Epoch 91 | Test Loss 0.28790256683085413\n"
     ]
    },
    {
     "name": "stderr",
     "output_type": "stream",
     "text": [
      "100%|█████████████████████████████████████████████████████████████████████████████| 2070/2070 [00:10<00:00, 189.28it/s]\n"
     ]
    },
    {
     "name": "stdout",
     "output_type": "stream",
     "text": [
      "\n",
      " Confusion matrix: \n",
      " [[ 2598  1309]\n",
      " [ 2721 26492]]\n",
      "F1 Score: 0.929315606693093\n",
      "Accuracy: 0.8783212560386473\n",
      "Precision: 0.9068565364734879\n",
      "Recall: 0.9529153627567354\n",
      "ROC AUC: 0.7206765195058353\n",
      "Epoch 92 | Train Loss 0.2836672489913765\n"
     ]
    },
    {
     "name": "stderr",
     "output_type": "stream",
     "text": [
      "  1%|▋                                                                              | 18/2070 [00:00<00:11, 179.96it/s]"
     ]
    },
    {
     "name": "stdout",
     "output_type": "stream",
     "text": [
      "[[0.59203875]\n",
      " [0.36965585]\n",
      " [0.4322662 ]\n",
      " [0.7826662 ]\n",
      " [0.57670987]\n",
      " [0.93741864]\n",
      " [0.9836039 ]\n",
      " [0.89172834]\n",
      " [0.7417943 ]\n",
      " [0.4897835 ]]\n",
      "[1. 0. 0. 1. 1. 1. 1. 1. 1. 0.]\n",
      "[0 0 0 0 0 1 1 0 1 1]\n",
      "\n",
      " Confusion matrix: \n",
      " [[ 1164   586]\n",
      " [ 1186 11263]]\n",
      "F1 Score: 0.9270721870112767\n",
      "Accuracy: 0.8752024790478202\n",
      "Precision: 0.9047313037191742\n",
      "Recall: 0.9505443497341548\n",
      "ROC AUC: 0.7229317493351626\n",
      "Epoch 92 | Test Loss 0.2896960469650793\n"
     ]
    },
    {
     "name": "stderr",
     "output_type": "stream",
     "text": [
      "100%|█████████████████████████████████████████████████████████████████████████████| 2070/2070 [00:10<00:00, 195.70it/s]\n"
     ]
    },
    {
     "name": "stdout",
     "output_type": "stream",
     "text": [
      "\n",
      " Confusion matrix: \n",
      " [[ 2574  1289]\n",
      " [ 2745 26512]]\n",
      "F1 Score: 0.9293000105156156\n",
      "Accuracy: 0.8782004830917874\n",
      "Precision: 0.9061762996889633\n",
      "Recall: 0.9536347613395202\n",
      "ROC AUC: 0.7187801556274589\n",
      "Epoch 93 | Train Loss 0.28381878514706654\n"
     ]
    },
    {
     "name": "stderr",
     "output_type": "stream",
     "text": [
      "  1%|▋                                                                              | 19/2070 [00:00<00:10, 189.99it/s]"
     ]
    },
    {
     "name": "stdout",
     "output_type": "stream",
     "text": [
      "[[0.5961362 ]\n",
      " [0.3127422 ]\n",
      " [0.63043636]\n",
      " [0.8048216 ]\n",
      " [0.910536  ]\n",
      " [0.9272092 ]\n",
      " [0.98939776]\n",
      " [0.5639159 ]\n",
      " [0.85086936]\n",
      " [0.73017395]]\n",
      "[1. 0. 1. 1. 1. 1. 1. 1. 1. 1.]\n",
      "[0 0 0 0 0 1 1 0 1 1]\n",
      "\n",
      " Confusion matrix: \n",
      " [[ 1043   492]\n",
      " [ 1307 11357]]\n",
      "F1 Score: 0.9266103700077509\n",
      "Accuracy: 0.8733009366856821\n",
      "Precision: 0.89679406190777\n",
      "Recall: 0.9584775086505191\n",
      "ROC AUC: 0.7011536479422809\n",
      "Epoch 93 | Test Loss 0.29115950128248147\n"
     ]
    },
    {
     "name": "stderr",
     "output_type": "stream",
     "text": [
      "100%|█████████████████████████████████████████████████████████████████████████████| 2070/2070 [00:10<00:00, 192.68it/s]\n"
     ]
    },
    {
     "name": "stdout",
     "output_type": "stream",
     "text": [
      "\n",
      " Confusion matrix: \n",
      " [[ 2471  1265]\n",
      " [ 2847 26537]]\n",
      "F1 Score: 0.9280942888119469\n",
      "Accuracy: 0.8758454106280193\n",
      "Precision: 0.9031105363463109\n",
      "Recall: 0.9544996762822818\n",
      "ROC AUC: 0.709574020164458\n",
      "Epoch 94 | Train Loss 0.28468398857087907\n"
     ]
    },
    {
     "name": "stderr",
     "output_type": "stream",
     "text": [
      "  1%|▊                                                                              | 20/2070 [00:00<00:10, 190.45it/s]"
     ]
    },
    {
     "name": "stdout",
     "output_type": "stream",
     "text": [
      "[[0.58629656]\n",
      " [0.42029053]\n",
      " [0.5449446 ]\n",
      " [0.75813234]\n",
      " [0.81343055]\n",
      " [0.9239169 ]\n",
      " [0.97428346]\n",
      " [0.48650336]\n",
      " [0.8090165 ]\n",
      " [0.5622113 ]]\n",
      "[1. 0. 1. 1. 1. 1. 1. 0. 1. 1.]\n",
      "[0 0 0 0 0 1 1 0 1 1]\n",
      "\n",
      " Confusion matrix: \n",
      " [[ 1042   474]\n",
      " [ 1308 11375]]\n",
      "F1 Score: 0.9273601826186205\n",
      "Accuracy: 0.8744982040988802\n",
      "Precision: 0.8968698257510053\n",
      "Recall: 0.9599966241876952\n",
      "ROC AUC: 0.7017004397534221\n",
      "Epoch 94 | Test Loss 0.2891519923467894\n"
     ]
    },
    {
     "name": "stderr",
     "output_type": "stream",
     "text": [
      "100%|█████████████████████████████████████████████████████████████████████████████| 2070/2070 [00:10<00:00, 194.69it/s]\n"
     ]
    },
    {
     "name": "stdout",
     "output_type": "stream",
     "text": [
      "\n",
      " Confusion matrix: \n",
      " [[ 2579  1326]\n",
      " [ 2739 26476]]\n",
      "F1 Score: 0.9287054738060577\n",
      "Accuracy: 0.8772644927536232\n",
      "Precision: 0.9062467910320041\n",
      "Recall: 0.9523055895259334\n",
      "ROC AUC: 0.7186311700920378\n",
      "Epoch 95 | Train Loss 0.28430099337933146\n"
     ]
    },
    {
     "name": "stderr",
     "output_type": "stream",
     "text": [
      "  1%|▊                                                                              | 20/2070 [00:00<00:10, 190.45it/s]"
     ]
    },
    {
     "name": "stdout",
     "output_type": "stream",
     "text": [
      "[[0.47473192]\n",
      " [0.30521402]\n",
      " [0.32563215]\n",
      " [0.5434797 ]\n",
      " [0.65539175]\n",
      " [0.9552797 ]\n",
      " [0.9820117 ]\n",
      " [0.7606565 ]\n",
      " [0.61823267]\n",
      " [0.516627  ]]\n",
      "[0. 0. 0. 1. 1. 1. 1. 1. 1. 1.]\n",
      "[0 0 0 0 0 1 1 0 1 1]\n",
      "\n",
      " Confusion matrix: \n",
      " [[ 1270   766]\n",
      " [ 1080 11083]]\n",
      "F1 Score: 0.9231217724471098\n",
      "Accuracy: 0.8699908444256638\n",
      "Precision: 0.9112061169119461\n",
      "Recall: 0.9353531943623935\n",
      "ROC AUC: 0.7378893631386435\n",
      "Epoch 95 | Test Loss 0.29359046188560695\n"
     ]
    },
    {
     "name": "stderr",
     "output_type": "stream",
     "text": [
      "100%|█████████████████████████████████████████████████████████████████████████████| 2070/2070 [00:10<00:00, 196.39it/s]\n"
     ]
    },
    {
     "name": "stdout",
     "output_type": "stream",
     "text": [
      "\n",
      " Confusion matrix: \n",
      " [[ 2610  1327]\n",
      " [ 2711 26472]]\n",
      "F1 Score: 0.9291355164788881\n",
      "Accuracy: 0.8780797101449276\n",
      "Precision: 0.9071034506390707\n",
      "Recall: 0.952264469944962\n",
      "ROC AUC: 0.7213868863538003\n",
      "Epoch 96 | Train Loss 0.2850008175226945\n"
     ]
    },
    {
     "name": "stderr",
     "output_type": "stream",
     "text": [
      "  1%|▊                                                                              | 20/2070 [00:00<00:10, 194.13it/s]"
     ]
    },
    {
     "name": "stdout",
     "output_type": "stream",
     "text": [
      "[[0.41899678]\n",
      " [0.49963418]\n",
      " [0.64083153]\n",
      " [0.79176885]\n",
      " [0.70129883]\n",
      " [0.91548544]\n",
      " [0.9830929 ]\n",
      " [0.8952003 ]\n",
      " [0.7426017 ]\n",
      " [0.6449117 ]]\n",
      "[0. 0. 1. 1. 1. 1. 1. 1. 1. 1.]\n",
      "[0 0 0 0 0 1 1 0 1 1]\n",
      "\n",
      " Confusion matrix: \n",
      " [[ 1045   487]\n",
      " [ 1305 11362]]\n",
      "F1 Score: 0.9269048784467288\n",
      "Accuracy: 0.8737939291499401\n",
      "Precision: 0.8969763953580169\n",
      "Recall: 0.9588994851886236\n",
      "ROC AUC: 0.7017901681262267\n",
      "Epoch 96 | Test Loss 0.2910645806843096\n"
     ]
    },
    {
     "name": "stderr",
     "output_type": "stream",
     "text": [
      "100%|█████████████████████████████████████████████████████████████████████████████| 2070/2070 [00:10<00:00, 200.45it/s]\n"
     ]
    },
    {
     "name": "stdout",
     "output_type": "stream",
     "text": [
      "\n",
      " Confusion matrix: \n",
      " [[ 2560  1322]\n",
      " [ 2761 26477]]\n",
      "F1 Score: 0.9284148885810966\n",
      "Accuracy: 0.8767210144927536\n",
      "Precision: 0.9055680963130173\n",
      "Recall: 0.9524443325299471\n",
      "ROC AUC: 0.716778452677302\n",
      "Epoch 97 | Train Loss 0.28462648912364447\n"
     ]
    },
    {
     "name": "stderr",
     "output_type": "stream",
     "text": [
      "  1%|▊                                                                              | 21/2070 [00:00<00:09, 209.96it/s]"
     ]
    },
    {
     "name": "stdout",
     "output_type": "stream",
     "text": [
      "[[0.47383833]\n",
      " [0.2953085 ]\n",
      " [0.5705247 ]\n",
      " [0.74327236]\n",
      " [0.8419808 ]\n",
      " [0.95392936]\n",
      " [0.99000907]\n",
      " [0.7607611 ]\n",
      " [0.8726734 ]\n",
      " [0.5859004 ]]\n",
      "[0. 0. 1. 1. 1. 1. 1. 1. 1. 1.]\n",
      "[0 0 0 0 0 1 1 0 1 1]\n",
      "\n",
      " Confusion matrix: \n",
      " [[ 1157   590]\n",
      " [ 1193 11259]]\n",
      "F1 Score: 0.9266285338051933\n",
      "Accuracy: 0.8744277766039862\n",
      "Precision: 0.9041920976549952\n",
      "Recall: 0.9502067685036713\n",
      "ROC AUC: 0.721273597017793\n",
      "Epoch 97 | Test Loss 0.29287054752175873\n"
     ]
    },
    {
     "name": "stderr",
     "output_type": "stream",
     "text": [
      "100%|█████████████████████████████████████████████████████████████████████████████| 2070/2070 [00:10<00:00, 203.24it/s]\n"
     ]
    },
    {
     "name": "stdout",
     "output_type": "stream",
     "text": [
      "\n",
      " Confusion matrix: \n",
      " [[ 2580  1313]\n",
      " [ 2740 26487]]\n",
      "F1 Score: 0.9289284023357358\n",
      "Accuracy: 0.8776268115942029\n",
      "Precision: 0.9062510692168201\n",
      "Recall: 0.9527697841726619\n",
      "ROC AUC: 0.7188660950938497\n",
      "Epoch 98 | Train Loss 0.2844733181162085\n"
     ]
    },
    {
     "name": "stderr",
     "output_type": "stream",
     "text": [
      "  1%|▊                                                                              | 20/2070 [00:00<00:10, 199.96it/s]"
     ]
    },
    {
     "name": "stdout",
     "output_type": "stream",
     "text": [
      "[[0.5167347 ]\n",
      " [0.38602948]\n",
      " [0.53665376]\n",
      " [0.8524716 ]\n",
      " [0.36598617]\n",
      " [0.935753  ]\n",
      " [0.9841494 ]\n",
      " [0.846656  ]\n",
      " [0.649339  ]\n",
      " [0.50903505]]\n",
      "[1. 0. 1. 1. 0. 1. 1. 1. 1. 1.]\n",
      "[0 0 0 0 0 1 1 0 1 1]\n",
      "\n",
      " Confusion matrix: \n",
      " [[ 1171   556]\n",
      " [ 1179 11293]]\n",
      "F1 Score: 0.9286624727601661\n",
      "Accuracy: 0.8778082963588986\n",
      "Precision: 0.9054682488774856\n",
      "Recall: 0.9530762089627817\n",
      "ROC AUC: 0.7256870406516036\n",
      "Epoch 98 | Test Loss 0.28785719776207264\n"
     ]
    },
    {
     "name": "stderr",
     "output_type": "stream",
     "text": [
      "100%|█████████████████████████████████████████████████████████████████████████████| 2070/2070 [00:10<00:00, 199.82it/s]\n"
     ]
    },
    {
     "name": "stdout",
     "output_type": "stream",
     "text": [
      "\n",
      " Confusion matrix: \n",
      " [[ 2563  1293]\n",
      " [ 2756 26508]]\n",
      "F1 Score: 0.9290458249364759\n",
      "Accuracy: 0.8777475845410628\n",
      "Precision: 0.9058228540185894\n",
      "Recall: 0.9534908816229632\n",
      "ROC AUC: 0.7176741868163697\n",
      "Epoch 99 | Train Loss 0.2829068586068309\n",
      "[[0.62658125]\n",
      " [0.28295633]\n",
      " [0.5826516 ]\n",
      " [0.78812855]\n",
      " [0.6174335 ]\n",
      " [0.85779625]\n",
      " [0.9887284 ]\n",
      " [0.42268354]\n",
      " [0.7366571 ]\n",
      " [0.5466731 ]]\n",
      "[1. 0. 1. 1. 1. 1. 1. 0. 1. 1.]\n",
      "[0 0 0 0 0 1 1 0 1 1]\n",
      "\n",
      " Confusion matrix: \n",
      " [[ 1134   640]\n",
      " [ 1216 11209]]\n",
      "F1 Score: 0.9235395896844361\n",
      "Accuracy: 0.8692865694767237\n",
      "Precision: 0.9021327967806841\n",
      "Recall: 0.9459870031226264\n",
      "ROC AUC: 0.714270097305994\n",
      "Epoch 99 | Test Loss 0.29194385148920454\n"
     ]
    }
   ],
   "source": [
    "train_risk_loss = {}\n",
    "test_risk_loss = {}\n",
    "for epoch in range(100): \n",
    "\n",
    "    model_risk.train()\n",
    "    loss = train_one_epoch(epoch, model_risk, train_loader, optimizer, loss_fn)\n",
    "    print(f\"Epoch {epoch} | Train Loss {loss}\")\n",
    "    train_risk_loss[epoch] = loss\n",
    "\n",
    "\n",
    "    # Testing\n",
    "    model_risk.eval()\n",
    "    t_loss = test(epoch, model_risk, test_loader, loss_fn)\n",
    "    print(f\"Epoch {epoch} | Test Loss {t_loss}\")\n",
    "    test_risk_loss[epoch] = t_loss"
   ]
  },
  {
   "cell_type": "markdown",
   "id": "fbb6a66c",
   "metadata": {},
   "source": [
    "#### Plot performances over epoch"
   ]
  },
  {
   "cell_type": "code",
   "execution_count": 460,
   "id": "8f227c11",
   "metadata": {
    "ExecuteTime": {
     "end_time": "2022-08-13T01:15:41.726756Z",
     "start_time": "2022-08-13T01:15:41.589552Z"
    },
    "scrolled": true
   },
   "outputs": [
    {
     "data": {
      "image/png": "[encoded data removed]",
      "text/plain": [
       "<Figure size 432x288 with 1 Axes>"
      ]
     },
     "metadata": {
      "needs_background": "light"
     },
     "output_type": "display_data"
    }
   ],
   "source": [
    "\n",
    "y_train = train_risk_loss.values()\n",
    "x_train = train_risk_loss.keys()\n",
    "\n",
    "y_loss = test_risk_loss.values()\n",
    "x_loss = test_risk_loss.keys()\n",
    "import matplotlib.pyplot as plt\n",
    "\n",
    "plt.plot(x_train, y_train, label = \"train_loss\")\n",
    "plt.plot(x_loss, y_loss, label = \"test_loss\")\n",
    "plt.title('Risk GNN Loss')\n",
    "plt.xlabel('Epoch')\n",
    "plt.ylabel('Loss')\n",
    "plt.legend()\n",
    "plt.show()"
   ]
  },
  {
   "cell_type": "markdown",
   "id": "bd75c8eb",
   "metadata": {},
   "source": [
    "#### Reward model"
   ]
  },
  {
   "cell_type": "code",
   "execution_count": 457,
   "id": "a522018e",
   "metadata": {
    "ExecuteTime": {
     "end_time": "2022-08-13T00:50:03.792159Z",
     "start_time": "2022-08-13T00:50:03.778518Z"
    }
   },
   "outputs": [],
   "source": [
    "loss_fn = torch.nn.BCEWithLogitsLoss()\n",
    "optimizer = torch.optim.Adam(model_reward.parameters(), lr=0.0001)"
   ]
  },
  {
   "cell_type": "code",
   "execution_count": 458,
   "id": "5577e1a4",
   "metadata": {
    "ExecuteTime": {
     "end_time": "2022-08-13T01:11:39.952040Z",
     "start_time": "2022-08-13T00:50:05.462547Z"
    }
   },
   "outputs": [
    {
     "name": "stderr",
     "output_type": "stream",
     "text": [
      "100%|█████████████████████████████████████████████████████████████████████████████| 2070/2070 [00:10<00:00, 202.39it/s]\n"
     ]
    },
    {
     "name": "stdout",
     "output_type": "stream",
     "text": [
      "\n",
      " Confusion matrix: \n",
      " [[12736  1743]\n",
      " [16622  2019]]\n",
      "F1 Score: 0.18024371735928224\n",
      "Accuracy: 0.4455012077294686\n",
      "Precision: 0.10830964004077034\n",
      "Recall: 0.5366826156299841\n",
      "ROC AUC: 0.48524981656899435\n",
      "Epoch 0 | Train Loss 0.7190422477929489\n"
     ]
    },
    {
     "name": "stderr",
     "output_type": "stream",
     "text": [
      "  1%|▊                                                                              | 21/2070 [00:00<00:09, 209.95it/s]"
     ]
    },
    {
     "name": "stdout",
     "output_type": "stream",
     "text": [
      "[[0.59748447]\n",
      " [0.5051325 ]\n",
      " [0.43618795]\n",
      " [0.5912109 ]\n",
      " [0.5283939 ]\n",
      " [0.45181233]\n",
      " [0.55512255]\n",
      " [0.44545704]\n",
      " [0.44409776]\n",
      " [0.45196977]]\n",
      "[1. 1. 0. 1. 1. 0. 1. 0. 0. 0.]\n",
      "[0 0 0 0 0 1 0 0 0 0]\n",
      "\n",
      " Confusion matrix: \n",
      " [[5757  757]\n",
      " [6897  788]]\n",
      "F1 Score: 0.17074756229685809\n",
      "Accuracy: 0.4609479540812733\n",
      "Precision: 0.10253741054001302\n",
      "Recall: 0.510032362459547\n",
      "ROC AUC: 0.482493658707251\n",
      "Epoch 0 | Test Loss 0.7136873119586223\n"
     ]
    },
    {
     "name": "stderr",
     "output_type": "stream",
     "text": [
      "100%|█████████████████████████████████████████████████████████████████████████████| 2070/2070 [00:10<00:00, 202.02it/s]\n"
     ]
    },
    {
     "name": "stdout",
     "output_type": "stream",
     "text": [
      "\n",
      " Confusion matrix: \n",
      " [[13823  1887]\n",
      " [15534  1876]]\n",
      "F1 Score: 0.17720682000661217\n",
      "Accuracy: 0.4740036231884058\n",
      "Precision: 0.10775416427340609\n",
      "Recall: 0.4985384002125963\n",
      "ROC AUC: 0.4846985695922811\n",
      "Epoch 1 | Train Loss 0.7091918790110068\n"
     ]
    },
    {
     "name": "stderr",
     "output_type": "stream",
     "text": [
      "  1%|▊                                                                              | 20/2070 [00:00<00:10, 199.96it/s]"
     ]
    },
    {
     "name": "stdout",
     "output_type": "stream",
     "text": [
      "[[0.5882804 ]\n",
      " [0.49933004]\n",
      " [0.43138486]\n",
      " [0.5815724 ]\n",
      " [0.52148354]\n",
      " [0.44547   ]\n",
      " [0.55113804]\n",
      " [0.44014707]\n",
      " [0.43975314]\n",
      " [0.44743147]]\n",
      "[1. 0. 0. 1. 1. 0. 1. 0. 0. 0.]\n",
      "[0 0 0 0 0 1 0 0 0 0]\n",
      "\n",
      " Confusion matrix: \n",
      " [[6204  809]\n",
      " [6450  736]]\n",
      "F1 Score: 0.1685946626961402\n",
      "Accuracy: 0.48876681456440596\n",
      "Precision: 0.1024213748956304\n",
      "Recall: 0.47637540453074434\n",
      "ROC AUC: 0.4833275789841963\n",
      "Epoch 1 | Test Loss 0.7039391358156462\n"
     ]
    },
    {
     "name": "stderr",
     "output_type": "stream",
     "text": [
      "100%|█████████████████████████████████████████████████████████████████████████████| 2070/2070 [00:10<00:00, 198.42it/s]\n"
     ]
    },
    {
     "name": "stdout",
     "output_type": "stream",
     "text": [
      "\n",
      " Confusion matrix: \n",
      " [[14854  2028]\n",
      " [14502  1736]]\n",
      "F1 Score: 0.1735826417358264\n",
      "Accuracy: 0.5009057971014492\n",
      "Precision: 0.1069097179455598\n",
      "Recall: 0.461211477151966\n",
      "ROC AUC: 0.483603422184104\n",
      "Epoch 2 | Train Loss 0.6997414426239217\n"
     ]
    },
    {
     "name": "stderr",
     "output_type": "stream",
     "text": [
      "  1%|▊                                                                              | 20/2070 [00:00<00:10, 190.43it/s]"
     ]
    },
    {
     "name": "stdout",
     "output_type": "stream",
     "text": [
      "[[0.5775356 ]\n",
      " [0.49329668]\n",
      " [0.42695066]\n",
      " [0.5723555 ]\n",
      " [0.5141074 ]\n",
      " [0.43908498]\n",
      " [0.5475244 ]\n",
      " [0.43529743]\n",
      " [0.43544185]\n",
      " [0.44295967]]\n",
      "[1. 0. 0. 1. 1. 0. 1. 0. 0. 0.]\n",
      "[0 0 0 0 0 1 0 0 0 0]\n",
      "\n",
      " Confusion matrix: \n",
      " [[6623  863]\n",
      " [6031  682]]\n",
      "F1 Score: 0.1651731654153548\n",
      "Accuracy: 0.5144728502007183\n",
      "Precision: 0.10159392224042901\n",
      "Recall: 0.4414239482200647\n",
      "ROC AUC: 0.48240788054278083\n",
      "Epoch 2 | Test Loss 0.6945698261260986\n"
     ]
    },
    {
     "name": "stderr",
     "output_type": "stream",
     "text": [
      "100%|█████████████████████████████████████████████████████████████████████████████| 2070/2070 [00:10<00:00, 204.79it/s]\n"
     ]
    },
    {
     "name": "stdout",
     "output_type": "stream",
     "text": [
      "\n",
      " Confusion matrix: \n",
      " [[15841  2154]\n",
      " [13516  1609]]\n",
      "F1 Score: 0.17037272342227872\n",
      "Accuracy: 0.5268719806763285\n",
      "Precision: 0.1063801652892562\n",
      "Recall: 0.4275843741695456\n",
      "ROC AUC: 0.4835915535050474\n",
      "Epoch 3 | Train Loss 0.6906361561754476\n"
     ]
    },
    {
     "name": "stderr",
     "output_type": "stream",
     "text": [
      "  1%|▊                                                                              | 21/2070 [00:00<00:10, 201.88it/s]"
     ]
    },
    {
     "name": "stdout",
     "output_type": "stream",
     "text": [
      "[[0.5661612 ]\n",
      " [0.48779315]\n",
      " [0.4228846 ]\n",
      " [0.5640432 ]\n",
      " [0.5065023 ]\n",
      " [0.43317497]\n",
      " [0.54391664]\n",
      " [0.43104228]\n",
      " [0.43109447]\n",
      " [0.4385592 ]]\n",
      "[1. 0. 0. 1. 1. 0. 1. 0. 0. 0.]\n",
      "[0 0 0 0 0 1 0 0 0 0]\n",
      "\n",
      " Confusion matrix: \n",
      " [[7046  919]\n",
      " [5608  626]]\n",
      "F1 Score: 0.1609461370356087\n",
      "Accuracy: 0.5403197408268188\n",
      "Precision: 0.10041706769329484\n",
      "Recall: 0.4051779935275081\n",
      "ROC AUC: 0.48099898570005883\n",
      "Epoch 3 | Test Loss 0.6855377015229818\n"
     ]
    },
    {
     "name": "stderr",
     "output_type": "stream",
     "text": [
      "100%|█████████████████████████████████████████████████████████████████████████████| 2070/2070 [00:10<00:00, 191.65it/s]\n"
     ]
    },
    {
     "name": "stdout",
     "output_type": "stream",
     "text": [
      "\n",
      " Confusion matrix: \n",
      " [[16768  2267]\n",
      " [12588  1497]]\n",
      "F1 Score: 0.16774048966328645\n",
      "Accuracy: 0.5514794685990339\n",
      "Precision: 0.10628328008519702\n",
      "Recall: 0.3977151965993624\n",
      "ROC AUC: 0.48445509114611807\n",
      "Epoch 4 | Train Loss 0.6818444016762978\n"
     ]
    },
    {
     "name": "stderr",
     "output_type": "stream",
     "text": [
      "  1%|▋                                                                              | 18/2070 [00:00<00:11, 174.72it/s]"
     ]
    },
    {
     "name": "stdout",
     "output_type": "stream",
     "text": [
      "[[0.55564374]\n",
      " [0.48255885]\n",
      " [0.41908514]\n",
      " [0.5562515 ]\n",
      " [0.4990567 ]\n",
      " [0.42821568]\n",
      " [0.5402236 ]\n",
      " [0.42701617]\n",
      " [0.426978  ]\n",
      " [0.43450826]]\n",
      "[1. 0. 0. 1. 0. 0. 1. 0. 0. 0.]\n",
      "[0 0 0 0 0 1 0 0 0 0]\n",
      "\n",
      " Confusion matrix: \n",
      " [[7398  963]\n",
      " [5256  582]]\n",
      "F1 Score: 0.15765948801300284\n",
      "Accuracy: 0.5620114092541728\n",
      "Precision: 0.09969167523124357\n",
      "Recall: 0.3766990291262136\n",
      "ROC AUC: 0.4806681489870044\n",
      "Epoch 4 | Test Loss 0.6768513115139695\n"
     ]
    },
    {
     "name": "stderr",
     "output_type": "stream",
     "text": [
      "100%|█████████████████████████████████████████████████████████████████████████████| 2070/2070 [00:11<00:00, 185.98it/s]\n"
     ]
    },
    {
     "name": "stdout",
     "output_type": "stream",
     "text": [
      "\n",
      " Confusion matrix: \n",
      " [[17637  2364]\n",
      " [11720  1399]]\n",
      "F1 Score: 0.16573865655727993\n",
      "Accuracy: 0.5747584541062802\n",
      "Precision: 0.10663922555072795\n",
      "Recall: 0.37177783683231463\n",
      "ROC AUC: 0.48627724147369045\n",
      "Epoch 5 | Train Loss 0.6733207683056449\n"
     ]
    },
    {
     "name": "stderr",
     "output_type": "stream",
     "text": [
      "  1%|▋                                                                              | 19/2070 [00:00<00:10, 188.08it/s]"
     ]
    },
    {
     "name": "stdout",
     "output_type": "stream",
     "text": [
      "[[0.548101  ]\n",
      " [0.4770607 ]\n",
      " [0.4155284 ]\n",
      " [0.5493208 ]\n",
      " [0.4922952 ]\n",
      " [0.4242491 ]\n",
      " [0.53652316]\n",
      " [0.4230333 ]\n",
      " [0.4230583 ]\n",
      " [0.43078375]]\n",
      "[1. 0. 0. 1. 0. 0. 1. 0. 0. 0.]\n",
      "[0 0 0 0 0 1 0 0 0 0]\n",
      "\n",
      " Confusion matrix: \n",
      " [[7786 1002]\n",
      " [4868  543]]\n",
      "F1 Score: 0.15612420931569868\n",
      "Accuracy: 0.5865906049721812\n",
      "Precision: 0.10035113657364628\n",
      "Recall: 0.35145631067961164\n",
      "ROC AUC: 0.48337791035798183\n",
      "Epoch 5 | Test Loss 0.668459219707025\n"
     ]
    },
    {
     "name": "stderr",
     "output_type": "stream",
     "text": [
      "100%|█████████████████████████████████████████████████████████████████████████████| 2070/2070 [00:11<00:00, 186.95it/s]\n"
     ]
    },
    {
     "name": "stdout",
     "output_type": "stream",
     "text": [
      "\n",
      " Confusion matrix: \n",
      " [[18429  2468]\n",
      " [10931  1292]]\n",
      "F1 Score: 0.16167177626227866\n",
      "Accuracy: 0.5954408212560387\n",
      "Precision: 0.10570236439499305\n",
      "Recall: 0.34361702127659577\n",
      "ROC AUC: 0.48565387848570934\n",
      "Epoch 6 | Train Loss 0.6650811235109965\n"
     ]
    },
    {
     "name": "stderr",
     "output_type": "stream",
     "text": [
      "  1%|▋                                                                              | 19/2070 [00:00<00:11, 180.91it/s]"
     ]
    },
    {
     "name": "stdout",
     "output_type": "stream",
     "text": [
      "[[0.54370725]\n",
      " [0.47053152]\n",
      " [0.41207242]\n",
      " [0.5426151 ]\n",
      " [0.48526943]\n",
      " [0.42076313]\n",
      " [0.5324891 ]\n",
      " [0.41884294]\n",
      " [0.4193575 ]\n",
      " [0.4272522 ]]\n",
      "[1. 0. 0. 1. 0. 0. 1. 0. 0. 0.]\n",
      "[0 0 0 0 0 1 0 0 0 0]\n",
      "\n",
      " Confusion matrix: \n",
      " [[8072 1038]\n",
      " [4582  507]]\n",
      "F1 Score: 0.15284895990352726\n",
      "Accuracy: 0.6041974786956827\n",
      "Precision: 0.09962664570642563\n",
      "Recall: 0.32815533980582523\n",
      "ROC AUC: 0.4830281993797579\n",
      "Epoch 6 | Test Loss 0.660363137453526\n"
     ]
    },
    {
     "name": "stderr",
     "output_type": "stream",
     "text": [
      "100%|█████████████████████████████████████████████████████████████████████████████| 2070/2070 [00:11<00:00, 186.73it/s]\n"
     ]
    },
    {
     "name": "stdout",
     "output_type": "stream",
     "text": [
      "\n",
      " Confusion matrix: \n",
      " [[19098  2569]\n",
      " [10258  1195]]\n",
      "F1 Score: 0.15706118157324045\n",
      "Accuracy: 0.6127113526570048\n",
      "Precision: 0.10433947437352659\n",
      "Recall: 0.31748140276301806\n",
      "ROC AUC: 0.48402343744909315\n",
      "Epoch 7 | Train Loss 0.6571374752095356\n"
     ]
    },
    {
     "name": "stderr",
     "output_type": "stream",
     "text": [
      "  1%|▋                                                                              | 19/2070 [00:00<00:11, 186.23it/s]"
     ]
    },
    {
     "name": "stdout",
     "output_type": "stream",
     "text": [
      "[[0.5406515 ]\n",
      " [0.46253383]\n",
      " [0.40867835]\n",
      " [0.5358237 ]\n",
      " [0.477505  ]\n",
      " [0.41755986]\n",
      " [0.5281622 ]\n",
      " [0.4144969 ]\n",
      " [0.41602415]\n",
      " [0.42392913]]\n",
      "[1. 0. 0. 1. 0. 0. 1. 0. 0. 0.]\n",
      "[0 0 0 0 0 1 0 0 0 0]\n",
      "\n",
      " Confusion matrix: \n",
      " [[8347 1086]\n",
      " [4307  459]]\n",
      "F1 Score: 0.14546030739977817\n",
      "Accuracy: 0.6201845200366223\n",
      "Precision: 0.09630717582878724\n",
      "Recall: 0.2970873786407767\n",
      "ROC AUC: 0.47836034808441563\n",
      "Epoch 7 | Test Loss 0.6525598775159132\n"
     ]
    },
    {
     "name": "stderr",
     "output_type": "stream",
     "text": [
      "100%|█████████████████████████████████████████████████████████████████████████████| 2070/2070 [00:11<00:00, 186.67it/s]\n"
     ]
    },
    {
     "name": "stdout",
     "output_type": "stream",
     "text": [
      "\n",
      " Confusion matrix: \n",
      " [[19854  2672]\n",
      " [ 9503  1091]]\n",
      "F1 Score: 0.1519816117573309\n",
      "Accuracy: 0.632397342995169\n",
      "Precision: 0.10298282046441382\n",
      "Recall: 0.2899282487377093\n",
      "ROC AUC: 0.48311175525756944\n",
      "Epoch 8 | Train Loss 0.6494380915798427\n"
     ]
    },
    {
     "name": "stderr",
     "output_type": "stream",
     "text": [
      "  1%|▋                                                                              | 19/2070 [00:00<00:10, 188.04it/s]"
     ]
    },
    {
     "name": "stdout",
     "output_type": "stream",
     "text": [
      "[[0.5381846 ]\n",
      " [0.4542146 ]\n",
      " [0.40566865]\n",
      " [0.5295322 ]\n",
      " [0.4703726 ]\n",
      " [0.4145939 ]\n",
      " [0.52394336]\n",
      " [0.41033638]\n",
      " [0.4130312 ]\n",
      " [0.4207718 ]]\n",
      "[1. 0. 0. 1. 0. 0. 1. 0. 0. 0.]\n",
      "[0 0 0 0 0 1 0 0 0 0]\n",
      "\n",
      " Confusion matrix: \n",
      " [[8722 1138]\n",
      " [3932  407]]\n",
      "F1 Score: 0.13834126444595513\n",
      "Accuracy: 0.6429326008873865\n",
      "Precision: 0.09380041484212952\n",
      "Recall: 0.2634304207119741\n",
      "ROC AUC: 0.4763493181479896\n",
      "Epoch 8 | Test Loss 0.6449493671859707\n"
     ]
    },
    {
     "name": "stderr",
     "output_type": "stream",
     "text": [
      "100%|█████████████████████████████████████████████████████████████████████████████| 2070/2070 [00:11<00:00, 185.67it/s]\n"
     ]
    },
    {
     "name": "stdout",
     "output_type": "stream",
     "text": [
      "\n",
      " Confusion matrix: \n",
      " [[20852  2800]\n",
      " [ 8505   963]]\n",
      "F1 Score: 0.14556722847857304\n",
      "Accuracy: 0.6586654589371981\n",
      "Precision: 0.10171102661596958\n",
      "Recall: 0.25591283550358757\n",
      "ROC AUC: 0.4831016982641077\n",
      "Epoch 9 | Train Loss 0.6419890574499029\n"
     ]
    },
    {
     "name": "stderr",
     "output_type": "stream",
     "text": [
      "  1%|▋                                                                              | 19/2070 [00:00<00:11, 182.65it/s]"
     ]
    },
    {
     "name": "stdout",
     "output_type": "stream",
     "text": [
      "[[0.535305  ]\n",
      " [0.44559324]\n",
      " [0.4028411 ]\n",
      " [0.5235143 ]\n",
      " [0.46303004]\n",
      " [0.41179222]\n",
      " [0.519835  ]\n",
      " [0.40664333]\n",
      " [0.41027343]\n",
      " [0.41781646]]\n",
      "[1. 0. 0. 1. 0. 0. 1. 0. 0. 0.]\n",
      "[0 0 0 0 0 1 0 0 0 0]\n",
      "\n",
      " Confusion matrix: \n",
      " [[9208 1204]\n",
      " [3446  341]]\n",
      "F1 Score: 0.12790697674418602\n",
      "Accuracy: 0.6725121487428692\n",
      "Precision: 0.09004489041457618\n",
      "Recall: 0.22071197411003235\n",
      "ROC AUC: 0.47419350878727473\n",
      "Epoch 9 | Test Loss 0.6375607458857803\n"
     ]
    },
    {
     "name": "stderr",
     "output_type": "stream",
     "text": [
      "100%|█████████████████████████████████████████████████████████████████████████████| 2070/2070 [00:11<00:00, 187.06it/s]\n"
     ]
    },
    {
     "name": "stdout",
     "output_type": "stream",
     "text": [
      "\n",
      " Confusion matrix: \n",
      " [[22060  2953]\n",
      " [ 7296   811]]\n",
      "F1 Score: 0.1366354982731025\n",
      "Accuracy: 0.6905495169082125\n",
      "Precision: 0.10003700505735784\n",
      "Recall: 0.21546227417640806\n",
      "ROC AUC: 0.48346352569700635\n",
      "Epoch 10 | Train Loss 0.634786035358042\n"
     ]
    },
    {
     "name": "stderr",
     "output_type": "stream",
     "text": [
      "  1%|▊                                                                              | 20/2070 [00:00<00:10, 192.27it/s]"
     ]
    },
    {
     "name": "stdout",
     "output_type": "stream",
     "text": [
      "[[0.53105944]\n",
      " [0.43706903]\n",
      " [0.39989132]\n",
      " [0.5177496 ]\n",
      " [0.45576176]\n",
      " [0.40919217]\n",
      " [0.5155001 ]\n",
      " [0.4035106 ]\n",
      " [0.4076887 ]\n",
      " [0.41504076]]\n",
      "[1. 0. 0. 1. 0. 0. 1. 0. 0. 0.]\n",
      "[0 0 0 0 0 1 0 0 0 0]\n",
      "\n",
      " Confusion matrix: \n",
      " [[9765 1280]\n",
      " [2889  265]]\n",
      "F1 Score: 0.11278995530964034\n",
      "Accuracy: 0.7063877737868864\n",
      "Precision: 0.08402029169308814\n",
      "Recall: 0.1715210355987055\n",
      "ROC AUC: 0.4716068904878307\n",
      "Epoch 10 | Test Loss 0.63045045223322\n"
     ]
    },
    {
     "name": "stderr",
     "output_type": "stream",
     "text": [
      "100%|█████████████████████████████████████████████████████████████████████████████| 2070/2070 [00:11<00:00, 186.54it/s]\n"
     ]
    },
    {
     "name": "stdout",
     "output_type": "stream",
     "text": [
      "\n",
      " Confusion matrix: \n",
      " [[23409  3133]\n",
      " [ 5947   631]]\n",
      "F1 Score: 0.12202668729452716\n",
      "Accuracy: 0.7258454106280193\n",
      "Precision: 0.09592581331711766\n",
      "Recall: 0.16764080765143463\n",
      "ROC AUC: 0.4825293559990379\n",
      "Epoch 11 | Train Loss 0.6278366419140268\n"
     ]
    },
    {
     "name": "stderr",
     "output_type": "stream",
     "text": [
      "  1%|▋                                                                              | 18/2070 [00:00<00:11, 178.13it/s]"
     ]
    },
    {
     "name": "stdout",
     "output_type": "stream",
     "text": [
      "[[0.525914  ]\n",
      " [0.43006566]\n",
      " [0.397212  ]\n",
      " [0.5117137 ]\n",
      " [0.44811094]\n",
      " [0.40676457]\n",
      " [0.51058286]\n",
      " [0.40099704]\n",
      " [0.4052458 ]\n",
      " [0.41238156]]\n",
      "[1. 0. 0. 1. 0. 0. 1. 0. 0. 0.]\n",
      "[0 0 0 0 0 1 0 0 0 0]\n",
      "\n",
      " Confusion matrix: \n",
      " [[10398  1347]\n",
      " [ 2256   198]]\n",
      "F1 Score: 0.09902475618904724\n",
      "Accuracy: 0.7462497358968941\n",
      "Precision: 0.08068459657701711\n",
      "Recall: 0.12815533980582525\n",
      "ROC AUC: 0.47493589655061297\n",
      "Epoch 11 | Test Loss 0.6235916729982909\n"
     ]
    },
    {
     "name": "stderr",
     "output_type": "stream",
     "text": [
      "100%|█████████████████████████████████████████████████████████████████████████████| 2070/2070 [00:11<00:00, 187.03it/s]\n"
     ]
    },
    {
     "name": "stdout",
     "output_type": "stream",
     "text": [
      "\n",
      " Confusion matrix: \n",
      " [[24827  3303]\n",
      " [ 4529   461]]\n",
      "F1 Score: 0.10532328078592644\n",
      "Accuracy: 0.7635265700483091\n",
      "Precision: 0.09238476953907816\n",
      "Recall: 0.12247608926673752\n",
      "ROC AUC: 0.48409878860393696\n",
      "Epoch 12 | Train Loss 0.6211507508144286\n"
     ]
    },
    {
     "name": "stderr",
     "output_type": "stream",
     "text": [
      "  1%|▊                                                                              | 20/2070 [00:00<00:10, 192.26it/s]"
     ]
    },
    {
     "name": "stdout",
     "output_type": "stream",
     "text": [
      "[[0.52065647]\n",
      " [0.42445123]\n",
      " [0.39500657]\n",
      " [0.5048764 ]\n",
      " [0.44145596]\n",
      " [0.4044094 ]\n",
      " [0.5050821 ]\n",
      " [0.39866522]\n",
      " [0.4029162 ]\n",
      " [0.4098236 ]]\n",
      "[1. 0. 0. 1. 0. 0. 1. 0. 0. 0.]\n",
      "[0 0 0 0 0 1 0 0 0 0]\n",
      "\n",
      " Confusion matrix: \n",
      " [[10981  1403]\n",
      " [ 1673   142]]\n",
      "F1 Score: 0.08452380952380953\n",
      "Accuracy: 0.7833650257060356\n",
      "Precision: 0.07823691460055096\n",
      "Recall: 0.09190938511326861\n",
      "ROC AUC: 0.4798491132931603\n",
      "Epoch 12 | Test Loss 0.6169295791570131\n"
     ]
    },
    {
     "name": "stderr",
     "output_type": "stream",
     "text": [
      "100%|█████████████████████████████████████████████████████████████████████████████| 2070/2070 [00:11<00:00, 185.68it/s]\n"
     ]
    },
    {
     "name": "stdout",
     "output_type": "stream",
     "text": [
      "\n",
      " Confusion matrix: \n",
      " [[26077  3432]\n",
      " [ 3280   331]]\n",
      "F1 Score: 0.0897748847301329\n",
      "Accuracy: 0.7973429951690821\n",
      "Precision: 0.09166435890335087\n",
      "Recall: 0.08796173266011162\n",
      "ROC AUC: 0.4881168475270446\n",
      "Epoch 13 | Train Loss 0.6146409345133869\n"
     ]
    },
    {
     "name": "stderr",
     "output_type": "stream",
     "text": [
      "  1%|▋                                                                              | 19/2070 [00:00<00:10, 188.05it/s]"
     ]
    },
    {
     "name": "stdout",
     "output_type": "stream",
     "text": [
      "[[0.51655823]\n",
      " [0.4194722 ]\n",
      " [0.3931656 ]\n",
      " [0.49641705]\n",
      " [0.43618014]\n",
      " [0.40212002]\n",
      " [0.4991876 ]\n",
      " [0.39625713]\n",
      " [0.4006701 ]\n",
      " [0.4073812 ]]\n",
      "[1. 0. 0. 0. 0. 0. 0. 0. 0. 0.]\n",
      "[0 0 0 0 0 1 0 0 0 0]\n",
      "\n",
      " Confusion matrix: \n",
      " [[11421  1443]\n",
      " [ 1233   102]]\n",
      "F1 Score: 0.07083333333333333\n",
      "Accuracy: 0.8115360236636383\n",
      "Precision: 0.07640449438202247\n",
      "Recall: 0.06601941747572816\n",
      "ROC AUC: 0.4842899363338812\n",
      "Epoch 13 | Test Loss 0.6104994947845871\n"
     ]
    },
    {
     "name": "stderr",
     "output_type": "stream",
     "text": [
      "100%|█████████████████████████████████████████████████████████████████████████████| 2070/2070 [00:11<00:00, 186.76it/s]\n"
     ]
    },
    {
     "name": "stdout",
     "output_type": "stream",
     "text": [
      "\n",
      " Confusion matrix: \n",
      " [[27035  3527]\n",
      " [ 2322   236]]\n",
      "F1 Score: 0.07467172915677898\n",
      "Accuracy: 0.8233997584541063\n",
      "Precision: 0.09225957779515247\n",
      "Recall: 0.0627159181504119\n",
      "ROC AUC: 0.491810321373806\n",
      "Epoch 14 | Train Loss 0.6084146047271968\n"
     ]
    },
    {
     "name": "stderr",
     "output_type": "stream",
     "text": [
      "  1%|▋                                                                              | 19/2070 [00:00<00:10, 188.05it/s]"
     ]
    },
    {
     "name": "stdout",
     "output_type": "stream",
     "text": [
      "[[0.5128941 ]\n",
      " [0.4144621 ]\n",
      " [0.3914658 ]\n",
      " [0.487507  ]\n",
      " [0.43058345]\n",
      " [0.39999664]\n",
      " [0.49339446]\n",
      " [0.39386523]\n",
      " [0.3985482 ]\n",
      " [0.40506262]]\n",
      "[1. 0. 0. 0. 0. 0. 0. 0. 0. 0.]\n",
      "[0 0 0 0 0 1 0 0 0 0]\n",
      "\n",
      " Confusion matrix: \n",
      " [[11791  1473]\n",
      " [  863    72]]\n",
      "F1 Score: 0.05806451612903226\n",
      "Accuracy: 0.8354813719276005\n",
      "Precision: 0.07700534759358289\n",
      "Recall: 0.04660194174757282\n",
      "ROC AUC: 0.48920108151073916\n",
      "Epoch 14 | Test Loss 0.6043231621518865\n"
     ]
    },
    {
     "name": "stderr",
     "output_type": "stream",
     "text": [
      "100%|█████████████████████████████████████████████████████████████████████████████| 2070/2070 [00:11<00:00, 186.98it/s]\n"
     ]
    },
    {
     "name": "stdout",
     "output_type": "stream",
     "text": [
      "\n",
      " Confusion matrix: \n",
      " [[27786  3611]\n",
      " [ 1570   153]]\n",
      "F1 Score: 0.055768179332968834\n",
      "Accuracy: 0.8435688405797102\n",
      "Precision: 0.08879860708067325\n",
      "Recall: 0.040648246546227416\n",
      "ROC AUC: 0.4935834229052162\n",
      "Epoch 15 | Train Loss 0.6024509177691695\n"
     ]
    },
    {
     "name": "stderr",
     "output_type": "stream",
     "text": [
      "  1%|▋                                                                              | 19/2070 [00:00<00:11, 182.65it/s]"
     ]
    },
    {
     "name": "stdout",
     "output_type": "stream",
     "text": [
      "[[0.5088761 ]\n",
      " [0.4099273 ]\n",
      " [0.38980672]\n",
      " [0.47919777]\n",
      " [0.42305437]\n",
      " [0.39798954]\n",
      " [0.48811796]\n",
      " [0.39172655]\n",
      " [0.39652476]\n",
      " [0.40286213]]\n",
      "[1. 0. 0. 0. 0. 0. 0. 0. 0. 0.]\n",
      "[0 0 0 0 0 1 0 0 0 0]\n",
      "\n",
      " Confusion matrix: \n",
      " [[12106  1499]\n",
      " [  548    46]]\n",
      "F1 Score: 0.04301075268817204\n",
      "Accuracy: 0.8558349179519684\n",
      "Precision: 0.07744107744107744\n",
      "Recall: 0.02977346278317152\n",
      "ROC AUC: 0.49323349921203785\n",
      "Epoch 15 | Test Loss 0.5984100425565565\n"
     ]
    },
    {
     "name": "stderr",
     "output_type": "stream",
     "text": [
      "100%|█████████████████████████████████████████████████████████████████████████████| 2070/2070 [00:11<00:00, 186.66it/s]\n"
     ]
    },
    {
     "name": "stdout",
     "output_type": "stream",
     "text": [
      "\n",
      " Confusion matrix: \n",
      " [[28348  3680]\n",
      " [ 1008    84]]\n",
      "F1 Score: 0.03459637561779243\n",
      "Accuracy: 0.8584541062801933\n",
      "Precision: 0.07692307692307693\n",
      "Recall: 0.022316684378320937\n",
      "ROC AUC: 0.49398979061537657\n",
      "Epoch 16 | Train Loss 0.5967507358334491\n"
     ]
    },
    {
     "name": "stderr",
     "output_type": "stream",
     "text": [
      "  1%|▋                                                                              | 19/2070 [00:00<00:11, 184.43it/s]"
     ]
    },
    {
     "name": "stdout",
     "output_type": "stream",
     "text": [
      "[[0.5037127 ]\n",
      " [0.40649256]\n",
      " [0.3882734 ]\n",
      " [0.47133726]\n",
      " [0.41641572]\n",
      " [0.39604762]\n",
      " [0.48293844]\n",
      " [0.38978484]\n",
      " [0.39451593]\n",
      " [0.40076816]]\n",
      "[1. 0. 0. 0. 0. 0. 0. 0. 0. 0.]\n",
      "[0 0 0 0 0 1 0 0 0 0]\n",
      "\n",
      " Confusion matrix: \n",
      " [[12288  1520]\n",
      " [  366    25]]\n",
      "F1 Score: 0.025826446280991733\n",
      "Accuracy: 0.8671737446299035\n",
      "Precision: 0.0639386189258312\n",
      "Recall: 0.016181229773462782\n",
      "ROC AUC: 0.4936287846354274\n",
      "Epoch 16 | Test Loss 0.5927689456724906\n"
     ]
    },
    {
     "name": "stderr",
     "output_type": "stream",
     "text": [
      "100%|█████████████████████████████████████████████████████████████████████████████| 2070/2070 [00:11<00:00, 186.48it/s]\n"
     ]
    },
    {
     "name": "stdout",
     "output_type": "stream",
     "text": [
      "\n",
      " Confusion matrix: \n",
      " [[28716  3712]\n",
      " [  643    49]]\n",
      "F1 Score: 0.02200763530204357\n",
      "Accuracy: 0.8685084541062802\n",
      "Precision: 0.0708092485549133\n",
      "Recall: 0.01302844988035097\n",
      "ROC AUC: 0.49556357948222396\n",
      "Epoch 17 | Train Loss 0.5912874220074087\n"
     ]
    },
    {
     "name": "stderr",
     "output_type": "stream",
     "text": [
      "  1%|▋                                                                              | 19/2070 [00:00<00:11, 182.66it/s]"
     ]
    },
    {
     "name": "stdout",
     "output_type": "stream",
     "text": [
      "[[0.49696487]\n",
      " [0.4034267 ]\n",
      " [0.38684976]\n",
      " [0.46354398]\n",
      " [0.4120136 ]\n",
      " [0.3942086 ]\n",
      " [0.4775796 ]\n",
      " [0.38788623]\n",
      " [0.39255142]\n",
      " [0.39874974]]\n",
      "[0. 0. 0. 0. 0. 0. 0. 0. 0. 0.]\n",
      "[0 0 0 0 0 1 0 0 0 0]\n",
      "\n",
      " Confusion matrix: \n",
      " [[12443  1537]\n",
      " [  211     8]]\n",
      "F1 Score: 0.009070294784580499\n",
      "Accuracy: 0.8768927389252764\n",
      "Precision: 0.0365296803652968\n",
      "Recall: 0.005177993527508091\n",
      "ROC AUC: 0.49425171211067986\n",
      "Epoch 17 | Test Loss 0.5874195780840006\n"
     ]
    },
    {
     "name": "stderr",
     "output_type": "stream",
     "text": [
      "100%|█████████████████████████████████████████████████████████████████████████████| 2070/2070 [00:11<00:00, 186.39it/s]\n"
     ]
    },
    {
     "name": "stdout",
     "output_type": "stream",
     "text": [
      "\n",
      " Confusion matrix: \n",
      " [[29000  3737]\n",
      " [  358    25]]\n",
      "F1 Score: 0.012062726176115802\n",
      "Accuracy: 0.876358695652174\n",
      "Precision: 0.06527415143603134\n",
      "Recall: 0.006645401382243487\n",
      "ROC AUC: 0.49722555510899763\n",
      "Epoch 18 | Train Loss 0.5861634996778147\n"
     ]
    },
    {
     "name": "stderr",
     "output_type": "stream",
     "text": [
      "  1%|▋                                                                              | 18/2070 [00:00<00:11, 176.43it/s]"
     ]
    },
    {
     "name": "stdout",
     "output_type": "stream",
     "text": [
      "[[0.48980546]\n",
      " [0.4003082 ]\n",
      " [0.385439  ]\n",
      " [0.45507985]\n",
      " [0.40839204]\n",
      " [0.39248034]\n",
      " [0.47262064]\n",
      " [0.3859822 ]\n",
      " [0.39070332]\n",
      " [0.39676708]]\n",
      "[0. 0. 0. 0. 0. 0. 0. 0. 0. 0.]\n",
      "[0 0 0 0 0 1 0 0 0 0]\n",
      "\n",
      " Confusion matrix: \n",
      " [[12532  1542]\n",
      " [  122     3]]\n",
      "F1 Score: 0.0035928143712574846\n",
      "Accuracy: 0.882808648496373\n",
      "Precision: 0.024\n",
      "Recall: 0.001941747572815534\n",
      "ROC AUC: 0.4961502637026398\n",
      "Epoch 18 | Test Loss 0.5823261117612993\n"
     ]
    },
    {
     "name": "stderr",
     "output_type": "stream",
     "text": [
      "100%|█████████████████████████████████████████████████████████████████████████████| 2070/2070 [00:11<00:00, 186.61it/s]\n"
     ]
    },
    {
     "name": "stdout",
     "output_type": "stream",
     "text": [
      "\n",
      " Confusion matrix: \n",
      " [[29177  3749]\n",
      " [  180    14]]\n",
      "F1 Score: 0.0070760677280768255\n",
      "Accuracy: 0.88137077294686\n",
      "Precision: 0.07216494845360824\n",
      "Recall: 0.0037204358224820623\n",
      "ROC AUC: 0.49879450956229526\n",
      "Epoch 19 | Train Loss 0.5812818866421059\n"
     ]
    },
    {
     "name": "stderr",
     "output_type": "stream",
     "text": [
      "  1%|▋                                                                              | 19/2070 [00:00<00:11, 182.65it/s]"
     ]
    },
    {
     "name": "stdout",
     "output_type": "stream",
     "text": [
      "[[0.48234576]\n",
      " [0.397374  ]\n",
      " [0.3840292 ]\n",
      " [0.44663578]\n",
      " [0.40466028]\n",
      " [0.39082605]\n",
      " [0.46800637]\n",
      " [0.3841491 ]\n",
      " [0.38900378]\n",
      " [0.39480752]]\n",
      "[0. 0. 0. 0. 0. 0. 0. 0. 0. 0.]\n",
      "[0 0 0 0 0 1 0 0 0 0]\n",
      "\n",
      " Confusion matrix: \n",
      " [[12582  1543]\n",
      " [   72     2]]\n",
      "F1 Score: 0.0024706609017912293\n",
      "Accuracy: 0.8862595957461793\n",
      "Precision: 0.02702702702702703\n",
      "Recall: 0.0012944983818770227\n",
      "ROC AUC: 0.4978022989775672\n",
      "Epoch 19 | Test Loss 0.5774928712630057\n"
     ]
    },
    {
     "name": "stderr",
     "output_type": "stream",
     "text": [
      "100%|█████████████████████████████████████████████████████████████████████████████| 2070/2070 [00:11<00:00, 186.44it/s]\n"
     ]
    },
    {
     "name": "stdout",
     "output_type": "stream",
     "text": [
      "\n",
      " Confusion matrix: \n",
      " [[29258  3757]\n",
      " [   98     7]]\n",
      "F1 Score: 0.0036185060739209094\n",
      "Accuracy: 0.8836050724637681\n",
      "Precision: 0.06666666666666667\n",
      "Recall: 0.0018597236981934113\n",
      "ROC AUC: 0.4992606971127566\n",
      "Epoch 20 | Train Loss 0.5766781536709283\n"
     ]
    },
    {
     "name": "stderr",
     "output_type": "stream",
     "text": [
      "  1%|▋                                                                              | 18/2070 [00:00<00:11, 179.96it/s]"
     ]
    },
    {
     "name": "stdout",
     "output_type": "stream",
     "text": [
      "[[0.47367483]\n",
      " [0.394769  ]\n",
      " [0.38266116]\n",
      " [0.43836084]\n",
      " [0.40086967]\n",
      " [0.38921508]\n",
      " [0.46323237]\n",
      " [0.38243482]\n",
      " [0.3873784 ]\n",
      " [0.39286557]]\n",
      "[0. 0. 0. 0. 0. 0. 0. 0. 0. 0.]\n",
      "[0 0 0 0 0 1 0 0 0 0]\n",
      "\n",
      " Confusion matrix: \n",
      " [[12615  1543]\n",
      " [   39     2]]\n",
      "F1 Score: 0.0025220680958385876\n",
      "Accuracy: 0.8885837030776815\n",
      "Precision: 0.04878048780487805\n",
      "Recall: 0.0012944983818770227\n",
      "ROC AUC: 0.49910623449202907\n",
      "Epoch 20 | Test Loss 0.5729442730143264\n"
     ]
    },
    {
     "name": "stderr",
     "output_type": "stream",
     "text": [
      "100%|█████████████████████████████████████████████████████████████████████████████| 2070/2070 [00:11<00:00, 187.44it/s]\n"
     ]
    },
    {
     "name": "stdout",
     "output_type": "stream",
     "text": [
      "\n",
      " Confusion matrix: \n",
      " [[29313  3759]\n",
      " [   44     4]]\n",
      "F1 Score: 0.0020991865652059826\n",
      "Accuracy: 0.8851751207729469\n",
      "Precision: 0.08333333333333333\n",
      "Recall: 0.0010629816635663034\n",
      "ROC AUC: 0.49978209545759644\n",
      "Epoch 21 | Train Loss 0.5723202071040149\n"
     ]
    },
    {
     "name": "stderr",
     "output_type": "stream",
     "text": [
      "  1%|▋                                                                              | 18/2070 [00:00<00:11, 178.18it/s]"
     ]
    },
    {
     "name": "stdout",
     "output_type": "stream",
     "text": [
      "[[0.46446553]\n",
      " [0.39233297]\n",
      " [0.38135934]\n",
      " [0.43021724]\n",
      " [0.3969197 ]\n",
      " [0.38759977]\n",
      " [0.4581096 ]\n",
      " [0.3808638 ]\n",
      " [0.3857398 ]\n",
      " [0.39095125]]\n",
      "[0. 0. 0. 0. 0. 0. 0. 0. 0. 0.]\n",
      "[0 0 0 0 0 1 0 0 0 0]\n",
      "\n",
      " Confusion matrix: \n",
      " [[12636  1544]\n",
      " [   18     1]]\n",
      "F1 Score: 0.001278772378516624\n",
      "Accuracy: 0.8899922529755616\n",
      "Precision: 0.05263157894736842\n",
      "Recall: 0.0006472491909385113\n",
      "ROC AUC: 0.4996123870421265\n",
      "Epoch 21 | Test Loss 0.5686570996636743\n"
     ]
    },
    {
     "name": "stderr",
     "output_type": "stream",
     "text": [
      "100%|█████████████████████████████████████████████████████████████████████████████| 2070/2070 [00:11<00:00, 185.28it/s]\n"
     ]
    },
    {
     "name": "stdout",
     "output_type": "stream",
     "text": [
      "\n",
      " Confusion matrix: \n",
      " [[29338  3763]\n",
      " [   19     0]]\n",
      "F1 Score: 0.0\n",
      "Accuracy: 0.8858091787439614\n",
      "Precision: 0.0\n",
      "Recall: 0.0\n",
      "ROC AUC: 0.4996763974520557\n",
      "Epoch 22 | Train Loss 0.5682495208322138\n"
     ]
    },
    {
     "name": "stderr",
     "output_type": "stream",
     "text": [
      "  1%|▋                                                                              | 18/2070 [00:00<00:11, 178.17it/s]"
     ]
    },
    {
     "name": "stdout",
     "output_type": "stream",
     "text": [
      "[[0.45627844]\n",
      " [0.3901501 ]\n",
      " [0.38012218]\n",
      " [0.42313606]\n",
      " [0.39373776]\n",
      " [0.38592678]\n",
      " [0.45312446]\n",
      " [0.3794271 ]\n",
      " [0.38407254]\n",
      " [0.38907614]]\n",
      "[0. 0. 0. 0. 0. 0. 0. 0. 0. 0.]\n",
      "[0 0 0 0 0 1 0 0 0 0]\n",
      "\n",
      " Confusion matrix: \n",
      " [[12647  1545]\n",
      " [    7     0]]\n",
      "F1 Score: 0.0\n",
      "Accuracy: 0.8906965279245017\n",
      "Precision: 0.0\n",
      "Recall: 0.0\n",
      "ROC AUC: 0.49972340761814443\n",
      "Epoch 22 | Test Loss 0.5646282837197587\n"
     ]
    },
    {
     "name": "stderr",
     "output_type": "stream",
     "text": [
      "100%|█████████████████████████████████████████████████████████████████████████████| 2070/2070 [00:11<00:00, 183.96it/s]\n"
     ]
    },
    {
     "name": "stdout",
     "output_type": "stream",
     "text": [
      "\n",
      " Confusion matrix: \n",
      " [[29349  3762]\n",
      " [    9     0]]\n",
      "F1 Score: 0.0\n",
      "Accuracy: 0.8861413043478261\n",
      "Precision: 0.0\n",
      "Recall: 0.0\n",
      "ROC AUC: 0.49984671980380135\n",
      "Epoch 23 | Train Loss 0.5644085773811248\n"
     ]
    },
    {
     "name": "stderr",
     "output_type": "stream",
     "text": [
      "  1%|▋                                                                              | 19/2070 [00:00<00:10, 188.09it/s]"
     ]
    },
    {
     "name": "stdout",
     "output_type": "stream",
     "text": [
      "[[0.4495173 ]\n",
      " [0.3880745 ]\n",
      " [0.37893054]\n",
      " [0.4176681 ]\n",
      " [0.39110675]\n",
      " [0.38421494]\n",
      " [0.448319  ]\n",
      " [0.37807825]\n",
      " [0.3824231 ]\n",
      " [0.38730323]]\n",
      "[0. 0. 0. 0. 0. 0. 0. 0. 0. 0.]\n",
      "[0 0 0 0 0 1 0 0 0 0]\n",
      "\n",
      " Confusion matrix: \n",
      " [[12652  1545]\n",
      " [    2     0]]\n",
      "F1 Score: 0.0\n",
      "Accuracy: 0.8910486653989718\n",
      "Precision: 0.0\n",
      "Recall: 0.0\n",
      "ROC AUC: 0.4999209736051841\n",
      "Epoch 23 | Test Loss 0.560846181334676\n"
     ]
    },
    {
     "name": "stderr",
     "output_type": "stream",
     "text": [
      "100%|█████████████████████████████████████████████████████████████████████████████| 2070/2070 [00:11<00:00, 184.60it/s]\n"
     ]
    },
    {
     "name": "stdout",
     "output_type": "stream",
     "text": [
      "\n",
      " Confusion matrix: \n",
      " [[29351  3763]\n",
      " [    6     0]]\n",
      "F1 Score: 0.0\n",
      "Accuracy: 0.886201690821256\n",
      "Precision: 0.0\n",
      "Recall: 0.0\n",
      "ROC AUC: 0.49989780972170184\n",
      "Epoch 24 | Train Loss 0.5608140368968393\n"
     ]
    },
    {
     "name": "stderr",
     "output_type": "stream",
     "text": [
      "C:\\for_work\\anaconda\\lib\\site-packages\\sklearn\\metrics\\_classification.py:1308: UndefinedMetricWarning: Precision is ill-defined and being set to 0.0 due to no predicted samples. Use `zero_division` parameter to control this behavior.\n",
      "  _warn_prf(average, modifier, msg_start, len(result))\n",
      "  1%|▋                                                                              | 19/2070 [00:00<00:10, 188.05it/s]"
     ]
    },
    {
     "name": "stdout",
     "output_type": "stream",
     "text": [
      "[[0.44360098]\n",
      " [0.38579133]\n",
      " [0.37775663]\n",
      " [0.41256654]\n",
      " [0.38857618]\n",
      " [0.3825763 ]\n",
      " [0.44333127]\n",
      " [0.3767975 ]\n",
      " [0.3808124 ]\n",
      " [0.38565198]]\n",
      "[0. 0. 0. 0. 0. 0. 0. 0. 0. 0.]\n",
      "[0 0 0 0 0 1 0 0 0 0]\n",
      "\n",
      " Confusion matrix: \n",
      " [[12654  1545]\n",
      " [    0     0]]\n",
      "F1 Score: 0.0\n",
      "Accuracy: 0.8911895203887598\n",
      "Precision: 0.0\n",
      "Recall: 0.0\n",
      "ROC AUC: 0.5\n",
      "Epoch 24 | Test Loss 0.5572753081450591\n"
     ]
    },
    {
     "name": "stderr",
     "output_type": "stream",
     "text": [
      "100%|█████████████████████████████████████████████████████████████████████████████| 2070/2070 [00:11<00:00, 186.98it/s]\n"
     ]
    },
    {
     "name": "stdout",
     "output_type": "stream",
     "text": [
      "\n",
      " Confusion matrix: \n",
      " [[29353  3764]\n",
      " [    3     0]]\n",
      "F1 Score: 0.0\n",
      "Accuracy: 0.886262077294686\n",
      "Precision: 0.0\n",
      "Recall: 0.0\n",
      "ROC AUC: 0.49994890312031615\n",
      "Epoch 25 | Train Loss 0.5574232092802075\n"
     ]
    },
    {
     "name": "stderr",
     "output_type": "stream",
     "text": [
      "C:\\for_work\\anaconda\\lib\\site-packages\\sklearn\\metrics\\_classification.py:1308: UndefinedMetricWarning: Precision is ill-defined and being set to 0.0 due to no predicted samples. Use `zero_division` parameter to control this behavior.\n",
      "  _warn_prf(average, modifier, msg_start, len(result))\n",
      "  1%|▊                                                                              | 20/2070 [00:00<00:10, 196.05it/s]"
     ]
    },
    {
     "name": "stdout",
     "output_type": "stream",
     "text": [
      "[[0.4378099 ]\n",
      " [0.38305235]\n",
      " [0.37661424]\n",
      " [0.40656352]\n",
      " [0.38623473]\n",
      " [0.38109186]\n",
      " [0.43806168]\n",
      " [0.37557608]\n",
      " [0.37924945]\n",
      " [0.38410756]]\n",
      "[0. 0. 0. 0. 0. 0. 0. 0. 0. 0.]\n",
      "[0 0 0 0 0 1 0 0 0 0]\n",
      "\n",
      " Confusion matrix: \n",
      " [[12654  1545]\n",
      " [    0     0]]\n",
      "F1 Score: 0.0\n",
      "Accuracy: 0.8911895203887598\n",
      "Precision: 0.0\n",
      "Recall: 0.0\n",
      "ROC AUC: 0.5\n",
      "Epoch 25 | Test Loss 0.5539145563636814\n"
     ]
    },
    {
     "name": "stderr",
     "output_type": "stream",
     "text": [
      "100%|█████████████████████████████████████████████████████████████████████████████| 2070/2070 [00:11<00:00, 186.88it/s]\n"
     ]
    },
    {
     "name": "stdout",
     "output_type": "stream",
     "text": [
      "\n",
      " Confusion matrix: \n",
      " [[29356  3763]\n",
      " [    1     0]]\n",
      "F1 Score: 0.0\n",
      "Accuracy: 0.8863526570048309\n",
      "Precision: 0.0\n",
      "Recall: 0.0\n",
      "ROC AUC: 0.4999829682869503\n",
      "Epoch 26 | Train Loss 0.5542033417789256\n"
     ]
    },
    {
     "name": "stderr",
     "output_type": "stream",
     "text": [
      "C:\\for_work\\anaconda\\lib\\site-packages\\sklearn\\metrics\\_classification.py:1308: UndefinedMetricWarning: Precision is ill-defined and being set to 0.0 due to no predicted samples. Use `zero_division` parameter to control this behavior.\n",
      "  _warn_prf(average, modifier, msg_start, len(result))\n",
      "  1%|▋                                                                              | 18/2070 [00:00<00:11, 179.96it/s]"
     ]
    },
    {
     "name": "stdout",
     "output_type": "stream",
     "text": [
      "[[0.4321958 ]\n",
      " [0.38015485]\n",
      " [0.37549803]\n",
      " [0.40120906]\n",
      " [0.38409033]\n",
      " [0.37970373]\n",
      " [0.43303213]\n",
      " [0.37439567]\n",
      " [0.3777653 ]\n",
      " [0.38264206]]\n",
      "[0. 0. 0. 0. 0. 0. 0. 0. 0. 0.]\n",
      "[0 0 0 0 0 1 0 0 0 0]\n",
      "\n",
      " Confusion matrix: \n",
      " [[12654  1545]\n",
      " [    0     0]]\n",
      "F1 Score: 0.0\n",
      "Accuracy: 0.8911895203887598\n",
      "Precision: 0.0\n",
      "Recall: 0.0\n",
      "ROC AUC: 0.5\n",
      "Epoch 26 | Test Loss 0.5507491582685763\n"
     ]
    },
    {
     "name": "stderr",
     "output_type": "stream",
     "text": [
      "100%|█████████████████████████████████████████████████████████████████████████████| 2070/2070 [00:11<00:00, 186.89it/s]\n",
      "C:\\for_work\\anaconda\\lib\\site-packages\\sklearn\\metrics\\_classification.py:1308: UndefinedMetricWarning: Precision is ill-defined and being set to 0.0 due to no predicted samples. Use `zero_division` parameter to control this behavior.\n",
      "  _warn_prf(average, modifier, msg_start, len(result))\n"
     ]
    },
    {
     "name": "stdout",
     "output_type": "stream",
     "text": [
      "\n",
      " Confusion matrix: \n",
      " [[29356  3764]\n",
      " [    0     0]]\n",
      "F1 Score: 0.0\n",
      "Accuracy: 0.8863526570048309\n",
      "Precision: 0.0\n",
      "Recall: 0.0\n",
      "ROC AUC: 0.5\n",
      "Epoch 27 | Train Loss 0.5511980088580634\n"
     ]
    },
    {
     "name": "stderr",
     "output_type": "stream",
     "text": [
      "C:\\for_work\\anaconda\\lib\\site-packages\\sklearn\\metrics\\_classification.py:1308: UndefinedMetricWarning: Precision is ill-defined and being set to 0.0 due to no predicted samples. Use `zero_division` parameter to control this behavior.\n",
      "  _warn_prf(average, modifier, msg_start, len(result))\n",
      "  1%|▋                                                                              | 18/2070 [00:00<00:11, 178.18it/s]"
     ]
    },
    {
     "name": "stdout",
     "output_type": "stream",
     "text": [
      "[[0.42705026]\n",
      " [0.37764713]\n",
      " [0.37439382]\n",
      " [0.397246  ]\n",
      " [0.38175547]\n",
      " [0.37832242]\n",
      " [0.42888096]\n",
      " [0.3732408 ]\n",
      " [0.3763588 ]\n",
      " [0.38122785]]\n",
      "[0. 0. 0. 0. 0. 0. 0. 0. 0. 0.]\n",
      "[0 0 0 0 0 1 0 0 0 0]\n",
      "\n",
      " Confusion matrix: \n",
      " [[12654  1545]\n",
      " [    0     0]]\n",
      "F1 Score: 0.0\n",
      "Accuracy: 0.8911895203887598\n",
      "Precision: 0.0\n",
      "Recall: 0.0\n",
      "ROC AUC: 0.5\n",
      "Epoch 27 | Test Loss 0.5477587105454625\n"
     ]
    },
    {
     "name": "stderr",
     "output_type": "stream",
     "text": [
      "100%|█████████████████████████████████████████████████████████████████████████████| 2070/2070 [00:11<00:00, 186.19it/s]\n",
      "C:\\for_work\\anaconda\\lib\\site-packages\\sklearn\\metrics\\_classification.py:1308: UndefinedMetricWarning: Precision is ill-defined and being set to 0.0 due to no predicted samples. Use `zero_division` parameter to control this behavior.\n",
      "  _warn_prf(average, modifier, msg_start, len(result))\n"
     ]
    },
    {
     "name": "stdout",
     "output_type": "stream",
     "text": [
      "\n",
      " Confusion matrix: \n",
      " [[29357  3763]\n",
      " [    0     0]]\n",
      "F1 Score: 0.0\n",
      "Accuracy: 0.8863828502415458\n",
      "Precision: 0.0\n",
      "Recall: 0.0\n",
      "ROC AUC: 0.5\n",
      "Epoch 28 | Train Loss 0.5483411251922736\n"
     ]
    },
    {
     "name": "stderr",
     "output_type": "stream",
     "text": [
      "C:\\for_work\\anaconda\\lib\\site-packages\\sklearn\\metrics\\_classification.py:1308: UndefinedMetricWarning: Precision is ill-defined and being set to 0.0 due to no predicted samples. Use `zero_division` parameter to control this behavior.\n",
      "  _warn_prf(average, modifier, msg_start, len(result))\n",
      "  1%|▋                                                                              | 19/2070 [00:00<00:11, 184.42it/s]"
     ]
    },
    {
     "name": "stdout",
     "output_type": "stream",
     "text": [
      "[[0.42232782]\n",
      " [0.37566918]\n",
      " [0.37330285]\n",
      " [0.39395925]\n",
      " [0.37920323]\n",
      " [0.37689292]\n",
      " [0.42547375]\n",
      " [0.3721093 ]\n",
      " [0.3749897 ]\n",
      " [0.37985444]]\n",
      "[0. 0. 0. 0. 0. 0. 0. 0. 0. 0.]\n",
      "[0 0 0 0 0 1 0 0 0 0]\n",
      "\n",
      " Confusion matrix: \n",
      " [[12654  1545]\n",
      " [    0     0]]\n",
      "F1 Score: 0.0\n",
      "Accuracy: 0.8911895203887598\n",
      "Precision: 0.0\n",
      "Recall: 0.0\n",
      "ROC AUC: 0.5\n",
      "Epoch 28 | Test Loss 0.5449420401641915\n"
     ]
    },
    {
     "name": "stderr",
     "output_type": "stream",
     "text": [
      "100%|█████████████████████████████████████████████████████████████████████████████| 2070/2070 [00:11<00:00, 186.69it/s]\n",
      "C:\\for_work\\anaconda\\lib\\site-packages\\sklearn\\metrics\\_classification.py:1308: UndefinedMetricWarning: Precision is ill-defined and being set to 0.0 due to no predicted samples. Use `zero_division` parameter to control this behavior.\n",
      "  _warn_prf(average, modifier, msg_start, len(result))\n"
     ]
    },
    {
     "name": "stdout",
     "output_type": "stream",
     "text": [
      "\n",
      " Confusion matrix: \n",
      " [[29357  3763]\n",
      " [    0     0]]\n",
      "F1 Score: 0.0\n",
      "Accuracy: 0.8863828502415458\n",
      "Precision: 0.0\n",
      "Recall: 0.0\n",
      "ROC AUC: 0.5\n",
      "Epoch 29 | Train Loss 0.5456540987543438\n"
     ]
    },
    {
     "name": "stderr",
     "output_type": "stream",
     "text": [
      "C:\\for_work\\anaconda\\lib\\site-packages\\sklearn\\metrics\\_classification.py:1308: UndefinedMetricWarning: Precision is ill-defined and being set to 0.0 due to no predicted samples. Use `zero_division` parameter to control this behavior.\n",
      "  _warn_prf(average, modifier, msg_start, len(result))\n",
      "  1%|▊                                                                              | 20/2070 [00:00<00:10, 190.44it/s]"
     ]
    },
    {
     "name": "stdout",
     "output_type": "stream",
     "text": [
      "[[0.4183449 ]\n",
      " [0.3740275 ]\n",
      " [0.3722047 ]\n",
      " [0.3909398 ]\n",
      " [0.37694094]\n",
      " [0.37541413]\n",
      " [0.42251605]\n",
      " [0.37100726]\n",
      " [0.37363356]\n",
      " [0.37849957]]\n",
      "[0. 0. 0. 0. 0. 0. 0. 0. 0. 0.]\n",
      "[0 0 0 0 0 1 0 0 0 0]\n",
      "\n",
      " Confusion matrix: \n",
      " [[12654  1545]\n",
      " [    0     0]]\n",
      "F1 Score: 0.0\n",
      "Accuracy: 0.8911895203887598\n",
      "Precision: 0.0\n",
      "Recall: 0.0\n",
      "ROC AUC: 0.5\n",
      "Epoch 29 | Test Loss 0.5422670368675713\n"
     ]
    },
    {
     "name": "stderr",
     "output_type": "stream",
     "text": [
      "100%|█████████████████████████████████████████████████████████████████████████████| 2070/2070 [00:11<00:00, 186.09it/s]\n",
      "C:\\for_work\\anaconda\\lib\\site-packages\\sklearn\\metrics\\_classification.py:1308: UndefinedMetricWarning: Precision is ill-defined and being set to 0.0 due to no predicted samples. Use `zero_division` parameter to control this behavior.\n",
      "  _warn_prf(average, modifier, msg_start, len(result))\n"
     ]
    },
    {
     "name": "stdout",
     "output_type": "stream",
     "text": [
      "\n",
      " Confusion matrix: \n",
      " [[29358  3762]\n",
      " [    0     0]]\n",
      "F1 Score: 0.0\n",
      "Accuracy: 0.8864130434782609\n",
      "Precision: 0.0\n",
      "Recall: 0.0\n",
      "ROC AUC: 0.5\n",
      "Epoch 30 | Train Loss 0.543084075672615\n"
     ]
    },
    {
     "name": "stderr",
     "output_type": "stream",
     "text": [
      "C:\\for_work\\anaconda\\lib\\site-packages\\sklearn\\metrics\\_classification.py:1308: UndefinedMetricWarning: Precision is ill-defined and being set to 0.0 due to no predicted samples. Use `zero_division` parameter to control this behavior.\n",
      "  _warn_prf(average, modifier, msg_start, len(result))\n",
      "  1%|▋                                                                              | 18/2070 [00:00<00:11, 176.43it/s]"
     ]
    },
    {
     "name": "stdout",
     "output_type": "stream",
     "text": [
      "[[0.41520464]\n",
      " [0.37252852]\n",
      " [0.3711137 ]\n",
      " [0.3880845 ]\n",
      " [0.37504935]\n",
      " [0.3739755 ]\n",
      " [0.41979638]\n",
      " [0.36994383]\n",
      " [0.37232363]\n",
      " [0.37717104]]\n",
      "[0. 0. 0. 0. 0. 0. 0. 0. 0. 0.]\n",
      "[0 0 0 0 0 1 0 0 0 0]\n",
      "\n",
      " Confusion matrix: \n",
      " [[12654  1545]\n",
      " [    0     0]]\n",
      "F1 Score: 0.0\n",
      "Accuracy: 0.8911895203887598\n",
      "Precision: 0.0\n",
      "Recall: 0.0\n",
      "ROC AUC: 0.5\n",
      "Epoch 30 | Test Loss 0.5397163042882541\n"
     ]
    },
    {
     "name": "stderr",
     "output_type": "stream",
     "text": [
      "100%|█████████████████████████████████████████████████████████████████████████████| 2070/2070 [00:11<00:00, 183.46it/s]\n",
      "C:\\for_work\\anaconda\\lib\\site-packages\\sklearn\\metrics\\_classification.py:1308: UndefinedMetricWarning: Precision is ill-defined and being set to 0.0 due to no predicted samples. Use `zero_division` parameter to control this behavior.\n",
      "  _warn_prf(average, modifier, msg_start, len(result))\n"
     ]
    },
    {
     "name": "stdout",
     "output_type": "stream",
     "text": [
      "\n",
      " Confusion matrix: \n",
      " [[29358  3762]\n",
      " [    0     0]]\n",
      "F1 Score: 0.0\n",
      "Accuracy: 0.8864130434782609\n",
      "Precision: 0.0\n",
      "Recall: 0.0\n",
      "ROC AUC: 0.5\n",
      "Epoch 31 | Train Loss 0.5406341764230083\n"
     ]
    },
    {
     "name": "stderr",
     "output_type": "stream",
     "text": [
      "C:\\for_work\\anaconda\\lib\\site-packages\\sklearn\\metrics\\_classification.py:1308: UndefinedMetricWarning: Precision is ill-defined and being set to 0.0 due to no predicted samples. Use `zero_division` parameter to control this behavior.\n",
      "  _warn_prf(average, modifier, msg_start, len(result))\n",
      "  1%|▋                                                                              | 18/2070 [00:00<00:11, 174.72it/s]"
     ]
    },
    {
     "name": "stdout",
     "output_type": "stream",
     "text": [
      "[[0.41264033]\n",
      " [0.3711426 ]\n",
      " [0.3700449 ]\n",
      " [0.38537323]\n",
      " [0.37343568]\n",
      " [0.3725824 ]\n",
      " [0.4170825 ]\n",
      " [0.36890826]\n",
      " [0.37106612]\n",
      " [0.3758525 ]]\n",
      "[0. 0. 0. 0. 0. 0. 0. 0. 0. 0.]\n",
      "[0 0 0 0 0 1 0 0 0 0]\n",
      "\n",
      " Confusion matrix: \n",
      " [[12654  1545]\n",
      " [    0     0]]\n",
      "F1 Score: 0.0\n",
      "Accuracy: 0.8911895203887598\n",
      "Precision: 0.0\n",
      "Recall: 0.0\n",
      "ROC AUC: 0.5\n",
      "Epoch 31 | Test Loss 0.537269838355683\n"
     ]
    },
    {
     "name": "stderr",
     "output_type": "stream",
     "text": [
      "100%|█████████████████████████████████████████████████████████████████████████████| 2070/2070 [00:11<00:00, 185.79it/s]\n",
      "C:\\for_work\\anaconda\\lib\\site-packages\\sklearn\\metrics\\_classification.py:1308: UndefinedMetricWarning: Precision is ill-defined and being set to 0.0 due to no predicted samples. Use `zero_division` parameter to control this behavior.\n",
      "  _warn_prf(average, modifier, msg_start, len(result))\n"
     ]
    },
    {
     "name": "stdout",
     "output_type": "stream",
     "text": [
      "\n",
      " Confusion matrix: \n",
      " [[29356  3764]\n",
      " [    0     0]]\n",
      "F1 Score: 0.0\n",
      "Accuracy: 0.8863526570048309\n",
      "Precision: 0.0\n",
      "Recall: 0.0\n",
      "ROC AUC: 0.5\n",
      "Epoch 32 | Train Loss 0.5383111806163465\n"
     ]
    },
    {
     "name": "stderr",
     "output_type": "stream",
     "text": [
      "C:\\for_work\\anaconda\\lib\\site-packages\\sklearn\\metrics\\_classification.py:1308: UndefinedMetricWarning: Precision is ill-defined and being set to 0.0 due to no predicted samples. Use `zero_division` parameter to control this behavior.\n",
      "  _warn_prf(average, modifier, msg_start, len(result))\n",
      "  1%|▊                                                                              | 20/2070 [00:00<00:10, 192.26it/s]"
     ]
    },
    {
     "name": "stdout",
     "output_type": "stream",
     "text": [
      "[[0.41024995]\n",
      " [0.36989242]\n",
      " [0.36900434]\n",
      " [0.3827016 ]\n",
      " [0.37186626]\n",
      " [0.37122047]\n",
      " [0.41425756]\n",
      " [0.367897  ]\n",
      " [0.36986762]\n",
      " [0.37453657]]\n",
      "[0. 0. 0. 0. 0. 0. 0. 0. 0. 0.]\n",
      "[0 0 0 0 0 1 0 0 0 0]\n",
      "\n",
      " Confusion matrix: \n",
      " [[12654  1545]\n",
      " [    0     0]]\n",
      "F1 Score: 0.0\n",
      "Accuracy: 0.8911895203887598\n",
      "Precision: 0.0\n",
      "Recall: 0.0\n",
      "ROC AUC: 0.5\n",
      "Epoch 32 | Test Loss 0.5349226326824309\n"
     ]
    },
    {
     "name": "stderr",
     "output_type": "stream",
     "text": [
      "100%|█████████████████████████████████████████████████████████████████████████████| 2070/2070 [00:11<00:00, 185.73it/s]\n",
      "C:\\for_work\\anaconda\\lib\\site-packages\\sklearn\\metrics\\_classification.py:1308: UndefinedMetricWarning: Precision is ill-defined and being set to 0.0 due to no predicted samples. Use `zero_division` parameter to control this behavior.\n",
      "  _warn_prf(average, modifier, msg_start, len(result))\n"
     ]
    },
    {
     "name": "stdout",
     "output_type": "stream",
     "text": [
      "\n",
      " Confusion matrix: \n",
      " [[29356  3764]\n",
      " [    0     0]]\n",
      "F1 Score: 0.0\n",
      "Accuracy: 0.8863526570048309\n",
      "Precision: 0.0\n",
      "Recall: 0.0\n",
      "ROC AUC: 0.5\n",
      "Epoch 33 | Train Loss 0.536057753637793\n"
     ]
    },
    {
     "name": "stderr",
     "output_type": "stream",
     "text": [
      "C:\\for_work\\anaconda\\lib\\site-packages\\sklearn\\metrics\\_classification.py:1308: UndefinedMetricWarning: Precision is ill-defined and being set to 0.0 due to no predicted samples. Use `zero_division` parameter to control this behavior.\n",
      "  _warn_prf(average, modifier, msg_start, len(result))\n",
      "  1%|▋                                                                              | 19/2070 [00:00<00:11, 184.42it/s]"
     ]
    },
    {
     "name": "stdout",
     "output_type": "stream",
     "text": [
      "[[0.40772036]\n",
      " [0.3687257 ]\n",
      " [0.36799243]\n",
      " [0.38041723]\n",
      " [0.37033376]\n",
      " [0.36992487]\n",
      " [0.41140315]\n",
      " [0.36691245]\n",
      " [0.36871287]\n",
      " [0.37321743]]\n",
      "[0. 0. 0. 0. 0. 0. 0. 0. 0. 0.]\n",
      "[0 0 0 0 0 1 0 0 0 0]\n",
      "\n",
      " Confusion matrix: \n",
      " [[12654  1545]\n",
      " [    0     0]]\n",
      "F1 Score: 0.0\n",
      "Accuracy: 0.8911895203887598\n",
      "Precision: 0.0\n",
      "Recall: 0.0\n",
      "ROC AUC: 0.5\n",
      "Epoch 33 | Test Loss 0.5326709469427934\n"
     ]
    },
    {
     "name": "stderr",
     "output_type": "stream",
     "text": [
      "100%|█████████████████████████████████████████████████████████████████████████████| 2070/2070 [00:11<00:00, 186.73it/s]\n",
      "C:\\for_work\\anaconda\\lib\\site-packages\\sklearn\\metrics\\_classification.py:1308: UndefinedMetricWarning: Precision is ill-defined and being set to 0.0 due to no predicted samples. Use `zero_division` parameter to control this behavior.\n",
      "  _warn_prf(average, modifier, msg_start, len(result))\n"
     ]
    },
    {
     "name": "stdout",
     "output_type": "stream",
     "text": [
      "\n",
      " Confusion matrix: \n",
      " [[29357  3763]\n",
      " [    0     0]]\n",
      "F1 Score: 0.0\n",
      "Accuracy: 0.8863828502415458\n",
      "Precision: 0.0\n",
      "Recall: 0.0\n",
      "ROC AUC: 0.5\n",
      "Epoch 34 | Train Loss 0.5338534133013896\n"
     ]
    },
    {
     "name": "stderr",
     "output_type": "stream",
     "text": [
      "C:\\for_work\\anaconda\\lib\\site-packages\\sklearn\\metrics\\_classification.py:1308: UndefinedMetricWarning: Precision is ill-defined and being set to 0.0 due to no predicted samples. Use `zero_division` parameter to control this behavior.\n",
      "  _warn_prf(average, modifier, msg_start, len(result))\n",
      "  1%|▋                                                                              | 19/2070 [00:00<00:11, 184.41it/s]"
     ]
    },
    {
     "name": "stdout",
     "output_type": "stream",
     "text": [
      "[[0.40518874]\n",
      " [0.36759734]\n",
      " [0.36698642]\n",
      " [0.37842134]\n",
      " [0.36889753]\n",
      " [0.3687063 ]\n",
      " [0.40853128]\n",
      " [0.36593327]\n",
      " [0.36755863]\n",
      " [0.3718707 ]]\n",
      "[0. 0. 0. 0. 0. 0. 0. 0. 0. 0.]\n",
      "[0 0 0 0 0 1 0 0 0 0]\n",
      "\n",
      " Confusion matrix: \n",
      " [[12654  1545]\n",
      " [    0     0]]\n",
      "F1 Score: 0.0\n",
      "Accuracy: 0.8911895203887598\n",
      "Precision: 0.0\n",
      "Recall: 0.0\n",
      "ROC AUC: 0.5\n",
      "Epoch 34 | Test Loss 0.5304843292043016\n"
     ]
    },
    {
     "name": "stderr",
     "output_type": "stream",
     "text": [
      "100%|█████████████████████████████████████████████████████████████████████████████| 2070/2070 [00:11<00:00, 186.40it/s]\n",
      "C:\\for_work\\anaconda\\lib\\site-packages\\sklearn\\metrics\\_classification.py:1308: UndefinedMetricWarning: Precision is ill-defined and being set to 0.0 due to no predicted samples. Use `zero_division` parameter to control this behavior.\n",
      "  _warn_prf(average, modifier, msg_start, len(result))\n"
     ]
    },
    {
     "name": "stdout",
     "output_type": "stream",
     "text": [
      "\n",
      " Confusion matrix: \n",
      " [[29357  3763]\n",
      " [    0     0]]\n",
      "F1 Score: 0.0\n",
      "Accuracy: 0.8863828502415458\n",
      "Precision: 0.0\n",
      "Recall: 0.0\n",
      "ROC AUC: 0.5\n",
      "Epoch 35 | Train Loss 0.531725733478864\n"
     ]
    },
    {
     "name": "stderr",
     "output_type": "stream",
     "text": [
      "C:\\for_work\\anaconda\\lib\\site-packages\\sklearn\\metrics\\_classification.py:1308: UndefinedMetricWarning: Precision is ill-defined and being set to 0.0 due to no predicted samples. Use `zero_division` parameter to control this behavior.\n",
      "  _warn_prf(average, modifier, msg_start, len(result))\n",
      "  1%|▋                                                                              | 18/2070 [00:00<00:11, 178.18it/s]"
     ]
    },
    {
     "name": "stdout",
     "output_type": "stream",
     "text": [
      "[[0.4028297 ]\n",
      " [0.36651653]\n",
      " [0.3659907 ]\n",
      " [0.37651235]\n",
      " [0.3675813 ]\n",
      " [0.3675621 ]\n",
      " [0.40558875]\n",
      " [0.36496323]\n",
      " [0.36641118]\n",
      " [0.3705269 ]]\n",
      "[0. 0. 0. 0. 0. 0. 0. 0. 0. 0.]\n",
      "[0 0 0 0 0 1 0 0 0 0]\n",
      "\n",
      " Confusion matrix: \n",
      " [[12654  1545]\n",
      " [    0     0]]\n",
      "F1 Score: 0.0\n",
      "Accuracy: 0.8911895203887598\n",
      "Precision: 0.0\n",
      "Recall: 0.0\n",
      "ROC AUC: 0.5\n",
      "Epoch 35 | Test Loss 0.5283626414634086\n"
     ]
    },
    {
     "name": "stderr",
     "output_type": "stream",
     "text": [
      "100%|█████████████████████████████████████████████████████████████████████████████| 2070/2070 [00:11<00:00, 187.04it/s]\n",
      "C:\\for_work\\anaconda\\lib\\site-packages\\sklearn\\metrics\\_classification.py:1308: UndefinedMetricWarning: Precision is ill-defined and being set to 0.0 due to no predicted samples. Use `zero_division` parameter to control this behavior.\n",
      "  _warn_prf(average, modifier, msg_start, len(result))\n"
     ]
    },
    {
     "name": "stdout",
     "output_type": "stream",
     "text": [
      "\n",
      " Confusion matrix: \n",
      " [[29357  3763]\n",
      " [    0     0]]\n",
      "F1 Score: 0.0\n",
      "Accuracy: 0.8863828502415458\n",
      "Precision: 0.0\n",
      "Recall: 0.0\n",
      "ROC AUC: 0.5\n",
      "Epoch 36 | Train Loss 0.5296654022114289\n"
     ]
    },
    {
     "name": "stderr",
     "output_type": "stream",
     "text": [
      "C:\\for_work\\anaconda\\lib\\site-packages\\sklearn\\metrics\\_classification.py:1308: UndefinedMetricWarning: Precision is ill-defined and being set to 0.0 due to no predicted samples. Use `zero_division` parameter to control this behavior.\n",
      "  _warn_prf(average, modifier, msg_start, len(result))\n",
      "  1%|▋                                                                              | 18/2070 [00:00<00:11, 179.96it/s]"
     ]
    },
    {
     "name": "stdout",
     "output_type": "stream",
     "text": [
      "[[0.40053958]\n",
      " [0.36546743]\n",
      " [0.3650012 ]\n",
      " [0.37459853]\n",
      " [0.36637598]\n",
      " [0.36646006]\n",
      " [0.4026585 ]\n",
      " [0.3639996 ]\n",
      " [0.36530364]\n",
      " [0.36920917]]\n",
      "[0. 0. 0. 0. 0. 0. 0. 0. 0. 0.]\n",
      "[0 0 0 0 0 1 0 0 0 0]\n",
      "\n",
      " Confusion matrix: \n",
      " [[12654  1545]\n",
      " [    0     0]]\n",
      "F1 Score: 0.0\n",
      "Accuracy: 0.8911895203887598\n",
      "Precision: 0.0\n",
      "Recall: 0.0\n",
      "ROC AUC: 0.5\n",
      "Epoch 36 | Test Loss 0.5263021423204525\n"
     ]
    },
    {
     "name": "stderr",
     "output_type": "stream",
     "text": [
      "100%|█████████████████████████████████████████████████████████████████████████████| 2070/2070 [00:11<00:00, 187.72it/s]\n",
      "C:\\for_work\\anaconda\\lib\\site-packages\\sklearn\\metrics\\_classification.py:1308: UndefinedMetricWarning: Precision is ill-defined and being set to 0.0 due to no predicted samples. Use `zero_division` parameter to control this behavior.\n",
      "  _warn_prf(average, modifier, msg_start, len(result))\n"
     ]
    },
    {
     "name": "stdout",
     "output_type": "stream",
     "text": [
      "\n",
      " Confusion matrix: \n",
      " [[29356  3764]\n",
      " [    0     0]]\n",
      "F1 Score: 0.0\n",
      "Accuracy: 0.8863526570048309\n",
      "Precision: 0.0\n",
      "Recall: 0.0\n",
      "ROC AUC: 0.5\n",
      "Epoch 37 | Train Loss 0.52768163178566\n"
     ]
    },
    {
     "name": "stderr",
     "output_type": "stream",
     "text": [
      "C:\\for_work\\anaconda\\lib\\site-packages\\sklearn\\metrics\\_classification.py:1308: UndefinedMetricWarning: Precision is ill-defined and being set to 0.0 due to no predicted samples. Use `zero_division` parameter to control this behavior.\n",
      "  _warn_prf(average, modifier, msg_start, len(result))\n",
      "  1%|▋                                                                              | 19/2070 [00:00<00:10, 188.08it/s]"
     ]
    },
    {
     "name": "stdout",
     "output_type": "stream",
     "text": [
      "[[0.39826447]\n",
      " [0.36443612]\n",
      " [0.36402008]\n",
      " [0.37260452]\n",
      " [0.3652249 ]\n",
      " [0.3653803 ]\n",
      " [0.39977673]\n",
      " [0.36304623]\n",
      " [0.3642512 ]\n",
      " [0.36794   ]]\n",
      "[0. 0. 0. 0. 0. 0. 0. 0. 0. 0.]\n",
      "[0 0 0 0 0 1 0 0 0 0]\n",
      "\n",
      " Confusion matrix: \n",
      " [[12654  1545]\n",
      " [    0     0]]\n",
      "F1 Score: 0.0\n",
      "Accuracy: 0.8911895203887598\n",
      "Precision: 0.0\n",
      "Recall: 0.0\n",
      "ROC AUC: 0.5\n",
      "Epoch 37 | Test Loss 0.5242948324025214\n"
     ]
    },
    {
     "name": "stderr",
     "output_type": "stream",
     "text": [
      "100%|█████████████████████████████████████████████████████████████████████████████| 2070/2070 [00:11<00:00, 186.34it/s]\n",
      "C:\\for_work\\anaconda\\lib\\site-packages\\sklearn\\metrics\\_classification.py:1308: UndefinedMetricWarning: Precision is ill-defined and being set to 0.0 due to no predicted samples. Use `zero_division` parameter to control this behavior.\n",
      "  _warn_prf(average, modifier, msg_start, len(result))\n"
     ]
    },
    {
     "name": "stdout",
     "output_type": "stream",
     "text": [
      "\n",
      " Confusion matrix: \n",
      " [[29356  3764]\n",
      " [    0     0]]\n",
      "F1 Score: 0.0\n",
      "Accuracy: 0.8863526570048309\n",
      "Precision: 0.0\n",
      "Recall: 0.0\n",
      "ROC AUC: 0.5\n",
      "Epoch 38 | Train Loss 0.525738066981956\n"
     ]
    },
    {
     "name": "stderr",
     "output_type": "stream",
     "text": [
      "C:\\for_work\\anaconda\\lib\\site-packages\\sklearn\\metrics\\_classification.py:1308: UndefinedMetricWarning: Precision is ill-defined and being set to 0.0 due to no predicted samples. Use `zero_division` parameter to control this behavior.\n",
      "  _warn_prf(average, modifier, msg_start, len(result))\n",
      "  1%|▋                                                                              | 19/2070 [00:00<00:10, 188.08it/s]"
     ]
    },
    {
     "name": "stdout",
     "output_type": "stream",
     "text": [
      "[[0.39590186]\n",
      " [0.36340857]\n",
      " [0.36304387]\n",
      " [0.37057623]\n",
      " [0.36410043]\n",
      " [0.36430797]\n",
      " [0.39692143]\n",
      " [0.362098  ]\n",
      " [0.36323798]\n",
      " [0.36673436]]\n",
      "[0. 0. 0. 0. 0. 0. 0. 0. 0. 0.]\n",
      "[0 0 0 0 0 1 0 0 0 0]\n",
      "\n",
      " Confusion matrix: \n",
      " [[12654  1545]\n",
      " [    0     0]]\n",
      "F1 Score: 0.0\n",
      "Accuracy: 0.8911895203887598\n",
      "Precision: 0.0\n",
      "Recall: 0.0\n",
      "ROC AUC: 0.5\n",
      "Epoch 38 | Test Loss 0.522345669768952\n"
     ]
    },
    {
     "name": "stderr",
     "output_type": "stream",
     "text": [
      "100%|█████████████████████████████████████████████████████████████████████████████| 2070/2070 [00:11<00:00, 185.04it/s]\n",
      "C:\\for_work\\anaconda\\lib\\site-packages\\sklearn\\metrics\\_classification.py:1308: UndefinedMetricWarning: Precision is ill-defined and being set to 0.0 due to no predicted samples. Use `zero_division` parameter to control this behavior.\n",
      "  _warn_prf(average, modifier, msg_start, len(result))\n"
     ]
    },
    {
     "name": "stdout",
     "output_type": "stream",
     "text": [
      "\n",
      " Confusion matrix: \n",
      " [[29358  3762]\n",
      " [    0     0]]\n",
      "F1 Score: 0.0\n",
      "Accuracy: 0.8864130434782609\n",
      "Precision: 0.0\n",
      "Recall: 0.0\n",
      "ROC AUC: 0.5\n",
      "Epoch 39 | Train Loss 0.5238213897039349\n"
     ]
    },
    {
     "name": "stderr",
     "output_type": "stream",
     "text": [
      "C:\\for_work\\anaconda\\lib\\site-packages\\sklearn\\metrics\\_classification.py:1308: UndefinedMetricWarning: Precision is ill-defined and being set to 0.0 due to no predicted samples. Use `zero_division` parameter to control this behavior.\n",
      "  _warn_prf(average, modifier, msg_start, len(result))\n",
      "  1%|▋                                                                              | 19/2070 [00:00<00:10, 188.05it/s]"
     ]
    },
    {
     "name": "stdout",
     "output_type": "stream",
     "text": [
      "[[0.39313826]\n",
      " [0.36237052]\n",
      " [0.36207065]\n",
      " [0.36857173]\n",
      " [0.36298865]\n",
      " [0.36324185]\n",
      " [0.3938881 ]\n",
      " [0.3611511 ]\n",
      " [0.362242  ]\n",
      " [0.36557996]]\n",
      "[0. 0. 0. 0. 0. 0. 0. 0. 0. 0.]\n",
      "[0 0 0 0 0 1 0 0 0 0]\n",
      "\n",
      " Confusion matrix: \n",
      " [[12654  1545]\n",
      " [    0     0]]\n",
      "F1 Score: 0.0\n",
      "Accuracy: 0.8911895203887598\n",
      "Precision: 0.0\n",
      "Recall: 0.0\n",
      "ROC AUC: 0.5\n",
      "Epoch 39 | Test Loss 0.5204492110658336\n"
     ]
    },
    {
     "name": "stderr",
     "output_type": "stream",
     "text": [
      "100%|█████████████████████████████████████████████████████████████████████████████| 2070/2070 [00:11<00:00, 186.86it/s]\n",
      "C:\\for_work\\anaconda\\lib\\site-packages\\sklearn\\metrics\\_classification.py:1308: UndefinedMetricWarning: Precision is ill-defined and being set to 0.0 due to no predicted samples. Use `zero_division` parameter to control this behavior.\n",
      "  _warn_prf(average, modifier, msg_start, len(result))\n"
     ]
    },
    {
     "name": "stdout",
     "output_type": "stream",
     "text": [
      "\n",
      " Confusion matrix: \n",
      " [[29359  3761]\n",
      " [    0     0]]\n",
      "F1 Score: 0.0\n",
      "Accuracy: 0.8864432367149758\n",
      "Precision: 0.0\n",
      "Recall: 0.0\n",
      "ROC AUC: 0.5\n",
      "Epoch 40 | Train Loss 0.5219641734868432\n"
     ]
    },
    {
     "name": "stderr",
     "output_type": "stream",
     "text": [
      "C:\\for_work\\anaconda\\lib\\site-packages\\sklearn\\metrics\\_classification.py:1308: UndefinedMetricWarning: Precision is ill-defined and being set to 0.0 due to no predicted samples. Use `zero_division` parameter to control this behavior.\n",
      "  _warn_prf(average, modifier, msg_start, len(result))\n",
      "  1%|▋                                                                              | 19/2070 [00:00<00:11, 180.91it/s]"
     ]
    },
    {
     "name": "stdout",
     "output_type": "stream",
     "text": [
      "[[0.39000192]\n",
      " [0.36131892]\n",
      " [0.3611035 ]\n",
      " [0.36674008]\n",
      " [0.36186498]\n",
      " [0.36219403]\n",
      " [0.39004585]\n",
      " [0.36020783]\n",
      " [0.36125657]\n",
      " [0.3644617 ]]\n",
      "[0. 0. 0. 0. 0. 0. 0. 0. 0. 0.]\n",
      "[0 0 0 0 0 1 0 0 0 0]\n",
      "\n",
      " Confusion matrix: \n",
      " [[12654  1545]\n",
      " [    0     0]]\n",
      "F1 Score: 0.0\n",
      "Accuracy: 0.8911895203887598\n",
      "Precision: 0.0\n",
      "Recall: 0.0\n",
      "ROC AUC: 0.5\n",
      "Epoch 40 | Test Loss 0.5186064192303667\n"
     ]
    },
    {
     "name": "stderr",
     "output_type": "stream",
     "text": [
      "100%|█████████████████████████████████████████████████████████████████████████████| 2070/2070 [00:11<00:00, 186.30it/s]\n",
      "C:\\for_work\\anaconda\\lib\\site-packages\\sklearn\\metrics\\_classification.py:1308: UndefinedMetricWarning: Precision is ill-defined and being set to 0.0 due to no predicted samples. Use `zero_division` parameter to control this behavior.\n",
      "  _warn_prf(average, modifier, msg_start, len(result))\n"
     ]
    },
    {
     "name": "stdout",
     "output_type": "stream",
     "text": [
      "\n",
      " Confusion matrix: \n",
      " [[29357  3763]\n",
      " [    0     0]]\n",
      "F1 Score: 0.0\n",
      "Accuracy: 0.8863828502415458\n",
      "Precision: 0.0\n",
      "Recall: 0.0\n",
      "ROC AUC: 0.5\n",
      "Epoch 41 | Train Loss 0.520219955884892\n"
     ]
    },
    {
     "name": "stderr",
     "output_type": "stream",
     "text": [
      "C:\\for_work\\anaconda\\lib\\site-packages\\sklearn\\metrics\\_classification.py:1308: UndefinedMetricWarning: Precision is ill-defined and being set to 0.0 due to no predicted samples. Use `zero_division` parameter to control this behavior.\n",
      "  _warn_prf(average, modifier, msg_start, len(result))\n",
      "  1%|▋                                                                              | 19/2070 [00:00<00:11, 182.65it/s]"
     ]
    },
    {
     "name": "stdout",
     "output_type": "stream",
     "text": [
      "[[0.38664412]\n",
      " [0.36027145]\n",
      " [0.36014548]\n",
      " [0.36512756]\n",
      " [0.36078933]\n",
      " [0.36116764]\n",
      " [0.38553545]\n",
      " [0.35927165]\n",
      " [0.360283  ]\n",
      " [0.36337054]]\n",
      "[0. 0. 0. 0. 0. 0. 0. 0. 0. 0.]\n",
      "[0 0 0 0 0 1 0 0 0 0]\n",
      "\n",
      " Confusion matrix: \n",
      " [[12654  1545]\n",
      " [    0     0]]\n",
      "F1 Score: 0.0\n",
      "Accuracy: 0.8911895203887598\n",
      "Precision: 0.0\n",
      "Recall: 0.0\n",
      "ROC AUC: 0.5\n",
      "Epoch 41 | Test Loss 0.5168306893325066\n"
     ]
    },
    {
     "name": "stderr",
     "output_type": "stream",
     "text": [
      "100%|█████████████████████████████████████████████████████████████████████████████| 2070/2070 [00:11<00:00, 186.16it/s]\n",
      "C:\\for_work\\anaconda\\lib\\site-packages\\sklearn\\metrics\\_classification.py:1308: UndefinedMetricWarning: Precision is ill-defined and being set to 0.0 due to no predicted samples. Use `zero_division` parameter to control this behavior.\n",
      "  _warn_prf(average, modifier, msg_start, len(result))\n"
     ]
    },
    {
     "name": "stdout",
     "output_type": "stream",
     "text": [
      "\n",
      " Confusion matrix: \n",
      " [[29359  3761]\n",
      " [    0     0]]\n",
      "F1 Score: 0.0\n",
      "Accuracy: 0.8864432367149758\n",
      "Precision: 0.0\n",
      "Recall: 0.0\n",
      "ROC AUC: 0.5\n",
      "Epoch 42 | Train Loss 0.5184689518190236\n"
     ]
    },
    {
     "name": "stderr",
     "output_type": "stream",
     "text": [
      "C:\\for_work\\anaconda\\lib\\site-packages\\sklearn\\metrics\\_classification.py:1308: UndefinedMetricWarning: Precision is ill-defined and being set to 0.0 due to no predicted samples. Use `zero_division` parameter to control this behavior.\n",
      "  _warn_prf(average, modifier, msg_start, len(result))\n",
      "  1%|▋                                                                              | 19/2070 [00:00<00:11, 186.23it/s]"
     ]
    },
    {
     "name": "stdout",
     "output_type": "stream",
     "text": [
      "[[0.38310984]\n",
      " [0.3592372 ]\n",
      " [0.35918447]\n",
      " [0.36362433]\n",
      " [0.35973695]\n",
      " [0.36014593]\n",
      " [0.38123998]\n",
      " [0.35833293]\n",
      " [0.35930857]\n",
      " [0.36228395]]\n",
      "[0. 0. 0. 0. 0. 0. 0. 0. 0. 0.]\n",
      "[0 0 0 0 0 1 0 0 0 0]\n",
      "\n",
      " Confusion matrix: \n",
      " [[12654  1545]\n",
      " [    0     0]]\n",
      "F1 Score: 0.0\n",
      "Accuracy: 0.8911895203887598\n",
      "Precision: 0.0\n",
      "Recall: 0.0\n",
      "ROC AUC: 0.5\n",
      "Epoch 42 | Test Loss 0.5151033957262297\n"
     ]
    },
    {
     "name": "stderr",
     "output_type": "stream",
     "text": [
      "100%|█████████████████████████████████████████████████████████████████████████████| 2070/2070 [00:11<00:00, 186.71it/s]\n",
      "C:\\for_work\\anaconda\\lib\\site-packages\\sklearn\\metrics\\_classification.py:1308: UndefinedMetricWarning: Precision is ill-defined and being set to 0.0 due to no predicted samples. Use `zero_division` parameter to control this behavior.\n",
      "  _warn_prf(average, modifier, msg_start, len(result))\n"
     ]
    },
    {
     "name": "stdout",
     "output_type": "stream",
     "text": [
      "\n",
      " Confusion matrix: \n",
      " [[29356  3764]\n",
      " [    0     0]]\n",
      "F1 Score: 0.0\n",
      "Accuracy: 0.8863526570048309\n",
      "Precision: 0.0\n",
      "Recall: 0.0\n",
      "ROC AUC: 0.5\n",
      "Epoch 43 | Train Loss 0.5168535704917954\n"
     ]
    },
    {
     "name": "stderr",
     "output_type": "stream",
     "text": [
      "C:\\for_work\\anaconda\\lib\\site-packages\\sklearn\\metrics\\_classification.py:1308: UndefinedMetricWarning: Precision is ill-defined and being set to 0.0 due to no predicted samples. Use `zero_division` parameter to control this behavior.\n",
      "  _warn_prf(average, modifier, msg_start, len(result))\n",
      "  1%|▋                                                                              | 19/2070 [00:00<00:10, 188.08it/s]"
     ]
    },
    {
     "name": "stdout",
     "output_type": "stream",
     "text": [
      "[[0.37972695]\n",
      " [0.35823748]\n",
      " [0.35823065]\n",
      " [0.36213842]\n",
      " [0.35868084]\n",
      " [0.35913694]\n",
      " [0.37745717]\n",
      " [0.35740224]\n",
      " [0.3583444 ]\n",
      " [0.361206  ]]\n",
      "[0. 0. 0. 0. 0. 0. 0. 0. 0. 0.]\n",
      "[0 0 0 0 0 1 0 0 0 0]\n",
      "\n",
      " Confusion matrix: \n",
      " [[12654  1545]\n",
      " [    0     0]]\n",
      "F1 Score: 0.0\n",
      "Accuracy: 0.8911895203887598\n",
      "Precision: 0.0\n",
      "Recall: 0.0\n",
      "ROC AUC: 0.5\n",
      "Epoch 43 | Test Loss 0.513437244269225\n"
     ]
    },
    {
     "name": "stderr",
     "output_type": "stream",
     "text": [
      "100%|█████████████████████████████████████████████████████████████████████████████| 2070/2070 [00:11<00:00, 185.77it/s]\n",
      "C:\\for_work\\anaconda\\lib\\site-packages\\sklearn\\metrics\\_classification.py:1308: UndefinedMetricWarning: Precision is ill-defined and being set to 0.0 due to no predicted samples. Use `zero_division` parameter to control this behavior.\n",
      "  _warn_prf(average, modifier, msg_start, len(result))\n"
     ]
    },
    {
     "name": "stdout",
     "output_type": "stream",
     "text": [
      "\n",
      " Confusion matrix: \n",
      " [[29357  3763]\n",
      " [    0     0]]\n",
      "F1 Score: 0.0\n",
      "Accuracy: 0.8863828502415458\n",
      "Precision: 0.0\n",
      "Recall: 0.0\n",
      "ROC AUC: 0.5\n",
      "Epoch 44 | Train Loss 0.5152345399205811\n"
     ]
    },
    {
     "name": "stderr",
     "output_type": "stream",
     "text": [
      "C:\\for_work\\anaconda\\lib\\site-packages\\sklearn\\metrics\\_classification.py:1308: UndefinedMetricWarning: Precision is ill-defined and being set to 0.0 due to no predicted samples. Use `zero_division` parameter to control this behavior.\n",
      "  _warn_prf(average, modifier, msg_start, len(result))\n",
      "  1%|▋                                                                              | 19/2070 [00:00<00:11, 186.23it/s]"
     ]
    },
    {
     "name": "stdout",
     "output_type": "stream",
     "text": [
      "[[0.37675843]\n",
      " [0.35725692]\n",
      " [0.35727942]\n",
      " [0.3606188 ]\n",
      " [0.3576651 ]\n",
      " [0.358133  ]\n",
      " [0.3739388 ]\n",
      " [0.35647547]\n",
      " [0.3573883 ]\n",
      " [0.36013356]]\n",
      "[0. 0. 0. 0. 0. 0. 0. 0. 0. 0.]\n",
      "[0 0 0 0 0 1 0 0 0 0]\n",
      "\n",
      " Confusion matrix: \n",
      " [[12654  1545]\n",
      " [    0     0]]\n",
      "F1 Score: 0.0\n",
      "Accuracy: 0.8911895203887598\n",
      "Precision: 0.0\n",
      "Recall: 0.0\n",
      "ROC AUC: 0.5\n",
      "Epoch 44 | Test Loss 0.5118252004052067\n"
     ]
    },
    {
     "name": "stderr",
     "output_type": "stream",
     "text": [
      "100%|█████████████████████████████████████████████████████████████████████████████| 2070/2070 [00:11<00:00, 187.22it/s]\n",
      "C:\\for_work\\anaconda\\lib\\site-packages\\sklearn\\metrics\\_classification.py:1308: UndefinedMetricWarning: Precision is ill-defined and being set to 0.0 due to no predicted samples. Use `zero_division` parameter to control this behavior.\n",
      "  _warn_prf(average, modifier, msg_start, len(result))\n"
     ]
    },
    {
     "name": "stdout",
     "output_type": "stream",
     "text": [
      "\n",
      " Confusion matrix: \n",
      " [[29356  3764]\n",
      " [    0     0]]\n",
      "F1 Score: 0.0\n",
      "Accuracy: 0.8863526570048309\n",
      "Precision: 0.0\n",
      "Recall: 0.0\n",
      "ROC AUC: 0.5\n",
      "Epoch 45 | Train Loss 0.5136955359707708\n"
     ]
    },
    {
     "name": "stderr",
     "output_type": "stream",
     "text": [
      "C:\\for_work\\anaconda\\lib\\site-packages\\sklearn\\metrics\\_classification.py:1308: UndefinedMetricWarning: Precision is ill-defined and being set to 0.0 due to no predicted samples. Use `zero_division` parameter to control this behavior.\n",
      "  _warn_prf(average, modifier, msg_start, len(result))\n",
      "  1%|▋                                                                              | 19/2070 [00:00<00:11, 182.65it/s]"
     ]
    },
    {
     "name": "stdout",
     "output_type": "stream",
     "text": [
      "[[0.37392533]\n",
      " [0.3562832 ]\n",
      " [0.35632867]\n",
      " [0.3591796 ]\n",
      " [0.35668525]\n",
      " [0.35712957]\n",
      " [0.37079358]\n",
      " [0.35554957]\n",
      " [0.35643762]\n",
      " [0.3590664 ]]\n",
      "[0. 0. 0. 0. 0. 0. 0. 0. 0. 0.]\n",
      "[0 0 0 0 0 1 0 0 0 0]\n",
      "\n",
      " Confusion matrix: \n",
      " [[12654  1545]\n",
      " [    0     0]]\n",
      "F1 Score: 0.0\n",
      "Accuracy: 0.8911895203887598\n",
      "Precision: 0.0\n",
      "Recall: 0.0\n",
      "ROC AUC: 0.5\n",
      "Epoch 45 | Test Loss 0.5102627059897861\n"
     ]
    },
    {
     "name": "stderr",
     "output_type": "stream",
     "text": [
      "100%|█████████████████████████████████████████████████████████████████████████████| 2070/2070 [00:11<00:00, 186.68it/s]\n",
      "C:\\for_work\\anaconda\\lib\\site-packages\\sklearn\\metrics\\_classification.py:1308: UndefinedMetricWarning: Precision is ill-defined and being set to 0.0 due to no predicted samples. Use `zero_division` parameter to control this behavior.\n",
      "  _warn_prf(average, modifier, msg_start, len(result))\n"
     ]
    },
    {
     "name": "stdout",
     "output_type": "stream",
     "text": [
      "\n",
      " Confusion matrix: \n",
      " [[29357  3763]\n",
      " [    0     0]]\n",
      "F1 Score: 0.0\n",
      "Accuracy: 0.8863828502415458\n",
      "Precision: 0.0\n",
      "Recall: 0.0\n",
      "ROC AUC: 0.5\n",
      "Epoch 46 | Train Loss 0.5121755739197063\n"
     ]
    },
    {
     "name": "stderr",
     "output_type": "stream",
     "text": [
      "C:\\for_work\\anaconda\\lib\\site-packages\\sklearn\\metrics\\_classification.py:1308: UndefinedMetricWarning: Precision is ill-defined and being set to 0.0 due to no predicted samples. Use `zero_division` parameter to control this behavior.\n",
      "  _warn_prf(average, modifier, msg_start, len(result))\n",
      "  1%|▋                                                                              | 19/2070 [00:00<00:11, 186.21it/s]"
     ]
    },
    {
     "name": "stdout",
     "output_type": "stream",
     "text": [
      "[[0.3710259 ]\n",
      " [0.35531887]\n",
      " [0.3553833 ]\n",
      " [0.35786524]\n",
      " [0.35571277]\n",
      " [0.35613248]\n",
      " [0.36820745]\n",
      " [0.35462868]\n",
      " [0.35549617]\n",
      " [0.3580118 ]]\n",
      "[0. 0. 0. 0. 0. 0. 0. 0. 0. 0.]\n",
      "[0 0 0 0 0 1 0 0 0 0]\n",
      "\n",
      " Confusion matrix: \n",
      " [[12654  1545]\n",
      " [    0     0]]\n",
      "F1 Score: 0.0\n",
      "Accuracy: 0.8911895203887598\n",
      "Precision: 0.0\n",
      "Recall: 0.0\n",
      "ROC AUC: 0.5\n",
      "Epoch 46 | Test Loss 0.5087617861258017\n"
     ]
    },
    {
     "name": "stderr",
     "output_type": "stream",
     "text": [
      "100%|█████████████████████████████████████████████████████████████████████████████| 2070/2070 [00:11<00:00, 186.36it/s]\n",
      "C:\\for_work\\anaconda\\lib\\site-packages\\sklearn\\metrics\\_classification.py:1308: UndefinedMetricWarning: Precision is ill-defined and being set to 0.0 due to no predicted samples. Use `zero_division` parameter to control this behavior.\n",
      "  _warn_prf(average, modifier, msg_start, len(result))\n"
     ]
    },
    {
     "name": "stdout",
     "output_type": "stream",
     "text": [
      "\n",
      " Confusion matrix: \n",
      " [[29357  3763]\n",
      " [    0     0]]\n",
      "F1 Score: 0.0\n",
      "Accuracy: 0.8863828502415458\n",
      "Precision: 0.0\n",
      "Recall: 0.0\n",
      "ROC AUC: 0.5\n",
      "Epoch 47 | Train Loss 0.510719219699574\n"
     ]
    },
    {
     "name": "stderr",
     "output_type": "stream",
     "text": [
      "C:\\for_work\\anaconda\\lib\\site-packages\\sklearn\\metrics\\_classification.py:1308: UndefinedMetricWarning: Precision is ill-defined and being set to 0.0 due to no predicted samples. Use `zero_division` parameter to control this behavior.\n",
      "  _warn_prf(average, modifier, msg_start, len(result))\n",
      "  1%|▋                                                                              | 18/2070 [00:00<00:11, 179.96it/s]"
     ]
    },
    {
     "name": "stdout",
     "output_type": "stream",
     "text": [
      "[[0.36803904]\n",
      " [0.35435614]\n",
      " [0.3544361 ]\n",
      " [0.35663486]\n",
      " [0.35474294]\n",
      " [0.3551359 ]\n",
      " [0.36610377]\n",
      " [0.35370538]\n",
      " [0.3545556 ]\n",
      " [0.35696256]]\n",
      "[0. 0. 0. 0. 0. 0. 0. 0. 0. 0.]\n",
      "[0 0 0 0 0 1 0 0 0 0]\n",
      "\n",
      " Confusion matrix: \n",
      " [[12654  1545]\n",
      " [    0     0]]\n",
      "F1 Score: 0.0\n",
      "Accuracy: 0.8911895203887598\n",
      "Precision: 0.0\n",
      "Recall: 0.0\n",
      "ROC AUC: 0.5\n",
      "Epoch 47 | Test Loss 0.5073050749194514\n"
     ]
    },
    {
     "name": "stderr",
     "output_type": "stream",
     "text": [
      "100%|█████████████████████████████████████████████████████████████████████████████| 2070/2070 [00:11<00:00, 186.14it/s]\n",
      "C:\\for_work\\anaconda\\lib\\site-packages\\sklearn\\metrics\\_classification.py:1308: UndefinedMetricWarning: Precision is ill-defined and being set to 0.0 due to no predicted samples. Use `zero_division` parameter to control this behavior.\n",
      "  _warn_prf(average, modifier, msg_start, len(result))\n"
     ]
    },
    {
     "name": "stdout",
     "output_type": "stream",
     "text": [
      "\n",
      " Confusion matrix: \n",
      " [[29356  3764]\n",
      " [    0     0]]\n",
      "F1 Score: 0.0\n",
      "Accuracy: 0.8863526570048309\n",
      "Precision: 0.0\n",
      "Recall: 0.0\n",
      "ROC AUC: 0.5\n",
      "Epoch 48 | Train Loss 0.5093328680825119\n"
     ]
    },
    {
     "name": "stderr",
     "output_type": "stream",
     "text": [
      "C:\\for_work\\anaconda\\lib\\site-packages\\sklearn\\metrics\\_classification.py:1308: UndefinedMetricWarning: Precision is ill-defined and being set to 0.0 due to no predicted samples. Use `zero_division` parameter to control this behavior.\n",
      "  _warn_prf(average, modifier, msg_start, len(result))\n",
      "  1%|▋                                                                              | 19/2070 [00:00<00:10, 189.95it/s]"
     ]
    },
    {
     "name": "stdout",
     "output_type": "stream",
     "text": [
      "[[0.36507773]\n",
      " [0.3533955 ]\n",
      " [0.35349378]\n",
      " [0.3554722 ]\n",
      " [0.35379076]\n",
      " [0.35414916]\n",
      " [0.3642669 ]\n",
      " [0.35278654]\n",
      " [0.3536214 ]\n",
      " [0.35592166]]\n",
      "[0. 0. 0. 0. 0. 0. 0. 0. 0. 0.]\n",
      "[0 0 0 0 0 1 0 0 0 0]\n",
      "\n",
      " Confusion matrix: \n",
      " [[12654  1545]\n",
      " [    0     0]]\n",
      "F1 Score: 0.0\n",
      "Accuracy: 0.8911895203887598\n",
      "Precision: 0.0\n",
      "Recall: 0.0\n",
      "ROC AUC: 0.5\n",
      "Epoch 48 | Test Loss 0.5059040537825575\n"
     ]
    },
    {
     "name": "stderr",
     "output_type": "stream",
     "text": [
      "100%|█████████████████████████████████████████████████████████████████████████████| 2070/2070 [00:11<00:00, 187.32it/s]\n",
      "C:\\for_work\\anaconda\\lib\\site-packages\\sklearn\\metrics\\_classification.py:1308: UndefinedMetricWarning: Precision is ill-defined and being set to 0.0 due to no predicted samples. Use `zero_division` parameter to control this behavior.\n",
      "  _warn_prf(average, modifier, msg_start, len(result))\n"
     ]
    },
    {
     "name": "stdout",
     "output_type": "stream",
     "text": [
      "\n",
      " Confusion matrix: \n",
      " [[29356  3764]\n",
      " [    0     0]]\n",
      "F1 Score: 0.0\n",
      "Accuracy: 0.8863526570048309\n",
      "Precision: 0.0\n",
      "Recall: 0.0\n",
      "ROC AUC: 0.5\n",
      "Epoch 49 | Train Loss 0.5079762682822592\n"
     ]
    },
    {
     "name": "stderr",
     "output_type": "stream",
     "text": [
      "C:\\for_work\\anaconda\\lib\\site-packages\\sklearn\\metrics\\_classification.py:1308: UndefinedMetricWarning: Precision is ill-defined and being set to 0.0 due to no predicted samples. Use `zero_division` parameter to control this behavior.\n",
      "  _warn_prf(average, modifier, msg_start, len(result))\n",
      "  1%|▊                                                                              | 20/2070 [00:00<00:10, 194.11it/s]"
     ]
    },
    {
     "name": "stdout",
     "output_type": "stream",
     "text": [
      "[[0.36235443]\n",
      " [0.35242385]\n",
      " [0.35254833]\n",
      " [0.35434777]\n",
      " [0.35284388]\n",
      " [0.3531605 ]\n",
      " [0.36249706]\n",
      " [0.3518648 ]\n",
      " [0.3526837 ]\n",
      " [0.35486913]]\n",
      "[0. 0. 0. 0. 0. 0. 0. 0. 0. 0.]\n",
      "[0 0 0 0 0 1 0 0 0 0]\n",
      "\n",
      " Confusion matrix: \n",
      " [[12654  1545]\n",
      " [    0     0]]\n",
      "F1 Score: 0.0\n",
      "Accuracy: 0.8911895203887598\n",
      "Precision: 0.0\n",
      "Recall: 0.0\n",
      "ROC AUC: 0.5\n",
      "Epoch 49 | Test Loss 0.5045390251252029\n"
     ]
    },
    {
     "name": "stderr",
     "output_type": "stream",
     "text": [
      "100%|█████████████████████████████████████████████████████████████████████████████| 2070/2070 [00:11<00:00, 183.12it/s]\n",
      "C:\\for_work\\anaconda\\lib\\site-packages\\sklearn\\metrics\\_classification.py:1308: UndefinedMetricWarning: Precision is ill-defined and being set to 0.0 due to no predicted samples. Use `zero_division` parameter to control this behavior.\n",
      "  _warn_prf(average, modifier, msg_start, len(result))\n"
     ]
    },
    {
     "name": "stdout",
     "output_type": "stream",
     "text": [
      "\n",
      " Confusion matrix: \n",
      " [[29357  3763]\n",
      " [    0     0]]\n",
      "F1 Score: 0.0\n",
      "Accuracy: 0.8863828502415458\n",
      "Precision: 0.0\n",
      "Recall: 0.0\n",
      "ROC AUC: 0.5\n",
      "Epoch 50 | Train Loss 0.5066383733265641\n"
     ]
    },
    {
     "name": "stderr",
     "output_type": "stream",
     "text": [
      "C:\\for_work\\anaconda\\lib\\site-packages\\sklearn\\metrics\\_classification.py:1308: UndefinedMetricWarning: Precision is ill-defined and being set to 0.0 due to no predicted samples. Use `zero_division` parameter to control this behavior.\n",
      "  _warn_prf(average, modifier, msg_start, len(result))\n",
      "  1%|▍                                                                              | 12/2070 [00:00<00:18, 112.12it/s]"
     ]
    },
    {
     "name": "stdout",
     "output_type": "stream",
     "text": [
      "[[0.3601254 ]\n",
      " [0.35145485]\n",
      " [0.35160568]\n",
      " [0.3532456 ]\n",
      " [0.35189977]\n",
      " [0.35217592]\n",
      " [0.36072117]\n",
      " [0.35094702]\n",
      " [0.35174826]\n",
      " [0.35380536]]\n",
      "[0. 0. 0. 0. 0. 0. 0. 0. 0. 0.]\n",
      "[0 0 0 0 0 1 0 0 0 0]\n",
      "\n",
      " Confusion matrix: \n",
      " [[12654  1545]\n",
      " [    0     0]]\n",
      "F1 Score: 0.0\n",
      "Accuracy: 0.8911895203887598\n",
      "Precision: 0.0\n",
      "Recall: 0.0\n",
      "ROC AUC: 0.5\n",
      "Epoch 50 | Test Loss 0.5032175561866244\n"
     ]
    },
    {
     "name": "stderr",
     "output_type": "stream",
     "text": [
      "100%|█████████████████████████████████████████████████████████████████████████████| 2070/2070 [00:13<00:00, 148.82it/s]\n",
      "C:\\for_work\\anaconda\\lib\\site-packages\\sklearn\\metrics\\_classification.py:1308: UndefinedMetricWarning: Precision is ill-defined and being set to 0.0 due to no predicted samples. Use `zero_division` parameter to control this behavior.\n",
      "  _warn_prf(average, modifier, msg_start, len(result))\n"
     ]
    },
    {
     "name": "stdout",
     "output_type": "stream",
     "text": [
      "\n",
      " Confusion matrix: \n",
      " [[29357  3763]\n",
      " [    0     0]]\n",
      "F1 Score: 0.0\n",
      "Accuracy: 0.8863828502415458\n",
      "Precision: 0.0\n",
      "Recall: 0.0\n",
      "ROC AUC: 0.5\n",
      "Epoch 51 | Train Loss 0.5053578745339804\n"
     ]
    },
    {
     "name": "stderr",
     "output_type": "stream",
     "text": [
      "C:\\for_work\\anaconda\\lib\\site-packages\\sklearn\\metrics\\_classification.py:1308: UndefinedMetricWarning: Precision is ill-defined and being set to 0.0 due to no predicted samples. Use `zero_division` parameter to control this behavior.\n",
      "  _warn_prf(average, modifier, msg_start, len(result))\n",
      "  1%|▌                                                                              | 14/2070 [00:00<00:14, 139.97it/s]"
     ]
    },
    {
     "name": "stdout",
     "output_type": "stream",
     "text": [
      "[[0.3583358 ]\n",
      " [0.35049936]\n",
      " [0.3506638 ]\n",
      " [0.35214368]\n",
      " [0.3509554 ]\n",
      " [0.3511915 ]\n",
      " [0.35886332]\n",
      " [0.35003102]\n",
      " [0.35081306]\n",
      " [0.35272503]]\n",
      "[0. 0. 0. 0. 0. 0. 0. 0. 0. 0.]\n",
      "[0 0 0 0 0 1 0 0 0 0]\n",
      "\n",
      " Confusion matrix: \n",
      " [[12654  1545]\n",
      " [    0     0]]\n",
      "F1 Score: 0.0\n",
      "Accuracy: 0.8911895203887598\n",
      "Precision: 0.0\n",
      "Recall: 0.0\n",
      "ROC AUC: 0.5\n",
      "Epoch 51 | Test Loss 0.5019291949433249\n"
     ]
    },
    {
     "name": "stderr",
     "output_type": "stream",
     "text": [
      "100%|█████████████████████████████████████████████████████████████████████████████| 2070/2070 [00:13<00:00, 154.44it/s]\n",
      "C:\\for_work\\anaconda\\lib\\site-packages\\sklearn\\metrics\\_classification.py:1308: UndefinedMetricWarning: Precision is ill-defined and being set to 0.0 due to no predicted samples. Use `zero_division` parameter to control this behavior.\n",
      "  _warn_prf(average, modifier, msg_start, len(result))\n"
     ]
    },
    {
     "name": "stdout",
     "output_type": "stream",
     "text": [
      "\n",
      " Confusion matrix: \n",
      " [[29358  3762]\n",
      " [    0     0]]\n",
      "F1 Score: 0.0\n",
      "Accuracy: 0.8864130434782609\n",
      "Precision: 0.0\n",
      "Recall: 0.0\n",
      "ROC AUC: 0.5\n",
      "Epoch 52 | Train Loss 0.5040975382074642\n"
     ]
    },
    {
     "name": "stderr",
     "output_type": "stream",
     "text": [
      "C:\\for_work\\anaconda\\lib\\site-packages\\sklearn\\metrics\\_classification.py:1308: UndefinedMetricWarning: Precision is ill-defined and being set to 0.0 due to no predicted samples. Use `zero_division` parameter to control this behavior.\n",
      "  _warn_prf(average, modifier, msg_start, len(result))\n",
      "  1%|▌                                                                              | 15/2070 [00:00<00:14, 144.20it/s]"
     ]
    },
    {
     "name": "stdout",
     "output_type": "stream",
     "text": [
      "[[0.3567999 ]\n",
      " [0.34956047]\n",
      " [0.34972864]\n",
      " [0.35107496]\n",
      " [0.35001978]\n",
      " [0.35021067]\n",
      " [0.35701662]\n",
      " [0.34912196]\n",
      " [0.34988397]\n",
      " [0.35163984]]\n",
      "[0. 0. 0. 0. 0. 0. 0. 0. 0. 0.]\n",
      "[0 0 0 0 0 1 0 0 0 0]\n",
      "\n",
      " Confusion matrix: \n",
      " [[12654  1545]\n",
      " [    0     0]]\n",
      "F1 Score: 0.0\n",
      "Accuracy: 0.8911895203887598\n",
      "Precision: 0.0\n",
      "Recall: 0.0\n",
      "ROC AUC: 0.5\n",
      "Epoch 52 | Test Loss 0.5006792041900996\n"
     ]
    },
    {
     "name": "stderr",
     "output_type": "stream",
     "text": [
      "100%|█████████████████████████████████████████████████████████████████████████████| 2070/2070 [00:13<00:00, 151.65it/s]\n",
      "C:\\for_work\\anaconda\\lib\\site-packages\\sklearn\\metrics\\_classification.py:1308: UndefinedMetricWarning: Precision is ill-defined and being set to 0.0 due to no predicted samples. Use `zero_division` parameter to control this behavior.\n",
      "  _warn_prf(average, modifier, msg_start, len(result))\n"
     ]
    },
    {
     "name": "stdout",
     "output_type": "stream",
     "text": [
      "\n",
      " Confusion matrix: \n",
      " [[29357  3763]\n",
      " [    0     0]]\n",
      "F1 Score: 0.0\n",
      "Accuracy: 0.8863828502415458\n",
      "Precision: 0.0\n",
      "Recall: 0.0\n",
      "ROC AUC: 0.5\n",
      "Epoch 53 | Train Loss 0.5029057092424752\n"
     ]
    },
    {
     "name": "stderr",
     "output_type": "stream",
     "text": [
      "C:\\for_work\\anaconda\\lib\\site-packages\\sklearn\\metrics\\_classification.py:1308: UndefinedMetricWarning: Precision is ill-defined and being set to 0.0 due to no predicted samples. Use `zero_division` parameter to control this behavior.\n",
      "  _warn_prf(average, modifier, msg_start, len(result))\n",
      "  1%|▌                                                                              | 16/2070 [00:00<00:12, 159.96it/s]"
     ]
    },
    {
     "name": "stdout",
     "output_type": "stream",
     "text": [
      "[[0.35538164]\n",
      " [0.34862012]\n",
      " [0.3487883 ]\n",
      " [0.3500455 ]\n",
      " [0.3490803 ]\n",
      " [0.34921935]\n",
      " [0.35533416]\n",
      " [0.34820828]\n",
      " [0.34894997]\n",
      " [0.3505514 ]]\n",
      "[0. 0. 0. 0. 0. 0. 0. 0. 0. 0.]\n",
      "[0 0 0 0 0 1 0 0 0 0]\n",
      "\n",
      " Confusion matrix: \n",
      " [[12654  1545]\n",
      " [    0     0]]\n",
      "F1 Score: 0.0\n",
      "Accuracy: 0.8911895203887598\n",
      "Precision: 0.0\n",
      "Recall: 0.0\n",
      "ROC AUC: 0.5\n",
      "Epoch 53 | Test Loss 0.49945713740748326\n"
     ]
    },
    {
     "name": "stderr",
     "output_type": "stream",
     "text": [
      "100%|█████████████████████████████████████████████████████████████████████████████| 2070/2070 [00:13<00:00, 152.22it/s]\n",
      "C:\\for_work\\anaconda\\lib\\site-packages\\sklearn\\metrics\\_classification.py:1308: UndefinedMetricWarning: Precision is ill-defined and being set to 0.0 due to no predicted samples. Use `zero_division` parameter to control this behavior.\n",
      "  _warn_prf(average, modifier, msg_start, len(result))\n"
     ]
    },
    {
     "name": "stdout",
     "output_type": "stream",
     "text": [
      "\n",
      " Confusion matrix: \n",
      " [[29358  3762]\n",
      " [    0     0]]\n",
      "F1 Score: 0.0\n",
      "Accuracy: 0.8864130434782609\n",
      "Precision: 0.0\n",
      "Recall: 0.0\n",
      "ROC AUC: 0.5\n",
      "Epoch 54 | Train Loss 0.5017062052148552\n"
     ]
    },
    {
     "name": "stderr",
     "output_type": "stream",
     "text": [
      "C:\\for_work\\anaconda\\lib\\site-packages\\sklearn\\metrics\\_classification.py:1308: UndefinedMetricWarning: Precision is ill-defined and being set to 0.0 due to no predicted samples. Use `zero_division` parameter to control this behavior.\n",
      "  _warn_prf(average, modifier, msg_start, len(result))\n",
      "  1%|▌                                                                              | 16/2070 [00:00<00:13, 156.83it/s]"
     ]
    },
    {
     "name": "stdout",
     "output_type": "stream",
     "text": [
      "[[0.3540274 ]\n",
      " [0.34767577]\n",
      " [0.3478443 ]\n",
      " [0.3490378 ]\n",
      " [0.34813792]\n",
      " [0.34821954]\n",
      " [0.35384402]\n",
      " [0.34729233]\n",
      " [0.34801316]\n",
      " [0.34947342]]\n",
      "[0. 0. 0. 0. 0. 0. 0. 0. 0. 0.]\n",
      "[0 0 0 0 0 1 0 0 0 0]\n",
      "\n",
      " Confusion matrix: \n",
      " [[12654  1545]\n",
      " [    0     0]]\n",
      "F1 Score: 0.0\n",
      "Accuracy: 0.8911895203887598\n",
      "Precision: 0.0\n",
      "Recall: 0.0\n",
      "ROC AUC: 0.5\n",
      "Epoch 54 | Test Loss 0.4982611187943467\n"
     ]
    },
    {
     "name": "stderr",
     "output_type": "stream",
     "text": [
      "100%|█████████████████████████████████████████████████████████████████████████████| 2070/2070 [00:13<00:00, 152.91it/s]\n",
      "C:\\for_work\\anaconda\\lib\\site-packages\\sklearn\\metrics\\_classification.py:1308: UndefinedMetricWarning: Precision is ill-defined and being set to 0.0 due to no predicted samples. Use `zero_division` parameter to control this behavior.\n",
      "  _warn_prf(average, modifier, msg_start, len(result))\n"
     ]
    },
    {
     "name": "stdout",
     "output_type": "stream",
     "text": [
      "\n",
      " Confusion matrix: \n",
      " [[29357  3763]\n",
      " [    0     0]]\n",
      "F1 Score: 0.0\n",
      "Accuracy: 0.8863828502415458\n",
      "Precision: 0.0\n",
      "Recall: 0.0\n",
      "ROC AUC: 0.5\n",
      "Epoch 55 | Train Loss 0.5005714107826712\n"
     ]
    },
    {
     "name": "stderr",
     "output_type": "stream",
     "text": [
      "C:\\for_work\\anaconda\\lib\\site-packages\\sklearn\\metrics\\_classification.py:1308: UndefinedMetricWarning: Precision is ill-defined and being set to 0.0 due to no predicted samples. Use `zero_division` parameter to control this behavior.\n",
      "  _warn_prf(average, modifier, msg_start, len(result))\n",
      "  1%|▋                                                                              | 18/2070 [00:00<00:11, 171.39it/s]"
     ]
    },
    {
     "name": "stdout",
     "output_type": "stream",
     "text": [
      "[[0.35270667]\n",
      " [0.3467311 ]\n",
      " [0.34690028]\n",
      " [0.34803247]\n",
      " [0.34719735]\n",
      " [0.34721994]\n",
      " [0.3524723 ]\n",
      " [0.34637907]\n",
      " [0.34707853]\n",
      " [0.34841806]]\n",
      "[0. 0. 0. 0. 0. 0. 0. 0. 0. 0.]\n",
      "[0 0 0 0 0 1 0 0 0 0]\n",
      "\n",
      " Confusion matrix: \n",
      " [[12654  1545]\n",
      " [    0     0]]\n",
      "F1 Score: 0.0\n",
      "Accuracy: 0.8911895203887598\n",
      "Precision: 0.0\n",
      "Recall: 0.0\n",
      "ROC AUC: 0.5\n",
      "Epoch 55 | Test Loss 0.4970918151440921\n"
     ]
    },
    {
     "name": "stderr",
     "output_type": "stream",
     "text": [
      "100%|█████████████████████████████████████████████████████████████████████████████| 2070/2070 [00:12<00:00, 164.50it/s]\n",
      "C:\\for_work\\anaconda\\lib\\site-packages\\sklearn\\metrics\\_classification.py:1308: UndefinedMetricWarning: Precision is ill-defined and being set to 0.0 due to no predicted samples. Use `zero_division` parameter to control this behavior.\n",
      "  _warn_prf(average, modifier, msg_start, len(result))\n"
     ]
    },
    {
     "name": "stdout",
     "output_type": "stream",
     "text": [
      "\n",
      " Confusion matrix: \n",
      " [[29358  3762]\n",
      " [    0     0]]\n",
      "F1 Score: 0.0\n",
      "Accuracy: 0.8864130434782609\n",
      "Precision: 0.0\n",
      "Recall: 0.0\n",
      "ROC AUC: 0.5\n",
      "Epoch 56 | Train Loss 0.4994195074994783\n"
     ]
    },
    {
     "name": "stderr",
     "output_type": "stream",
     "text": [
      "C:\\for_work\\anaconda\\lib\\site-packages\\sklearn\\metrics\\_classification.py:1308: UndefinedMetricWarning: Precision is ill-defined and being set to 0.0 due to no predicted samples. Use `zero_division` parameter to control this behavior.\n",
      "  _warn_prf(average, modifier, msg_start, len(result))\n",
      "  1%|▌                                                                              | 16/2070 [00:00<00:12, 158.38it/s]"
     ]
    },
    {
     "name": "stdout",
     "output_type": "stream",
     "text": [
      "[[0.35137385]\n",
      " [0.34578434]\n",
      " [0.34595156]\n",
      " [0.34701526]\n",
      " [0.3462532 ]\n",
      " [0.3462218 ]\n",
      " [0.35115698]\n",
      " [0.34546435]\n",
      " [0.34614116]\n",
      " [0.34737596]]\n",
      "[0. 0. 0. 0. 0. 0. 0. 0. 0. 0.]\n",
      "[0 0 0 0 0 1 0 0 0 0]\n",
      "\n",
      " Confusion matrix: \n",
      " [[12654  1545]\n",
      " [    0     0]]\n",
      "F1 Score: 0.0\n",
      "Accuracy: 0.8911895203887598\n",
      "Precision: 0.0\n",
      "Recall: 0.0\n",
      "ROC AUC: 0.5\n",
      "Epoch 56 | Test Loss 0.4959411717749931\n"
     ]
    },
    {
     "name": "stderr",
     "output_type": "stream",
     "text": [
      "100%|█████████████████████████████████████████████████████████████████████████████| 2070/2070 [00:12<00:00, 164.14it/s]\n",
      "C:\\for_work\\anaconda\\lib\\site-packages\\sklearn\\metrics\\_classification.py:1308: UndefinedMetricWarning: Precision is ill-defined and being set to 0.0 due to no predicted samples. Use `zero_division` parameter to control this behavior.\n",
      "  _warn_prf(average, modifier, msg_start, len(result))\n"
     ]
    },
    {
     "name": "stdout",
     "output_type": "stream",
     "text": [
      "\n",
      " Confusion matrix: \n",
      " [[29357  3763]\n",
      " [    0     0]]\n",
      "F1 Score: 0.0\n",
      "Accuracy: 0.8863828502415458\n",
      "Precision: 0.0\n",
      "Recall: 0.0\n",
      "ROC AUC: 0.5\n",
      "Epoch 57 | Train Loss 0.4983256282005909\n"
     ]
    },
    {
     "name": "stderr",
     "output_type": "stream",
     "text": [
      "C:\\for_work\\anaconda\\lib\\site-packages\\sklearn\\metrics\\_classification.py:1308: UndefinedMetricWarning: Precision is ill-defined and being set to 0.0 due to no predicted samples. Use `zero_division` parameter to control this behavior.\n",
      "  _warn_prf(average, modifier, msg_start, len(result))\n",
      "  1%|▋                                                                              | 17/2070 [00:00<00:12, 161.87it/s]"
     ]
    },
    {
     "name": "stdout",
     "output_type": "stream",
     "text": [
      "[[0.35000023]\n",
      " [0.3448418 ]\n",
      " [0.3450015 ]\n",
      " [0.3460039 ]\n",
      " [0.34530878]\n",
      " [0.3452333 ]\n",
      " [0.34988368]\n",
      " [0.34455034]\n",
      " [0.34520423]\n",
      " [0.34634313]]\n",
      "[0. 0. 0. 0. 0. 0. 0. 0. 0. 0.]\n",
      "[0 0 0 0 0 1 0 0 0 0]\n",
      "\n",
      " Confusion matrix: \n",
      " [[12654  1545]\n",
      " [    0     0]]\n",
      "F1 Score: 0.0\n",
      "Accuracy: 0.8911895203887598\n",
      "Precision: 0.0\n",
      "Recall: 0.0\n",
      "ROC AUC: 0.5\n",
      "Epoch 57 | Test Loss 0.4948100451682065\n"
     ]
    },
    {
     "name": "stderr",
     "output_type": "stream",
     "text": [
      "100%|█████████████████████████████████████████████████████████████████████████████| 2070/2070 [00:12<00:00, 164.27it/s]\n",
      "C:\\for_work\\anaconda\\lib\\site-packages\\sklearn\\metrics\\_classification.py:1308: UndefinedMetricWarning: Precision is ill-defined and being set to 0.0 due to no predicted samples. Use `zero_division` parameter to control this behavior.\n",
      "  _warn_prf(average, modifier, msg_start, len(result))\n"
     ]
    },
    {
     "name": "stdout",
     "output_type": "stream",
     "text": [
      "\n",
      " Confusion matrix: \n",
      " [[29359  3761]\n",
      " [    0     0]]\n",
      "F1 Score: 0.0\n",
      "Accuracy: 0.8864432367149758\n",
      "Precision: 0.0\n",
      "Recall: 0.0\n",
      "ROC AUC: 0.5\n",
      "Epoch 58 | Train Loss 0.4971924908639152\n"
     ]
    },
    {
     "name": "stderr",
     "output_type": "stream",
     "text": [
      "C:\\for_work\\anaconda\\lib\\site-packages\\sklearn\\metrics\\_classification.py:1308: UndefinedMetricWarning: Precision is ill-defined and being set to 0.0 due to no predicted samples. Use `zero_division` parameter to control this behavior.\n",
      "  _warn_prf(average, modifier, msg_start, len(result))\n",
      "  1%|▌                                                                              | 16/2070 [00:00<00:12, 158.38it/s]"
     ]
    },
    {
     "name": "stdout",
     "output_type": "stream",
     "text": [
      "[[0.3486091 ]\n",
      " [0.34390518]\n",
      " [0.3440507 ]\n",
      " [0.34501576]\n",
      " [0.34436247]\n",
      " [0.34425214]\n",
      " [0.34863526]\n",
      " [0.34363583]\n",
      " [0.34426627]\n",
      " [0.34531158]]\n",
      "[0. 0. 0. 0. 0. 0. 0. 0. 0. 0.]\n",
      "[0 0 0 0 0 1 0 0 0 0]\n",
      "\n",
      " Confusion matrix: \n",
      " [[12654  1545]\n",
      " [    0     0]]\n",
      "F1 Score: 0.0\n",
      "Accuracy: 0.8911895203887598\n",
      "Precision: 0.0\n",
      "Recall: 0.0\n",
      "ROC AUC: 0.5\n",
      "Epoch 58 | Test Loss 0.4936977110736005\n"
     ]
    },
    {
     "name": "stderr",
     "output_type": "stream",
     "text": [
      "100%|█████████████████████████████████████████████████████████████████████████████| 2070/2070 [00:12<00:00, 164.53it/s]\n",
      "C:\\for_work\\anaconda\\lib\\site-packages\\sklearn\\metrics\\_classification.py:1308: UndefinedMetricWarning: Precision is ill-defined and being set to 0.0 due to no predicted samples. Use `zero_division` parameter to control this behavior.\n",
      "  _warn_prf(average, modifier, msg_start, len(result))\n"
     ]
    },
    {
     "name": "stdout",
     "output_type": "stream",
     "text": [
      "\n",
      " Confusion matrix: \n",
      " [[29357  3763]\n",
      " [    0     0]]\n",
      "F1 Score: 0.0\n",
      "Accuracy: 0.8863828502415458\n",
      "Precision: 0.0\n",
      "Recall: 0.0\n",
      "ROC AUC: 0.5\n",
      "Epoch 59 | Train Loss 0.4961522912201674\n"
     ]
    },
    {
     "name": "stderr",
     "output_type": "stream",
     "text": [
      "C:\\for_work\\anaconda\\lib\\site-packages\\sklearn\\metrics\\_classification.py:1308: UndefinedMetricWarning: Precision is ill-defined and being set to 0.0 due to no predicted samples. Use `zero_division` parameter to control this behavior.\n",
      "  _warn_prf(average, modifier, msg_start, len(result))\n",
      "  1%|▋                                                                              | 17/2070 [00:00<00:12, 168.26it/s]"
     ]
    },
    {
     "name": "stdout",
     "output_type": "stream",
     "text": [
      "[[0.347308  ]\n",
      " [0.3429742 ]\n",
      " [0.34310272]\n",
      " [0.34403622]\n",
      " [0.34341478]\n",
      " [0.34327936]\n",
      " [0.34739646]\n",
      " [0.3427223 ]\n",
      " [0.34332758]\n",
      " [0.3442832 ]]\n",
      "[0. 0. 0. 0. 0. 0. 0. 0. 0. 0.]\n",
      "[0 0 0 0 0 1 0 0 0 0]\n",
      "\n",
      " Confusion matrix: \n",
      " [[12654  1545]\n",
      " [    0     0]]\n",
      "F1 Score: 0.0\n",
      "Accuracy: 0.8911895203887598\n",
      "Precision: 0.0\n",
      "Recall: 0.0\n",
      "ROC AUC: 0.5\n",
      "Epoch 59 | Test Loss 0.4926012208064397\n"
     ]
    },
    {
     "name": "stderr",
     "output_type": "stream",
     "text": [
      "100%|█████████████████████████████████████████████████████████████████████████████| 2070/2070 [00:12<00:00, 165.82it/s]\n",
      "C:\\for_work\\anaconda\\lib\\site-packages\\sklearn\\metrics\\_classification.py:1308: UndefinedMetricWarning: Precision is ill-defined and being set to 0.0 due to no predicted samples. Use `zero_division` parameter to control this behavior.\n",
      "  _warn_prf(average, modifier, msg_start, len(result))\n"
     ]
    },
    {
     "name": "stdout",
     "output_type": "stream",
     "text": [
      "\n",
      " Confusion matrix: \n",
      " [[29359  3761]\n",
      " [    0     0]]\n",
      "F1 Score: 0.0\n",
      "Accuracy: 0.8864432367149758\n",
      "Precision: 0.0\n",
      "Recall: 0.0\n",
      "ROC AUC: 0.5\n",
      "Epoch 60 | Train Loss 0.4950525940472377\n"
     ]
    },
    {
     "name": "stderr",
     "output_type": "stream",
     "text": [
      "C:\\for_work\\anaconda\\lib\\site-packages\\sklearn\\metrics\\_classification.py:1308: UndefinedMetricWarning: Precision is ill-defined and being set to 0.0 due to no predicted samples. Use `zero_division` parameter to control this behavior.\n",
      "  _warn_prf(average, modifier, msg_start, len(result))\n",
      "  1%|▋                                                                              | 17/2070 [00:00<00:12, 165.02it/s]"
     ]
    },
    {
     "name": "stdout",
     "output_type": "stream",
     "text": [
      "[[0.34613797]\n",
      " [0.34204957]\n",
      " [0.34216028]\n",
      " [0.34305573]\n",
      " [0.34247074]\n",
      " [0.34231782]\n",
      " [0.34620363]\n",
      " [0.34181267]\n",
      " [0.34239262]\n",
      " [0.34326264]]\n",
      "[0. 0. 0. 0. 0. 0. 0. 0. 0. 0.]\n",
      "[0 0 0 0 0 1 0 0 0 0]\n",
      "\n",
      " Confusion matrix: \n",
      " [[12654  1545]\n",
      " [    0     0]]\n",
      "F1 Score: 0.0\n",
      "Accuracy: 0.8911895203887598\n",
      "Precision: 0.0\n",
      "Recall: 0.0\n",
      "ROC AUC: 0.5\n",
      "Epoch 60 | Test Loss 0.49152413426755787\n"
     ]
    },
    {
     "name": "stderr",
     "output_type": "stream",
     "text": [
      "100%|█████████████████████████████████████████████████████████████████████████████| 2070/2070 [00:12<00:00, 164.99it/s]\n",
      "C:\\for_work\\anaconda\\lib\\site-packages\\sklearn\\metrics\\_classification.py:1308: UndefinedMetricWarning: Precision is ill-defined and being set to 0.0 due to no predicted samples. Use `zero_division` parameter to control this behavior.\n",
      "  _warn_prf(average, modifier, msg_start, len(result))\n"
     ]
    },
    {
     "name": "stdout",
     "output_type": "stream",
     "text": [
      "\n",
      " Confusion matrix: \n",
      " [[29356  3764]\n",
      " [    0     0]]\n",
      "F1 Score: 0.0\n",
      "Accuracy: 0.8863526570048309\n",
      "Precision: 0.0\n",
      "Recall: 0.0\n",
      "ROC AUC: 0.5\n",
      "Epoch 61 | Train Loss 0.4940630502890849\n"
     ]
    },
    {
     "name": "stderr",
     "output_type": "stream",
     "text": [
      "C:\\for_work\\anaconda\\lib\\site-packages\\sklearn\\metrics\\_classification.py:1308: UndefinedMetricWarning: Precision is ill-defined and being set to 0.0 due to no predicted samples. Use `zero_division` parameter to control this behavior.\n",
      "  _warn_prf(average, modifier, msg_start, len(result))\n",
      "  1%|▋                                                                              | 17/2070 [00:00<00:12, 166.63it/s]"
     ]
    },
    {
     "name": "stdout",
     "output_type": "stream",
     "text": [
      "[[0.3450294 ]\n",
      " [0.3411242 ]\n",
      " [0.34121704]\n",
      " [0.34206083]\n",
      " [0.3415228 ]\n",
      " [0.3413623 ]\n",
      " [0.3450718 ]\n",
      " [0.34090164]\n",
      " [0.34145465]\n",
      " [0.34224337]]\n",
      "[0. 0. 0. 0. 0. 0. 0. 0. 0. 0.]\n",
      "[0 0 0 0 0 1 0 0 0 0]\n",
      "\n",
      " Confusion matrix: \n",
      " [[12654  1545]\n",
      " [    0     0]]\n",
      "F1 Score: 0.0\n",
      "Accuracy: 0.8911895203887598\n",
      "Precision: 0.0\n",
      "Recall: 0.0\n",
      "ROC AUC: 0.5\n",
      "Epoch 61 | Test Loss 0.4904555090375849\n"
     ]
    },
    {
     "name": "stderr",
     "output_type": "stream",
     "text": [
      "100%|█████████████████████████████████████████████████████████████████████████████| 2070/2070 [00:12<00:00, 166.51it/s]\n",
      "C:\\for_work\\anaconda\\lib\\site-packages\\sklearn\\metrics\\_classification.py:1308: UndefinedMetricWarning: Precision is ill-defined and being set to 0.0 due to no predicted samples. Use `zero_division` parameter to control this behavior.\n",
      "  _warn_prf(average, modifier, msg_start, len(result))\n"
     ]
    },
    {
     "name": "stdout",
     "output_type": "stream",
     "text": [
      "\n",
      " Confusion matrix: \n",
      " [[29356  3764]\n",
      " [    0     0]]\n",
      "F1 Score: 0.0\n",
      "Accuracy: 0.8863526570048309\n",
      "Precision: 0.0\n",
      "Recall: 0.0\n",
      "ROC AUC: 0.5\n",
      "Epoch 62 | Train Loss 0.4930268722023941\n"
     ]
    },
    {
     "name": "stderr",
     "output_type": "stream",
     "text": [
      "C:\\for_work\\anaconda\\lib\\site-packages\\sklearn\\metrics\\_classification.py:1308: UndefinedMetricWarning: Precision is ill-defined and being set to 0.0 due to no predicted samples. Use `zero_division` parameter to control this behavior.\n",
      "  _warn_prf(average, modifier, msg_start, len(result))\n",
      "  1%|▌                                                                              | 16/2070 [00:00<00:12, 158.38it/s]"
     ]
    },
    {
     "name": "stdout",
     "output_type": "stream",
     "text": [
      "[[0.34396613]\n",
      " [0.34020346]\n",
      " [0.3402774 ]\n",
      " [0.34106383]\n",
      " [0.34057832]\n",
      " [0.34041607]\n",
      " [0.34398943]\n",
      " [0.33999458]\n",
      " [0.34052095]\n",
      " [0.3412346 ]]\n",
      "[0. 0. 0. 0. 0. 0. 0. 0. 0. 0.]\n",
      "[0 0 0 0 0 1 0 0 0 0]\n",
      "\n",
      " Confusion matrix: \n",
      " [[12654  1545]\n",
      " [    0     0]]\n",
      "F1 Score: 0.0\n",
      "Accuracy: 0.8911895203887598\n",
      "Precision: 0.0\n",
      "Recall: 0.0\n",
      "ROC AUC: 0.5\n",
      "Epoch 62 | Test Loss 0.4894017279148102\n"
     ]
    },
    {
     "name": "stderr",
     "output_type": "stream",
     "text": [
      "100%|█████████████████████████████████████████████████████████████████████████████| 2070/2070 [00:12<00:00, 164.04it/s]\n",
      "C:\\for_work\\anaconda\\lib\\site-packages\\sklearn\\metrics\\_classification.py:1308: UndefinedMetricWarning: Precision is ill-defined and being set to 0.0 due to no predicted samples. Use `zero_division` parameter to control this behavior.\n",
      "  _warn_prf(average, modifier, msg_start, len(result))\n"
     ]
    },
    {
     "name": "stdout",
     "output_type": "stream",
     "text": [
      "\n",
      " Confusion matrix: \n",
      " [[29357  3763]\n",
      " [    0     0]]\n",
      "F1 Score: 0.0\n",
      "Accuracy: 0.8863828502415458\n",
      "Precision: 0.0\n",
      "Recall: 0.0\n",
      "ROC AUC: 0.5\n",
      "Epoch 63 | Train Loss 0.4919864002345265\n"
     ]
    },
    {
     "name": "stderr",
     "output_type": "stream",
     "text": [
      "C:\\for_work\\anaconda\\lib\\site-packages\\sklearn\\metrics\\_classification.py:1308: UndefinedMetricWarning: Precision is ill-defined and being set to 0.0 due to no predicted samples. Use `zero_division` parameter to control this behavior.\n",
      "  _warn_prf(average, modifier, msg_start, len(result))\n",
      "  1%|▋                                                                              | 17/2070 [00:00<00:12, 163.43it/s]"
     ]
    },
    {
     "name": "stdout",
     "output_type": "stream",
     "text": [
      "[[0.34292832]\n",
      " [0.33928746]\n",
      " [0.33934253]\n",
      " [0.34008276]\n",
      " [0.33963788]\n",
      " [0.33947676]\n",
      " [0.34292504]\n",
      " [0.33909193]\n",
      " [0.33959186]\n",
      " [0.34023786]]\n",
      "[0. 0. 0. 0. 0. 0. 0. 0. 0. 0.]\n",
      "[0 0 0 0 0 1 0 0 0 0]\n",
      "\n",
      " Confusion matrix: \n",
      " [[12654  1545]\n",
      " [    0     0]]\n",
      "F1 Score: 0.0\n",
      "Accuracy: 0.8911895203887598\n",
      "Precision: 0.0\n",
      "Recall: 0.0\n",
      "ROC AUC: 0.5\n",
      "Epoch 63 | Test Loss 0.48836200019797765\n"
     ]
    },
    {
     "name": "stderr",
     "output_type": "stream",
     "text": [
      "100%|█████████████████████████████████████████████████████████████████████████████| 2070/2070 [00:12<00:00, 164.66it/s]\n",
      "C:\\for_work\\anaconda\\lib\\site-packages\\sklearn\\metrics\\_classification.py:1308: UndefinedMetricWarning: Precision is ill-defined and being set to 0.0 due to no predicted samples. Use `zero_division` parameter to control this behavior.\n",
      "  _warn_prf(average, modifier, msg_start, len(result))\n"
     ]
    },
    {
     "name": "stdout",
     "output_type": "stream",
     "text": [
      "\n",
      " Confusion matrix: \n",
      " [[29357  3763]\n",
      " [    0     0]]\n",
      "F1 Score: 0.0\n",
      "Accuracy: 0.8863828502415458\n",
      "Precision: 0.0\n",
      "Recall: 0.0\n",
      "ROC AUC: 0.5\n",
      "Epoch 64 | Train Loss 0.49097186493988776\n"
     ]
    },
    {
     "name": "stderr",
     "output_type": "stream",
     "text": [
      "C:\\for_work\\anaconda\\lib\\site-packages\\sklearn\\metrics\\_classification.py:1308: UndefinedMetricWarning: Precision is ill-defined and being set to 0.0 due to no predicted samples. Use `zero_division` parameter to control this behavior.\n",
      "  _warn_prf(average, modifier, msg_start, len(result))\n",
      "  1%|▌                                                                              | 16/2070 [00:00<00:12, 159.95it/s]"
     ]
    },
    {
     "name": "stdout",
     "output_type": "stream",
     "text": [
      "[[0.34188443]\n",
      " [0.3383675 ]\n",
      " [0.33840528]\n",
      " [0.33911198]\n",
      " [0.3386936 ]\n",
      " [0.33853263]\n",
      " [0.34183633]\n",
      " [0.33818546]\n",
      " [0.33865905]\n",
      " [0.33924404]]\n",
      "[0. 0. 0. 0. 0. 0. 0. 0. 0. 0.]\n",
      "[0 0 0 0 0 1 0 0 0 0]\n",
      "\n",
      " Confusion matrix: \n",
      " [[12654  1545]\n",
      " [    0     0]]\n",
      "F1 Score: 0.0\n",
      "Accuracy: 0.8911895203887598\n",
      "Precision: 0.0\n",
      "Recall: 0.0\n",
      "ROC AUC: 0.5\n",
      "Epoch 64 | Test Loss 0.48732755232501673\n"
     ]
    },
    {
     "name": "stderr",
     "output_type": "stream",
     "text": [
      "100%|█████████████████████████████████████████████████████████████████████████████| 2070/2070 [00:12<00:00, 164.96it/s]\n",
      "C:\\for_work\\anaconda\\lib\\site-packages\\sklearn\\metrics\\_classification.py:1308: UndefinedMetricWarning: Precision is ill-defined and being set to 0.0 due to no predicted samples. Use `zero_division` parameter to control this behavior.\n",
      "  _warn_prf(average, modifier, msg_start, len(result))\n"
     ]
    },
    {
     "name": "stdout",
     "output_type": "stream",
     "text": [
      "\n",
      " Confusion matrix: \n",
      " [[29357  3763]\n",
      " [    0     0]]\n",
      "F1 Score: 0.0\n",
      "Accuracy: 0.8863828502415458\n",
      "Precision: 0.0\n",
      "Recall: 0.0\n",
      "ROC AUC: 0.5\n",
      "Epoch 65 | Train Loss 0.4899700052352343\n"
     ]
    },
    {
     "name": "stderr",
     "output_type": "stream",
     "text": [
      "C:\\for_work\\anaconda\\lib\\site-packages\\sklearn\\metrics\\_classification.py:1308: UndefinedMetricWarning: Precision is ill-defined and being set to 0.0 due to no predicted samples. Use `zero_division` parameter to control this behavior.\n",
      "  _warn_prf(average, modifier, msg_start, len(result))\n",
      "  1%|▌                                                                              | 16/2070 [00:00<00:12, 159.96it/s]"
     ]
    },
    {
     "name": "stdout",
     "output_type": "stream",
     "text": [
      "[[0.34079558]\n",
      " [0.33745492]\n",
      " [0.33747956]\n",
      " [0.33815256]\n",
      " [0.33775687]\n",
      " [0.33759424]\n",
      " [0.3407248 ]\n",
      " [0.33728662]\n",
      " [0.33773354]\n",
      " [0.3382662 ]]\n",
      "[0. 0. 0. 0. 0. 0. 0. 0. 0. 0.]\n",
      "[0 0 0 0 0 1 0 0 0 0]\n",
      "\n",
      " Confusion matrix: \n",
      " [[12654  1545]\n",
      " [    0     0]]\n",
      "F1 Score: 0.0\n",
      "Accuracy: 0.8911895203887598\n",
      "Precision: 0.0\n",
      "Recall: 0.0\n",
      "ROC AUC: 0.5\n",
      "Epoch 65 | Test Loss 0.48630810468583496\n"
     ]
    },
    {
     "name": "stderr",
     "output_type": "stream",
     "text": [
      "100%|█████████████████████████████████████████████████████████████████████████████| 2070/2070 [00:12<00:00, 170.99it/s]\n",
      "C:\\for_work\\anaconda\\lib\\site-packages\\sklearn\\metrics\\_classification.py:1308: UndefinedMetricWarning: Precision is ill-defined and being set to 0.0 due to no predicted samples. Use `zero_division` parameter to control this behavior.\n",
      "  _warn_prf(average, modifier, msg_start, len(result))\n"
     ]
    },
    {
     "name": "stdout",
     "output_type": "stream",
     "text": [
      "\n",
      " Confusion matrix: \n",
      " [[29357  3763]\n",
      " [    0     0]]\n",
      "F1 Score: 0.0\n",
      "Accuracy: 0.8863828502415458\n",
      "Precision: 0.0\n",
      "Recall: 0.0\n",
      "ROC AUC: 0.5\n",
      "Epoch 66 | Train Loss 0.4889797946393202\n"
     ]
    },
    {
     "name": "stderr",
     "output_type": "stream",
     "text": [
      "C:\\for_work\\anaconda\\lib\\site-packages\\sklearn\\metrics\\_classification.py:1308: UndefinedMetricWarning: Precision is ill-defined and being set to 0.0 due to no predicted samples. Use `zero_division` parameter to control this behavior.\n",
      "  _warn_prf(average, modifier, msg_start, len(result))\n",
      "  1%|▋                                                                              | 18/2070 [00:00<00:11, 176.43it/s]"
     ]
    },
    {
     "name": "stdout",
     "output_type": "stream",
     "text": [
      "[[0.33964428]\n",
      " [0.33654726]\n",
      " [0.33656198]\n",
      " [0.33718634]\n",
      " [0.33682388]\n",
      " [0.3366615 ]\n",
      " [0.33962238]\n",
      " [0.33639172]\n",
      " [0.3368126 ]\n",
      " [0.33729723]]\n",
      "[0. 0. 0. 0. 0. 0. 0. 0. 0. 0.]\n",
      "[0 0 0 0 0 1 0 0 0 0]\n",
      "\n",
      " Confusion matrix: \n",
      " [[12654  1545]\n",
      " [    0     0]]\n",
      "F1 Score: 0.0\n",
      "Accuracy: 0.8911895203887598\n",
      "Precision: 0.0\n",
      "Recall: 0.0\n",
      "ROC AUC: 0.5\n",
      "Epoch 66 | Test Loss 0.4852995750334886\n"
     ]
    },
    {
     "name": "stderr",
     "output_type": "stream",
     "text": [
      "100%|█████████████████████████████████████████████████████████████████████████████| 2070/2070 [00:11<00:00, 182.95it/s]\n",
      "C:\\for_work\\anaconda\\lib\\site-packages\\sklearn\\metrics\\_classification.py:1308: UndefinedMetricWarning: Precision is ill-defined and being set to 0.0 due to no predicted samples. Use `zero_division` parameter to control this behavior.\n",
      "  _warn_prf(average, modifier, msg_start, len(result))\n"
     ]
    },
    {
     "name": "stdout",
     "output_type": "stream",
     "text": [
      "\n",
      " Confusion matrix: \n",
      " [[29358  3762]\n",
      " [    0     0]]\n",
      "F1 Score: 0.0\n",
      "Accuracy: 0.8864130434782609\n",
      "Precision: 0.0\n",
      "Recall: 0.0\n",
      "ROC AUC: 0.5\n",
      "Epoch 67 | Train Loss 0.487978949221436\n"
     ]
    },
    {
     "name": "stderr",
     "output_type": "stream",
     "text": [
      "C:\\for_work\\anaconda\\lib\\site-packages\\sklearn\\metrics\\_classification.py:1308: UndefinedMetricWarning: Precision is ill-defined and being set to 0.0 due to no predicted samples. Use `zero_division` parameter to control this behavior.\n",
      "  _warn_prf(average, modifier, msg_start, len(result))\n",
      "  1%|▋                                                                              | 19/2070 [00:00<00:11, 182.60it/s]"
     ]
    },
    {
     "name": "stdout",
     "output_type": "stream",
     "text": [
      "[[0.33846384]\n",
      " [0.33564335]\n",
      " [0.3356505 ]\n",
      " [0.3361992 ]\n",
      " [0.33589295]\n",
      " [0.3357353 ]\n",
      " [0.33855262]\n",
      " [0.3354988 ]\n",
      " [0.33589494]\n",
      " [0.33633703]]\n",
      "[0. 0. 0. 0. 0. 0. 0. 0. 0. 0.]\n",
      "[0 0 0 0 0 1 0 0 0 0]\n",
      "\n",
      " Confusion matrix: \n",
      " [[12654  1545]\n",
      " [    0     0]]\n",
      "F1 Score: 0.0\n",
      "Accuracy: 0.8911895203887598\n",
      "Precision: 0.0\n",
      "Recall: 0.0\n",
      "ROC AUC: 0.5\n",
      "Epoch 67 | Test Loss 0.4843007220072789\n"
     ]
    },
    {
     "name": "stderr",
     "output_type": "stream",
     "text": [
      "100%|█████████████████████████████████████████████████████████████████████████████| 2070/2070 [00:11<00:00, 183.79it/s]\n",
      "C:\\for_work\\anaconda\\lib\\site-packages\\sklearn\\metrics\\_classification.py:1308: UndefinedMetricWarning: Precision is ill-defined and being set to 0.0 due to no predicted samples. Use `zero_division` parameter to control this behavior.\n",
      "  _warn_prf(average, modifier, msg_start, len(result))\n"
     ]
    },
    {
     "name": "stdout",
     "output_type": "stream",
     "text": [
      "\n",
      " Confusion matrix: \n",
      " [[29358  3762]\n",
      " [    0     0]]\n",
      "F1 Score: 0.0\n",
      "Accuracy: 0.8864130434782609\n",
      "Precision: 0.0\n",
      "Recall: 0.0\n",
      "ROC AUC: 0.5\n",
      "Epoch 68 | Train Loss 0.4870079153113895\n"
     ]
    },
    {
     "name": "stderr",
     "output_type": "stream",
     "text": [
      "C:\\for_work\\anaconda\\lib\\site-packages\\sklearn\\metrics\\_classification.py:1308: UndefinedMetricWarning: Precision is ill-defined and being set to 0.0 due to no predicted samples. Use `zero_division` parameter to control this behavior.\n",
      "  _warn_prf(average, modifier, msg_start, len(result))\n",
      "  1%|▋                                                                              | 19/2070 [00:00<00:11, 180.94it/s]"
     ]
    },
    {
     "name": "stdout",
     "output_type": "stream",
     "text": [
      "[[0.3372187 ]\n",
      " [0.33474395]\n",
      " [0.3347455 ]\n",
      " [0.33519855]\n",
      " [0.3349652 ]\n",
      " [0.334817  ]\n",
      " [0.3375069 ]\n",
      " [0.33460942]\n",
      " [0.33498144]\n",
      " [0.33538693]]\n",
      "[0. 0. 0. 0. 0. 0. 0. 0. 0. 0.]\n",
      "[0 0 0 0 0 1 0 0 0 0]\n",
      "\n",
      " Confusion matrix: \n",
      " [[12654  1545]\n",
      " [    0     0]]\n",
      "F1 Score: 0.0\n",
      "Accuracy: 0.8911895203887598\n",
      "Precision: 0.0\n",
      "Recall: 0.0\n",
      "ROC AUC: 0.5\n",
      "Epoch 68 | Test Loss 0.4833119181362358\n"
     ]
    },
    {
     "name": "stderr",
     "output_type": "stream",
     "text": [
      "100%|█████████████████████████████████████████████████████████████████████████████| 2070/2070 [00:11<00:00, 184.02it/s]\n",
      "C:\\for_work\\anaconda\\lib\\site-packages\\sklearn\\metrics\\_classification.py:1308: UndefinedMetricWarning: Precision is ill-defined and being set to 0.0 due to no predicted samples. Use `zero_division` parameter to control this behavior.\n",
      "  _warn_prf(average, modifier, msg_start, len(result))\n"
     ]
    },
    {
     "name": "stdout",
     "output_type": "stream",
     "text": [
      "\n",
      " Confusion matrix: \n",
      " [[29358  3762]\n",
      " [    0     0]]\n",
      "F1 Score: 0.0\n",
      "Accuracy: 0.8864130434782609\n",
      "Precision: 0.0\n",
      "Recall: 0.0\n",
      "ROC AUC: 0.5\n",
      "Epoch 69 | Train Loss 0.48604669563724223\n"
     ]
    },
    {
     "name": "stderr",
     "output_type": "stream",
     "text": [
      "C:\\for_work\\anaconda\\lib\\site-packages\\sklearn\\metrics\\_classification.py:1308: UndefinedMetricWarning: Precision is ill-defined and being set to 0.0 due to no predicted samples. Use `zero_division` parameter to control this behavior.\n",
      "  _warn_prf(average, modifier, msg_start, len(result))\n",
      "  1%|▋                                                                              | 18/2070 [00:00<00:11, 178.18it/s]"
     ]
    },
    {
     "name": "stdout",
     "output_type": "stream",
     "text": [
      "[[0.3358834 ]\n",
      " [0.33384788]\n",
      " [0.33384535]\n",
      " [0.334206  ]\n",
      " [0.3340404 ]\n",
      " [0.33390525]\n",
      " [0.33648008]\n",
      " [0.33372346]\n",
      " [0.33407074]\n",
      " [0.33444685]]\n",
      "[0. 0. 0. 0. 0. 0. 0. 0. 0. 0.]\n",
      "[0 0 0 0 0 1 0 0 0 0]\n",
      "\n",
      " Confusion matrix: \n",
      " [[12654  1545]\n",
      " [    0     0]]\n",
      "F1 Score: 0.0\n",
      "Accuracy: 0.8911895203887598\n",
      "Precision: 0.0\n",
      "Recall: 0.0\n",
      "ROC AUC: 0.5\n",
      "Epoch 69 | Test Loss 0.48233220518172326\n"
     ]
    },
    {
     "name": "stderr",
     "output_type": "stream",
     "text": [
      "100%|█████████████████████████████████████████████████████████████████████████████| 2070/2070 [00:11<00:00, 185.42it/s]\n",
      "C:\\for_work\\anaconda\\lib\\site-packages\\sklearn\\metrics\\_classification.py:1308: UndefinedMetricWarning: Precision is ill-defined and being set to 0.0 due to no predicted samples. Use `zero_division` parameter to control this behavior.\n",
      "  _warn_prf(average, modifier, msg_start, len(result))\n"
     ]
    },
    {
     "name": "stdout",
     "output_type": "stream",
     "text": [
      "\n",
      " Confusion matrix: \n",
      " [[29357  3763]\n",
      " [    0     0]]\n",
      "F1 Score: 0.0\n",
      "Accuracy: 0.8863828502415458\n",
      "Precision: 0.0\n",
      "Recall: 0.0\n",
      "ROC AUC: 0.5\n",
      "Epoch 70 | Train Loss 0.4851139332793185\n"
     ]
    },
    {
     "name": "stderr",
     "output_type": "stream",
     "text": [
      "C:\\for_work\\anaconda\\lib\\site-packages\\sklearn\\metrics\\_classification.py:1308: UndefinedMetricWarning: Precision is ill-defined and being set to 0.0 due to no predicted samples. Use `zero_division` parameter to control this behavior.\n",
      "  _warn_prf(average, modifier, msg_start, len(result))\n",
      "  1%|▋                                                                              | 19/2070 [00:00<00:11, 184.44it/s]"
     ]
    },
    {
     "name": "stdout",
     "output_type": "stream",
     "text": [
      "[[0.33452582]\n",
      " [0.33295277]\n",
      " [0.33294702]\n",
      " [0.33322865]\n",
      " [0.3331194 ]\n",
      " [0.33299702]\n",
      " [0.33547303]\n",
      " [0.33283824]\n",
      " [0.33316118]\n",
      " [0.33351278]]\n",
      "[0. 0. 0. 0. 0. 0. 0. 0. 0. 0.]\n",
      "[0 0 0 0 0 1 0 0 0 0]\n",
      "\n",
      " Confusion matrix: \n",
      " [[12654  1545]\n",
      " [    0     0]]\n",
      "F1 Score: 0.0\n",
      "Accuracy: 0.8911895203887598\n",
      "Precision: 0.0\n",
      "Recall: 0.0\n",
      "ROC AUC: 0.5\n",
      "Epoch 70 | Test Loss 0.481359484630662\n"
     ]
    },
    {
     "name": "stderr",
     "output_type": "stream",
     "text": [
      "100%|█████████████████████████████████████████████████████████████████████████████| 2070/2070 [00:11<00:00, 185.62it/s]\n",
      "C:\\for_work\\anaconda\\lib\\site-packages\\sklearn\\metrics\\_classification.py:1308: UndefinedMetricWarning: Precision is ill-defined and being set to 0.0 due to no predicted samples. Use `zero_division` parameter to control this behavior.\n",
      "  _warn_prf(average, modifier, msg_start, len(result))\n"
     ]
    },
    {
     "name": "stdout",
     "output_type": "stream",
     "text": [
      "\n",
      " Confusion matrix: \n",
      " [[29357  3763]\n",
      " [    0     0]]\n",
      "F1 Score: 0.0\n",
      "Accuracy: 0.8863828502415458\n",
      "Precision: 0.0\n",
      "Recall: 0.0\n",
      "ROC AUC: 0.5\n",
      "Epoch 71 | Train Loss 0.4841708503195629\n"
     ]
    },
    {
     "name": "stderr",
     "output_type": "stream",
     "text": [
      "C:\\for_work\\anaconda\\lib\\site-packages\\sklearn\\metrics\\_classification.py:1308: UndefinedMetricWarning: Precision is ill-defined and being set to 0.0 due to no predicted samples. Use `zero_division` parameter to control this behavior.\n",
      "  _warn_prf(average, modifier, msg_start, len(result))\n",
      "  1%|▋                                                                              | 18/2070 [00:00<00:11, 179.96it/s]"
     ]
    },
    {
     "name": "stdout",
     "output_type": "stream",
     "text": [
      "[[0.33327776]\n",
      " [0.33206448]\n",
      " [0.3320563 ]\n",
      " [0.3322846 ]\n",
      " [0.3322096 ]\n",
      " [0.33209822]\n",
      " [0.33448398]\n",
      " [0.33195916]\n",
      " [0.33225933]\n",
      " [0.33258945]]\n",
      "[0. 0. 0. 0. 0. 0. 0. 0. 0. 0.]\n",
      "[0 0 0 0 0 1 0 0 0 0]\n",
      "\n",
      " Confusion matrix: \n",
      " [[12654  1545]\n",
      " [    0     0]]\n",
      "F1 Score: 0.0\n",
      "Accuracy: 0.8911895203887598\n",
      "Precision: 0.0\n",
      "Recall: 0.0\n",
      "ROC AUC: 0.5\n",
      "Epoch 71 | Test Loss 0.4804007270046183\n"
     ]
    },
    {
     "name": "stderr",
     "output_type": "stream",
     "text": [
      "100%|█████████████████████████████████████████████████████████████████████████████| 2070/2070 [00:11<00:00, 181.23it/s]\n",
      "C:\\for_work\\anaconda\\lib\\site-packages\\sklearn\\metrics\\_classification.py:1308: UndefinedMetricWarning: Precision is ill-defined and being set to 0.0 due to no predicted samples. Use `zero_division` parameter to control this behavior.\n",
      "  _warn_prf(average, modifier, msg_start, len(result))\n"
     ]
    },
    {
     "name": "stdout",
     "output_type": "stream",
     "text": [
      "\n",
      " Confusion matrix: \n",
      " [[29357  3763]\n",
      " [    0     0]]\n",
      "F1 Score: 0.0\n",
      "Accuracy: 0.8863828502415458\n",
      "Precision: 0.0\n",
      "Recall: 0.0\n",
      "ROC AUC: 0.5\n",
      "Epoch 72 | Train Loss 0.48323839714273736\n"
     ]
    },
    {
     "name": "stderr",
     "output_type": "stream",
     "text": [
      "C:\\for_work\\anaconda\\lib\\site-packages\\sklearn\\metrics\\_classification.py:1308: UndefinedMetricWarning: Precision is ill-defined and being set to 0.0 due to no predicted samples. Use `zero_division` parameter to control this behavior.\n",
      "  _warn_prf(average, modifier, msg_start, len(result))\n",
      "  1%|▋                                                                              | 18/2070 [00:00<00:11, 173.04it/s]"
     ]
    },
    {
     "name": "stdout",
     "output_type": "stream",
     "text": [
      "[[0.3321534 ]\n",
      " [0.3311792 ]\n",
      " [0.33116937]\n",
      " [0.33136576]\n",
      " [0.3313062 ]\n",
      " [0.33120605]\n",
      " [0.3334958 ]\n",
      " [0.33108264]\n",
      " [0.33136132]\n",
      " [0.33167174]]\n",
      "[0. 0. 0. 0. 0. 0. 0. 0. 0. 0.]\n",
      "[0 0 0 0 0 1 0 0 0 0]\n",
      "\n",
      " Confusion matrix: \n",
      " [[12654  1545]\n",
      " [    0     0]]\n",
      "F1 Score: 0.0\n",
      "Accuracy: 0.8911895203887598\n",
      "Precision: 0.0\n",
      "Recall: 0.0\n",
      "ROC AUC: 0.5\n",
      "Epoch 72 | Test Loss 0.4794508449666135\n"
     ]
    },
    {
     "name": "stderr",
     "output_type": "stream",
     "text": [
      "100%|█████████████████████████████████████████████████████████████████████████████| 2070/2070 [00:11<00:00, 184.53it/s]\n",
      "C:\\for_work\\anaconda\\lib\\site-packages\\sklearn\\metrics\\_classification.py:1308: UndefinedMetricWarning: Precision is ill-defined and being set to 0.0 due to no predicted samples. Use `zero_division` parameter to control this behavior.\n",
      "  _warn_prf(average, modifier, msg_start, len(result))\n"
     ]
    },
    {
     "name": "stdout",
     "output_type": "stream",
     "text": [
      "\n",
      " Confusion matrix: \n",
      " [[29359  3761]\n",
      " [    0     0]]\n",
      "F1 Score: 0.0\n",
      "Accuracy: 0.8864432367149758\n",
      "Precision: 0.0\n",
      "Recall: 0.0\n",
      "ROC AUC: 0.5\n",
      "Epoch 73 | Train Loss 0.48227459732173145\n"
     ]
    },
    {
     "name": "stderr",
     "output_type": "stream",
     "text": [
      "C:\\for_work\\anaconda\\lib\\site-packages\\sklearn\\metrics\\_classification.py:1308: UndefinedMetricWarning: Precision is ill-defined and being set to 0.0 due to no predicted samples. Use `zero_division` parameter to control this behavior.\n",
      "  _warn_prf(average, modifier, msg_start, len(result))\n",
      "  1%|▊                                                                              | 20/2070 [00:00<00:10, 196.03it/s]"
     ]
    },
    {
     "name": "stdout",
     "output_type": "stream",
     "text": [
      "[[0.33111277]\n",
      " [0.33029974]\n",
      " [0.33028907]\n",
      " [0.3304636 ]\n",
      " [0.33041072]\n",
      " [0.33032244]\n",
      " [0.33250362]\n",
      " [0.33021134]\n",
      " [0.3304699 ]\n",
      " [0.3307618 ]]\n",
      "[0. 0. 0. 0. 0. 0. 0. 0. 0. 0.]\n",
      "[0 0 0 0 0 1 0 0 0 0]\n",
      "\n",
      " Confusion matrix: \n",
      " [[12654  1545]\n",
      " [    0     0]]\n",
      "F1 Score: 0.0\n",
      "Accuracy: 0.8911895203887598\n",
      "Precision: 0.0\n",
      "Recall: 0.0\n",
      "ROC AUC: 0.5\n",
      "Epoch 73 | Test Loss 0.4785121159779059\n"
     ]
    },
    {
     "name": "stderr",
     "output_type": "stream",
     "text": [
      "100%|█████████████████████████████████████████████████████████████████████████████| 2070/2070 [00:10<00:00, 197.74it/s]\n",
      "C:\\for_work\\anaconda\\lib\\site-packages\\sklearn\\metrics\\_classification.py:1308: UndefinedMetricWarning: Precision is ill-defined and being set to 0.0 due to no predicted samples. Use `zero_division` parameter to control this behavior.\n",
      "  _warn_prf(average, modifier, msg_start, len(result))\n"
     ]
    },
    {
     "name": "stdout",
     "output_type": "stream",
     "text": [
      "\n",
      " Confusion matrix: \n",
      " [[29357  3763]\n",
      " [    0     0]]\n",
      "F1 Score: 0.0\n",
      "Accuracy: 0.8863828502415458\n",
      "Precision: 0.0\n",
      "Recall: 0.0\n",
      "ROC AUC: 0.5\n",
      "Epoch 74 | Train Loss 0.4814035945900396\n"
     ]
    },
    {
     "name": "stderr",
     "output_type": "stream",
     "text": [
      "C:\\for_work\\anaconda\\lib\\site-packages\\sklearn\\metrics\\_classification.py:1308: UndefinedMetricWarning: Precision is ill-defined and being set to 0.0 due to no predicted samples. Use `zero_division` parameter to control this behavior.\n",
      "  _warn_prf(average, modifier, msg_start, len(result))\n",
      "  1%|▊                                                                              | 21/2070 [00:00<00:09, 209.95it/s]"
     ]
    },
    {
     "name": "stdout",
     "output_type": "stream",
     "text": [
      "[[0.33012688]\n",
      " [0.32942128]\n",
      " [0.32941037]\n",
      " [0.32956696]\n",
      " [0.32951742]\n",
      " [0.32944182]\n",
      " [0.33150348]\n",
      " [0.32934007]\n",
      " [0.32958037]\n",
      " [0.3298545 ]]\n",
      "[0. 0. 0. 0. 0. 0. 0. 0. 0. 0.]\n",
      "[0 0 0 0 0 1 0 0 0 0]\n",
      "\n",
      " Confusion matrix: \n",
      " [[12654  1545]\n",
      " [    0     0]]\n",
      "F1 Score: 0.0\n",
      "Accuracy: 0.8911895203887598\n",
      "Precision: 0.0\n",
      "Recall: 0.0\n",
      "ROC AUC: 0.5\n",
      "Epoch 74 | Test Loss 0.4775801231195261\n"
     ]
    },
    {
     "name": "stderr",
     "output_type": "stream",
     "text": [
      "100%|█████████████████████████████████████████████████████████████████████████████| 2070/2070 [00:10<00:00, 198.98it/s]\n",
      "C:\\for_work\\anaconda\\lib\\site-packages\\sklearn\\metrics\\_classification.py:1308: UndefinedMetricWarning: Precision is ill-defined and being set to 0.0 due to no predicted samples. Use `zero_division` parameter to control this behavior.\n",
      "  _warn_prf(average, modifier, msg_start, len(result))\n"
     ]
    },
    {
     "name": "stdout",
     "output_type": "stream",
     "text": [
      "\n",
      " Confusion matrix: \n",
      " [[29357  3763]\n",
      " [    0     0]]\n",
      "F1 Score: 0.0\n",
      "Accuracy: 0.8863828502415458\n",
      "Precision: 0.0\n",
      "Recall: 0.0\n",
      "ROC AUC: 0.5\n",
      "Epoch 75 | Train Loss 0.480500813483616\n"
     ]
    },
    {
     "name": "stderr",
     "output_type": "stream",
     "text": [
      "C:\\for_work\\anaconda\\lib\\site-packages\\sklearn\\metrics\\_classification.py:1308: UndefinedMetricWarning: Precision is ill-defined and being set to 0.0 due to no predicted samples. Use `zero_division` parameter to control this behavior.\n",
      "  _warn_prf(average, modifier, msg_start, len(result))\n",
      "  1%|▋                                                                              | 19/2070 [00:00<00:11, 186.23it/s]"
     ]
    },
    {
     "name": "stdout",
     "output_type": "stream",
     "text": [
      "[[0.32917488]\n",
      " [0.32854813]\n",
      " [0.32853773]\n",
      " [0.32867706]\n",
      " [0.3286303 ]\n",
      " [0.32856765]\n",
      " [0.3305131 ]\n",
      " [0.3284735 ]\n",
      " [0.32869673]\n",
      " [0.3289543 ]]\n",
      "[0. 0. 0. 0. 0. 0. 0. 0. 0. 0.]\n",
      "[0 0 0 0 0 1 0 0 0 0]\n",
      "\n",
      " Confusion matrix: \n",
      " [[12654  1545]\n",
      " [    0     0]]\n",
      "F1 Score: 0.0\n",
      "Accuracy: 0.8911895203887598\n",
      "Precision: 0.0\n",
      "Recall: 0.0\n",
      "ROC AUC: 0.5\n",
      "Epoch 75 | Test Loss 0.47665945353271727\n"
     ]
    },
    {
     "name": "stderr",
     "output_type": "stream",
     "text": [
      "100%|█████████████████████████████████████████████████████████████████████████████| 2070/2070 [00:10<00:00, 196.16it/s]\n",
      "C:\\for_work\\anaconda\\lib\\site-packages\\sklearn\\metrics\\_classification.py:1308: UndefinedMetricWarning: Precision is ill-defined and being set to 0.0 due to no predicted samples. Use `zero_division` parameter to control this behavior.\n",
      "  _warn_prf(average, modifier, msg_start, len(result))\n"
     ]
    },
    {
     "name": "stdout",
     "output_type": "stream",
     "text": [
      "\n",
      " Confusion matrix: \n",
      " [[29358  3762]\n",
      " [    0     0]]\n",
      "F1 Score: 0.0\n",
      "Accuracy: 0.8864130434782609\n",
      "Precision: 0.0\n",
      "Recall: 0.0\n",
      "ROC AUC: 0.5\n",
      "Epoch 76 | Train Loss 0.47958125705304355\n"
     ]
    },
    {
     "name": "stderr",
     "output_type": "stream",
     "text": [
      "C:\\for_work\\anaconda\\lib\\site-packages\\sklearn\\metrics\\_classification.py:1308: UndefinedMetricWarning: Precision is ill-defined and being set to 0.0 due to no predicted samples. Use `zero_division` parameter to control this behavior.\n",
      "  _warn_prf(average, modifier, msg_start, len(result))\n",
      "  1%|▋                                                                              | 19/2070 [00:00<00:10, 188.08it/s]"
     ]
    },
    {
     "name": "stdout",
     "output_type": "stream",
     "text": [
      "[[0.32822713]\n",
      " [0.32767382]\n",
      " [0.3276642 ]\n",
      " [0.32778472]\n",
      " [0.32774246]\n",
      " [0.32769287]\n",
      " [0.32953286]\n",
      " [0.32760525]\n",
      " [0.32781234]\n",
      " [0.32805458]]\n",
      "[0. 0. 0. 0. 0. 0. 0. 0. 0. 0.]\n",
      "[0 0 0 0 0 1 0 0 0 0]\n",
      "\n",
      " Confusion matrix: \n",
      " [[12654  1545]\n",
      " [    0     0]]\n",
      "F1 Score: 0.0\n",
      "Accuracy: 0.8911895203887598\n",
      "Precision: 0.0\n",
      "Recall: 0.0\n",
      "ROC AUC: 0.5\n",
      "Epoch 76 | Test Loss 0.4757432036840164\n"
     ]
    },
    {
     "name": "stderr",
     "output_type": "stream",
     "text": [
      "100%|█████████████████████████████████████████████████████████████████████████████| 2070/2070 [00:10<00:00, 199.07it/s]\n",
      "C:\\for_work\\anaconda\\lib\\site-packages\\sklearn\\metrics\\_classification.py:1308: UndefinedMetricWarning: Precision is ill-defined and being set to 0.0 due to no predicted samples. Use `zero_division` parameter to control this behavior.\n",
      "  _warn_prf(average, modifier, msg_start, len(result))\n"
     ]
    },
    {
     "name": "stdout",
     "output_type": "stream",
     "text": [
      "\n",
      " Confusion matrix: \n",
      " [[29357  3763]\n",
      " [    0     0]]\n",
      "F1 Score: 0.0\n",
      "Accuracy: 0.8863828502415458\n",
      "Precision: 0.0\n",
      "Recall: 0.0\n",
      "ROC AUC: 0.5\n",
      "Epoch 77 | Train Loss 0.47871748591966673\n"
     ]
    },
    {
     "name": "stderr",
     "output_type": "stream",
     "text": [
      "C:\\for_work\\anaconda\\lib\\site-packages\\sklearn\\metrics\\_classification.py:1308: UndefinedMetricWarning: Precision is ill-defined and being set to 0.0 due to no predicted samples. Use `zero_division` parameter to control this behavior.\n",
      "  _warn_prf(average, modifier, msg_start, len(result))\n",
      "  1%|▊                                                                              | 20/2070 [00:00<00:10, 190.43it/s]"
     ]
    },
    {
     "name": "stdout",
     "output_type": "stream",
     "text": [
      "[[0.32728207]\n",
      " [0.32680947]\n",
      " [0.32680064]\n",
      " [0.32689932]\n",
      " [0.3268661 ]\n",
      " [0.3268282 ]\n",
      " [0.32857484]\n",
      " [0.32674628]\n",
      " [0.326939  ]\n",
      " [0.3271677 ]]\n",
      "[0. 0. 0. 0. 0. 0. 0. 0. 0. 0.]\n",
      "[0 0 0 0 0 1 0 0 0 0]\n",
      "\n",
      " Confusion matrix: \n",
      " [[12654  1545]\n",
      " [    0     0]]\n",
      "F1 Score: 0.0\n",
      "Accuracy: 0.8911895203887598\n",
      "Precision: 0.0\n",
      "Recall: 0.0\n",
      "ROC AUC: 0.5\n",
      "Epoch 77 | Test Loss 0.4748427965888032\n"
     ]
    },
    {
     "name": "stderr",
     "output_type": "stream",
     "text": [
      "100%|█████████████████████████████████████████████████████████████████████████████| 2070/2070 [00:10<00:00, 198.67it/s]\n",
      "C:\\for_work\\anaconda\\lib\\site-packages\\sklearn\\metrics\\_classification.py:1308: UndefinedMetricWarning: Precision is ill-defined and being set to 0.0 due to no predicted samples. Use `zero_division` parameter to control this behavior.\n",
      "  _warn_prf(average, modifier, msg_start, len(result))\n"
     ]
    },
    {
     "name": "stdout",
     "output_type": "stream",
     "text": [
      "\n",
      " Confusion matrix: \n",
      " [[29357  3763]\n",
      " [    0     0]]\n",
      "F1 Score: 0.0\n",
      "Accuracy: 0.8863828502415458\n",
      "Precision: 0.0\n",
      "Recall: 0.0\n",
      "ROC AUC: 0.5\n",
      "Epoch 78 | Train Loss 0.47784239554750746\n"
     ]
    },
    {
     "name": "stderr",
     "output_type": "stream",
     "text": [
      "C:\\for_work\\anaconda\\lib\\site-packages\\sklearn\\metrics\\_classification.py:1308: UndefinedMetricWarning: Precision is ill-defined and being set to 0.0 due to no predicted samples. Use `zero_division` parameter to control this behavior.\n",
      "  _warn_prf(average, modifier, msg_start, len(result))\n",
      "  1%|▊                                                                              | 20/2070 [00:00<00:10, 194.13it/s]"
     ]
    },
    {
     "name": "stdout",
     "output_type": "stream",
     "text": [
      "[[0.32633954]\n",
      " [0.32594556]\n",
      " [0.32593748]\n",
      " [0.32601464]\n",
      " [0.3259918 ]\n",
      " [0.32596412]\n",
      " [0.32762513]\n",
      " [0.32588753]\n",
      " [0.32606688]\n",
      " [0.32628277]]\n",
      "[0. 0. 0. 0. 0. 0. 0. 0. 0. 0.]\n",
      "[0 0 0 0 0 1 0 0 0 0]\n",
      "\n",
      " Confusion matrix: \n",
      " [[12654  1545]\n",
      " [    0     0]]\n",
      "F1 Score: 0.0\n",
      "Accuracy: 0.8911895203887598\n",
      "Precision: 0.0\n",
      "Recall: 0.0\n",
      "ROC AUC: 0.5\n",
      "Epoch 78 | Test Loss 0.4739485012518393\n"
     ]
    },
    {
     "name": "stderr",
     "output_type": "stream",
     "text": [
      "100%|█████████████████████████████████████████████████████████████████████████████| 2070/2070 [00:10<00:00, 190.39it/s]\n",
      "C:\\for_work\\anaconda\\lib\\site-packages\\sklearn\\metrics\\_classification.py:1308: UndefinedMetricWarning: Precision is ill-defined and being set to 0.0 due to no predicted samples. Use `zero_division` parameter to control this behavior.\n",
      "  _warn_prf(average, modifier, msg_start, len(result))\n"
     ]
    },
    {
     "name": "stdout",
     "output_type": "stream",
     "text": [
      "\n",
      " Confusion matrix: \n",
      " [[29356  3764]\n",
      " [    0     0]]\n",
      "F1 Score: 0.0\n",
      "Accuracy: 0.8863526570048309\n",
      "Precision: 0.0\n",
      "Recall: 0.0\n",
      "ROC AUC: 0.5\n",
      "Epoch 79 | Train Loss 0.47699448893899504\n"
     ]
    },
    {
     "name": "stderr",
     "output_type": "stream",
     "text": [
      "C:\\for_work\\anaconda\\lib\\site-packages\\sklearn\\metrics\\_classification.py:1308: UndefinedMetricWarning: Precision is ill-defined and being set to 0.0 due to no predicted samples. Use `zero_division` parameter to control this behavior.\n",
      "  _warn_prf(average, modifier, msg_start, len(result))\n",
      "  1%|▊                                                                              | 20/2070 [00:00<00:10, 194.13it/s]"
     ]
    },
    {
     "name": "stdout",
     "output_type": "stream",
     "text": [
      "[[0.32542008]\n",
      " [0.32508337]\n",
      " [0.32507566]\n",
      " [0.3251373 ]\n",
      " [0.32512146]\n",
      " [0.3251017 ]\n",
      " [0.32668078]\n",
      " [0.32503003]\n",
      " [0.32519722]\n",
      " [0.32540122]]\n",
      "[0. 0. 0. 0. 0. 0. 0. 0. 0. 0.]\n",
      "[0 0 0 0 0 1 0 0 0 0]\n",
      "\n",
      " Confusion matrix: \n",
      " [[12654  1545]\n",
      " [    0     0]]\n",
      "F1 Score: 0.0\n",
      "Accuracy: 0.8911895203887598\n",
      "Precision: 0.0\n",
      "Recall: 0.0\n",
      "ROC AUC: 0.5\n",
      "Epoch 79 | Test Loss 0.47306120489631687\n"
     ]
    },
    {
     "name": "stderr",
     "output_type": "stream",
     "text": [
      "100%|█████████████████████████████████████████████████████████████████████████████| 2070/2070 [00:10<00:00, 189.16it/s]\n",
      "C:\\for_work\\anaconda\\lib\\site-packages\\sklearn\\metrics\\_classification.py:1308: UndefinedMetricWarning: Precision is ill-defined and being set to 0.0 due to no predicted samples. Use `zero_division` parameter to control this behavior.\n",
      "  _warn_prf(average, modifier, msg_start, len(result))\n"
     ]
    },
    {
     "name": "stdout",
     "output_type": "stream",
     "text": [
      "\n",
      " Confusion matrix: \n",
      " [[29357  3763]\n",
      " [    0     0]]\n",
      "F1 Score: 0.0\n",
      "Accuracy: 0.8863828502415458\n",
      "Precision: 0.0\n",
      "Recall: 0.0\n",
      "ROC AUC: 0.5\n",
      "Epoch 80 | Train Loss 0.4761096534089766\n"
     ]
    },
    {
     "name": "stderr",
     "output_type": "stream",
     "text": [
      "C:\\for_work\\anaconda\\lib\\site-packages\\sklearn\\metrics\\_classification.py:1308: UndefinedMetricWarning: Precision is ill-defined and being set to 0.0 due to no predicted samples. Use `zero_division` parameter to control this behavior.\n",
      "  _warn_prf(average, modifier, msg_start, len(result))\n",
      "  1%|▋                                                                              | 19/2070 [00:00<00:11, 184.42it/s]"
     ]
    },
    {
     "name": "stdout",
     "output_type": "stream",
     "text": [
      "[[0.3245192 ]\n",
      " [0.32422283]\n",
      " [0.3242151 ]\n",
      " [0.32426733]\n",
      " [0.32425454]\n",
      " [0.324241  ]\n",
      " [0.3257412 ]\n",
      " [0.3241736 ]\n",
      " [0.32432985]\n",
      " [0.3245226 ]]\n",
      "[0. 0. 0. 0. 0. 0. 0. 0. 0. 0.]\n",
      "[0 0 0 0 0 1 0 0 0 0]\n",
      "\n",
      " Confusion matrix: \n",
      " [[12654  1545]\n",
      " [    0     0]]\n",
      "F1 Score: 0.0\n",
      "Accuracy: 0.8911895203887598\n",
      "Precision: 0.0\n",
      "Recall: 0.0\n",
      "ROC AUC: 0.5\n",
      "Epoch 80 | Test Loss 0.4721810938538732\n"
     ]
    },
    {
     "name": "stderr",
     "output_type": "stream",
     "text": [
      "100%|█████████████████████████████████████████████████████████████████████████████| 2070/2070 [00:10<00:00, 193.79it/s]\n",
      "C:\\for_work\\anaconda\\lib\\site-packages\\sklearn\\metrics\\_classification.py:1308: UndefinedMetricWarning: Precision is ill-defined and being set to 0.0 due to no predicted samples. Use `zero_division` parameter to control this behavior.\n",
      "  _warn_prf(average, modifier, msg_start, len(result))\n"
     ]
    },
    {
     "name": "stdout",
     "output_type": "stream",
     "text": [
      "\n",
      " Confusion matrix: \n",
      " [[29357  3763]\n",
      " [    0     0]]\n",
      "F1 Score: 0.0\n",
      "Accuracy: 0.8863828502415458\n",
      "Precision: 0.0\n",
      "Recall: 0.0\n",
      "ROC AUC: 0.5\n",
      "Epoch 81 | Train Loss 0.47525479144232285\n"
     ]
    },
    {
     "name": "stderr",
     "output_type": "stream",
     "text": [
      "C:\\for_work\\anaconda\\lib\\site-packages\\sklearn\\metrics\\_classification.py:1308: UndefinedMetricWarning: Precision is ill-defined and being set to 0.0 due to no predicted samples. Use `zero_division` parameter to control this behavior.\n",
      "  _warn_prf(average, modifier, msg_start, len(result))\n",
      "  1%|▉                                                                              | 23/2070 [00:00<00:09, 221.10it/s]"
     ]
    },
    {
     "name": "stdout",
     "output_type": "stream",
     "text": [
      "[[0.3236277 ]\n",
      " [0.32336482]\n",
      " [0.32335657]\n",
      " [0.32340294]\n",
      " [0.32339144]\n",
      " [0.32338268]\n",
      " [0.32480526]\n",
      " [0.32331926]\n",
      " [0.32346547]\n",
      " [0.32364762]]\n",
      "[0. 0. 0. 0. 0. 0. 0. 0. 0. 0.]\n",
      "[0 0 0 0 0 1 0 0 0 0]\n",
      "\n",
      " Confusion matrix: \n",
      " [[12654  1545]\n",
      " [    0     0]]\n",
      "F1 Score: 0.0\n",
      "Accuracy: 0.8911895203887598\n",
      "Precision: 0.0\n",
      "Recall: 0.0\n",
      "ROC AUC: 0.5\n",
      "Epoch 81 | Test Loss 0.4713087047005559\n"
     ]
    },
    {
     "name": "stderr",
     "output_type": "stream",
     "text": [
      "100%|█████████████████████████████████████████████████████████████████████████████| 2070/2070 [00:10<00:00, 204.09it/s]\n",
      "C:\\for_work\\anaconda\\lib\\site-packages\\sklearn\\metrics\\_classification.py:1308: UndefinedMetricWarning: Precision is ill-defined and being set to 0.0 due to no predicted samples. Use `zero_division` parameter to control this behavior.\n",
      "  _warn_prf(average, modifier, msg_start, len(result))\n"
     ]
    },
    {
     "name": "stdout",
     "output_type": "stream",
     "text": [
      "\n",
      " Confusion matrix: \n",
      " [[29357  3763]\n",
      " [    0     0]]\n",
      "F1 Score: 0.0\n",
      "Accuracy: 0.8863828502415458\n",
      "Precision: 0.0\n",
      "Recall: 0.0\n",
      "ROC AUC: 0.5\n",
      "Epoch 82 | Train Loss 0.47440705672266403\n"
     ]
    },
    {
     "name": "stderr",
     "output_type": "stream",
     "text": [
      "C:\\for_work\\anaconda\\lib\\site-packages\\sklearn\\metrics\\_classification.py:1308: UndefinedMetricWarning: Precision is ill-defined and being set to 0.0 due to no predicted samples. Use `zero_division` parameter to control this behavior.\n",
      "  _warn_prf(average, modifier, msg_start, len(result))\n",
      "  1%|▋                                                                              | 19/2070 [00:00<00:10, 189.96it/s]"
     ]
    },
    {
     "name": "stdout",
     "output_type": "stream",
     "text": [
      "[[0.32273945]\n",
      " [0.32251117]\n",
      " [0.32250246]\n",
      " [0.3225444 ]\n",
      " [0.32253367]\n",
      " [0.32252875]\n",
      " [0.32387176]\n",
      " [0.32246882]\n",
      " [0.32260588]\n",
      " [0.32277814]]\n",
      "[0. 0. 0. 0. 0. 0. 0. 0. 0. 0.]\n",
      "[0 0 0 0 0 1 0 0 0 0]\n",
      "\n",
      " Confusion matrix: \n",
      " [[12654  1545]\n",
      " [    0     0]]\n",
      "F1 Score: 0.0\n",
      "Accuracy: 0.8911895203887598\n",
      "Precision: 0.0\n",
      "Recall: 0.0\n",
      "ROC AUC: 0.5\n",
      "Epoch 82 | Test Loss 0.47044533182371845\n"
     ]
    },
    {
     "name": "stderr",
     "output_type": "stream",
     "text": [
      "100%|█████████████████████████████████████████████████████████████████████████████| 2070/2070 [00:10<00:00, 200.81it/s]\n",
      "C:\\for_work\\anaconda\\lib\\site-packages\\sklearn\\metrics\\_classification.py:1308: UndefinedMetricWarning: Precision is ill-defined and being set to 0.0 due to no predicted samples. Use `zero_division` parameter to control this behavior.\n",
      "  _warn_prf(average, modifier, msg_start, len(result))\n"
     ]
    },
    {
     "name": "stdout",
     "output_type": "stream",
     "text": [
      "\n",
      " Confusion matrix: \n",
      " [[29357  3763]\n",
      " [    0     0]]\n",
      "F1 Score: 0.0\n",
      "Accuracy: 0.8863828502415458\n",
      "Precision: 0.0\n",
      "Recall: 0.0\n",
      "ROC AUC: 0.5\n",
      "Epoch 83 | Train Loss 0.4735671069886949\n"
     ]
    },
    {
     "name": "stderr",
     "output_type": "stream",
     "text": [
      "C:\\for_work\\anaconda\\lib\\site-packages\\sklearn\\metrics\\_classification.py:1308: UndefinedMetricWarning: Precision is ill-defined and being set to 0.0 due to no predicted samples. Use `zero_division` parameter to control this behavior.\n",
      "  _warn_prf(average, modifier, msg_start, len(result))\n",
      "  1%|▊                                                                              | 22/2070 [00:00<00:09, 215.60it/s]"
     ]
    },
    {
     "name": "stdout",
     "output_type": "stream",
     "text": [
      "[[0.32184884]\n",
      " [0.321658  ]\n",
      " [0.32164913]\n",
      " [0.32168695]\n",
      " [0.32167697]\n",
      " [0.32167524]\n",
      " [0.3229344 ]\n",
      " [0.3216187 ]\n",
      " [0.3217471 ]\n",
      " [0.3219103 ]]\n",
      "[0. 0. 0. 0. 0. 0. 0. 0. 0. 0.]\n",
      "[0 0 0 0 0 1 0 0 0 0]\n",
      "\n",
      " Confusion matrix: \n",
      " [[12654  1545]\n",
      " [    0     0]]\n",
      "F1 Score: 0.0\n",
      "Accuracy: 0.8911895203887598\n",
      "Precision: 0.0\n",
      "Recall: 0.0\n",
      "ROC AUC: 0.5\n",
      "Epoch 83 | Test Loss 0.46958717180264964\n"
     ]
    },
    {
     "name": "stderr",
     "output_type": "stream",
     "text": [
      "100%|█████████████████████████████████████████████████████████████████████████████| 2070/2070 [00:09<00:00, 209.00it/s]\n",
      "C:\\for_work\\anaconda\\lib\\site-packages\\sklearn\\metrics\\_classification.py:1308: UndefinedMetricWarning: Precision is ill-defined and being set to 0.0 due to no predicted samples. Use `zero_division` parameter to control this behavior.\n",
      "  _warn_prf(average, modifier, msg_start, len(result))\n"
     ]
    },
    {
     "name": "stdout",
     "output_type": "stream",
     "text": [
      "\n",
      " Confusion matrix: \n",
      " [[29357  3763]\n",
      " [    0     0]]\n",
      "F1 Score: 0.0\n",
      "Accuracy: 0.8863828502415458\n",
      "Precision: 0.0\n",
      "Recall: 0.0\n",
      "ROC AUC: 0.5\n",
      "Epoch 84 | Train Loss 0.47273264163070255\n"
     ]
    },
    {
     "name": "stderr",
     "output_type": "stream",
     "text": [
      "C:\\for_work\\anaconda\\lib\\site-packages\\sklearn\\metrics\\_classification.py:1308: UndefinedMetricWarning: Precision is ill-defined and being set to 0.0 due to no predicted samples. Use `zero_division` parameter to control this behavior.\n",
      "  _warn_prf(average, modifier, msg_start, len(result))\n",
      "  1%|▊                                                                              | 21/2070 [00:00<00:09, 207.87it/s]"
     ]
    },
    {
     "name": "stdout",
     "output_type": "stream",
     "text": [
      "[[0.32096085]\n",
      " [0.3208083 ]\n",
      " [0.32079944]\n",
      " [0.32083336]\n",
      " [0.32082424]\n",
      " [0.320825  ]\n",
      " [0.32199246]\n",
      " [0.32077208]\n",
      " [0.32089204]\n",
      " [0.32104683]]\n",
      "[0. 0. 0. 0. 0. 0. 0. 0. 0. 0.]\n",
      "[0 0 0 0 0 1 0 0 0 0]\n",
      "\n",
      " Confusion matrix: \n",
      " [[12654  1545]\n",
      " [    0     0]]\n",
      "F1 Score: 0.0\n",
      "Accuracy: 0.8911895203887598\n",
      "Precision: 0.0\n",
      "Recall: 0.0\n",
      "ROC AUC: 0.5\n",
      "Epoch 84 | Test Loss 0.4687361447392283\n"
     ]
    },
    {
     "name": "stderr",
     "output_type": "stream",
     "text": [
      "100%|█████████████████████████████████████████████████████████████████████████████| 2070/2070 [00:09<00:00, 215.02it/s]\n",
      "C:\\for_work\\anaconda\\lib\\site-packages\\sklearn\\metrics\\_classification.py:1308: UndefinedMetricWarning: Precision is ill-defined and being set to 0.0 due to no predicted samples. Use `zero_division` parameter to control this behavior.\n",
      "  _warn_prf(average, modifier, msg_start, len(result))\n"
     ]
    },
    {
     "name": "stdout",
     "output_type": "stream",
     "text": [
      "\n",
      " Confusion matrix: \n",
      " [[29357  3763]\n",
      " [    0     0]]\n",
      "F1 Score: 0.0\n",
      "Accuracy: 0.8863828502415458\n",
      "Precision: 0.0\n",
      "Recall: 0.0\n",
      "ROC AUC: 0.5\n",
      "Epoch 85 | Train Loss 0.4719054143353937\n"
     ]
    },
    {
     "name": "stderr",
     "output_type": "stream",
     "text": [
      "C:\\for_work\\anaconda\\lib\\site-packages\\sklearn\\metrics\\_classification.py:1308: UndefinedMetricWarning: Precision is ill-defined and being set to 0.0 due to no predicted samples. Use `zero_division` parameter to control this behavior.\n",
      "  _warn_prf(average, modifier, msg_start, len(result))\n",
      "  1%|▉                                                                              | 24/2070 [00:00<00:08, 232.96it/s]"
     ]
    },
    {
     "name": "stdout",
     "output_type": "stream",
     "text": [
      "[[0.3200799 ]\n",
      " [0.3199618 ]\n",
      " [0.3199528 ]\n",
      " [0.3199834 ]\n",
      " [0.31997517]\n",
      " [0.3199779 ]\n",
      " [0.32104748]\n",
      " [0.31992844]\n",
      " [0.32004052]\n",
      " [0.32018778]]\n",
      "[0. 0. 0. 0. 0. 0. 0. 0. 0. 0.]\n",
      "[0 0 0 0 0 1 0 0 0 0]\n",
      "\n",
      " Confusion matrix: \n",
      " [[12654  1545]\n",
      " [    0     0]]\n",
      "F1 Score: 0.0\n",
      "Accuracy: 0.8911895203887598\n",
      "Precision: 0.0\n",
      "Recall: 0.0\n",
      "ROC AUC: 0.5\n",
      "Epoch 85 | Test Loss 0.4678926861232465\n"
     ]
    },
    {
     "name": "stderr",
     "output_type": "stream",
     "text": [
      "100%|█████████████████████████████████████████████████████████████████████████████| 2070/2070 [00:09<00:00, 215.82it/s]\n",
      "C:\\for_work\\anaconda\\lib\\site-packages\\sklearn\\metrics\\_classification.py:1308: UndefinedMetricWarning: Precision is ill-defined and being set to 0.0 due to no predicted samples. Use `zero_division` parameter to control this behavior.\n",
      "  _warn_prf(average, modifier, msg_start, len(result))\n"
     ]
    },
    {
     "name": "stdout",
     "output_type": "stream",
     "text": [
      "\n",
      " Confusion matrix: \n",
      " [[29358  3762]\n",
      " [    0     0]]\n",
      "F1 Score: 0.0\n",
      "Accuracy: 0.8864130434782609\n",
      "Precision: 0.0\n",
      "Recall: 0.0\n",
      "ROC AUC: 0.5\n",
      "Epoch 86 | Train Loss 0.47106216952996555\n"
     ]
    },
    {
     "name": "stderr",
     "output_type": "stream",
     "text": [
      "C:\\for_work\\anaconda\\lib\\site-packages\\sklearn\\metrics\\_classification.py:1308: UndefinedMetricWarning: Precision is ill-defined and being set to 0.0 due to no predicted samples. Use `zero_division` parameter to control this behavior.\n",
      "  _warn_prf(average, modifier, msg_start, len(result))\n",
      "  1%|▊                                                                              | 21/2070 [00:00<00:10, 203.84it/s]"
     ]
    },
    {
     "name": "stdout",
     "output_type": "stream",
     "text": [
      "[[0.31920773]\n",
      " [0.31911758]\n",
      " [0.31910822]\n",
      " [0.31913605]\n",
      " [0.31912875]\n",
      " [0.31913295]\n",
      " [0.32010397]\n",
      " [0.31908676]\n",
      " [0.31919158]\n",
      " [0.31933212]]\n",
      "[0. 0. 0. 0. 0. 0. 0. 0. 0. 0.]\n",
      "[0 0 0 0 0 1 0 0 0 0]\n",
      "\n",
      " Confusion matrix: \n",
      " [[12654  1545]\n",
      " [    0     0]]\n",
      "F1 Score: 0.0\n",
      "Accuracy: 0.8911895203887598\n",
      "Precision: 0.0\n",
      "Recall: 0.0\n",
      "ROC AUC: 0.5\n",
      "Epoch 86 | Test Loss 0.4670556503104734\n"
     ]
    },
    {
     "name": "stderr",
     "output_type": "stream",
     "text": [
      "100%|█████████████████████████████████████████████████████████████████████████████| 2070/2070 [00:09<00:00, 214.93it/s]\n",
      "C:\\for_work\\anaconda\\lib\\site-packages\\sklearn\\metrics\\_classification.py:1308: UndefinedMetricWarning: Precision is ill-defined and being set to 0.0 due to no predicted samples. Use `zero_division` parameter to control this behavior.\n",
      "  _warn_prf(average, modifier, msg_start, len(result))\n"
     ]
    },
    {
     "name": "stdout",
     "output_type": "stream",
     "text": [
      "\n",
      " Confusion matrix: \n",
      " [[29357  3763]\n",
      " [    0     0]]\n",
      "F1 Score: 0.0\n",
      "Accuracy: 0.8863828502415458\n",
      "Precision: 0.0\n",
      "Recall: 0.0\n",
      "ROC AUC: 0.5\n",
      "Epoch 87 | Train Loss 0.4702708346832202\n"
     ]
    },
    {
     "name": "stderr",
     "output_type": "stream",
     "text": [
      "C:\\for_work\\anaconda\\lib\\site-packages\\sklearn\\metrics\\_classification.py:1308: UndefinedMetricWarning: Precision is ill-defined and being set to 0.0 due to no predicted samples. Use `zero_division` parameter to control this behavior.\n",
      "  _warn_prf(average, modifier, msg_start, len(result))\n",
      "  1%|▉                                                                              | 24/2070 [00:00<00:08, 235.24it/s]"
     ]
    },
    {
     "name": "stdout",
     "output_type": "stream",
     "text": [
      "[[0.31834453]\n",
      " [0.3182756 ]\n",
      " [0.31826591]\n",
      " [0.3182913 ]\n",
      " [0.31828484]\n",
      " [0.31829008]\n",
      " [0.31916305]\n",
      " [0.31824723]\n",
      " [0.3183449 ]\n",
      " [0.31847918]]\n",
      "[0. 0. 0. 0. 0. 0. 0. 0. 0. 0.]\n",
      "[0 0 0 0 0 1 0 0 0 0]\n",
      "\n",
      " Confusion matrix: \n",
      " [[12654  1545]\n",
      " [    0     0]]\n",
      "F1 Score: 0.0\n",
      "Accuracy: 0.8911895203887598\n",
      "Precision: 0.0\n",
      "Recall: 0.0\n",
      "ROC AUC: 0.5\n",
      "Epoch 87 | Test Loss 0.46622401220841453\n"
     ]
    },
    {
     "name": "stderr",
     "output_type": "stream",
     "text": [
      "100%|█████████████████████████████████████████████████████████████████████████████| 2070/2070 [00:09<00:00, 215.37it/s]\n",
      "C:\\for_work\\anaconda\\lib\\site-packages\\sklearn\\metrics\\_classification.py:1308: UndefinedMetricWarning: Precision is ill-defined and being set to 0.0 due to no predicted samples. Use `zero_division` parameter to control this behavior.\n",
      "  _warn_prf(average, modifier, msg_start, len(result))\n"
     ]
    },
    {
     "name": "stdout",
     "output_type": "stream",
     "text": [
      "\n",
      " Confusion matrix: \n",
      " [[29357  3763]\n",
      " [    0     0]]\n",
      "F1 Score: 0.0\n",
      "Accuracy: 0.8863828502415458\n",
      "Precision: 0.0\n",
      "Recall: 0.0\n",
      "ROC AUC: 0.5\n",
      "Epoch 88 | Train Loss 0.46946437364615107\n"
     ]
    },
    {
     "name": "stderr",
     "output_type": "stream",
     "text": [
      "C:\\for_work\\anaconda\\lib\\site-packages\\sklearn\\metrics\\_classification.py:1308: UndefinedMetricWarning: Precision is ill-defined and being set to 0.0 due to no predicted samples. Use `zero_division` parameter to control this behavior.\n",
      "  _warn_prf(average, modifier, msg_start, len(result))\n",
      "  1%|▊                                                                              | 22/2070 [00:00<00:09, 219.95it/s]"
     ]
    },
    {
     "name": "stdout",
     "output_type": "stream",
     "text": [
      "[[0.31749362]\n",
      " [0.31743896]\n",
      " [0.31742918]\n",
      " [0.3174523 ]\n",
      " [0.31744656]\n",
      " [0.31745243]\n",
      " [0.31823328]\n",
      " [0.31741273]\n",
      " [0.3175037 ]\n",
      " [0.31763226]]\n",
      "[0. 0. 0. 0. 0. 0. 0. 0. 0. 0.]\n",
      "[0 0 0 0 0 1 0 0 0 0]\n",
      "\n",
      " Confusion matrix: \n",
      " [[12654  1545]\n",
      " [    0     0]]\n",
      "F1 Score: 0.0\n",
      "Accuracy: 0.8911895203887598\n",
      "Precision: 0.0\n",
      "Recall: 0.0\n",
      "ROC AUC: 0.5\n",
      "Epoch 88 | Test Loss 0.46540095153692607\n"
     ]
    },
    {
     "name": "stderr",
     "output_type": "stream",
     "text": [
      "100%|█████████████████████████████████████████████████████████████████████████████| 2070/2070 [00:09<00:00, 215.87it/s]\n",
      "C:\\for_work\\anaconda\\lib\\site-packages\\sklearn\\metrics\\_classification.py:1308: UndefinedMetricWarning: Precision is ill-defined and being set to 0.0 due to no predicted samples. Use `zero_division` parameter to control this behavior.\n",
      "  _warn_prf(average, modifier, msg_start, len(result))\n"
     ]
    },
    {
     "name": "stdout",
     "output_type": "stream",
     "text": [
      "\n",
      " Confusion matrix: \n",
      " [[29356  3764]\n",
      " [    0     0]]\n",
      "F1 Score: 0.0\n",
      "Accuracy: 0.8863526570048309\n",
      "Precision: 0.0\n",
      "Recall: 0.0\n",
      "ROC AUC: 0.5\n",
      "Epoch 89 | Train Loss 0.4686873120962134\n"
     ]
    },
    {
     "name": "stderr",
     "output_type": "stream",
     "text": [
      "C:\\for_work\\anaconda\\lib\\site-packages\\sklearn\\metrics\\_classification.py:1308: UndefinedMetricWarning: Precision is ill-defined and being set to 0.0 due to no predicted samples. Use `zero_division` parameter to control this behavior.\n",
      "  _warn_prf(average, modifier, msg_start, len(result))\n",
      "  1%|▌                                                                              | 16/2070 [00:00<00:13, 156.81it/s]"
     ]
    },
    {
     "name": "stdout",
     "output_type": "stream",
     "text": [
      "[[0.31664932]\n",
      " [0.31660354]\n",
      " [0.3165939 ]\n",
      " [0.31661505]\n",
      " [0.31660968]\n",
      " [0.31661606]\n",
      " [0.31732097]\n",
      " [0.31657913]\n",
      " [0.31666386]\n",
      " [0.31678733]]\n",
      "[0. 0. 0. 0. 0. 0. 0. 0. 0. 0.]\n",
      "[0 0 0 0 0 1 0 0 0 0]\n",
      "\n",
      " Confusion matrix: \n",
      " [[12654  1545]\n",
      " [    0     0]]\n",
      "F1 Score: 0.0\n",
      "Accuracy: 0.8911895203887598\n",
      "Precision: 0.0\n",
      "Recall: 0.0\n",
      "ROC AUC: 0.5\n",
      "Epoch 89 | Test Loss 0.4645828235525269\n"
     ]
    },
    {
     "name": "stderr",
     "output_type": "stream",
     "text": [
      "100%|█████████████████████████████████████████████████████████████████████████████| 2070/2070 [00:10<00:00, 205.45it/s]\n",
      "C:\\for_work\\anaconda\\lib\\site-packages\\sklearn\\metrics\\_classification.py:1308: UndefinedMetricWarning: Precision is ill-defined and being set to 0.0 due to no predicted samples. Use `zero_division` parameter to control this behavior.\n",
      "  _warn_prf(average, modifier, msg_start, len(result))\n"
     ]
    },
    {
     "name": "stdout",
     "output_type": "stream",
     "text": [
      "\n",
      " Confusion matrix: \n",
      " [[29356  3764]\n",
      " [    0     0]]\n",
      "F1 Score: 0.0\n",
      "Accuracy: 0.8863526570048309\n",
      "Precision: 0.0\n",
      "Recall: 0.0\n",
      "ROC AUC: 0.5\n",
      "Epoch 90 | Train Loss 0.4678889311166201\n"
     ]
    },
    {
     "name": "stderr",
     "output_type": "stream",
     "text": [
      "C:\\for_work\\anaconda\\lib\\site-packages\\sklearn\\metrics\\_classification.py:1308: UndefinedMetricWarning: Precision is ill-defined and being set to 0.0 due to no predicted samples. Use `zero_division` parameter to control this behavior.\n",
      "  _warn_prf(average, modifier, msg_start, len(result))\n",
      "  1%|▊                                                                              | 20/2070 [00:00<00:10, 199.95it/s]"
     ]
    },
    {
     "name": "stdout",
     "output_type": "stream",
     "text": [
      "[[0.31580415]\n",
      " [0.31576416]\n",
      " [0.3157549 ]\n",
      " [0.31577408]\n",
      " [0.31576905]\n",
      " [0.31577572]\n",
      " [0.3164185 ]\n",
      " [0.31574145]\n",
      " [0.3158201 ]\n",
      " [0.31593886]]\n",
      "[0. 0. 0. 0. 0. 0. 0. 0. 0. 0.]\n",
      "[0 0 0 0 0 1 0 0 0 0]\n",
      "\n",
      " Confusion matrix: \n",
      " [[12654  1545]\n",
      " [    0     0]]\n",
      "F1 Score: 0.0\n",
      "Accuracy: 0.8911895203887598\n",
      "Precision: 0.0\n",
      "Recall: 0.0\n",
      "ROC AUC: 0.5\n",
      "Epoch 90 | Test Loss 0.4637640272980338\n"
     ]
    },
    {
     "name": "stderr",
     "output_type": "stream",
     "text": [
      "100%|█████████████████████████████████████████████████████████████████████████████| 2070/2070 [00:09<00:00, 211.30it/s]\n",
      "C:\\for_work\\anaconda\\lib\\site-packages\\sklearn\\metrics\\_classification.py:1308: UndefinedMetricWarning: Precision is ill-defined and being set to 0.0 due to no predicted samples. Use `zero_division` parameter to control this behavior.\n",
      "  _warn_prf(average, modifier, msg_start, len(result))\n"
     ]
    },
    {
     "name": "stdout",
     "output_type": "stream",
     "text": [
      "\n",
      " Confusion matrix: \n",
      " [[29356  3764]\n",
      " [    0     0]]\n",
      "F1 Score: 0.0\n",
      "Accuracy: 0.8863526570048309\n",
      "Precision: 0.0\n",
      "Recall: 0.0\n",
      "ROC AUC: 0.5\n",
      "Epoch 91 | Train Loss 0.4670925387581765\n"
     ]
    },
    {
     "name": "stderr",
     "output_type": "stream",
     "text": [
      "C:\\for_work\\anaconda\\lib\\site-packages\\sklearn\\metrics\\_classification.py:1308: UndefinedMetricWarning: Precision is ill-defined and being set to 0.0 due to no predicted samples. Use `zero_division` parameter to control this behavior.\n",
      "  _warn_prf(average, modifier, msg_start, len(result))\n",
      "  1%|▊                                                                              | 21/2070 [00:00<00:10, 203.84it/s]"
     ]
    },
    {
     "name": "stdout",
     "output_type": "stream",
     "text": [
      "[[0.31496194]\n",
      " [0.3149264 ]\n",
      " [0.31491756]\n",
      " [0.3149349 ]\n",
      " [0.31492984]\n",
      " [0.31493688]\n",
      " [0.31552958]\n",
      " [0.3149051 ]\n",
      " [0.31497774]\n",
      " [0.31509238]]\n",
      "[0. 0. 0. 0. 0. 0. 0. 0. 0. 0.]\n",
      "[0 0 0 0 0 1 0 0 0 0]\n",
      "\n",
      " Confusion matrix: \n",
      " [[12654  1545]\n",
      " [    0     0]]\n",
      "F1 Score: 0.0\n",
      "Accuracy: 0.8911895203887598\n",
      "Precision: 0.0\n",
      "Recall: 0.0\n",
      "ROC AUC: 0.5\n",
      "Epoch 91 | Test Loss 0.462949952563724\n"
     ]
    },
    {
     "name": "stderr",
     "output_type": "stream",
     "text": [
      "100%|█████████████████████████████████████████████████████████████████████████████| 2070/2070 [00:09<00:00, 210.89it/s]\n",
      "C:\\for_work\\anaconda\\lib\\site-packages\\sklearn\\metrics\\_classification.py:1308: UndefinedMetricWarning: Precision is ill-defined and being set to 0.0 due to no predicted samples. Use `zero_division` parameter to control this behavior.\n",
      "  _warn_prf(average, modifier, msg_start, len(result))\n"
     ]
    },
    {
     "name": "stdout",
     "output_type": "stream",
     "text": [
      "\n",
      " Confusion matrix: \n",
      " [[29357  3763]\n",
      " [    0     0]]\n",
      "F1 Score: 0.0\n",
      "Accuracy: 0.8863828502415458\n",
      "Precision: 0.0\n",
      "Recall: 0.0\n",
      "ROC AUC: 0.5\n",
      "Epoch 92 | Train Loss 0.46628175805444305\n"
     ]
    },
    {
     "name": "stderr",
     "output_type": "stream",
     "text": [
      "C:\\for_work\\anaconda\\lib\\site-packages\\sklearn\\metrics\\_classification.py:1308: UndefinedMetricWarning: Precision is ill-defined and being set to 0.0 due to no predicted samples. Use `zero_division` parameter to control this behavior.\n",
      "  _warn_prf(average, modifier, msg_start, len(result))\n",
      "  1%|▌                                                                              | 14/2070 [00:00<00:14, 139.97it/s]"
     ]
    },
    {
     "name": "stdout",
     "output_type": "stream",
     "text": [
      "[[0.31412902]\n",
      " [0.31409743]\n",
      " [0.31408912]\n",
      " [0.31410474]\n",
      " [0.3140991 ]\n",
      " [0.3141068 ]\n",
      " [0.31465903]\n",
      " [0.31407735]\n",
      " [0.31414434]\n",
      " [0.31425515]]\n",
      "[0. 0. 0. 0. 0. 0. 0. 0. 0. 0.]\n",
      "[0 0 0 0 0 1 0 0 0 0]\n",
      "\n",
      " Confusion matrix: \n",
      " [[12654  1545]\n",
      " [    0     0]]\n",
      "F1 Score: 0.0\n",
      "Accuracy: 0.8911895203887598\n",
      "Precision: 0.0\n",
      "Recall: 0.0\n",
      "ROC AUC: 0.5\n",
      "Epoch 92 | Test Loss 0.46214746073022617\n"
     ]
    },
    {
     "name": "stderr",
     "output_type": "stream",
     "text": [
      "100%|█████████████████████████████████████████████████████████████████████████████| 2070/2070 [00:10<00:00, 188.35it/s]\n",
      "C:\\for_work\\anaconda\\lib\\site-packages\\sklearn\\metrics\\_classification.py:1308: UndefinedMetricWarning: Precision is ill-defined and being set to 0.0 due to no predicted samples. Use `zero_division` parameter to control this behavior.\n",
      "  _warn_prf(average, modifier, msg_start, len(result))\n"
     ]
    },
    {
     "name": "stdout",
     "output_type": "stream",
     "text": [
      "\n",
      " Confusion matrix: \n",
      " [[29358  3762]\n",
      " [    0     0]]\n",
      "F1 Score: 0.0\n",
      "Accuracy: 0.8864130434782609\n",
      "Precision: 0.0\n",
      "Recall: 0.0\n",
      "ROC AUC: 0.5\n",
      "Epoch 93 | Train Loss 0.46547607058200285\n"
     ]
    },
    {
     "name": "stderr",
     "output_type": "stream",
     "text": [
      "C:\\for_work\\anaconda\\lib\\site-packages\\sklearn\\metrics\\_classification.py:1308: UndefinedMetricWarning: Precision is ill-defined and being set to 0.0 due to no predicted samples. Use `zero_division` parameter to control this behavior.\n",
      "  _warn_prf(average, modifier, msg_start, len(result))\n",
      "  1%|▋                                                                              | 19/2070 [00:00<00:11, 182.65it/s]"
     ]
    },
    {
     "name": "stdout",
     "output_type": "stream",
     "text": [
      "[[0.31329545]\n",
      " [0.3132677 ]\n",
      " [0.3132599 ]\n",
      " [0.313274  ]\n",
      " [0.31326687]\n",
      " [0.31327605]\n",
      " [0.31379473]\n",
      " [0.31324866]\n",
      " [0.31331033]\n",
      " [0.31341755]]\n",
      "[0. 0. 0. 0. 0. 0. 0. 0. 0. 0.]\n",
      "[0 0 0 0 0 1 0 0 0 0]\n",
      "\n",
      " Confusion matrix: \n",
      " [[12654  1545]\n",
      " [    0     0]]\n",
      "F1 Score: 0.0\n",
      "Accuracy: 0.8911895203887598\n",
      "Precision: 0.0\n",
      "Recall: 0.0\n",
      "ROC AUC: 0.5\n",
      "Epoch 93 | Test Loss 0.4613473768438305\n"
     ]
    },
    {
     "name": "stderr",
     "output_type": "stream",
     "text": [
      "100%|█████████████████████████████████████████████████████████████████████████████| 2070/2070 [00:11<00:00, 185.71it/s]\n",
      "C:\\for_work\\anaconda\\lib\\site-packages\\sklearn\\metrics\\_classification.py:1308: UndefinedMetricWarning: Precision is ill-defined and being set to 0.0 due to no predicted samples. Use `zero_division` parameter to control this behavior.\n",
      "  _warn_prf(average, modifier, msg_start, len(result))\n"
     ]
    },
    {
     "name": "stdout",
     "output_type": "stream",
     "text": [
      "\n",
      " Confusion matrix: \n",
      " [[29356  3764]\n",
      " [    0     0]]\n",
      "F1 Score: 0.0\n",
      "Accuracy: 0.8863526570048309\n",
      "Precision: 0.0\n",
      "Recall: 0.0\n",
      "ROC AUC: 0.5\n",
      "Epoch 94 | Train Loss 0.4647455344021608\n"
     ]
    },
    {
     "name": "stderr",
     "output_type": "stream",
     "text": [
      "C:\\for_work\\anaconda\\lib\\site-packages\\sklearn\\metrics\\_classification.py:1308: UndefinedMetricWarning: Precision is ill-defined and being set to 0.0 due to no predicted samples. Use `zero_division` parameter to control this behavior.\n",
      "  _warn_prf(average, modifier, msg_start, len(result))\n",
      "  1%|▋                                                                              | 19/2070 [00:00<00:11, 179.21it/s]"
     ]
    },
    {
     "name": "stdout",
     "output_type": "stream",
     "text": [
      "[[0.31246343]\n",
      " [0.31243935]\n",
      " [0.31243202]\n",
      " [0.31244472]\n",
      " [0.31243593]\n",
      " [0.3124468 ]\n",
      " [0.3129364 ]\n",
      " [0.31242126]\n",
      " [0.31247765]\n",
      " [0.3125816 ]]\n",
      "[0. 0. 0. 0. 0. 0. 0. 0. 0. 0.]\n",
      "[0 0 0 0 0 1 0 0 0 0]\n",
      "\n",
      " Confusion matrix: \n",
      " [[12654  1545]\n",
      " [    0     0]]\n",
      "F1 Score: 0.0\n",
      "Accuracy: 0.8911895203887598\n",
      "Precision: 0.0\n",
      "Recall: 0.0\n",
      "ROC AUC: 0.5\n",
      "Epoch 94 | Test Loss 0.4605515933520085\n"
     ]
    },
    {
     "name": "stderr",
     "output_type": "stream",
     "text": [
      "100%|█████████████████████████████████████████████████████████████████████████████| 2070/2070 [00:10<00:00, 193.11it/s]\n",
      "C:\\for_work\\anaconda\\lib\\site-packages\\sklearn\\metrics\\_classification.py:1308: UndefinedMetricWarning: Precision is ill-defined and being set to 0.0 due to no predicted samples. Use `zero_division` parameter to control this behavior.\n",
      "  _warn_prf(average, modifier, msg_start, len(result))\n"
     ]
    },
    {
     "name": "stdout",
     "output_type": "stream",
     "text": [
      "\n",
      " Confusion matrix: \n",
      " [[29359  3761]\n",
      " [    0     0]]\n",
      "F1 Score: 0.0\n",
      "Accuracy: 0.8864432367149758\n",
      "Precision: 0.0\n",
      "Recall: 0.0\n",
      "ROC AUC: 0.5\n",
      "Epoch 95 | Train Loss 0.4639004858075709\n"
     ]
    },
    {
     "name": "stderr",
     "output_type": "stream",
     "text": [
      "C:\\for_work\\anaconda\\lib\\site-packages\\sklearn\\metrics\\_classification.py:1308: UndefinedMetricWarning: Precision is ill-defined and being set to 0.0 due to no predicted samples. Use `zero_division` parameter to control this behavior.\n",
      "  _warn_prf(average, modifier, msg_start, len(result))\n",
      "  1%|▊                                                                              | 21/2070 [00:00<00:10, 203.84it/s]"
     ]
    },
    {
     "name": "stdout",
     "output_type": "stream",
     "text": [
      "[[0.31163448]\n",
      " [0.31161377]\n",
      " [0.3116069 ]\n",
      " [0.3116184 ]\n",
      " [0.3116089 ]\n",
      " [0.31162053]\n",
      " [0.31208506]\n",
      " [0.31159666]\n",
      " [0.3116479 ]\n",
      " [0.31174904]]\n",
      "[0. 0. 0. 0. 0. 0. 0. 0. 0. 0.]\n",
      "[0 0 0 0 0 1 0 0 0 0]\n",
      "\n",
      " Confusion matrix: \n",
      " [[12654  1545]\n",
      " [    0     0]]\n",
      "F1 Score: 0.0\n",
      "Accuracy: 0.8911895203887598\n",
      "Precision: 0.0\n",
      "Recall: 0.0\n",
      "ROC AUC: 0.5\n",
      "Epoch 95 | Test Loss 0.45976151082966776\n"
     ]
    },
    {
     "name": "stderr",
     "output_type": "stream",
     "text": [
      "100%|█████████████████████████████████████████████████████████████████████████████| 2070/2070 [00:10<00:00, 199.08it/s]\n",
      "C:\\for_work\\anaconda\\lib\\site-packages\\sklearn\\metrics\\_classification.py:1308: UndefinedMetricWarning: Precision is ill-defined and being set to 0.0 due to no predicted samples. Use `zero_division` parameter to control this behavior.\n",
      "  _warn_prf(average, modifier, msg_start, len(result))\n"
     ]
    },
    {
     "name": "stdout",
     "output_type": "stream",
     "text": [
      "\n",
      " Confusion matrix: \n",
      " [[29356  3764]\n",
      " [    0     0]]\n",
      "F1 Score: 0.0\n",
      "Accuracy: 0.8863526570048309\n",
      "Precision: 0.0\n",
      "Recall: 0.0\n",
      "ROC AUC: 0.5\n",
      "Epoch 96 | Train Loss 0.463201916836886\n"
     ]
    },
    {
     "name": "stderr",
     "output_type": "stream",
     "text": [
      "C:\\for_work\\anaconda\\lib\\site-packages\\sklearn\\metrics\\_classification.py:1308: UndefinedMetricWarning: Precision is ill-defined and being set to 0.0 due to no predicted samples. Use `zero_division` parameter to control this behavior.\n",
      "  _warn_prf(average, modifier, msg_start, len(result))\n",
      "  1%|▊                                                                              | 21/2070 [00:00<00:10, 201.83it/s]"
     ]
    },
    {
     "name": "stdout",
     "output_type": "stream",
     "text": [
      "[[0.31080422]\n",
      " [0.31078643]\n",
      " [0.31078002]\n",
      " [0.31079033]\n",
      " [0.31078112]\n",
      " [0.31079257]\n",
      " [0.31123292]\n",
      " [0.3107704 ]\n",
      " [0.31081674]\n",
      " [0.31091467]]\n",
      "[0. 0. 0. 0. 0. 0. 0. 0. 0. 0.]\n",
      "[0 0 0 0 0 1 0 0 0 0]\n",
      "\n",
      " Confusion matrix: \n",
      " [[12654  1545]\n",
      " [    0     0]]\n",
      "F1 Score: 0.0\n",
      "Accuracy: 0.8911895203887598\n",
      "Precision: 0.0\n",
      "Recall: 0.0\n",
      "ROC AUC: 0.5\n",
      "Epoch 96 | Test Loss 0.4589720161648484\n"
     ]
    },
    {
     "name": "stderr",
     "output_type": "stream",
     "text": [
      "100%|█████████████████████████████████████████████████████████████████████████████| 2070/2070 [00:10<00:00, 193.29it/s]\n",
      "C:\\for_work\\anaconda\\lib\\site-packages\\sklearn\\metrics\\_classification.py:1308: UndefinedMetricWarning: Precision is ill-defined and being set to 0.0 due to no predicted samples. Use `zero_division` parameter to control this behavior.\n",
      "  _warn_prf(average, modifier, msg_start, len(result))\n"
     ]
    },
    {
     "name": "stdout",
     "output_type": "stream",
     "text": [
      "\n",
      " Confusion matrix: \n",
      " [[29356  3764]\n",
      " [    0     0]]\n",
      "F1 Score: 0.0\n",
      "Accuracy: 0.8863526570048309\n",
      "Precision: 0.0\n",
      "Recall: 0.0\n",
      "ROC AUC: 0.5\n",
      "Epoch 97 | Train Loss 0.46243526883747266\n"
     ]
    },
    {
     "name": "stderr",
     "output_type": "stream",
     "text": [
      "C:\\for_work\\anaconda\\lib\\site-packages\\sklearn\\metrics\\_classification.py:1308: UndefinedMetricWarning: Precision is ill-defined and being set to 0.0 due to no predicted samples. Use `zero_division` parameter to control this behavior.\n",
      "  _warn_prf(average, modifier, msg_start, len(result))\n",
      "  1%|▋                                                                              | 19/2070 [00:00<00:11, 184.42it/s]"
     ]
    },
    {
     "name": "stdout",
     "output_type": "stream",
     "text": [
      "[[0.30997825]\n",
      " [0.30996293]\n",
      " [0.30995694]\n",
      " [0.30996624]\n",
      " [0.3099575 ]\n",
      " [0.30996853]\n",
      " [0.3103879 ]\n",
      " [0.30994785]\n",
      " [0.30998993]\n",
      " [0.31008476]]\n",
      "[0. 0. 0. 0. 0. 0. 0. 0. 0. 0.]\n",
      "[0 0 0 0 0 1 0 0 0 0]\n",
      "\n",
      " Confusion matrix: \n",
      " [[12654  1545]\n",
      " [    0     0]]\n",
      "F1 Score: 0.0\n",
      "Accuracy: 0.8911895203887598\n",
      "Precision: 0.0\n",
      "Recall: 0.0\n",
      "ROC AUC: 0.5\n",
      "Epoch 97 | Test Loss 0.4581889981353605\n"
     ]
    },
    {
     "name": "stderr",
     "output_type": "stream",
     "text": [
      "100%|█████████████████████████████████████████████████████████████████████████████| 2070/2070 [00:11<00:00, 184.15it/s]\n",
      "C:\\for_work\\anaconda\\lib\\site-packages\\sklearn\\metrics\\_classification.py:1308: UndefinedMetricWarning: Precision is ill-defined and being set to 0.0 due to no predicted samples. Use `zero_division` parameter to control this behavior.\n",
      "  _warn_prf(average, modifier, msg_start, len(result))\n"
     ]
    },
    {
     "name": "stdout",
     "output_type": "stream",
     "text": [
      "\n",
      " Confusion matrix: \n",
      " [[29357  3763]\n",
      " [    0     0]]\n",
      "F1 Score: 0.0\n",
      "Accuracy: 0.8863828502415458\n",
      "Precision: 0.0\n",
      "Recall: 0.0\n",
      "ROC AUC: 0.5\n",
      "Epoch 98 | Train Loss 0.46165110353686384\n"
     ]
    },
    {
     "name": "stderr",
     "output_type": "stream",
     "text": [
      "C:\\for_work\\anaconda\\lib\\site-packages\\sklearn\\metrics\\_classification.py:1308: UndefinedMetricWarning: Precision is ill-defined and being set to 0.0 due to no predicted samples. Use `zero_division` parameter to control this behavior.\n",
      "  _warn_prf(average, modifier, msg_start, len(result))\n",
      "  1%|▋                                                                              | 19/2070 [00:00<00:11, 184.43it/s]"
     ]
    },
    {
     "name": "stdout",
     "output_type": "stream",
     "text": [
      "[[0.30915603]\n",
      " [0.3091425 ]\n",
      " [0.3091369 ]\n",
      " [0.3091453 ]\n",
      " [0.3091371 ]\n",
      " [0.30914766]\n",
      " [0.30954823]\n",
      " [0.3091283 ]\n",
      " [0.30916706]\n",
      " [0.30925834]]\n",
      "[0. 0. 0. 0. 0. 0. 0. 0. 0. 0.]\n",
      "[0 0 0 0 0 1 0 0 0 0]\n",
      "\n",
      " Confusion matrix: \n",
      " [[12654  1545]\n",
      " [    0     0]]\n",
      "F1 Score: 0.0\n",
      "Accuracy: 0.8911895203887598\n",
      "Precision: 0.0\n",
      "Recall: 0.0\n",
      "ROC AUC: 0.5\n",
      "Epoch 98 | Test Loss 0.4574116507360527\n"
     ]
    },
    {
     "name": "stderr",
     "output_type": "stream",
     "text": [
      "100%|█████████████████████████████████████████████████████████████████████████████| 2070/2070 [00:11<00:00, 184.10it/s]\n",
      "C:\\for_work\\anaconda\\lib\\site-packages\\sklearn\\metrics\\_classification.py:1308: UndefinedMetricWarning: Precision is ill-defined and being set to 0.0 due to no predicted samples. Use `zero_division` parameter to control this behavior.\n",
      "  _warn_prf(average, modifier, msg_start, len(result))\n"
     ]
    },
    {
     "name": "stdout",
     "output_type": "stream",
     "text": [
      "\n",
      " Confusion matrix: \n",
      " [[29356  3764]\n",
      " [    0     0]]\n",
      "F1 Score: 0.0\n",
      "Accuracy: 0.8863526570048309\n",
      "Precision: 0.0\n",
      "Recall: 0.0\n",
      "ROC AUC: 0.5\n",
      "Epoch 99 | Train Loss 0.4609184104031411\n",
      "[[0.30833524]\n",
      " [0.30832317]\n",
      " [0.30831787]\n",
      " [0.3083255 ]\n",
      " [0.30831775]\n",
      " [0.30832788]\n",
      " [0.30871055]\n",
      " [0.30830982]\n",
      " [0.3083454 ]\n",
      " [0.3084331 ]]\n",
      "[0. 0. 0. 0. 0. 0. 0. 0. 0. 0.]\n",
      "[0 0 0 0 0 1 0 0 0 0]\n",
      "\n",
      " Confusion matrix: \n",
      " [[12654  1545]\n",
      " [    0     0]]\n",
      "F1 Score: 0.0\n",
      "Accuracy: 0.8911895203887598\n",
      "Precision: 0.0\n",
      "Recall: 0.0\n",
      "ROC AUC: 0.5\n",
      "Epoch 99 | Test Loss 0.45663773476540503\n"
     ]
    },
    {
     "name": "stderr",
     "output_type": "stream",
     "text": [
      "C:\\for_work\\anaconda\\lib\\site-packages\\sklearn\\metrics\\_classification.py:1308: UndefinedMetricWarning: Precision is ill-defined and being set to 0.0 due to no predicted samples. Use `zero_division` parameter to control this behavior.\n",
      "  _warn_prf(average, modifier, msg_start, len(result))\n"
     ]
    }
   ],
   "source": [
    "train_reward_loss = {}\n",
    "test_reward_loss = {}\n",
    "for epoch in range(100): \n",
    "\n",
    "    model_reward.train()\n",
    "    loss = train_one_epoch(epoch, model_reward, train_loader, optimizer, loss_fn, label='reward')\n",
    "    print(f\"Epoch {epoch} | Train Loss {loss}\")\n",
    "    train_reward_loss[epoch] = loss\n",
    "\n",
    "\n",
    "    # Testing\n",
    "    model_reward.eval()\n",
    "    t_loss = test(epoch, model_reward, test_loader, loss_fn, label='reward')\n",
    "    print(f\"Epoch {epoch} | Test Loss {t_loss}\")\n",
    "    train_reward_loss[epoch] = t_loss\n"
   ]
  },
  {
   "cell_type": "markdown",
   "id": "caa6728f",
   "metadata": {},
   "source": [
    "#### Plot performances over epoch"
   ]
  },
  {
   "cell_type": "code",
   "execution_count": 461,
   "id": "19f81320",
   "metadata": {
    "ExecuteTime": {
     "end_time": "2022-08-13T01:15:46.612545Z",
     "start_time": "2022-08-13T01:15:46.472457Z"
    }
   },
   "outputs": [
    {
     "data": {
      "image/png": "[encoded data removed]",
      "text/plain": [
       "<Figure size 432x288 with 1 Axes>"
      ]
     },
     "metadata": {
      "needs_background": "light"
     },
     "output_type": "display_data"
    }
   ],
   "source": [
    "y_train = train_reward_loss.values()\n",
    "x_train = train_reward_loss.keys()\n",
    "\n",
    "y_loss = test_reward_loss.values()\n",
    "x_loss = test_reward_loss.keys()\n",
    "import matplotlib.pyplot as plt\n",
    "\n",
    "plt.plot(x_train, y_train, label = \"train_loss\")\n",
    "plt.plot(x_loss, y_loss, label = \"test_loss\")\n",
    "plt.title('Reward GNN Loss')\n",
    "plt.xlabel('Epoch')\n",
    "plt.ylabel('Loss')\n",
    "plt.legend()\n",
    "plt.show()"
   ]
  }
 ],
 "metadata": {
  "kernelspec": {
   "display_name": "Python 3",
   "language": "python",
   "name": "python3"
  },
  "language_info": {
   "codemirror_mode": {
    "name": "ipython",
    "version": 3
   },
   "file_extension": ".py",
   "mimetype": "text/x-python",
   "name": "python",
   "nbconvert_exporter": "python",
   "pygments_lexer": "ipython3",
   "version": "3.8.8"
  },
  "toc": {
   "base_numbering": 1,
   "nav_menu": {},
   "number_sections": true,
   "sideBar": true,
   "skip_h1_title": false,
   "title_cell": "Table of Contents",
   "title_sidebar": "Contents",
   "toc_cell": false,
   "toc_position": {},
   "toc_section_display": true,
   "toc_window_display": false
  },
  "varInspector": {
   "cols": {
    "lenName": 16,
    "lenType": 16,
    "lenVar": 40
   },
   "kernels_config": {
    "python": {
     "delete_cmd_postfix": "",
     "delete_cmd_prefix": "del ",
     "library": "var_list.py",
     "varRefreshCmd": "print(var_dic_list())"
    },
    "r": {
     "delete_cmd_postfix": ") ",
     "delete_cmd_prefix": "rm(",
     "library": "var_list.r",
     "varRefreshCmd": "cat(var_dic_list()) "
    }
   },
   "types_to_exclude": [
    "module",
    "function",
    "builtin_function_or_method",
    "instance",
    "_Feature"
   ],
   "window_display": false
  }
 },
 "nbformat": 4,
 "nbformat_minor": 5
}
