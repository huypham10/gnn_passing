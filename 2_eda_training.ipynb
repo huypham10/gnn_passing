{
 "cells": [
  {
   "cell_type": "markdown",
   "id": "e3234ed2",
   "metadata": {},
   "source": [
    "# Approach 1: Exploratory Data Analysis and Model Training\n",
    "\n",
    "## Input requirements: file master_data.json\n"
   ]
  },
  {
   "cell_type": "code",
   "execution_count": 9,
   "id": "3c38e9da",
   "metadata": {
    "ExecuteTime": {
     "end_time": "2022-08-15T06:56:27.487079Z",
     "start_time": "2022-08-15T06:56:27.468193Z"
    }
   },
   "outputs": [],
   "source": [
    "from sklearn.model_selection import train_test_split\n",
    "from sklearn.preprocessing import StandardScaler\n",
    "from sklearn.linear_model import LogisticRegression\n",
    "from sklearn.model_selection import KFold\n",
    "from sklearn.model_selection import cross_val_score\n",
    "import numpy as np\n",
    "import pandas as pd\n",
    "\n",
    "import seaborn as sn\n",
    "import matplotlib.pyplot as plt\n",
    "\n",
    "import glob\n",
    "import os\n",
    "from statsbombpy import sb"
   ]
  },
  {
   "cell_type": "code",
   "execution_count": 10,
   "id": "1b69e4de",
   "metadata": {
    "ExecuteTime": {
     "end_time": "2022-08-15T06:56:27.874185Z",
     "start_time": "2022-08-15T06:56:27.866128Z"
    }
   },
   "outputs": [
    {
     "data": {
      "text/plain": [
       "'3.5.3'"
      ]
     },
     "execution_count": 10,
     "metadata": {},
     "output_type": "execute_result"
    }
   ],
   "source": [
    "import matplotlib\n",
    "matplotlib.__version__"
   ]
  },
  {
   "cell_type": "code",
   "execution_count": 11,
   "id": "f855cad6",
   "metadata": {
    "ExecuteTime": {
     "end_time": "2022-08-15T06:56:31.277716Z",
     "start_time": "2022-08-15T06:56:28.304900Z"
    }
   },
   "outputs": [
    {
     "name": "stdout",
     "output_type": "stream",
     "text": [
      "Requirement already satisfied: matplotlib in c:\\users\\huy's\\appdata\\roaming\\python\\python38\\site-packages (3.5.3)\n",
      "Requirement already satisfied: packaging>=20.0 in c:\\for_work\\anaconda\\lib\\site-packages (from matplotlib) (20.9)\n",
      "Requirement already satisfied: numpy>=1.17 in c:\\for_work\\anaconda\\lib\\site-packages (from matplotlib) (1.22.4)\n",
      "Requirement already satisfied: cycler>=0.10 in c:\\for_work\\anaconda\\lib\\site-packages (from matplotlib) (0.10.0)\n",
      "Requirement already satisfied: pillow>=6.2.0 in c:\\for_work\\anaconda\\lib\\site-packages (from matplotlib) (8.2.0)\n",
      "Requirement already satisfied: pyparsing>=2.2.1 in c:\\for_work\\anaconda\\lib\\site-packages (from matplotlib) (2.4.7)\n",
      "Requirement already satisfied: fonttools>=4.22.0 in c:\\for_work\\anaconda\\lib\\site-packages (from matplotlib) (4.34.4)\n",
      "Requirement already satisfied: kiwisolver>=1.0.1 in c:\\for_work\\anaconda\\lib\\site-packages (from matplotlib) (1.3.1)\n",
      "Requirement already satisfied: python-dateutil>=2.7 in c:\\for_work\\anaconda\\lib\\site-packages (from matplotlib) (2.8.1)\n",
      "Requirement already satisfied: six in c:\\for_work\\anaconda\\lib\\site-packages (from cycler>=0.10->matplotlib) (1.15.0)\n"
     ]
    }
   ],
   "source": [
    "!pip install --upgrade matplotlib --user"
   ]
  },
  {
   "cell_type": "markdown",
   "id": "2e96fa65",
   "metadata": {},
   "source": [
    "## EDA\n",
    "First step is to load the json with all features "
   ]
  },
  {
   "cell_type": "code",
   "execution_count": 12,
   "id": "e200a3fa",
   "metadata": {
    "ExecuteTime": {
     "end_time": "2022-08-15T06:56:34.207166Z",
     "start_time": "2022-08-15T06:56:32.232731Z"
    },
    "scrolled": true
   },
   "outputs": [
    {
     "name": "stdout",
     "output_type": "stream",
     "text": [
      "Index(['index', 'period', 'timestamp', 'minute', 'location', 'pass_length',\n",
      "       'pass_height', 'pass_switch', 'under_pressure', 'pass_cross',\n",
      "       'pass_through_ball', 'binary_pass_risk', 'binary_pass_reward',\n",
      "       'br_pressure', 'one_touch_pass', 'pass_from_duel', 'carry_dist',\n",
      "       'carry_speed', 'pass_degree', 'pass_angle_cat', 'pass_receipt_loc',\n",
      "       'passer_degree_to_goal', 'br_degree_to_goal', 'pass_loc_x',\n",
      "       'pass_loc_y', 'pass_receipt_loc_x', 'pass_receipt_loc_y', 'deadball',\n",
      "       'time_since_poss', 'from_keeper_held', 'pass_body_part_gr',\n",
      "       'pc_5ft_actor_oppo', 'pc_oppo_closer_to_goal_passer',\n",
      "       'oppo_min_dist_passer', 'min_degree_diff_passer_oppo',\n",
      "       'closest_oppo_degree_diff_passer', 'pc_5ft_br_oppo',\n",
      "       'pc_oppo_closer_to_goal_br', 'oppo_min_dist_br',\n",
      "       'min_degree_diff_br_oppo', 'closest_oppo_degree_diff_br',\n",
      "       'min_dist_from_br_teammate', 'pass_cut_back'],\n",
      "      dtype='object')\n",
      "<class 'pandas.core.frame.DataFrame'>\n",
      "Index: 47539 entries, bbc398f7-c784-4958-a504-37b583caf97a to e6fa5b12-3683-4e25-912b-30180e4fc752\n",
      "Data columns (total 43 columns):\n",
      " #   Column                           Non-Null Count  Dtype         \n",
      "---  ------                           --------------  -----         \n",
      " 0   index                            47539 non-null  int64         \n",
      " 1   period                           47539 non-null  int64         \n",
      " 2   timestamp                        47539 non-null  datetime64[ns]\n",
      " 3   minute                           47539 non-null  int64         \n",
      " 4   location                         47539 non-null  object        \n",
      " 5   pass_length                      47539 non-null  float64       \n",
      " 6   pass_height                      47539 non-null  object        \n",
      " 7   pass_switch                      47539 non-null  int64         \n",
      " 8   under_pressure                   47539 non-null  int64         \n",
      " 9   pass_cross                       47539 non-null  int64         \n",
      " 10  pass_through_ball                47539 non-null  int64         \n",
      " 11  binary_pass_risk                 47539 non-null  int64         \n",
      " 12  binary_pass_reward               47539 non-null  int64         \n",
      " 13  br_pressure                      47539 non-null  int64         \n",
      " 14  one_touch_pass                   47539 non-null  int64         \n",
      " 15  pass_from_duel                   47539 non-null  int64         \n",
      " 16  carry_dist                       47539 non-null  float64       \n",
      " 17  carry_speed                      47539 non-null  float64       \n",
      " 18  pass_degree                      47539 non-null  float64       \n",
      " 19  pass_angle_cat                   47539 non-null  object        \n",
      " 20  pass_receipt_loc                 47539 non-null  object        \n",
      " 21  passer_degree_to_goal            47539 non-null  float64       \n",
      " 22  br_degree_to_goal                47539 non-null  float64       \n",
      " 23  pass_loc_x                       47539 non-null  float64       \n",
      " 24  pass_loc_y                       47539 non-null  float64       \n",
      " 25  pass_receipt_loc_x               47539 non-null  float64       \n",
      " 26  pass_receipt_loc_y               47539 non-null  float64       \n",
      " 27  deadball                         47539 non-null  int64         \n",
      " 28  time_since_poss                  47539 non-null  float64       \n",
      " 29  from_keeper_held                 47539 non-null  int64         \n",
      " 30  pass_body_part_gr                47539 non-null  object        \n",
      " 31  pc_5ft_actor_oppo                47539 non-null  float64       \n",
      " 32  pc_oppo_closer_to_goal_passer    47539 non-null  float64       \n",
      " 33  oppo_min_dist_passer             47539 non-null  float64       \n",
      " 34  min_degree_diff_passer_oppo      47539 non-null  float64       \n",
      " 35  closest_oppo_degree_diff_passer  47539 non-null  float64       \n",
      " 36  pc_5ft_br_oppo                   47539 non-null  float64       \n",
      " 37  pc_oppo_closer_to_goal_br        47539 non-null  float64       \n",
      " 38  oppo_min_dist_br                 47539 non-null  float64       \n",
      " 39  min_degree_diff_br_oppo          47539 non-null  float64       \n",
      " 40  closest_oppo_degree_diff_br      47539 non-null  float64       \n",
      " 41  min_dist_from_br_teammate        47539 non-null  float64       \n",
      " 42  pass_cut_back                    47539 non-null  int64         \n",
      "dtypes: datetime64[ns](1), float64(22), int64(15), object(5)\n",
      "memory usage: 16.0+ MB\n"
     ]
    }
   ],
   "source": [
    "master_data = pd.read_json('master_data.json')\n",
    "master_data = master_data.dropna()\n",
    "print(master_data.columns)\n",
    "master_data.info()"
   ]
  },
  {
   "cell_type": "code",
   "execution_count": 13,
   "id": "868ff746",
   "metadata": {
    "ExecuteTime": {
     "end_time": "2022-08-15T06:56:34.319189Z",
     "start_time": "2022-08-15T06:56:34.305187Z"
    }
   },
   "outputs": [
    {
     "data": {
      "text/plain": [
       "binary_pass_risk      39838\n",
       "binary_pass_reward     5313\n",
       "dtype: int64"
      ]
     },
     "execution_count": 13,
     "metadata": {},
     "output_type": "execute_result"
    }
   ],
   "source": [
    "master_data[['binary_pass_risk', 'binary_pass_reward']].sum()"
   ]
  },
  {
   "cell_type": "markdown",
   "id": "c0ea9fa2",
   "metadata": {},
   "source": [
    "### View description for all features:\n",
    "- This is to discover any data discrepancy or outliers"
   ]
  },
  {
   "cell_type": "code",
   "execution_count": 14,
   "id": "2f2aaab4",
   "metadata": {
    "ExecuteTime": {
     "end_time": "2022-08-15T06:56:34.543240Z",
     "start_time": "2022-08-15T06:56:34.417213Z"
    },
    "scrolled": false
   },
   "outputs": [
    {
     "data": {
      "text/html": [
       "<div>\n",
       "<style scoped>\n",
       "    .dataframe tbody tr th:only-of-type {\n",
       "        vertical-align: middle;\n",
       "    }\n",
       "\n",
       "    .dataframe tbody tr th {\n",
       "        vertical-align: top;\n",
       "    }\n",
       "\n",
       "    .dataframe thead th {\n",
       "        text-align: right;\n",
       "    }\n",
       "</style>\n",
       "<table border=\"1\" class=\"dataframe\">\n",
       "  <thead>\n",
       "    <tr style=\"text-align: right;\">\n",
       "      <th></th>\n",
       "      <th>index</th>\n",
       "      <th>period</th>\n",
       "      <th>minute</th>\n",
       "      <th>pass_length</th>\n",
       "      <th>pass_switch</th>\n",
       "      <th>under_pressure</th>\n",
       "      <th>pass_cross</th>\n",
       "      <th>pass_through_ball</th>\n",
       "      <th>binary_pass_risk</th>\n",
       "      <th>binary_pass_reward</th>\n",
       "      <th>br_pressure</th>\n",
       "      <th>one_touch_pass</th>\n",
       "      <th>pass_from_duel</th>\n",
       "      <th>carry_dist</th>\n",
       "      <th>carry_speed</th>\n",
       "      <th>pass_degree</th>\n",
       "      <th>passer_degree_to_goal</th>\n",
       "      <th>br_degree_to_goal</th>\n",
       "      <th>pass_loc_x</th>\n",
       "      <th>pass_loc_y</th>\n",
       "      <th>pass_receipt_loc_x</th>\n",
       "      <th>pass_receipt_loc_y</th>\n",
       "      <th>deadball</th>\n",
       "      <th>time_since_poss</th>\n",
       "      <th>from_keeper_held</th>\n",
       "      <th>pc_5ft_actor_oppo</th>\n",
       "      <th>pc_oppo_closer_to_goal_passer</th>\n",
       "      <th>oppo_min_dist_passer</th>\n",
       "      <th>min_degree_diff_passer_oppo</th>\n",
       "      <th>closest_oppo_degree_diff_passer</th>\n",
       "      <th>pc_5ft_br_oppo</th>\n",
       "      <th>pc_oppo_closer_to_goal_br</th>\n",
       "      <th>oppo_min_dist_br</th>\n",
       "      <th>min_degree_diff_br_oppo</th>\n",
       "      <th>closest_oppo_degree_diff_br</th>\n",
       "      <th>min_dist_from_br_teammate</th>\n",
       "      <th>pass_cut_back</th>\n",
       "    </tr>\n",
       "  </thead>\n",
       "  <tbody>\n",
       "    <tr>\n",
       "      <th>count</th>\n",
       "      <td>47539.000000</td>\n",
       "      <td>47539.000000</td>\n",
       "      <td>47539.000000</td>\n",
       "      <td>47539.000000</td>\n",
       "      <td>47539.000000</td>\n",
       "      <td>47539.00000</td>\n",
       "      <td>47539.000000</td>\n",
       "      <td>47539.000000</td>\n",
       "      <td>47539.000000</td>\n",
       "      <td>47539.000000</td>\n",
       "      <td>47539.000000</td>\n",
       "      <td>47539.000000</td>\n",
       "      <td>47539.000000</td>\n",
       "      <td>47539.000000</td>\n",
       "      <td>47539.000000</td>\n",
       "      <td>47539.000000</td>\n",
       "      <td>47539.000000</td>\n",
       "      <td>47539.000000</td>\n",
       "      <td>47539.000000</td>\n",
       "      <td>47539.000000</td>\n",
       "      <td>47539.000000</td>\n",
       "      <td>47539.000000</td>\n",
       "      <td>47539.000000</td>\n",
       "      <td>47539.000000</td>\n",
       "      <td>47539.000000</td>\n",
       "      <td>47539.000000</td>\n",
       "      <td>47539.000000</td>\n",
       "      <td>47539.000000</td>\n",
       "      <td>47539.000000</td>\n",
       "      <td>47539.000000</td>\n",
       "      <td>47539.000000</td>\n",
       "      <td>47539.000000</td>\n",
       "      <td>47539.000000</td>\n",
       "      <td>47539.000000</td>\n",
       "      <td>47539.000000</td>\n",
       "      <td>47539.000000</td>\n",
       "      <td>47539.000000</td>\n",
       "    </tr>\n",
       "    <tr>\n",
       "      <th>mean</th>\n",
       "      <td>1915.484528</td>\n",
       "      <td>1.576558</td>\n",
       "      <td>47.300385</td>\n",
       "      <td>20.361148</td>\n",
       "      <td>0.028482</td>\n",
       "      <td>0.14973</td>\n",
       "      <td>0.021372</td>\n",
       "      <td>0.006710</td>\n",
       "      <td>0.838007</td>\n",
       "      <td>0.111761</td>\n",
       "      <td>0.071815</td>\n",
       "      <td>0.211195</td>\n",
       "      <td>0.017922</td>\n",
       "      <td>3.931000</td>\n",
       "      <td>3.034917</td>\n",
       "      <td>0.949248</td>\n",
       "      <td>0.342035</td>\n",
       "      <td>0.339257</td>\n",
       "      <td>59.626254</td>\n",
       "      <td>39.721397</td>\n",
       "      <td>64.422520</td>\n",
       "      <td>39.682221</td>\n",
       "      <td>0.045373</td>\n",
       "      <td>33.468312</td>\n",
       "      <td>0.005259</td>\n",
       "      <td>0.093067</td>\n",
       "      <td>0.863260</td>\n",
       "      <td>5.907883</td>\n",
       "      <td>84.862828</td>\n",
       "      <td>101.305486</td>\n",
       "      <td>0.023695</td>\n",
       "      <td>0.695020</td>\n",
       "      <td>13.085572</td>\n",
       "      <td>74.538638</td>\n",
       "      <td>-1.348889</td>\n",
       "      <td>8.575620</td>\n",
       "      <td>0.001977</td>\n",
       "    </tr>\n",
       "    <tr>\n",
       "      <th>std</th>\n",
       "      <td>1158.366571</td>\n",
       "      <td>0.662395</td>\n",
       "      <td>29.458175</td>\n",
       "      <td>13.201251</td>\n",
       "      <td>0.166347</td>\n",
       "      <td>0.35681</td>\n",
       "      <td>0.144622</td>\n",
       "      <td>0.081642</td>\n",
       "      <td>0.368449</td>\n",
       "      <td>0.315075</td>\n",
       "      <td>0.258184</td>\n",
       "      <td>0.408161</td>\n",
       "      <td>0.132670</td>\n",
       "      <td>6.128996</td>\n",
       "      <td>11.612786</td>\n",
       "      <td>91.533955</td>\n",
       "      <td>28.593993</td>\n",
       "      <td>29.423443</td>\n",
       "      <td>26.133979</td>\n",
       "      <td>23.668963</td>\n",
       "      <td>26.691683</td>\n",
       "      <td>23.439384</td>\n",
       "      <td>0.208124</td>\n",
       "      <td>182.207629</td>\n",
       "      <td>0.072328</td>\n",
       "      <td>0.103460</td>\n",
       "      <td>0.191160</td>\n",
       "      <td>4.985041</td>\n",
       "      <td>81.022148</td>\n",
       "      <td>46.209722</td>\n",
       "      <td>0.064166</td>\n",
       "      <td>0.348159</td>\n",
       "      <td>8.916436</td>\n",
       "      <td>59.201610</td>\n",
       "      <td>118.887133</td>\n",
       "      <td>8.855054</td>\n",
       "      <td>0.044424</td>\n",
       "    </tr>\n",
       "    <tr>\n",
       "      <th>min</th>\n",
       "      <td>5.000000</td>\n",
       "      <td>1.000000</td>\n",
       "      <td>0.000000</td>\n",
       "      <td>0.000000</td>\n",
       "      <td>0.000000</td>\n",
       "      <td>0.00000</td>\n",
       "      <td>0.000000</td>\n",
       "      <td>0.000000</td>\n",
       "      <td>0.000000</td>\n",
       "      <td>0.000000</td>\n",
       "      <td>0.000000</td>\n",
       "      <td>0.000000</td>\n",
       "      <td>0.000000</td>\n",
       "      <td>0.000000</td>\n",
       "      <td>0.000000</td>\n",
       "      <td>-179.723207</td>\n",
       "      <td>-90.000000</td>\n",
       "      <td>-90.000000</td>\n",
       "      <td>0.600000</td>\n",
       "      <td>0.100000</td>\n",
       "      <td>0.100000</td>\n",
       "      <td>0.100000</td>\n",
       "      <td>0.000000</td>\n",
       "      <td>0.000000</td>\n",
       "      <td>0.000000</td>\n",
       "      <td>0.000000</td>\n",
       "      <td>0.000000</td>\n",
       "      <td>0.000000</td>\n",
       "      <td>0.000284</td>\n",
       "      <td>0.000284</td>\n",
       "      <td>0.000000</td>\n",
       "      <td>0.000000</td>\n",
       "      <td>0.033874</td>\n",
       "      <td>0.003475</td>\n",
       "      <td>-179.999619</td>\n",
       "      <td>0.000000</td>\n",
       "      <td>0.000000</td>\n",
       "    </tr>\n",
       "    <tr>\n",
       "      <th>25%</th>\n",
       "      <td>930.000000</td>\n",
       "      <td>1.000000</td>\n",
       "      <td>22.000000</td>\n",
       "      <td>11.298452</td>\n",
       "      <td>0.000000</td>\n",
       "      <td>0.00000</td>\n",
       "      <td>0.000000</td>\n",
       "      <td>0.000000</td>\n",
       "      <td>1.000000</td>\n",
       "      <td>0.000000</td>\n",
       "      <td>0.000000</td>\n",
       "      <td>0.000000</td>\n",
       "      <td>0.000000</td>\n",
       "      <td>0.000000</td>\n",
       "      <td>0.000000</td>\n",
       "      <td>-72.973575</td>\n",
       "      <td>-18.876117</td>\n",
       "      <td>-20.619853</td>\n",
       "      <td>41.300000</td>\n",
       "      <td>19.100000</td>\n",
       "      <td>45.300000</td>\n",
       "      <td>19.200000</td>\n",
       "      <td>0.000000</td>\n",
       "      <td>5.270500</td>\n",
       "      <td>0.000000</td>\n",
       "      <td>0.000000</td>\n",
       "      <td>0.777778</td>\n",
       "      <td>2.597387</td>\n",
       "      <td>32.087605</td>\n",
       "      <td>67.318395</td>\n",
       "      <td>0.000000</td>\n",
       "      <td>0.444444</td>\n",
       "      <td>6.727502</td>\n",
       "      <td>27.585073</td>\n",
       "      <td>-118.098980</td>\n",
       "      <td>3.110498</td>\n",
       "      <td>0.000000</td>\n",
       "    </tr>\n",
       "    <tr>\n",
       "      <th>50%</th>\n",
       "      <td>1863.000000</td>\n",
       "      <td>2.000000</td>\n",
       "      <td>46.000000</td>\n",
       "      <td>17.029387</td>\n",
       "      <td>0.000000</td>\n",
       "      <td>0.00000</td>\n",
       "      <td>0.000000</td>\n",
       "      <td>0.000000</td>\n",
       "      <td>1.000000</td>\n",
       "      <td>0.000000</td>\n",
       "      <td>0.000000</td>\n",
       "      <td>0.000000</td>\n",
       "      <td>0.000000</td>\n",
       "      <td>1.486607</td>\n",
       "      <td>1.342494</td>\n",
       "      <td>0.000000</td>\n",
       "      <td>0.400663</td>\n",
       "      <td>0.543587</td>\n",
       "      <td>60.300000</td>\n",
       "      <td>39.500000</td>\n",
       "      <td>64.200000</td>\n",
       "      <td>39.500000</td>\n",
       "      <td>0.000000</td>\n",
       "      <td>14.679000</td>\n",
       "      <td>0.000000</td>\n",
       "      <td>0.100000</td>\n",
       "      <td>1.000000</td>\n",
       "      <td>4.433330</td>\n",
       "      <td>67.220382</td>\n",
       "      <td>106.130977</td>\n",
       "      <td>0.000000</td>\n",
       "      <td>0.833333</td>\n",
       "      <td>11.307409</td>\n",
       "      <td>76.240194</td>\n",
       "      <td>-2.663152</td>\n",
       "      <td>5.501090</td>\n",
       "      <td>0.000000</td>\n",
       "    </tr>\n",
       "    <tr>\n",
       "      <th>75%</th>\n",
       "      <td>2827.000000</td>\n",
       "      <td>2.000000</td>\n",
       "      <td>71.000000</td>\n",
       "      <td>25.600780</td>\n",
       "      <td>0.000000</td>\n",
       "      <td>0.00000</td>\n",
       "      <td>0.000000</td>\n",
       "      <td>0.000000</td>\n",
       "      <td>1.000000</td>\n",
       "      <td>0.000000</td>\n",
       "      <td>0.000000</td>\n",
       "      <td>0.000000</td>\n",
       "      <td>0.000000</td>\n",
       "      <td>5.470832</td>\n",
       "      <td>3.640618</td>\n",
       "      <td>76.334548</td>\n",
       "      <td>19.627909</td>\n",
       "      <td>21.314171</td>\n",
       "      <td>78.300000</td>\n",
       "      <td>60.300000</td>\n",
       "      <td>84.400000</td>\n",
       "      <td>60.100000</td>\n",
       "      <td>0.000000</td>\n",
       "      <td>30.288500</td>\n",
       "      <td>0.000000</td>\n",
       "      <td>0.142857</td>\n",
       "      <td>1.000000</td>\n",
       "      <td>7.712030</td>\n",
       "      <td>109.981243</td>\n",
       "      <td>139.145992</td>\n",
       "      <td>0.000000</td>\n",
       "      <td>1.000000</td>\n",
       "      <td>17.260782</td>\n",
       "      <td>105.811580</td>\n",
       "      <td>116.409594</td>\n",
       "      <td>10.385498</td>\n",
       "      <td>0.000000</td>\n",
       "    </tr>\n",
       "    <tr>\n",
       "      <th>max</th>\n",
       "      <td>4963.000000</td>\n",
       "      <td>4.000000</td>\n",
       "      <td>124.000000</td>\n",
       "      <td>108.811770</td>\n",
       "      <td>1.000000</td>\n",
       "      <td>1.00000</td>\n",
       "      <td>1.000000</td>\n",
       "      <td>1.000000</td>\n",
       "      <td>1.000000</td>\n",
       "      <td>1.000000</td>\n",
       "      <td>1.000000</td>\n",
       "      <td>1.000000</td>\n",
       "      <td>1.000000</td>\n",
       "      <td>90.522097</td>\n",
       "      <td>1002.237323</td>\n",
       "      <td>180.000000</td>\n",
       "      <td>90.000000</td>\n",
       "      <td>90.000000</td>\n",
       "      <td>120.000000</td>\n",
       "      <td>80.000000</td>\n",
       "      <td>120.000000</td>\n",
       "      <td>80.000000</td>\n",
       "      <td>1.000000</td>\n",
       "      <td>3082.659000</td>\n",
       "      <td>1.000000</td>\n",
       "      <td>1.000000</td>\n",
       "      <td>1.000000</td>\n",
       "      <td>54.840156</td>\n",
       "      <td>360.000000</td>\n",
       "      <td>179.985256</td>\n",
       "      <td>1.000000</td>\n",
       "      <td>2.000000</td>\n",
       "      <td>97.190252</td>\n",
       "      <td>360.000000</td>\n",
       "      <td>179.997274</td>\n",
       "      <td>96.857214</td>\n",
       "      <td>1.000000</td>\n",
       "    </tr>\n",
       "  </tbody>\n",
       "</table>\n",
       "</div>"
      ],
      "text/plain": [
       "              index        period        minute   pass_length   pass_switch  \\\n",
       "count  47539.000000  47539.000000  47539.000000  47539.000000  47539.000000   \n",
       "mean    1915.484528      1.576558     47.300385     20.361148      0.028482   \n",
       "std     1158.366571      0.662395     29.458175     13.201251      0.166347   \n",
       "min        5.000000      1.000000      0.000000      0.000000      0.000000   \n",
       "25%      930.000000      1.000000     22.000000     11.298452      0.000000   \n",
       "50%     1863.000000      2.000000     46.000000     17.029387      0.000000   \n",
       "75%     2827.000000      2.000000     71.000000     25.600780      0.000000   \n",
       "max     4963.000000      4.000000    124.000000    108.811770      1.000000   \n",
       "\n",
       "       under_pressure    pass_cross  pass_through_ball  binary_pass_risk  \\\n",
       "count     47539.00000  47539.000000       47539.000000      47539.000000   \n",
       "mean          0.14973      0.021372           0.006710          0.838007   \n",
       "std           0.35681      0.144622           0.081642          0.368449   \n",
       "min           0.00000      0.000000           0.000000          0.000000   \n",
       "25%           0.00000      0.000000           0.000000          1.000000   \n",
       "50%           0.00000      0.000000           0.000000          1.000000   \n",
       "75%           0.00000      0.000000           0.000000          1.000000   \n",
       "max           1.00000      1.000000           1.000000          1.000000   \n",
       "\n",
       "       binary_pass_reward   br_pressure  one_touch_pass  pass_from_duel  \\\n",
       "count        47539.000000  47539.000000    47539.000000    47539.000000   \n",
       "mean             0.111761      0.071815        0.211195        0.017922   \n",
       "std              0.315075      0.258184        0.408161        0.132670   \n",
       "min              0.000000      0.000000        0.000000        0.000000   \n",
       "25%              0.000000      0.000000        0.000000        0.000000   \n",
       "50%              0.000000      0.000000        0.000000        0.000000   \n",
       "75%              0.000000      0.000000        0.000000        0.000000   \n",
       "max              1.000000      1.000000        1.000000        1.000000   \n",
       "\n",
       "         carry_dist   carry_speed   pass_degree  passer_degree_to_goal  \\\n",
       "count  47539.000000  47539.000000  47539.000000           47539.000000   \n",
       "mean       3.931000      3.034917      0.949248               0.342035   \n",
       "std        6.128996     11.612786     91.533955              28.593993   \n",
       "min        0.000000      0.000000   -179.723207             -90.000000   \n",
       "25%        0.000000      0.000000    -72.973575             -18.876117   \n",
       "50%        1.486607      1.342494      0.000000               0.400663   \n",
       "75%        5.470832      3.640618     76.334548              19.627909   \n",
       "max       90.522097   1002.237323    180.000000              90.000000   \n",
       "\n",
       "       br_degree_to_goal    pass_loc_x    pass_loc_y  pass_receipt_loc_x  \\\n",
       "count       47539.000000  47539.000000  47539.000000        47539.000000   \n",
       "mean            0.339257     59.626254     39.721397           64.422520   \n",
       "std            29.423443     26.133979     23.668963           26.691683   \n",
       "min           -90.000000      0.600000      0.100000            0.100000   \n",
       "25%           -20.619853     41.300000     19.100000           45.300000   \n",
       "50%             0.543587     60.300000     39.500000           64.200000   \n",
       "75%            21.314171     78.300000     60.300000           84.400000   \n",
       "max            90.000000    120.000000     80.000000          120.000000   \n",
       "\n",
       "       pass_receipt_loc_y      deadball  time_since_poss  from_keeper_held  \\\n",
       "count        47539.000000  47539.000000     47539.000000      47539.000000   \n",
       "mean            39.682221      0.045373        33.468312          0.005259   \n",
       "std             23.439384      0.208124       182.207629          0.072328   \n",
       "min              0.100000      0.000000         0.000000          0.000000   \n",
       "25%             19.200000      0.000000         5.270500          0.000000   \n",
       "50%             39.500000      0.000000        14.679000          0.000000   \n",
       "75%             60.100000      0.000000        30.288500          0.000000   \n",
       "max             80.000000      1.000000      3082.659000          1.000000   \n",
       "\n",
       "       pc_5ft_actor_oppo  pc_oppo_closer_to_goal_passer  oppo_min_dist_passer  \\\n",
       "count       47539.000000                   47539.000000          47539.000000   \n",
       "mean            0.093067                       0.863260              5.907883   \n",
       "std             0.103460                       0.191160              4.985041   \n",
       "min             0.000000                       0.000000              0.000000   \n",
       "25%             0.000000                       0.777778              2.597387   \n",
       "50%             0.100000                       1.000000              4.433330   \n",
       "75%             0.142857                       1.000000              7.712030   \n",
       "max             1.000000                       1.000000             54.840156   \n",
       "\n",
       "       min_degree_diff_passer_oppo  closest_oppo_degree_diff_passer  \\\n",
       "count                 47539.000000                     47539.000000   \n",
       "mean                     84.862828                       101.305486   \n",
       "std                      81.022148                        46.209722   \n",
       "min                       0.000284                         0.000284   \n",
       "25%                      32.087605                        67.318395   \n",
       "50%                      67.220382                       106.130977   \n",
       "75%                     109.981243                       139.145992   \n",
       "max                     360.000000                       179.985256   \n",
       "\n",
       "       pc_5ft_br_oppo  pc_oppo_closer_to_goal_br  oppo_min_dist_br  \\\n",
       "count    47539.000000               47539.000000      47539.000000   \n",
       "mean         0.023695                   0.695020         13.085572   \n",
       "std          0.064166                   0.348159          8.916436   \n",
       "min          0.000000                   0.000000          0.033874   \n",
       "25%          0.000000                   0.444444          6.727502   \n",
       "50%          0.000000                   0.833333         11.307409   \n",
       "75%          0.000000                   1.000000         17.260782   \n",
       "max          1.000000                   2.000000         97.190252   \n",
       "\n",
       "       min_degree_diff_br_oppo  closest_oppo_degree_diff_br  \\\n",
       "count             47539.000000                 47539.000000   \n",
       "mean                 74.538638                    -1.348889   \n",
       "std                  59.201610                   118.887133   \n",
       "min                   0.003475                  -179.999619   \n",
       "25%                  27.585073                  -118.098980   \n",
       "50%                  76.240194                    -2.663152   \n",
       "75%                 105.811580                   116.409594   \n",
       "max                 360.000000                   179.997274   \n",
       "\n",
       "       min_dist_from_br_teammate  pass_cut_back  \n",
       "count               47539.000000   47539.000000  \n",
       "mean                    8.575620       0.001977  \n",
       "std                     8.855054       0.044424  \n",
       "min                     0.000000       0.000000  \n",
       "25%                     3.110498       0.000000  \n",
       "50%                     5.501090       0.000000  \n",
       "75%                    10.385498       0.000000  \n",
       "max                    96.857214       1.000000  "
      ]
     },
     "metadata": {},
     "output_type": "display_data"
    }
   ],
   "source": [
    "with pd.option_context('display.max_columns', None):\n",
    "    display(master_data.describe())"
   ]
  },
  {
   "cell_type": "markdown",
   "id": "878db183",
   "metadata": {},
   "source": [
    "#### Data error: Time since possession\n",
    "\n",
    "- Due to source data error, sometimes time_since_possession can be as long as the whole duration of a half. Therefore, in order to remove these irregular rows, we will find a cut-off point from the normal data and remove everything greater than that by drawing a box-plot. Looking at the boxplot, we can determine our cut-off point to be around 250 seconds (over 4 minutes). After removing all the irregular data, we found that the actual longest possesion time is around 195 seconds (just over 3 minutes), closer to the expected value."
   ]
  },
  {
   "cell_type": "code",
   "execution_count": 15,
   "id": "36801455",
   "metadata": {
    "ExecuteTime": {
     "end_time": "2022-08-15T06:56:35.119369Z",
     "start_time": "2022-08-15T06:56:34.964335Z"
    },
    "scrolled": true
   },
   "outputs": [
    {
     "data": {
      "text/plain": [
       "<AxesSubplot:>"
      ]
     },
     "execution_count": 15,
     "metadata": {},
     "output_type": "execute_result"
    },
    {
     "data": {
      "image/png": "[encoded data removed]",
      "text/plain": [
       "<Figure size 640x480 with 1 Axes>"
      ]
     },
     "metadata": {},
     "output_type": "display_data"
    }
   ],
   "source": [
    "master_data.boxplot(['time_since_poss'])"
   ]
  },
  {
   "cell_type": "code",
   "execution_count": 16,
   "id": "39863704",
   "metadata": {
    "ExecuteTime": {
     "end_time": "2022-08-15T06:56:35.611457Z",
     "start_time": "2022-08-15T06:56:35.584029Z"
    }
   },
   "outputs": [],
   "source": [
    "master_data = master_data.loc[master_data['time_since_poss']<=250]"
   ]
  },
  {
   "cell_type": "code",
   "execution_count": 17,
   "id": "29fafe6e",
   "metadata": {
    "ExecuteTime": {
     "end_time": "2022-08-15T06:56:36.774830Z",
     "start_time": "2022-08-15T06:56:36.640786Z"
    },
    "scrolled": true
   },
   "outputs": [
    {
     "data": {
      "text/plain": [
       "<AxesSubplot:>"
      ]
     },
     "metadata": {},
     "output_type": "display_data"
    },
    {
     "data": {
      "image/png": "[encoded data removed]",
      "text/plain": [
       "<Figure size 640x480 with 1 Axes>"
      ]
     },
     "metadata": {},
     "output_type": "display_data"
    }
   ],
   "source": [
    "display(master_data.boxplot(['time_since_poss']))"
   ]
  },
  {
   "cell_type": "markdown",
   "id": "a78093b2",
   "metadata": {},
   "source": [
    "### An example to view relations between target and predictors\n",
    "- We hypothise that pass length have a negative impact on a pass's probability of completion, so we run a boxplot to view that."
   ]
  },
  {
   "cell_type": "code",
   "execution_count": 18,
   "id": "9bb8749e",
   "metadata": {
    "ExecuteTime": {
     "end_time": "2022-08-15T06:56:40.244713Z",
     "start_time": "2022-08-15T06:56:40.083616Z"
    },
    "scrolled": true
   },
   "outputs": [
    {
     "data": {
      "text/plain": [
       "<AxesSubplot:title={'center':'pass_length'}, xlabel='binary_pass_risk'>"
      ]
     },
     "metadata": {},
     "output_type": "display_data"
    },
    {
     "data": {
      "image/png": "[encoded data removed]",
      "text/plain": [
       "<Figure size 640x480 with 1 Axes>"
      ]
     },
     "metadata": {},
     "output_type": "display_data"
    }
   ],
   "source": [
    "display(master_data.boxplot(['pass_length'], by='binary_pass_risk'))"
   ]
  },
  {
   "cell_type": "markdown",
   "id": "344930b3",
   "metadata": {},
   "source": [
    "### Correlation matrix\n",
    "- Now we prepare the data set for our correlation matrices. We are doing separate correlation matrices for event features and tracking features since these two types of features have different nature."
   ]
  },
  {
   "cell_type": "code",
   "execution_count": 19,
   "id": "39e239c5",
   "metadata": {
    "ExecuteTime": {
     "end_time": "2022-08-15T06:56:45.675025Z",
     "start_time": "2022-08-15T06:56:45.653005Z"
    }
   },
   "outputs": [],
   "source": [
    "#new df with only features to be included in final models\n",
    "all_features = master_data.drop(['index', 'period', 'timestamp', 'location', 'pass_receipt_loc'], axis=1)\n",
    "\n",
    "#get a list of all tracking features because we are doing separate correlation matrices for event features and tracking features\n",
    "tracking_features = ['pc_5ft_actor_oppo', 'pc_oppo_closer_to_goal_passer',\n",
    "       'oppo_min_dist_passer', 'min_degree_diff_passer_oppo',\n",
    "       'closest_oppo_degree_diff_passer', 'pc_5ft_br_oppo',\n",
    "       'pc_oppo_closer_to_goal_br', 'oppo_min_dist_br',\n",
    "       'min_degree_diff_br_oppo', 'closest_oppo_degree_diff_br',\n",
    "       'min_dist_from_br_teammate']\n",
    "labels = ['binary_pass_risk', 'binary_pass_reward']"
   ]
  },
  {
   "cell_type": "code",
   "execution_count": 20,
   "id": "07d912d5",
   "metadata": {
    "ExecuteTime": {
     "end_time": "2022-08-15T06:56:46.001488Z",
     "start_time": "2022-08-15T06:56:45.993141Z"
    }
   },
   "outputs": [
    {
     "data": {
      "text/plain": [
       "(47329, 38)"
      ]
     },
     "execution_count": 20,
     "metadata": {},
     "output_type": "execute_result"
    }
   ],
   "source": [
    "all_features.shape"
   ]
  },
  {
   "cell_type": "code",
   "execution_count": 21,
   "id": "22c11535",
   "metadata": {
    "ExecuteTime": {
     "end_time": "2022-08-15T06:56:46.514669Z",
     "start_time": "2022-08-15T06:56:46.396513Z"
    },
    "scrolled": false
   },
   "outputs": [
    {
     "data": {
      "text/html": [
       "<div>\n",
       "<style scoped>\n",
       "    .dataframe tbody tr th:only-of-type {\n",
       "        vertical-align: middle;\n",
       "    }\n",
       "\n",
       "    .dataframe tbody tr th {\n",
       "        vertical-align: top;\n",
       "    }\n",
       "\n",
       "    .dataframe thead th {\n",
       "        text-align: right;\n",
       "    }\n",
       "</style>\n",
       "<table border=\"1\" class=\"dataframe\">\n",
       "  <thead>\n",
       "    <tr style=\"text-align: right;\">\n",
       "      <th></th>\n",
       "      <th>minute</th>\n",
       "      <th>pass_length</th>\n",
       "      <th>pass_switch</th>\n",
       "      <th>under_pressure</th>\n",
       "      <th>pass_cross</th>\n",
       "      <th>pass_through_ball</th>\n",
       "      <th>binary_pass_risk</th>\n",
       "      <th>binary_pass_reward</th>\n",
       "      <th>br_pressure</th>\n",
       "      <th>one_touch_pass</th>\n",
       "      <th>pass_from_duel</th>\n",
       "      <th>carry_dist</th>\n",
       "      <th>carry_speed</th>\n",
       "      <th>pass_degree</th>\n",
       "      <th>passer_degree_to_goal</th>\n",
       "      <th>br_degree_to_goal</th>\n",
       "      <th>pass_loc_x</th>\n",
       "      <th>pass_loc_y</th>\n",
       "      <th>pass_receipt_loc_x</th>\n",
       "      <th>pass_receipt_loc_y</th>\n",
       "      <th>deadball</th>\n",
       "      <th>time_since_poss</th>\n",
       "      <th>from_keeper_held</th>\n",
       "      <th>pc_5ft_actor_oppo</th>\n",
       "      <th>pc_oppo_closer_to_goal_passer</th>\n",
       "      <th>oppo_min_dist_passer</th>\n",
       "      <th>min_degree_diff_passer_oppo</th>\n",
       "      <th>closest_oppo_degree_diff_passer</th>\n",
       "      <th>pc_5ft_br_oppo</th>\n",
       "      <th>pc_oppo_closer_to_goal_br</th>\n",
       "      <th>oppo_min_dist_br</th>\n",
       "      <th>min_degree_diff_br_oppo</th>\n",
       "      <th>closest_oppo_degree_diff_br</th>\n",
       "      <th>min_dist_from_br_teammate</th>\n",
       "      <th>pass_cut_back</th>\n",
       "    </tr>\n",
       "  </thead>\n",
       "  <tbody>\n",
       "    <tr>\n",
       "      <th>count</th>\n",
       "      <td>47329.000000</td>\n",
       "      <td>47329.000000</td>\n",
       "      <td>47329.000000</td>\n",
       "      <td>47329.000000</td>\n",
       "      <td>47329.000000</td>\n",
       "      <td>47329.000000</td>\n",
       "      <td>47329.000000</td>\n",
       "      <td>47329.000000</td>\n",
       "      <td>47329.000000</td>\n",
       "      <td>47329.000000</td>\n",
       "      <td>47329.000000</td>\n",
       "      <td>47329.000000</td>\n",
       "      <td>47329.000000</td>\n",
       "      <td>47329.000000</td>\n",
       "      <td>47329.000000</td>\n",
       "      <td>47329.000000</td>\n",
       "      <td>47329.000000</td>\n",
       "      <td>47329.000000</td>\n",
       "      <td>47329.000000</td>\n",
       "      <td>47329.000000</td>\n",
       "      <td>47329.000000</td>\n",
       "      <td>47329.000000</td>\n",
       "      <td>47329.000000</td>\n",
       "      <td>47329.000000</td>\n",
       "      <td>47329.000000</td>\n",
       "      <td>47329.000000</td>\n",
       "      <td>47329.000000</td>\n",
       "      <td>47329.000000</td>\n",
       "      <td>47329.000000</td>\n",
       "      <td>47329.000000</td>\n",
       "      <td>47329.000000</td>\n",
       "      <td>47329.000000</td>\n",
       "      <td>47329.000000</td>\n",
       "      <td>47329.000000</td>\n",
       "      <td>47329.000000</td>\n",
       "    </tr>\n",
       "    <tr>\n",
       "      <th>mean</th>\n",
       "      <td>47.271905</td>\n",
       "      <td>20.356782</td>\n",
       "      <td>0.028397</td>\n",
       "      <td>0.149929</td>\n",
       "      <td>0.021403</td>\n",
       "      <td>0.006740</td>\n",
       "      <td>0.837922</td>\n",
       "      <td>0.112172</td>\n",
       "      <td>0.071838</td>\n",
       "      <td>0.211012</td>\n",
       "      <td>0.017896</td>\n",
       "      <td>3.934205</td>\n",
       "      <td>3.040325</td>\n",
       "      <td>0.957447</td>\n",
       "      <td>0.333171</td>\n",
       "      <td>0.321764</td>\n",
       "      <td>59.637432</td>\n",
       "      <td>39.724359</td>\n",
       "      <td>64.436842</td>\n",
       "      <td>39.686296</td>\n",
       "      <td>0.045215</td>\n",
       "      <td>21.516065</td>\n",
       "      <td>0.005261</td>\n",
       "      <td>0.093109</td>\n",
       "      <td>0.863150</td>\n",
       "      <td>5.902251</td>\n",
       "      <td>84.853596</td>\n",
       "      <td>101.332517</td>\n",
       "      <td>0.023724</td>\n",
       "      <td>0.694700</td>\n",
       "      <td>13.080719</td>\n",
       "      <td>74.518712</td>\n",
       "      <td>-1.327287</td>\n",
       "      <td>8.575570</td>\n",
       "      <td>0.001986</td>\n",
       "    </tr>\n",
       "    <tr>\n",
       "      <th>std</th>\n",
       "      <td>29.492851</td>\n",
       "      <td>13.194507</td>\n",
       "      <td>0.166106</td>\n",
       "      <td>0.357006</td>\n",
       "      <td>0.144726</td>\n",
       "      <td>0.081822</td>\n",
       "      <td>0.368526</td>\n",
       "      <td>0.315582</td>\n",
       "      <td>0.258221</td>\n",
       "      <td>0.408031</td>\n",
       "      <td>0.132575</td>\n",
       "      <td>6.132646</td>\n",
       "      <td>11.637030</td>\n",
       "      <td>91.512859</td>\n",
       "      <td>28.599884</td>\n",
       "      <td>29.427682</td>\n",
       "      <td>26.142677</td>\n",
       "      <td>23.668008</td>\n",
       "      <td>26.704643</td>\n",
       "      <td>23.436994</td>\n",
       "      <td>0.207778</td>\n",
       "      <td>22.904427</td>\n",
       "      <td>0.072343</td>\n",
       "      <td>0.103455</td>\n",
       "      <td>0.191216</td>\n",
       "      <td>4.973412</td>\n",
       "      <td>80.985990</td>\n",
       "      <td>46.204131</td>\n",
       "      <td>0.064199</td>\n",
       "      <td>0.348201</td>\n",
       "      <td>8.917216</td>\n",
       "      <td>59.269411</td>\n",
       "      <td>118.859482</td>\n",
       "      <td>8.854614</td>\n",
       "      <td>0.044522</td>\n",
       "    </tr>\n",
       "    <tr>\n",
       "      <th>min</th>\n",
       "      <td>0.000000</td>\n",
       "      <td>0.000000</td>\n",
       "      <td>0.000000</td>\n",
       "      <td>0.000000</td>\n",
       "      <td>0.000000</td>\n",
       "      <td>0.000000</td>\n",
       "      <td>0.000000</td>\n",
       "      <td>0.000000</td>\n",
       "      <td>0.000000</td>\n",
       "      <td>0.000000</td>\n",
       "      <td>0.000000</td>\n",
       "      <td>0.000000</td>\n",
       "      <td>0.000000</td>\n",
       "      <td>-179.723207</td>\n",
       "      <td>-90.000000</td>\n",
       "      <td>-90.000000</td>\n",
       "      <td>0.600000</td>\n",
       "      <td>0.100000</td>\n",
       "      <td>0.100000</td>\n",
       "      <td>0.100000</td>\n",
       "      <td>0.000000</td>\n",
       "      <td>0.000000</td>\n",
       "      <td>0.000000</td>\n",
       "      <td>0.000000</td>\n",
       "      <td>0.000000</td>\n",
       "      <td>0.000000</td>\n",
       "      <td>0.000284</td>\n",
       "      <td>0.000284</td>\n",
       "      <td>0.000000</td>\n",
       "      <td>0.000000</td>\n",
       "      <td>0.033874</td>\n",
       "      <td>0.003475</td>\n",
       "      <td>-179.999619</td>\n",
       "      <td>0.000000</td>\n",
       "      <td>0.000000</td>\n",
       "    </tr>\n",
       "    <tr>\n",
       "      <th>25%</th>\n",
       "      <td>22.000000</td>\n",
       "      <td>11.296903</td>\n",
       "      <td>0.000000</td>\n",
       "      <td>0.000000</td>\n",
       "      <td>0.000000</td>\n",
       "      <td>0.000000</td>\n",
       "      <td>1.000000</td>\n",
       "      <td>0.000000</td>\n",
       "      <td>0.000000</td>\n",
       "      <td>0.000000</td>\n",
       "      <td>0.000000</td>\n",
       "      <td>0.000000</td>\n",
       "      <td>0.000000</td>\n",
       "      <td>-72.897271</td>\n",
       "      <td>-18.890069</td>\n",
       "      <td>-20.656443</td>\n",
       "      <td>41.300000</td>\n",
       "      <td>19.100000</td>\n",
       "      <td>45.300000</td>\n",
       "      <td>19.200000</td>\n",
       "      <td>0.000000</td>\n",
       "      <td>5.238000</td>\n",
       "      <td>0.000000</td>\n",
       "      <td>0.000000</td>\n",
       "      <td>0.777778</td>\n",
       "      <td>2.595545</td>\n",
       "      <td>32.102708</td>\n",
       "      <td>67.366597</td>\n",
       "      <td>0.000000</td>\n",
       "      <td>0.444444</td>\n",
       "      <td>6.717922</td>\n",
       "      <td>27.536044</td>\n",
       "      <td>-118.027920</td>\n",
       "      <td>3.111580</td>\n",
       "      <td>0.000000</td>\n",
       "    </tr>\n",
       "    <tr>\n",
       "      <th>50%</th>\n",
       "      <td>46.000000</td>\n",
       "      <td>17.029387</td>\n",
       "      <td>0.000000</td>\n",
       "      <td>0.000000</td>\n",
       "      <td>0.000000</td>\n",
       "      <td>0.000000</td>\n",
       "      <td>1.000000</td>\n",
       "      <td>0.000000</td>\n",
       "      <td>0.000000</td>\n",
       "      <td>0.000000</td>\n",
       "      <td>0.000000</td>\n",
       "      <td>1.486607</td>\n",
       "      <td>1.344787</td>\n",
       "      <td>0.000000</td>\n",
       "      <td>0.396962</td>\n",
       "      <td>0.541971</td>\n",
       "      <td>60.400000</td>\n",
       "      <td>39.500000</td>\n",
       "      <td>64.200000</td>\n",
       "      <td>39.500000</td>\n",
       "      <td>0.000000</td>\n",
       "      <td>14.566000</td>\n",
       "      <td>0.000000</td>\n",
       "      <td>0.100000</td>\n",
       "      <td>1.000000</td>\n",
       "      <td>4.430132</td>\n",
       "      <td>67.227626</td>\n",
       "      <td>106.186786</td>\n",
       "      <td>0.000000</td>\n",
       "      <td>0.833333</td>\n",
       "      <td>11.296429</td>\n",
       "      <td>76.205769</td>\n",
       "      <td>-2.641784</td>\n",
       "      <td>5.500314</td>\n",
       "      <td>0.000000</td>\n",
       "    </tr>\n",
       "    <tr>\n",
       "      <th>75%</th>\n",
       "      <td>71.000000</td>\n",
       "      <td>25.600780</td>\n",
       "      <td>0.000000</td>\n",
       "      <td>0.000000</td>\n",
       "      <td>0.000000</td>\n",
       "      <td>0.000000</td>\n",
       "      <td>1.000000</td>\n",
       "      <td>0.000000</td>\n",
       "      <td>0.000000</td>\n",
       "      <td>0.000000</td>\n",
       "      <td>0.000000</td>\n",
       "      <td>5.470832</td>\n",
       "      <td>3.642428</td>\n",
       "      <td>76.309945</td>\n",
       "      <td>19.623822</td>\n",
       "      <td>21.309311</td>\n",
       "      <td>78.300000</td>\n",
       "      <td>60.300000</td>\n",
       "      <td>84.400000</td>\n",
       "      <td>60.100000</td>\n",
       "      <td>0.000000</td>\n",
       "      <td>29.997000</td>\n",
       "      <td>0.000000</td>\n",
       "      <td>0.142857</td>\n",
       "      <td>1.000000</td>\n",
       "      <td>7.705532</td>\n",
       "      <td>110.016535</td>\n",
       "      <td>139.154980</td>\n",
       "      <td>0.000000</td>\n",
       "      <td>1.000000</td>\n",
       "      <td>17.256718</td>\n",
       "      <td>105.788960</td>\n",
       "      <td>116.406788</td>\n",
       "      <td>10.386046</td>\n",
       "      <td>0.000000</td>\n",
       "    </tr>\n",
       "    <tr>\n",
       "      <th>max</th>\n",
       "      <td>124.000000</td>\n",
       "      <td>108.811770</td>\n",
       "      <td>1.000000</td>\n",
       "      <td>1.000000</td>\n",
       "      <td>1.000000</td>\n",
       "      <td>1.000000</td>\n",
       "      <td>1.000000</td>\n",
       "      <td>1.000000</td>\n",
       "      <td>1.000000</td>\n",
       "      <td>1.000000</td>\n",
       "      <td>1.000000</td>\n",
       "      <td>90.522097</td>\n",
       "      <td>1002.237323</td>\n",
       "      <td>180.000000</td>\n",
       "      <td>90.000000</td>\n",
       "      <td>90.000000</td>\n",
       "      <td>120.000000</td>\n",
       "      <td>80.000000</td>\n",
       "      <td>120.000000</td>\n",
       "      <td>80.000000</td>\n",
       "      <td>1.000000</td>\n",
       "      <td>194.813000</td>\n",
       "      <td>1.000000</td>\n",
       "      <td>1.000000</td>\n",
       "      <td>1.000000</td>\n",
       "      <td>54.840156</td>\n",
       "      <td>360.000000</td>\n",
       "      <td>179.985256</td>\n",
       "      <td>1.000000</td>\n",
       "      <td>2.000000</td>\n",
       "      <td>97.190252</td>\n",
       "      <td>360.000000</td>\n",
       "      <td>179.997274</td>\n",
       "      <td>96.857214</td>\n",
       "      <td>1.000000</td>\n",
       "    </tr>\n",
       "  </tbody>\n",
       "</table>\n",
       "</div>"
      ],
      "text/plain": [
       "             minute   pass_length   pass_switch  under_pressure    pass_cross  \\\n",
       "count  47329.000000  47329.000000  47329.000000    47329.000000  47329.000000   \n",
       "mean      47.271905     20.356782      0.028397        0.149929      0.021403   \n",
       "std       29.492851     13.194507      0.166106        0.357006      0.144726   \n",
       "min        0.000000      0.000000      0.000000        0.000000      0.000000   \n",
       "25%       22.000000     11.296903      0.000000        0.000000      0.000000   \n",
       "50%       46.000000     17.029387      0.000000        0.000000      0.000000   \n",
       "75%       71.000000     25.600780      0.000000        0.000000      0.000000   \n",
       "max      124.000000    108.811770      1.000000        1.000000      1.000000   \n",
       "\n",
       "       pass_through_ball  binary_pass_risk  binary_pass_reward   br_pressure  \\\n",
       "count       47329.000000      47329.000000        47329.000000  47329.000000   \n",
       "mean            0.006740          0.837922            0.112172      0.071838   \n",
       "std             0.081822          0.368526            0.315582      0.258221   \n",
       "min             0.000000          0.000000            0.000000      0.000000   \n",
       "25%             0.000000          1.000000            0.000000      0.000000   \n",
       "50%             0.000000          1.000000            0.000000      0.000000   \n",
       "75%             0.000000          1.000000            0.000000      0.000000   \n",
       "max             1.000000          1.000000            1.000000      1.000000   \n",
       "\n",
       "       one_touch_pass  pass_from_duel    carry_dist   carry_speed  \\\n",
       "count    47329.000000    47329.000000  47329.000000  47329.000000   \n",
       "mean         0.211012        0.017896      3.934205      3.040325   \n",
       "std          0.408031        0.132575      6.132646     11.637030   \n",
       "min          0.000000        0.000000      0.000000      0.000000   \n",
       "25%          0.000000        0.000000      0.000000      0.000000   \n",
       "50%          0.000000        0.000000      1.486607      1.344787   \n",
       "75%          0.000000        0.000000      5.470832      3.642428   \n",
       "max          1.000000        1.000000     90.522097   1002.237323   \n",
       "\n",
       "        pass_degree  passer_degree_to_goal  br_degree_to_goal    pass_loc_x  \\\n",
       "count  47329.000000           47329.000000       47329.000000  47329.000000   \n",
       "mean       0.957447               0.333171           0.321764     59.637432   \n",
       "std       91.512859              28.599884          29.427682     26.142677   \n",
       "min     -179.723207             -90.000000         -90.000000      0.600000   \n",
       "25%      -72.897271             -18.890069         -20.656443     41.300000   \n",
       "50%        0.000000               0.396962           0.541971     60.400000   \n",
       "75%       76.309945              19.623822          21.309311     78.300000   \n",
       "max      180.000000              90.000000          90.000000    120.000000   \n",
       "\n",
       "         pass_loc_y  pass_receipt_loc_x  pass_receipt_loc_y      deadball  \\\n",
       "count  47329.000000        47329.000000        47329.000000  47329.000000   \n",
       "mean      39.724359           64.436842           39.686296      0.045215   \n",
       "std       23.668008           26.704643           23.436994      0.207778   \n",
       "min        0.100000            0.100000            0.100000      0.000000   \n",
       "25%       19.100000           45.300000           19.200000      0.000000   \n",
       "50%       39.500000           64.200000           39.500000      0.000000   \n",
       "75%       60.300000           84.400000           60.100000      0.000000   \n",
       "max       80.000000          120.000000           80.000000      1.000000   \n",
       "\n",
       "       time_since_poss  from_keeper_held  pc_5ft_actor_oppo  \\\n",
       "count     47329.000000      47329.000000       47329.000000   \n",
       "mean         21.516065          0.005261           0.093109   \n",
       "std          22.904427          0.072343           0.103455   \n",
       "min           0.000000          0.000000           0.000000   \n",
       "25%           5.238000          0.000000           0.000000   \n",
       "50%          14.566000          0.000000           0.100000   \n",
       "75%          29.997000          0.000000           0.142857   \n",
       "max         194.813000          1.000000           1.000000   \n",
       "\n",
       "       pc_oppo_closer_to_goal_passer  oppo_min_dist_passer  \\\n",
       "count                   47329.000000          47329.000000   \n",
       "mean                        0.863150              5.902251   \n",
       "std                         0.191216              4.973412   \n",
       "min                         0.000000              0.000000   \n",
       "25%                         0.777778              2.595545   \n",
       "50%                         1.000000              4.430132   \n",
       "75%                         1.000000              7.705532   \n",
       "max                         1.000000             54.840156   \n",
       "\n",
       "       min_degree_diff_passer_oppo  closest_oppo_degree_diff_passer  \\\n",
       "count                 47329.000000                     47329.000000   \n",
       "mean                     84.853596                       101.332517   \n",
       "std                      80.985990                        46.204131   \n",
       "min                       0.000284                         0.000284   \n",
       "25%                      32.102708                        67.366597   \n",
       "50%                      67.227626                       106.186786   \n",
       "75%                     110.016535                       139.154980   \n",
       "max                     360.000000                       179.985256   \n",
       "\n",
       "       pc_5ft_br_oppo  pc_oppo_closer_to_goal_br  oppo_min_dist_br  \\\n",
       "count    47329.000000               47329.000000      47329.000000   \n",
       "mean         0.023724                   0.694700         13.080719   \n",
       "std          0.064199                   0.348201          8.917216   \n",
       "min          0.000000                   0.000000          0.033874   \n",
       "25%          0.000000                   0.444444          6.717922   \n",
       "50%          0.000000                   0.833333         11.296429   \n",
       "75%          0.000000                   1.000000         17.256718   \n",
       "max          1.000000                   2.000000         97.190252   \n",
       "\n",
       "       min_degree_diff_br_oppo  closest_oppo_degree_diff_br  \\\n",
       "count             47329.000000                 47329.000000   \n",
       "mean                 74.518712                    -1.327287   \n",
       "std                  59.269411                   118.859482   \n",
       "min                   0.003475                  -179.999619   \n",
       "25%                  27.536044                  -118.027920   \n",
       "50%                  76.205769                    -2.641784   \n",
       "75%                 105.788960                   116.406788   \n",
       "max                 360.000000                   179.997274   \n",
       "\n",
       "       min_dist_from_br_teammate  pass_cut_back  \n",
       "count               47329.000000   47329.000000  \n",
       "mean                    8.575570       0.001986  \n",
       "std                     8.854614       0.044522  \n",
       "min                     0.000000       0.000000  \n",
       "25%                     3.111580       0.000000  \n",
       "50%                     5.500314       0.000000  \n",
       "75%                    10.386046       0.000000  \n",
       "max                    96.857214       1.000000  "
      ]
     },
     "metadata": {},
     "output_type": "display_data"
    }
   ],
   "source": [
    "with pd.option_context('display.max_columns', None):\n",
    "    display(all_features.describe())"
   ]
  },
  {
   "cell_type": "markdown",
   "id": "4319914e",
   "metadata": {},
   "source": [
    "#### Event features correlation matrix: \n",
    "- only y location of the pass, y location of the ball receipt and the angle of the passer/ball receiver to the goal has high correlation with each other (as expected). Angle to goal will be dropped for the risk model, and for the reward model ball receipt location will be dropped as well (because it is very highly correlated to whether it is received in the box)"
   ]
  },
  {
   "cell_type": "code",
   "execution_count": 22,
   "id": "e581d07f",
   "metadata": {
    "ExecuteTime": {
     "end_time": "2022-08-15T06:56:49.319882Z",
     "start_time": "2022-08-15T06:56:48.702534Z"
    },
    "scrolled": false
   },
   "outputs": [
    {
     "data": {
      "text/plain": [
       "<AxesSubplot:>"
      ]
     },
     "execution_count": 22,
     "metadata": {},
     "output_type": "execute_result"
    },
    {
     "data": {
      "image/png": "[encoded data removed]",
      "text/plain": [
       "<Figure size 1200x1200 with 2 Axes>"
      ]
     },
     "metadata": {},
     "output_type": "display_data"
    }
   ],
   "source": [
    "conti_event_features = ['minute', 'pass_length', 'carry_dist', 'carry_speed', 'pass_degree', 'passer_degree_to_goal',\n",
    "                       'br_degree_to_goal', 'pass_loc_x','pass_loc_y', 'pass_receipt_loc_x', 'pass_receipt_loc_y',\n",
    "                       'time_since_poss']\n",
    "\n",
    "event_corr_matrix = all_features[conti_event_features].corr().round(2)\n",
    "\n",
    "sn.set(rc={'figure.figsize':(12,12)})\n",
    "\n",
    "sn.heatmap(event_corr_matrix, annot=True, cmap=\"PiYG\")"
   ]
  },
  {
   "cell_type": "code",
   "execution_count": 23,
   "id": "aff33e06",
   "metadata": {
    "ExecuteTime": {
     "end_time": "2022-08-15T06:56:49.996584Z",
     "start_time": "2022-08-15T06:56:49.448957Z"
    },
    "scrolled": true
   },
   "outputs": [
    {
     "data": {
      "text/plain": [
       "<AxesSubplot:>"
      ]
     },
     "execution_count": 23,
     "metadata": {},
     "output_type": "execute_result"
    },
    {
     "data": {
      "image/png": "[encoded data removed]",
      "text/plain": [
       "<Figure size 1200x1200 with 2 Axes>"
      ]
     },
     "metadata": {},
     "output_type": "display_data"
    }
   ],
   "source": [
    "conti_tracking_features = [ 'pc_5ft_actor_oppo', 'pc_oppo_closer_to_goal_passer','oppo_min_dist_passer', \n",
    "                       'min_degree_diff_passer_oppo','closest_oppo_degree_diff_passer', 'pc_5ft_br_oppo',\n",
    "                       'pc_oppo_closer_to_goal_br', 'oppo_min_dist_br','min_degree_diff_br_oppo', 'closest_oppo_degree_diff_br',\n",
    "                       'min_dist_from_br_teammate']\n",
    "\n",
    "tracking_corr_matrix = all_features[conti_tracking_features].corr().round(2)\n",
    "\n",
    "sn.set(rc={'figure.figsize':(12,12)})\n",
    "\n",
    "sn.heatmap(tracking_corr_matrix, annot=True, cmap=\"PiYG\")"
   ]
  },
  {
   "cell_type": "markdown",
   "id": "1cfe12a6",
   "metadata": {},
   "source": [
    "## Training\n",
    "\n",
    "Onehot Encoding categorical data:\n",
    "\n"
   ]
  },
  {
   "cell_type": "code",
   "execution_count": 31,
   "id": "74361978",
   "metadata": {
    "ExecuteTime": {
     "end_time": "2022-08-15T07:00:06.559764Z",
     "start_time": "2022-08-15T07:00:06.449752Z"
    },
    "scrolled": true
   },
   "outputs": [
    {
     "data": {
      "text/html": [
       "<div>\n",
       "<style scoped>\n",
       "    .dataframe tbody tr th:only-of-type {\n",
       "        vertical-align: middle;\n",
       "    }\n",
       "\n",
       "    .dataframe tbody tr th {\n",
       "        vertical-align: top;\n",
       "    }\n",
       "\n",
       "    .dataframe thead th {\n",
       "        text-align: right;\n",
       "    }\n",
       "</style>\n",
       "<table border=\"1\" class=\"dataframe\">\n",
       "  <thead>\n",
       "    <tr style=\"text-align: right;\">\n",
       "      <th></th>\n",
       "      <th>pass_height_Ground Pass</th>\n",
       "      <th>pass_height_High Pass</th>\n",
       "      <th>pass_height_Low Pass</th>\n",
       "      <th>pass_angle_cat_Backward</th>\n",
       "      <th>pass_angle_cat_Forward</th>\n",
       "      <th>pass_angle_cat_Sideways</th>\n",
       "      <th>pass_body_part_gr_Foot</th>\n",
       "      <th>pass_body_part_gr_Head</th>\n",
       "      <th>pass_body_part_gr_Other</th>\n",
       "      <th>minute</th>\n",
       "      <th>...</th>\n",
       "      <th>oppo_min_dist_passer</th>\n",
       "      <th>min_degree_diff_passer_oppo</th>\n",
       "      <th>closest_oppo_degree_diff_passer</th>\n",
       "      <th>pc_5ft_br_oppo</th>\n",
       "      <th>pc_oppo_closer_to_goal_br</th>\n",
       "      <th>oppo_min_dist_br</th>\n",
       "      <th>min_degree_diff_br_oppo</th>\n",
       "      <th>closest_oppo_degree_diff_br</th>\n",
       "      <th>min_dist_from_br_teammate</th>\n",
       "      <th>pass_cut_back</th>\n",
       "    </tr>\n",
       "  </thead>\n",
       "  <tbody>\n",
       "    <tr>\n",
       "      <th>bbc398f7-c784-4958-a504-37b583caf97a</th>\n",
       "      <td>1.0</td>\n",
       "      <td>0.0</td>\n",
       "      <td>0.0</td>\n",
       "      <td>1.0</td>\n",
       "      <td>0.0</td>\n",
       "      <td>0.0</td>\n",
       "      <td>1.0</td>\n",
       "      <td>0.0</td>\n",
       "      <td>0.0</td>\n",
       "      <td>0.0</td>\n",
       "      <td>...</td>\n",
       "      <td>8.700298</td>\n",
       "      <td>79.247244</td>\n",
       "      <td>79.247244</td>\n",
       "      <td>0.0</td>\n",
       "      <td>1.000000</td>\n",
       "      <td>11.600016</td>\n",
       "      <td>124.387256</td>\n",
       "      <td>-164.046053</td>\n",
       "      <td>29.693265</td>\n",
       "      <td>0.0</td>\n",
       "    </tr>\n",
       "    <tr>\n",
       "      <th>5c210f79-9714-44a6-b2ec-387f6a117b37</th>\n",
       "      <td>0.0</td>\n",
       "      <td>1.0</td>\n",
       "      <td>0.0</td>\n",
       "      <td>0.0</td>\n",
       "      <td>1.0</td>\n",
       "      <td>0.0</td>\n",
       "      <td>1.0</td>\n",
       "      <td>0.0</td>\n",
       "      <td>0.0</td>\n",
       "      <td>0.0</td>\n",
       "      <td>...</td>\n",
       "      <td>5.362910</td>\n",
       "      <td>91.289410</td>\n",
       "      <td>169.745198</td>\n",
       "      <td>0.0</td>\n",
       "      <td>0.375000</td>\n",
       "      <td>30.067520</td>\n",
       "      <td>38.103143</td>\n",
       "      <td>44.638371</td>\n",
       "      <td>5.689815</td>\n",
       "      <td>0.0</td>\n",
       "    </tr>\n",
       "    <tr>\n",
       "      <th>8a3e6668-9680-4417-987e-8db0c6ce6a8b</th>\n",
       "      <td>0.0</td>\n",
       "      <td>0.0</td>\n",
       "      <td>1.0</td>\n",
       "      <td>1.0</td>\n",
       "      <td>0.0</td>\n",
       "      <td>0.0</td>\n",
       "      <td>0.0</td>\n",
       "      <td>0.0</td>\n",
       "      <td>1.0</td>\n",
       "      <td>0.0</td>\n",
       "      <td>...</td>\n",
       "      <td>9.050711</td>\n",
       "      <td>37.233803</td>\n",
       "      <td>64.546103</td>\n",
       "      <td>0.0</td>\n",
       "      <td>1.000000</td>\n",
       "      <td>22.591968</td>\n",
       "      <td>151.662185</td>\n",
       "      <td>-151.928647</td>\n",
       "      <td>27.100468</td>\n",
       "      <td>0.0</td>\n",
       "    </tr>\n",
       "    <tr>\n",
       "      <th>f8e61bb0-b618-4695-9ff9-eaa0584bdbfa</th>\n",
       "      <td>1.0</td>\n",
       "      <td>0.0</td>\n",
       "      <td>0.0</td>\n",
       "      <td>0.0</td>\n",
       "      <td>0.0</td>\n",
       "      <td>1.0</td>\n",
       "      <td>1.0</td>\n",
       "      <td>0.0</td>\n",
       "      <td>0.0</td>\n",
       "      <td>0.0</td>\n",
       "      <td>...</td>\n",
       "      <td>34.110869</td>\n",
       "      <td>360.000000</td>\n",
       "      <td>122.895760</td>\n",
       "      <td>0.0</td>\n",
       "      <td>1.000000</td>\n",
       "      <td>29.149842</td>\n",
       "      <td>145.042491</td>\n",
       "      <td>158.209102</td>\n",
       "      <td>5.778768</td>\n",
       "      <td>0.0</td>\n",
       "    </tr>\n",
       "    <tr>\n",
       "      <th>1d72ce76-31fd-43e0-a6b2-1f78c8a57a77</th>\n",
       "      <td>1.0</td>\n",
       "      <td>0.0</td>\n",
       "      <td>0.0</td>\n",
       "      <td>0.0</td>\n",
       "      <td>1.0</td>\n",
       "      <td>0.0</td>\n",
       "      <td>1.0</td>\n",
       "      <td>0.0</td>\n",
       "      <td>0.0</td>\n",
       "      <td>0.0</td>\n",
       "      <td>...</td>\n",
       "      <td>29.491179</td>\n",
       "      <td>360.000000</td>\n",
       "      <td>139.980833</td>\n",
       "      <td>0.0</td>\n",
       "      <td>1.000000</td>\n",
       "      <td>20.856105</td>\n",
       "      <td>131.460698</td>\n",
       "      <td>154.926555</td>\n",
       "      <td>2.896592</td>\n",
       "      <td>0.0</td>\n",
       "    </tr>\n",
       "    <tr>\n",
       "      <th>...</th>\n",
       "      <td>...</td>\n",
       "      <td>...</td>\n",
       "      <td>...</td>\n",
       "      <td>...</td>\n",
       "      <td>...</td>\n",
       "      <td>...</td>\n",
       "      <td>...</td>\n",
       "      <td>...</td>\n",
       "      <td>...</td>\n",
       "      <td>...</td>\n",
       "      <td>...</td>\n",
       "      <td>...</td>\n",
       "      <td>...</td>\n",
       "      <td>...</td>\n",
       "      <td>...</td>\n",
       "      <td>...</td>\n",
       "      <td>...</td>\n",
       "      <td>...</td>\n",
       "      <td>...</td>\n",
       "      <td>...</td>\n",
       "      <td>...</td>\n",
       "    </tr>\n",
       "    <tr>\n",
       "      <th>7c7a5e05-853f-468b-a28f-40d6f4c9e443</th>\n",
       "      <td>1.0</td>\n",
       "      <td>0.0</td>\n",
       "      <td>0.0</td>\n",
       "      <td>1.0</td>\n",
       "      <td>0.0</td>\n",
       "      <td>0.0</td>\n",
       "      <td>1.0</td>\n",
       "      <td>0.0</td>\n",
       "      <td>0.0</td>\n",
       "      <td>122.0</td>\n",
       "      <td>...</td>\n",
       "      <td>2.561939</td>\n",
       "      <td>7.707927</td>\n",
       "      <td>86.771251</td>\n",
       "      <td>0.0</td>\n",
       "      <td>1.000000</td>\n",
       "      <td>16.396627</td>\n",
       "      <td>93.180956</td>\n",
       "      <td>119.149762</td>\n",
       "      <td>21.954498</td>\n",
       "      <td>0.0</td>\n",
       "    </tr>\n",
       "    <tr>\n",
       "      <th>2ffe8b26-29e0-4971-8655-0729e2cc39d9</th>\n",
       "      <td>1.0</td>\n",
       "      <td>0.0</td>\n",
       "      <td>0.0</td>\n",
       "      <td>0.0</td>\n",
       "      <td>0.0</td>\n",
       "      <td>1.0</td>\n",
       "      <td>1.0</td>\n",
       "      <td>0.0</td>\n",
       "      <td>0.0</td>\n",
       "      <td>122.0</td>\n",
       "      <td>...</td>\n",
       "      <td>4.851723</td>\n",
       "      <td>50.051588</td>\n",
       "      <td>50.051588</td>\n",
       "      <td>0.0</td>\n",
       "      <td>1.000000</td>\n",
       "      <td>11.604301</td>\n",
       "      <td>128.859690</td>\n",
       "      <td>106.003397</td>\n",
       "      <td>3.339027</td>\n",
       "      <td>0.0</td>\n",
       "    </tr>\n",
       "    <tr>\n",
       "      <th>5eca7b2d-7039-4076-9c7f-2b9a9823daf7</th>\n",
       "      <td>0.0</td>\n",
       "      <td>1.0</td>\n",
       "      <td>0.0</td>\n",
       "      <td>0.0</td>\n",
       "      <td>0.0</td>\n",
       "      <td>1.0</td>\n",
       "      <td>1.0</td>\n",
       "      <td>0.0</td>\n",
       "      <td>0.0</td>\n",
       "      <td>122.0</td>\n",
       "      <td>...</td>\n",
       "      <td>3.170047</td>\n",
       "      <td>136.820203</td>\n",
       "      <td>157.141330</td>\n",
       "      <td>0.0</td>\n",
       "      <td>0.111111</td>\n",
       "      <td>16.351992</td>\n",
       "      <td>360.000000</td>\n",
       "      <td>-45.806199</td>\n",
       "      <td>18.199256</td>\n",
       "      <td>0.0</td>\n",
       "    </tr>\n",
       "    <tr>\n",
       "      <th>22f76976-9167-4bc4-9ccb-66560d849b4a</th>\n",
       "      <td>0.0</td>\n",
       "      <td>1.0</td>\n",
       "      <td>0.0</td>\n",
       "      <td>0.0</td>\n",
       "      <td>1.0</td>\n",
       "      <td>0.0</td>\n",
       "      <td>0.0</td>\n",
       "      <td>0.0</td>\n",
       "      <td>1.0</td>\n",
       "      <td>122.0</td>\n",
       "      <td>...</td>\n",
       "      <td>0.707772</td>\n",
       "      <td>2.311789</td>\n",
       "      <td>109.209191</td>\n",
       "      <td>0.0</td>\n",
       "      <td>0.250000</td>\n",
       "      <td>16.028105</td>\n",
       "      <td>46.798728</td>\n",
       "      <td>33.677210</td>\n",
       "      <td>24.380591</td>\n",
       "      <td>0.0</td>\n",
       "    </tr>\n",
       "    <tr>\n",
       "      <th>0cd7238c-08eb-4655-9cee-685b3a6599a3</th>\n",
       "      <td>0.0</td>\n",
       "      <td>0.0</td>\n",
       "      <td>1.0</td>\n",
       "      <td>0.0</td>\n",
       "      <td>1.0</td>\n",
       "      <td>0.0</td>\n",
       "      <td>1.0</td>\n",
       "      <td>0.0</td>\n",
       "      <td>0.0</td>\n",
       "      <td>122.0</td>\n",
       "      <td>...</td>\n",
       "      <td>3.934373</td>\n",
       "      <td>92.723382</td>\n",
       "      <td>147.195605</td>\n",
       "      <td>0.0</td>\n",
       "      <td>0.333333</td>\n",
       "      <td>9.593427</td>\n",
       "      <td>66.670818</td>\n",
       "      <td>-49.164351</td>\n",
       "      <td>9.502699</td>\n",
       "      <td>0.0</td>\n",
       "    </tr>\n",
       "  </tbody>\n",
       "</table>\n",
       "<p>47329 rows × 44 columns</p>\n",
       "</div>"
      ],
      "text/plain": [
       "                                      pass_height_Ground Pass  \\\n",
       "bbc398f7-c784-4958-a504-37b583caf97a                      1.0   \n",
       "5c210f79-9714-44a6-b2ec-387f6a117b37                      0.0   \n",
       "8a3e6668-9680-4417-987e-8db0c6ce6a8b                      0.0   \n",
       "f8e61bb0-b618-4695-9ff9-eaa0584bdbfa                      1.0   \n",
       "1d72ce76-31fd-43e0-a6b2-1f78c8a57a77                      1.0   \n",
       "...                                                       ...   \n",
       "7c7a5e05-853f-468b-a28f-40d6f4c9e443                      1.0   \n",
       "2ffe8b26-29e0-4971-8655-0729e2cc39d9                      1.0   \n",
       "5eca7b2d-7039-4076-9c7f-2b9a9823daf7                      0.0   \n",
       "22f76976-9167-4bc4-9ccb-66560d849b4a                      0.0   \n",
       "0cd7238c-08eb-4655-9cee-685b3a6599a3                      0.0   \n",
       "\n",
       "                                      pass_height_High Pass  \\\n",
       "bbc398f7-c784-4958-a504-37b583caf97a                    0.0   \n",
       "5c210f79-9714-44a6-b2ec-387f6a117b37                    1.0   \n",
       "8a3e6668-9680-4417-987e-8db0c6ce6a8b                    0.0   \n",
       "f8e61bb0-b618-4695-9ff9-eaa0584bdbfa                    0.0   \n",
       "1d72ce76-31fd-43e0-a6b2-1f78c8a57a77                    0.0   \n",
       "...                                                     ...   \n",
       "7c7a5e05-853f-468b-a28f-40d6f4c9e443                    0.0   \n",
       "2ffe8b26-29e0-4971-8655-0729e2cc39d9                    0.0   \n",
       "5eca7b2d-7039-4076-9c7f-2b9a9823daf7                    1.0   \n",
       "22f76976-9167-4bc4-9ccb-66560d849b4a                    1.0   \n",
       "0cd7238c-08eb-4655-9cee-685b3a6599a3                    0.0   \n",
       "\n",
       "                                      pass_height_Low Pass  \\\n",
       "bbc398f7-c784-4958-a504-37b583caf97a                   0.0   \n",
       "5c210f79-9714-44a6-b2ec-387f6a117b37                   0.0   \n",
       "8a3e6668-9680-4417-987e-8db0c6ce6a8b                   1.0   \n",
       "f8e61bb0-b618-4695-9ff9-eaa0584bdbfa                   0.0   \n",
       "1d72ce76-31fd-43e0-a6b2-1f78c8a57a77                   0.0   \n",
       "...                                                    ...   \n",
       "7c7a5e05-853f-468b-a28f-40d6f4c9e443                   0.0   \n",
       "2ffe8b26-29e0-4971-8655-0729e2cc39d9                   0.0   \n",
       "5eca7b2d-7039-4076-9c7f-2b9a9823daf7                   0.0   \n",
       "22f76976-9167-4bc4-9ccb-66560d849b4a                   0.0   \n",
       "0cd7238c-08eb-4655-9cee-685b3a6599a3                   1.0   \n",
       "\n",
       "                                      pass_angle_cat_Backward  \\\n",
       "bbc398f7-c784-4958-a504-37b583caf97a                      1.0   \n",
       "5c210f79-9714-44a6-b2ec-387f6a117b37                      0.0   \n",
       "8a3e6668-9680-4417-987e-8db0c6ce6a8b                      1.0   \n",
       "f8e61bb0-b618-4695-9ff9-eaa0584bdbfa                      0.0   \n",
       "1d72ce76-31fd-43e0-a6b2-1f78c8a57a77                      0.0   \n",
       "...                                                       ...   \n",
       "7c7a5e05-853f-468b-a28f-40d6f4c9e443                      1.0   \n",
       "2ffe8b26-29e0-4971-8655-0729e2cc39d9                      0.0   \n",
       "5eca7b2d-7039-4076-9c7f-2b9a9823daf7                      0.0   \n",
       "22f76976-9167-4bc4-9ccb-66560d849b4a                      0.0   \n",
       "0cd7238c-08eb-4655-9cee-685b3a6599a3                      0.0   \n",
       "\n",
       "                                      pass_angle_cat_Forward  \\\n",
       "bbc398f7-c784-4958-a504-37b583caf97a                     0.0   \n",
       "5c210f79-9714-44a6-b2ec-387f6a117b37                     1.0   \n",
       "8a3e6668-9680-4417-987e-8db0c6ce6a8b                     0.0   \n",
       "f8e61bb0-b618-4695-9ff9-eaa0584bdbfa                     0.0   \n",
       "1d72ce76-31fd-43e0-a6b2-1f78c8a57a77                     1.0   \n",
       "...                                                      ...   \n",
       "7c7a5e05-853f-468b-a28f-40d6f4c9e443                     0.0   \n",
       "2ffe8b26-29e0-4971-8655-0729e2cc39d9                     0.0   \n",
       "5eca7b2d-7039-4076-9c7f-2b9a9823daf7                     0.0   \n",
       "22f76976-9167-4bc4-9ccb-66560d849b4a                     1.0   \n",
       "0cd7238c-08eb-4655-9cee-685b3a6599a3                     1.0   \n",
       "\n",
       "                                      pass_angle_cat_Sideways  \\\n",
       "bbc398f7-c784-4958-a504-37b583caf97a                      0.0   \n",
       "5c210f79-9714-44a6-b2ec-387f6a117b37                      0.0   \n",
       "8a3e6668-9680-4417-987e-8db0c6ce6a8b                      0.0   \n",
       "f8e61bb0-b618-4695-9ff9-eaa0584bdbfa                      1.0   \n",
       "1d72ce76-31fd-43e0-a6b2-1f78c8a57a77                      0.0   \n",
       "...                                                       ...   \n",
       "7c7a5e05-853f-468b-a28f-40d6f4c9e443                      0.0   \n",
       "2ffe8b26-29e0-4971-8655-0729e2cc39d9                      1.0   \n",
       "5eca7b2d-7039-4076-9c7f-2b9a9823daf7                      1.0   \n",
       "22f76976-9167-4bc4-9ccb-66560d849b4a                      0.0   \n",
       "0cd7238c-08eb-4655-9cee-685b3a6599a3                      0.0   \n",
       "\n",
       "                                      pass_body_part_gr_Foot  \\\n",
       "bbc398f7-c784-4958-a504-37b583caf97a                     1.0   \n",
       "5c210f79-9714-44a6-b2ec-387f6a117b37                     1.0   \n",
       "8a3e6668-9680-4417-987e-8db0c6ce6a8b                     0.0   \n",
       "f8e61bb0-b618-4695-9ff9-eaa0584bdbfa                     1.0   \n",
       "1d72ce76-31fd-43e0-a6b2-1f78c8a57a77                     1.0   \n",
       "...                                                      ...   \n",
       "7c7a5e05-853f-468b-a28f-40d6f4c9e443                     1.0   \n",
       "2ffe8b26-29e0-4971-8655-0729e2cc39d9                     1.0   \n",
       "5eca7b2d-7039-4076-9c7f-2b9a9823daf7                     1.0   \n",
       "22f76976-9167-4bc4-9ccb-66560d849b4a                     0.0   \n",
       "0cd7238c-08eb-4655-9cee-685b3a6599a3                     1.0   \n",
       "\n",
       "                                      pass_body_part_gr_Head  \\\n",
       "bbc398f7-c784-4958-a504-37b583caf97a                     0.0   \n",
       "5c210f79-9714-44a6-b2ec-387f6a117b37                     0.0   \n",
       "8a3e6668-9680-4417-987e-8db0c6ce6a8b                     0.0   \n",
       "f8e61bb0-b618-4695-9ff9-eaa0584bdbfa                     0.0   \n",
       "1d72ce76-31fd-43e0-a6b2-1f78c8a57a77                     0.0   \n",
       "...                                                      ...   \n",
       "7c7a5e05-853f-468b-a28f-40d6f4c9e443                     0.0   \n",
       "2ffe8b26-29e0-4971-8655-0729e2cc39d9                     0.0   \n",
       "5eca7b2d-7039-4076-9c7f-2b9a9823daf7                     0.0   \n",
       "22f76976-9167-4bc4-9ccb-66560d849b4a                     0.0   \n",
       "0cd7238c-08eb-4655-9cee-685b3a6599a3                     0.0   \n",
       "\n",
       "                                      pass_body_part_gr_Other  minute  ...  \\\n",
       "bbc398f7-c784-4958-a504-37b583caf97a                      0.0     0.0  ...   \n",
       "5c210f79-9714-44a6-b2ec-387f6a117b37                      0.0     0.0  ...   \n",
       "8a3e6668-9680-4417-987e-8db0c6ce6a8b                      1.0     0.0  ...   \n",
       "f8e61bb0-b618-4695-9ff9-eaa0584bdbfa                      0.0     0.0  ...   \n",
       "1d72ce76-31fd-43e0-a6b2-1f78c8a57a77                      0.0     0.0  ...   \n",
       "...                                                       ...     ...  ...   \n",
       "7c7a5e05-853f-468b-a28f-40d6f4c9e443                      0.0   122.0  ...   \n",
       "2ffe8b26-29e0-4971-8655-0729e2cc39d9                      0.0   122.0  ...   \n",
       "5eca7b2d-7039-4076-9c7f-2b9a9823daf7                      0.0   122.0  ...   \n",
       "22f76976-9167-4bc4-9ccb-66560d849b4a                      1.0   122.0  ...   \n",
       "0cd7238c-08eb-4655-9cee-685b3a6599a3                      0.0   122.0  ...   \n",
       "\n",
       "                                      oppo_min_dist_passer  \\\n",
       "bbc398f7-c784-4958-a504-37b583caf97a              8.700298   \n",
       "5c210f79-9714-44a6-b2ec-387f6a117b37              5.362910   \n",
       "8a3e6668-9680-4417-987e-8db0c6ce6a8b              9.050711   \n",
       "f8e61bb0-b618-4695-9ff9-eaa0584bdbfa             34.110869   \n",
       "1d72ce76-31fd-43e0-a6b2-1f78c8a57a77             29.491179   \n",
       "...                                                    ...   \n",
       "7c7a5e05-853f-468b-a28f-40d6f4c9e443              2.561939   \n",
       "2ffe8b26-29e0-4971-8655-0729e2cc39d9              4.851723   \n",
       "5eca7b2d-7039-4076-9c7f-2b9a9823daf7              3.170047   \n",
       "22f76976-9167-4bc4-9ccb-66560d849b4a              0.707772   \n",
       "0cd7238c-08eb-4655-9cee-685b3a6599a3              3.934373   \n",
       "\n",
       "                                      min_degree_diff_passer_oppo  \\\n",
       "bbc398f7-c784-4958-a504-37b583caf97a                    79.247244   \n",
       "5c210f79-9714-44a6-b2ec-387f6a117b37                    91.289410   \n",
       "8a3e6668-9680-4417-987e-8db0c6ce6a8b                    37.233803   \n",
       "f8e61bb0-b618-4695-9ff9-eaa0584bdbfa                   360.000000   \n",
       "1d72ce76-31fd-43e0-a6b2-1f78c8a57a77                   360.000000   \n",
       "...                                                           ...   \n",
       "7c7a5e05-853f-468b-a28f-40d6f4c9e443                     7.707927   \n",
       "2ffe8b26-29e0-4971-8655-0729e2cc39d9                    50.051588   \n",
       "5eca7b2d-7039-4076-9c7f-2b9a9823daf7                   136.820203   \n",
       "22f76976-9167-4bc4-9ccb-66560d849b4a                     2.311789   \n",
       "0cd7238c-08eb-4655-9cee-685b3a6599a3                    92.723382   \n",
       "\n",
       "                                      closest_oppo_degree_diff_passer  \\\n",
       "bbc398f7-c784-4958-a504-37b583caf97a                        79.247244   \n",
       "5c210f79-9714-44a6-b2ec-387f6a117b37                       169.745198   \n",
       "8a3e6668-9680-4417-987e-8db0c6ce6a8b                        64.546103   \n",
       "f8e61bb0-b618-4695-9ff9-eaa0584bdbfa                       122.895760   \n",
       "1d72ce76-31fd-43e0-a6b2-1f78c8a57a77                       139.980833   \n",
       "...                                                               ...   \n",
       "7c7a5e05-853f-468b-a28f-40d6f4c9e443                        86.771251   \n",
       "2ffe8b26-29e0-4971-8655-0729e2cc39d9                        50.051588   \n",
       "5eca7b2d-7039-4076-9c7f-2b9a9823daf7                       157.141330   \n",
       "22f76976-9167-4bc4-9ccb-66560d849b4a                       109.209191   \n",
       "0cd7238c-08eb-4655-9cee-685b3a6599a3                       147.195605   \n",
       "\n",
       "                                      pc_5ft_br_oppo  \\\n",
       "bbc398f7-c784-4958-a504-37b583caf97a             0.0   \n",
       "5c210f79-9714-44a6-b2ec-387f6a117b37             0.0   \n",
       "8a3e6668-9680-4417-987e-8db0c6ce6a8b             0.0   \n",
       "f8e61bb0-b618-4695-9ff9-eaa0584bdbfa             0.0   \n",
       "1d72ce76-31fd-43e0-a6b2-1f78c8a57a77             0.0   \n",
       "...                                              ...   \n",
       "7c7a5e05-853f-468b-a28f-40d6f4c9e443             0.0   \n",
       "2ffe8b26-29e0-4971-8655-0729e2cc39d9             0.0   \n",
       "5eca7b2d-7039-4076-9c7f-2b9a9823daf7             0.0   \n",
       "22f76976-9167-4bc4-9ccb-66560d849b4a             0.0   \n",
       "0cd7238c-08eb-4655-9cee-685b3a6599a3             0.0   \n",
       "\n",
       "                                      pc_oppo_closer_to_goal_br  \\\n",
       "bbc398f7-c784-4958-a504-37b583caf97a                   1.000000   \n",
       "5c210f79-9714-44a6-b2ec-387f6a117b37                   0.375000   \n",
       "8a3e6668-9680-4417-987e-8db0c6ce6a8b                   1.000000   \n",
       "f8e61bb0-b618-4695-9ff9-eaa0584bdbfa                   1.000000   \n",
       "1d72ce76-31fd-43e0-a6b2-1f78c8a57a77                   1.000000   \n",
       "...                                                         ...   \n",
       "7c7a5e05-853f-468b-a28f-40d6f4c9e443                   1.000000   \n",
       "2ffe8b26-29e0-4971-8655-0729e2cc39d9                   1.000000   \n",
       "5eca7b2d-7039-4076-9c7f-2b9a9823daf7                   0.111111   \n",
       "22f76976-9167-4bc4-9ccb-66560d849b4a                   0.250000   \n",
       "0cd7238c-08eb-4655-9cee-685b3a6599a3                   0.333333   \n",
       "\n",
       "                                      oppo_min_dist_br  \\\n",
       "bbc398f7-c784-4958-a504-37b583caf97a         11.600016   \n",
       "5c210f79-9714-44a6-b2ec-387f6a117b37         30.067520   \n",
       "8a3e6668-9680-4417-987e-8db0c6ce6a8b         22.591968   \n",
       "f8e61bb0-b618-4695-9ff9-eaa0584bdbfa         29.149842   \n",
       "1d72ce76-31fd-43e0-a6b2-1f78c8a57a77         20.856105   \n",
       "...                                                ...   \n",
       "7c7a5e05-853f-468b-a28f-40d6f4c9e443         16.396627   \n",
       "2ffe8b26-29e0-4971-8655-0729e2cc39d9         11.604301   \n",
       "5eca7b2d-7039-4076-9c7f-2b9a9823daf7         16.351992   \n",
       "22f76976-9167-4bc4-9ccb-66560d849b4a         16.028105   \n",
       "0cd7238c-08eb-4655-9cee-685b3a6599a3          9.593427   \n",
       "\n",
       "                                      min_degree_diff_br_oppo  \\\n",
       "bbc398f7-c784-4958-a504-37b583caf97a               124.387256   \n",
       "5c210f79-9714-44a6-b2ec-387f6a117b37                38.103143   \n",
       "8a3e6668-9680-4417-987e-8db0c6ce6a8b               151.662185   \n",
       "f8e61bb0-b618-4695-9ff9-eaa0584bdbfa               145.042491   \n",
       "1d72ce76-31fd-43e0-a6b2-1f78c8a57a77               131.460698   \n",
       "...                                                       ...   \n",
       "7c7a5e05-853f-468b-a28f-40d6f4c9e443                93.180956   \n",
       "2ffe8b26-29e0-4971-8655-0729e2cc39d9               128.859690   \n",
       "5eca7b2d-7039-4076-9c7f-2b9a9823daf7               360.000000   \n",
       "22f76976-9167-4bc4-9ccb-66560d849b4a                46.798728   \n",
       "0cd7238c-08eb-4655-9cee-685b3a6599a3                66.670818   \n",
       "\n",
       "                                      closest_oppo_degree_diff_br  \\\n",
       "bbc398f7-c784-4958-a504-37b583caf97a                  -164.046053   \n",
       "5c210f79-9714-44a6-b2ec-387f6a117b37                    44.638371   \n",
       "8a3e6668-9680-4417-987e-8db0c6ce6a8b                  -151.928647   \n",
       "f8e61bb0-b618-4695-9ff9-eaa0584bdbfa                   158.209102   \n",
       "1d72ce76-31fd-43e0-a6b2-1f78c8a57a77                   154.926555   \n",
       "...                                                           ...   \n",
       "7c7a5e05-853f-468b-a28f-40d6f4c9e443                   119.149762   \n",
       "2ffe8b26-29e0-4971-8655-0729e2cc39d9                   106.003397   \n",
       "5eca7b2d-7039-4076-9c7f-2b9a9823daf7                   -45.806199   \n",
       "22f76976-9167-4bc4-9ccb-66560d849b4a                    33.677210   \n",
       "0cd7238c-08eb-4655-9cee-685b3a6599a3                   -49.164351   \n",
       "\n",
       "                                      min_dist_from_br_teammate  pass_cut_back  \n",
       "bbc398f7-c784-4958-a504-37b583caf97a                  29.693265            0.0  \n",
       "5c210f79-9714-44a6-b2ec-387f6a117b37                   5.689815            0.0  \n",
       "8a3e6668-9680-4417-987e-8db0c6ce6a8b                  27.100468            0.0  \n",
       "f8e61bb0-b618-4695-9ff9-eaa0584bdbfa                   5.778768            0.0  \n",
       "1d72ce76-31fd-43e0-a6b2-1f78c8a57a77                   2.896592            0.0  \n",
       "...                                                         ...            ...  \n",
       "7c7a5e05-853f-468b-a28f-40d6f4c9e443                  21.954498            0.0  \n",
       "2ffe8b26-29e0-4971-8655-0729e2cc39d9                   3.339027            0.0  \n",
       "5eca7b2d-7039-4076-9c7f-2b9a9823daf7                  18.199256            0.0  \n",
       "22f76976-9167-4bc4-9ccb-66560d849b4a                  24.380591            0.0  \n",
       "0cd7238c-08eb-4655-9cee-685b3a6599a3                   9.502699            0.0  \n",
       "\n",
       "[47329 rows x 44 columns]"
      ]
     },
     "execution_count": 31,
     "metadata": {},
     "output_type": "execute_result"
    }
   ],
   "source": [
    "from sklearn.preprocessing import OneHotEncoder\n",
    "from sklearn.compose import make_column_transformer\n",
    "\n",
    "ohe = make_column_transformer(\n",
    "    (OneHotEncoder(), ['pass_height', 'pass_angle_cat', 'pass_body_part_gr']),\n",
    "    remainder='passthrough', verbose_feature_names_out=False)\n",
    "\n",
    "\n",
    "\n",
    "transformed = ohe.fit_transform(all_features)\n",
    "\n",
    "transformed = pd.DataFrame(transformed, \n",
    "    columns=ohe.get_feature_names_out(), index = all_features.index\n",
    ")\n",
    "\n",
    "feature_names = ohe.get_feature_names_out()\n",
    "\n",
    "transformed"
   ]
  },
  {
   "cell_type": "markdown",
   "id": "413df7e7",
   "metadata": {},
   "source": [
    "#### create arrays of features and labels"
   ]
  },
  {
   "cell_type": "code",
   "execution_count": 32,
   "id": "a20655a3",
   "metadata": {
    "ExecuteTime": {
     "end_time": "2022-08-15T07:00:07.609477Z",
     "start_time": "2022-08-15T07:00:07.580436Z"
    }
   },
   "outputs": [],
   "source": [
    "#features removed because of high correlation or features directly tied to a label\n",
    "\n",
    "eda_removed_features = ['pass_degree', 'passer_degree_to_goal','br_degree_to_goal', 'pass_receipt_loc_x', 'pass_receipt_loc_y']\n",
    "event_removed_features = tracking_features + labels + eda_removed_features\n",
    "tracking_removed_features = labels + eda_removed_features\n",
    "\n",
    "#array of event only feature\n",
    "X_event = transformed.drop(event_removed_features, axis=1)\n",
    "\n",
    "#array of tracking only feature\n",
    "X_tracking = transformed[tracking_features]\n",
    "\n",
    "#array of all feature\n",
    "X_all = transformed.drop(tracking_removed_features, axis=1)\n",
    "\n",
    "#labels\n",
    "y_risk = transformed['binary_pass_risk']\n",
    "y_reward = transformed['binary_pass_reward']\n",
    "\n",
    "#get feature names for later use\n",
    "\n",
    "event_feature_names = [feature_name for feature_name in feature_names if feature_name not in event_removed_features]\n",
    "all_feature_names = [feature_name for feature_name in feature_names if feature_name not in tracking_removed_features]"
   ]
  },
  {
   "cell_type": "markdown",
   "id": "c1771ff6",
   "metadata": {},
   "source": [
    "#### Split train and test:"
   ]
  },
  {
   "cell_type": "code",
   "execution_count": 33,
   "id": "57ff8b03",
   "metadata": {
    "ExecuteTime": {
     "end_time": "2022-08-15T07:00:08.373586Z",
     "start_time": "2022-08-15T07:00:08.334786Z"
    }
   },
   "outputs": [],
   "source": [
    "from sklearn.model_selection import train_test_split\n",
    "X_event_train, X_event_test, y_reward_train, y_reward_test = train_test_split(X_event,\n",
    "                                                    y_reward, test_size=0.30,\n",
    "                                                    random_state=42)\n",
    "\n",
    "\n",
    "X_all_train, X_all_test, y_risk_train, y_risk_test = train_test_split(X_all,\n",
    "                                                    y_risk, test_size=0.30,\n",
    "                                                    random_state=42)\n",
    "\n",
    "y_reward_train=y_reward_train.astype('int')\n",
    "y_reward_test=y_reward_test.astype('int')\n",
    "y_risk_train=y_risk_train.astype('int')\n",
    "y_risk_test=y_risk_test.astype('int')"
   ]
  },
  {
   "cell_type": "markdown",
   "id": "8cadd028",
   "metadata": {},
   "source": [
    "#### Create 4 models, 2 event only features and 2 all features , 2 risk labels and 2 reward labels"
   ]
  },
  {
   "cell_type": "code",
   "execution_count": 34,
   "id": "9ef8d64e",
   "metadata": {
    "ExecuteTime": {
     "end_time": "2022-08-15T07:00:09.063491Z",
     "start_time": "2022-08-15T07:00:09.054304Z"
    }
   },
   "outputs": [],
   "source": [
    "from sklearn.preprocessing import StandardScaler\n",
    "from sklearn.linear_model import LogisticRegression\n",
    "from sklearn.pipeline import make_pipeline\n",
    "\n",
    "logmodel_event_risk = make_pipeline(StandardScaler(), LogisticRegression())\n",
    "logmodel_event_reward = make_pipeline(StandardScaler(), LogisticRegression())\n",
    "logmodel_all_risk = make_pipeline(StandardScaler(), LogisticRegression())\n",
    "logmodel_all_reward = make_pipeline(StandardScaler(), LogisticRegression())"
   ]
  },
  {
   "cell_type": "markdown",
   "id": "cefc67e1",
   "metadata": {},
   "source": [
    "#### fit model"
   ]
  },
  {
   "cell_type": "code",
   "execution_count": 35,
   "id": "4cc7256d",
   "metadata": {
    "ExecuteTime": {
     "end_time": "2022-08-15T07:00:09.772752Z",
     "start_time": "2022-08-15T07:00:09.650456Z"
    },
    "scrolled": true
   },
   "outputs": [
    {
     "name": "stdout",
     "output_type": "stream",
     "text": [
      "[[ 0.5220339  -0.47526631 -0.18527898  0.42543693 -0.46280718  0.04502775\n",
      "  -0.10417963 -0.00873984  0.13998093  0.0382316  -0.07475284  0.16155434\n",
      "  -0.30088118 -0.18848258 -0.08541443  0.75172809 -0.17898861 -0.0514455\n",
      "  -0.0454862  -0.0714638  -0.40647297 -0.00641992 -0.08987177 -0.03439732\n",
      "  -0.00996307 -0.09168034]] [2.42570377]\n"
     ]
    }
   ],
   "source": [
    "#event risk\n",
    "logmodel_event_risk.fit(X_event_train,y_risk_train)\n",
    "\n",
    "proba_event_risk_train = logmodel_event_risk.predict_proba(X_event_train)\n",
    "proba_event_risk_test = logmodel_event_risk.predict_proba(X_event_test)\n",
    "print(logmodel_event_risk[1].coef_, logmodel_event_risk[1].intercept_)"
   ]
  },
  {
   "cell_type": "code",
   "execution_count": 36,
   "id": "472122a4",
   "metadata": {
    "ExecuteTime": {
     "end_time": "2022-08-15T07:00:10.340614Z",
     "start_time": "2022-08-15T07:00:10.201873Z"
    },
    "scrolled": true
   },
   "outputs": [
    {
     "name": "stdout",
     "output_type": "stream",
     "text": [
      "[[ 0.32503918 -0.28502041 -0.12829886  0.19513819 -0.18909156 -0.00696627\n",
      "  -0.06566232 -0.05085982  0.12592771  0.03377984 -0.30977532  0.08881458\n",
      "  -0.16182199 -0.02357857 -0.02636082  0.86167526 -0.13988455 -0.05313326\n",
      "   0.00227566 -0.06803703 -0.23957329  0.01276824 -0.10159672 -0.10003835\n",
      "   0.01394907 -0.16601647  0.16532137  0.28707917 -0.34787471 -0.12718345\n",
      "  -0.41995069  0.53982484  1.09497623 -0.04214586 -0.02797014 -1.11381482\n",
      "  -0.04622592]] [3.00205105]\n"
     ]
    }
   ],
   "source": [
    "#all feature risk\n",
    "logmodel_all_risk.fit(X_all_train,y_risk_train)\n",
    "\n",
    "proba_all_risk_train = logmodel_all_risk.predict_proba(X_all_train)\n",
    "proba_all_risk_test = logmodel_all_risk.predict_proba(X_all_test)\n",
    "print(logmodel_all_risk[1].coef_, logmodel_all_risk[1].intercept_)"
   ]
  },
  {
   "cell_type": "code",
   "execution_count": 37,
   "id": "49e085e0",
   "metadata": {
    "ExecuteTime": {
     "end_time": "2022-08-15T07:00:10.846822Z",
     "start_time": "2022-08-15T07:00:10.753687Z"
    },
    "scrolled": true
   },
   "outputs": [
    {
     "name": "stdout",
     "output_type": "stream",
     "text": [
      "[[ 3.10762489e-02  1.12669385e-03 -4.59475336e-02 -2.17538397e-01\n",
      "   1.83012047e-01  4.08623764e-02  6.17759005e-02 -8.70745163e-03\n",
      "  -7.14584395e-02  4.55736644e-02  1.70324868e-01 -3.26025633e-02\n",
      "  -1.37281273e-02  8.53397459e-03  5.92779015e-02  9.38198557e-02\n",
      "   9.78779342e-02  6.44344884e-02  6.05427546e-02  1.20972697e-02\n",
      "   1.22347503e+00 -1.19970377e-02  2.19852292e-02  2.96828067e-02\n",
      "   9.30228661e-02  2.93056483e-02]] [-2.56447549]\n"
     ]
    }
   ],
   "source": [
    "#event only reward\n",
    "logmodel_event_reward.fit(X_event_train,y_reward_train)\n",
    "\n",
    "proba_event_reward_train = logmodel_event_reward.predict_proba(X_event_train)\n",
    "proba_event_reward_test = logmodel_event_reward.predict_proba(X_event_test)\n",
    "print(logmodel_event_reward[1].coef_, logmodel_event_reward[1].intercept_)"
   ]
  },
  {
   "cell_type": "code",
   "execution_count": 38,
   "id": "92e72ef6",
   "metadata": {
    "ExecuteTime": {
     "end_time": "2022-08-15T07:00:11.401826Z",
     "start_time": "2022-08-15T07:00:11.261948Z"
    },
    "scrolled": true
   },
   "outputs": [],
   "source": [
    "#all feature reward\n",
    "logmodel_all_reward.fit(X_all_train,y_reward_train)\n",
    "\n",
    "proba_all_reward_train = logmodel_all_reward.predict_proba(X_all_train)\n",
    "proba_all_reward_test = logmodel_all_reward.predict_proba(X_all_test)\n"
   ]
  },
  {
   "cell_type": "markdown",
   "id": "f44bc345",
   "metadata": {},
   "source": [
    "#### Print the softmax coefficients of all feature risk and reward"
   ]
  },
  {
   "cell_type": "code",
   "execution_count": 39,
   "id": "0888d66c",
   "metadata": {
    "ExecuteTime": {
     "end_time": "2022-08-15T07:00:11.889714Z",
     "start_time": "2022-08-15T07:00:11.878699Z"
    },
    "scrolled": true
   },
   "outputs": [
    {
     "name": "stdout",
     "output_type": "stream",
     "text": [
      "pass_height_Ground Pass coefficients risk model : 0.325\n",
      "pass_height_High Pass coefficients risk model : -0.285\n",
      "pass_height_Low Pass coefficients risk model : -0.128\n",
      "pass_angle_cat_Backward coefficients risk model : 0.195\n",
      "pass_angle_cat_Forward coefficients risk model : -0.189\n",
      "pass_angle_cat_Sideways coefficients risk model : -0.007\n",
      "pass_body_part_gr_Foot coefficients risk model : -0.066\n",
      "pass_body_part_gr_Head coefficients risk model : -0.051\n",
      "pass_body_part_gr_Other coefficients risk model : 0.126\n",
      "minute coefficients risk model : 0.034\n",
      "pass_length coefficients risk model : -0.310\n",
      "pass_switch coefficients risk model : 0.089\n",
      "under_pressure coefficients risk model : -0.162\n",
      "pass_cross coefficients risk model : -0.024\n",
      "pass_through_ball coefficients risk model : -0.026\n",
      "br_pressure coefficients risk model : 0.862\n",
      "one_touch_pass coefficients risk model : -0.140\n",
      "pass_from_duel coefficients risk model : -0.053\n",
      "carry_dist coefficients risk model : 0.002\n",
      "carry_speed coefficients risk model : -0.068\n",
      "pass_loc_x coefficients risk model : -0.240\n",
      "pass_loc_y coefficients risk model : 0.013\n",
      "deadball coefficients risk model : -0.102\n",
      "time_since_poss coefficients risk model : -0.100\n",
      "from_keeper_held coefficients risk model : 0.014\n",
      "pc_5ft_actor_oppo coefficients risk model : -0.166\n",
      "pc_oppo_closer_to_goal_passer coefficients risk model : 0.165\n",
      "oppo_min_dist_passer coefficients risk model : 0.287\n",
      "min_degree_diff_passer_oppo coefficients risk model : -0.348\n",
      "closest_oppo_degree_diff_passer coefficients risk model : -0.127\n",
      "pc_5ft_br_oppo coefficients risk model : -0.420\n",
      "pc_oppo_closer_to_goal_br coefficients risk model : 0.540\n",
      "oppo_min_dist_br coefficients risk model : 1.095\n",
      "min_degree_diff_br_oppo coefficients risk model : -0.042\n",
      "closest_oppo_degree_diff_br coefficients risk model : -0.028\n",
      "min_dist_from_br_teammate coefficients risk model : -1.114\n",
      "pass_cut_back coefficients risk model : -0.046\n"
     ]
    }
   ],
   "source": [
    "for feature_name, intercept in zip (all_feature_names, logmodel_all_risk[1].coef_.tolist()[0]):\n",
    "    print(f\"{feature_name} coefficients risk model : {intercept:.3f}\")"
   ]
  },
  {
   "cell_type": "code",
   "execution_count": 759,
   "id": "f76a8e50",
   "metadata": {
    "ExecuteTime": {
     "end_time": "2022-08-15T05:57:11.579096Z",
     "start_time": "2022-08-15T05:57:11.558065Z"
    },
    "scrolled": true
   },
   "outputs": [
    {
     "name": "stdout",
     "output_type": "stream",
     "text": [
      "pass_height_Ground Pass coefficients reward model: 0.071\n",
      "pass_height_High Pass coefficients reward model: -0.043\n",
      "pass_height_Low Pass coefficients reward model: -0.050\n",
      "pass_angle_cat_Backward coefficients reward model: -0.135\n",
      "pass_angle_cat_Forward coefficients reward model: 0.114\n",
      "pass_angle_cat_Sideways coefficients reward model: 0.024\n",
      "pass_body_part_gr_Foot coefficients reward model: 0.052\n",
      "pass_body_part_gr_Head coefficients reward model: -0.017\n",
      "pass_body_part_gr_Other coefficients reward model: -0.053\n",
      "minute coefficients reward model: 0.048\n",
      "pass_length coefficients reward model: 0.253\n",
      "pass_switch coefficients reward model: -0.034\n",
      "under_pressure coefficients reward model: -0.047\n",
      "pass_cross coefficients reward model: -0.010\n",
      "pass_through_ball coefficients reward model: 0.049\n",
      "br_pressure coefficients reward model: 0.074\n",
      "one_touch_pass coefficients reward model: 0.065\n",
      "pass_from_duel coefficients reward model: 0.047\n",
      "carry_dist coefficients reward model: 0.055\n",
      "carry_speed coefficients reward model: -0.003\n",
      "pass_loc_x coefficients reward model: 1.265\n",
      "pass_loc_y coefficients reward model: -0.014\n",
      "deadball coefficients reward model: -0.001\n",
      "time_since_poss coefficients reward model: 0.060\n",
      "from_keeper_held coefficients reward model: 0.092\n",
      "pc_5ft_actor_oppo coefficients reward model: 0.095\n",
      "pc_oppo_closer_to_goal_passer coefficients reward model: -0.164\n",
      "oppo_min_dist_passer coefficients reward model: 0.120\n",
      "min_degree_diff_passer_oppo coefficients reward model: -0.036\n",
      "closest_oppo_degree_diff_passer coefficients reward model: 0.071\n",
      "pc_5ft_br_oppo coefficients reward model: -0.083\n",
      "pc_oppo_closer_to_goal_br coefficients reward model: -0.289\n",
      "oppo_min_dist_br coefficients reward model: 0.148\n",
      "min_degree_diff_br_oppo coefficients reward model: -0.106\n",
      "closest_oppo_degree_diff_br coefficients reward model: -0.006\n",
      "min_dist_from_br_teammate coefficients reward model: -0.280\n",
      "pass_cut_back coefficients reward model: 0.017\n",
      "tensor([[0.0269, 0.0241, 0.0239, 0.0219, 0.0282, 0.0257, 0.0265, 0.0247, 0.0238,\n",
      "         0.0263, 0.0323, 0.0243, 0.0239, 0.0249, 0.0264, 0.0270, 0.0268, 0.0263,\n",
      "         0.0265, 0.0250, 0.0889, 0.0248, 0.0251, 0.0267, 0.0275, 0.0276, 0.0213,\n",
      "         0.0283, 0.0242, 0.0270, 0.0231, 0.0188, 0.0291, 0.0226, 0.0249, 0.0190,\n",
      "         0.0255]], dtype=torch.float64)\n"
     ]
    }
   ],
   "source": [
    "for feature_name, intercept in zip (all_feature_names, logmodel_all_reward[1].coef_.tolist()[0]):\n",
    "    print(f\"{feature_name} coefficients reward model: {intercept:.3f}\")\n",
    "print(coef_percent)"
   ]
  },
  {
   "cell_type": "markdown",
   "id": "5ccdbd6e",
   "metadata": {},
   "source": [
    "#### AUC measure"
   ]
  },
  {
   "cell_type": "code",
   "execution_count": 742,
   "id": "abe75e93",
   "metadata": {
    "ExecuteTime": {
     "end_time": "2022-08-13T21:55:38.086958Z",
     "start_time": "2022-08-13T21:55:38.025204Z"
    }
   },
   "outputs": [
    {
     "name": "stdout",
     "output_type": "stream",
     "text": [
      "Event risk train AUC: 0.8759173925493275\n",
      "Event risk test AUC: 0.8814216120222014\n",
      "All risk train AUC: 0.9304312529675863\n",
      "All risk test AUC: 0.9327396332934101\n",
      "Event reward train AUC: 0.7880174904968285\n",
      "Event reward test AUC: 0.7847672404136379\n",
      "All reward train AUC: 0.7994572040811762\n",
      "All reward test AUC: 0.7949129507637427\n"
     ]
    }
   ],
   "source": [
    "from sklearn.metrics import roc_auc_score\n",
    "\n",
    "print(f'Event risk train AUC: {roc_auc_score(y_risk_train, proba_event_risk_train[:,1])}')\n",
    "print(f'Event risk test AUC: {roc_auc_score(y_risk_test, proba_event_risk_test[:,1])}')\n",
    "print(f'All risk train AUC: {roc_auc_score(y_risk_train, proba_all_risk_train[:,1])}')\n",
    "print(f'All risk test AUC: {roc_auc_score(y_risk_test, proba_all_risk_test[:,1])}')\n",
    "\n",
    "print(f'Event reward train AUC: {roc_auc_score(y_reward_train, proba_event_reward_train[:,1])}')\n",
    "print(f'Event reward test AUC: {roc_auc_score(y_reward_test, proba_event_reward_test[:,1])}')\n",
    "print(f'All reward train AUC: {roc_auc_score(y_reward_train, proba_all_reward_train[:,1])}')\n",
    "print(f'All reward test AUC: {roc_auc_score(y_reward_test, proba_all_reward_test[:,1])}')\n",
    "\n"
   ]
  },
  {
   "cell_type": "markdown",
   "id": "d9996f63",
   "metadata": {},
   "source": [
    "#### log-loss function"
   ]
  },
  {
   "cell_type": "code",
   "execution_count": 744,
   "id": "e9c6000d",
   "metadata": {
    "ExecuteTime": {
     "end_time": "2022-08-13T21:55:39.764488Z",
     "start_time": "2022-08-13T21:55:39.687799Z"
    }
   },
   "outputs": [],
   "source": [
    "proba_all_risk = logmodel_all_risk.predict_proba(X_all)\n",
    "proba_all_reward = logmodel_all_reward.predict_proba(X_all)\n",
    "prediction_all_risk = logmodel_all_risk.predict(X_all)\n",
    "prediction_all_reward = logmodel_all_reward.predict(X_all)"
   ]
  },
  {
   "cell_type": "code",
   "execution_count": 746,
   "id": "fd9125b5",
   "metadata": {
    "ExecuteTime": {
     "end_time": "2022-08-13T21:56:46.457904Z",
     "start_time": "2022-08-13T21:56:46.407890Z"
    },
    "scrolled": true
   },
   "outputs": [
    {
     "name": "stdout",
     "output_type": "stream",
     "text": [
      "Event risk train Log loss: 0.297\n",
      "Event risk test Log loss: 0.299\n",
      "All risk train Log loss: 0.239\n",
      "All risk test Log loss: 0.238\n",
      "Event reward train Log loss: 0.296\n",
      "Event reward test Log loss: 0.290\n",
      "All reward train Log loss: 0.290\n",
      "All reward test Log loss: 0.285\n"
     ]
    }
   ],
   "source": [
    "from sklearn.metrics import log_loss\n",
    "\n",
    "print(f'Event risk train Log loss: {log_loss(y_risk_train, proba_event_risk_train):0.3f}')\n",
    "print(f'Event risk test Log loss: {log_loss(y_risk_test, proba_event_risk_test):0.3f}')\n",
    "print(f'All risk train Log loss: {log_loss(y_risk_train, proba_all_risk_train):0.3f}')\n",
    "print(f'All risk test Log loss: {log_loss(y_risk_test, proba_all_risk_test):0.3f}')\n",
    "print(f'Event reward train Log loss: {log_loss(y_reward_train, proba_event_reward_train):0.3f}')\n",
    "print(f'Event reward test Log loss: {log_loss(y_reward_test, proba_event_reward_test):0.3f}')\n",
    "print(f'All reward train Log loss: {log_loss(y_reward_train, proba_all_reward_train) :0.3f}')\n",
    "print(f'All reward test Log loss: {log_loss(y_reward_test, proba_all_reward_test):0.3f}')"
   ]
  },
  {
   "cell_type": "markdown",
   "id": "b8f8931e",
   "metadata": {},
   "source": [
    "## create a naive model\n",
    "- This naive model consider pass % of each pass height category its probability"
   ]
  },
  {
   "cell_type": "code",
   "execution_count": 631,
   "id": "9a2ddd40",
   "metadata": {
    "ExecuteTime": {
     "end_time": "2022-08-13T03:10:35.592333Z",
     "start_time": "2022-08-13T03:10:35.566308Z"
    }
   },
   "outputs": [],
   "source": [
    "#get number of pass completed and number of pass danger for each pass height\n",
    "naive = master_data.groupby('pass_height')[['binary_pass_risk', 'binary_pass_reward']].sum()\n",
    "#add number of passes\n",
    "count = master_data.groupby('pass_height')[['index']].count()"
   ]
  },
  {
   "cell_type": "code",
   "execution_count": 632,
   "id": "4fff63f9",
   "metadata": {
    "ExecuteTime": {
     "end_time": "2022-08-13T03:10:37.047976Z",
     "start_time": "2022-08-13T03:10:37.033952Z"
    }
   },
   "outputs": [
    {
     "data": {
      "text/html": [
       "<div>\n",
       "<style scoped>\n",
       "    .dataframe tbody tr th:only-of-type {\n",
       "        vertical-align: middle;\n",
       "    }\n",
       "\n",
       "    .dataframe tbody tr th {\n",
       "        vertical-align: top;\n",
       "    }\n",
       "\n",
       "    .dataframe thead th {\n",
       "        text-align: right;\n",
       "    }\n",
       "</style>\n",
       "<table border=\"1\" class=\"dataframe\">\n",
       "  <thead>\n",
       "    <tr style=\"text-align: right;\">\n",
       "      <th></th>\n",
       "      <th>binary_pass_risk</th>\n",
       "      <th>binary_pass_reward</th>\n",
       "      <th>index</th>\n",
       "    </tr>\n",
       "    <tr>\n",
       "      <th>pass_height</th>\n",
       "      <th></th>\n",
       "      <th></th>\n",
       "      <th></th>\n",
       "    </tr>\n",
       "  </thead>\n",
       "  <tbody>\n",
       "    <tr>\n",
       "      <th>Ground Pass</th>\n",
       "      <td>0.934410</td>\n",
       "      <td>0.104658</td>\n",
       "      <td>34990</td>\n",
       "    </tr>\n",
       "    <tr>\n",
       "      <th>High Pass</th>\n",
       "      <td>0.469806</td>\n",
       "      <td>0.145339</td>\n",
       "      <td>7369</td>\n",
       "    </tr>\n",
       "    <tr>\n",
       "      <th>Low Pass</th>\n",
       "      <td>0.704427</td>\n",
       "      <td>0.115895</td>\n",
       "      <td>4970</td>\n",
       "    </tr>\n",
       "  </tbody>\n",
       "</table>\n",
       "</div>"
      ],
      "text/plain": [
       "             binary_pass_risk  binary_pass_reward  index\n",
       "pass_height                                             \n",
       "Ground Pass          0.934410            0.104658  34990\n",
       "High Pass            0.469806            0.145339   7369\n",
       "Low Pass             0.704427            0.115895   4970"
      ]
     },
     "execution_count": 632,
     "metadata": {},
     "output_type": "execute_result"
    }
   ],
   "source": [
    "#divide to get pass %\n",
    "naive = naive.join(count, how='left')\n",
    "naive['binary_pass_risk'] = naive['binary_pass_risk']/naive['index']\n",
    "naive['binary_pass_reward'] = naive['binary_pass_reward']/naive['index']\n",
    "naive"
   ]
  },
  {
   "cell_type": "markdown",
   "id": "2756bfa9",
   "metadata": {},
   "source": [
    "#### Use these percentages as probabilities of passes"
   ]
  },
  {
   "cell_type": "code",
   "execution_count": 619,
   "id": "1527caa7",
   "metadata": {
    "ExecuteTime": {
     "end_time": "2022-08-13T02:39:45.180308Z",
     "start_time": "2022-08-13T02:39:45.169271Z"
    }
   },
   "outputs": [],
   "source": [
    "naive_risk = naive['binary_pass_risk'].to_dict()\n",
    "naive_reward = naive['binary_pass_reward'].to_dict()\n"
   ]
  },
  {
   "cell_type": "code",
   "execution_count": 622,
   "id": "64073fed",
   "metadata": {
    "ExecuteTime": {
     "end_time": "2022-08-13T02:42:40.523408Z",
     "start_time": "2022-08-13T02:42:40.490401Z"
    }
   },
   "outputs": [
    {
     "name": "stdout",
     "output_type": "stream",
     "text": [
      "Naive risk AUC: 0.7767452686444858\n",
      "Naive reward AUC: 0.5303056855040101\n"
     ]
    }
   ],
   "source": [
    "#map these probabilities for each pass\n",
    "naive_stats = master_data\n",
    "naive_stats['x_pass_naive']=naive_stats['pass_height'].map(naive_risk)\n",
    "naive_stats['x_chance_naive']=naive_stats['pass_height'].map(naive_reward)\n",
    "\n",
    "#get AUC\n",
    "\n",
    "print(f\"Naive risk AUC: {roc_auc_score(naive_stats['binary_pass_risk'], naive_stats['x_pass_naive'])}\")\n",
    "\n",
    "print(f\"Naive reward AUC: {roc_auc_score(naive_stats['binary_pass_reward'], naive_stats['x_chance_naive'])}\")"
   ]
  },
  {
   "cell_type": "code",
   "execution_count": 760,
   "id": "0726dfc1",
   "metadata": {
    "ExecuteTime": {
     "end_time": "2022-08-15T06:07:10.358896Z",
     "start_time": "2022-08-15T06:07:09.963642Z"
    }
   },
   "outputs": [
    {
     "name": "stdout",
     "output_type": "stream",
     "text": [
      "Naive risk log_loss: 0.3503528325765441\n",
      "Naive reward log_loss: 0.35001662347241547\n"
     ]
    }
   ],
   "source": [
    "#get log-loss\n",
    "naive_x_pass_proba = [[1-t, t] for t in naive_stats['x_pass_naive'].to_list()]\n",
    "naive_x_chance_proba = [[1-t, t] for t in naive_stats['x_chance_naive'].to_list()]\n",
    "\n",
    "print(f\"Naive risk log_loss: {log_loss(naive_stats['binary_pass_risk'], naive_x_pass_proba)}\")\n",
    "print(f\"Naive reward log_loss: {log_loss(naive_stats['binary_pass_reward'], naive_x_chance_proba)}\")"
   ]
  },
  {
   "cell_type": "markdown",
   "id": "3fc61392",
   "metadata": {},
   "source": [
    "## save cleaned data and train-test index"
   ]
  },
  {
   "cell_type": "markdown",
   "id": "e39a0e0a",
   "metadata": {},
   "source": [
    "#### master_data_training for gnn training"
   ]
  },
  {
   "cell_type": "code",
   "execution_count": 750,
   "id": "3a61fef3",
   "metadata": {
    "ExecuteTime": {
     "end_time": "2022-08-13T21:57:15.137323Z",
     "start_time": "2022-08-13T21:57:08.188748Z"
    }
   },
   "outputs": [],
   "source": [
    "#master_data file for gnn training\n",
    "master_data=master_data.astype({'timestamp': str})\n",
    "master_data_dict = master_data.to_dict()\n",
    "import json\n",
    "with open(\"master_data_training.json\", \"w\") as outfile:\n",
    "    json.dump(master_data_dict, outfile)"
   ]
  },
  {
   "cell_type": "markdown",
   "id": "4d01e03b",
   "metadata": {},
   "source": [
    "#### Get train and test index"
   ]
  },
  {
   "cell_type": "code",
   "execution_count": 753,
   "id": "229a0ca5",
   "metadata": {
    "ExecuteTime": {
     "end_time": "2022-08-13T21:57:20.317574Z",
     "start_time": "2022-08-13T21:57:20.303580Z"
    }
   },
   "outputs": [],
   "source": [
    "train_index = y_reward_train.index.to_list()\n",
    "test_index = y_reward_test.index.to_list()"
   ]
  },
  {
   "cell_type": "code",
   "execution_count": 754,
   "id": "202ae179",
   "metadata": {
    "ExecuteTime": {
     "end_time": "2022-08-13T21:57:22.039287Z",
     "start_time": "2022-08-13T21:57:22.011087Z"
    }
   },
   "outputs": [],
   "source": [
    "#train and test index for gnn training\n",
    "import pickle\n",
    "with open('train_index.pkl', 'wb') as f:\n",
    "    pickle.dump(train_index, f)\n",
    "with open('test_index.pkl', 'wb') as f:\n",
    "    pickle.dump(test_index, f)\n"
   ]
  },
  {
   "cell_type": "markdown",
   "id": "7168b131",
   "metadata": {},
   "source": [
    "#### Add x_pass and x_chance columms and save master_data_analysis for analysis"
   ]
  },
  {
   "cell_type": "code",
   "execution_count": 755,
   "id": "bc5b0814",
   "metadata": {
    "ExecuteTime": {
     "end_time": "2022-08-13T21:59:02.772037Z",
     "start_time": "2022-08-13T21:59:02.759563Z"
    }
   },
   "outputs": [],
   "source": [
    "master_data['x_pass'] = proba_all_risk[:,1]\n",
    "master_data['x_chance'] = proba_all_reward[:,1]\n",
    "master_data['x_pass_pred'] = prediction_all_risk\n",
    "master_data['x_chance_pred'] = prediction_all_reward"
   ]
  },
  {
   "cell_type": "code",
   "execution_count": 756,
   "id": "e8a79a2e",
   "metadata": {
    "ExecuteTime": {
     "end_time": "2022-08-13T21:59:41.112574Z",
     "start_time": "2022-08-13T21:59:33.313734Z"
    }
   },
   "outputs": [],
   "source": [
    "master_data=master_data.astype({'timestamp': str})\n",
    "master_data_dict = master_data.to_dict()\n",
    "import json\n",
    "with open(\"master_data_analysis.json\", \"w\") as outfile:\n",
    "    json.dump(master_data_dict, outfile)"
   ]
  }
 ],
 "metadata": {
  "kernelspec": {
   "display_name": "Python 3",
   "language": "python",
   "name": "python3"
  },
  "language_info": {
   "codemirror_mode": {
    "name": "ipython",
    "version": 3
   },
   "file_extension": ".py",
   "mimetype": "text/x-python",
   "name": "python",
   "nbconvert_exporter": "python",
   "pygments_lexer": "ipython3",
   "version": "3.8.8"
  },
  "toc": {
   "base_numbering": 1,
   "nav_menu": {},
   "number_sections": true,
   "sideBar": true,
   "skip_h1_title": false,
   "title_cell": "Table of Contents",
   "title_sidebar": "Contents",
   "toc_cell": false,
   "toc_position": {},
   "toc_section_display": true,
   "toc_window_display": false
  },
  "varInspector": {
   "cols": {
    "lenName": 16,
    "lenType": 16,
    "lenVar": 40
   },
   "kernels_config": {
    "python": {
     "delete_cmd_postfix": "",
     "delete_cmd_prefix": "del ",
     "library": "var_list.py",
     "varRefreshCmd": "print(var_dic_list())"
    },
    "r": {
     "delete_cmd_postfix": ") ",
     "delete_cmd_prefix": "rm(",
     "library": "var_list.r",
     "varRefreshCmd": "cat(var_dic_list()) "
    }
   },
   "types_to_exclude": [
    "module",
    "function",
    "builtin_function_or_method",
    "instance",
    "_Feature"
   ],
   "window_display": false
  }
 },
 "nbformat": 4,
 "nbformat_minor": 5
}
