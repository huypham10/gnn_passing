{
 "cells": [
  {
   "cell_type": "code",
   "execution_count": 2,
   "id": "42ab1ef0",
   "metadata": {
    "ExecuteTime": {
     "end_time": "2022-08-10T17:10:50.958619Z",
     "start_time": "2022-08-10T17:10:50.940380Z"
    }
   },
   "outputs": [],
   "source": [
    "import glob\n",
    "import pandas as pd\n",
    "import numpy as np\n",
    "import os\n",
    "import math\n",
    "from pandas import json_normalize\n",
    "import matplotlib.pyplot as plt\n",
    "from matplotlib.patches import Arc\n",
    "from matplotlib.animation import FuncAnimation\n",
    "import pickle\n",
    "from statsbombpy import sb\n",
    "from datetime import datetime, timedelta"
   ]
  },
  {
   "cell_type": "markdown",
   "id": "8bb604db",
   "metadata": {},
   "source": [
    "# Generating features"
   ]
  },
  {
   "cell_type": "markdown",
   "id": "305ecfd6",
   "metadata": {},
   "source": [
    "## Input requirements for this notebook:\n",
    "- The list of match_id for all matches in Euro 2020 from Statsbomb open data."
   ]
  },
  {
   "cell_type": "code",
   "execution_count": 3,
   "id": "0f5ecd7e",
   "metadata": {
    "ExecuteTime": {
     "end_time": "2022-08-10T17:10:51.902418Z",
     "start_time": "2022-08-10T17:10:51.885368Z"
    }
   },
   "outputs": [],
   "source": [
    "#get a list of all match_id from local dir, this can otherwise be replaced by typing out a list.\n",
    "\n",
    "sample_path_360 = \"C:/Users/Huy's/OneDrive/1_school/qmul_2021-22/project/open-data-master/data/three-sixty/*.json\"\n",
    "\n",
    "files = [os.path.basename(x).split('.')[0] for x in glob.glob(sample_path_360)]"
   ]
  },
  {
   "cell_type": "code",
   "execution_count": 4,
   "id": "ab1f9c2f",
   "metadata": {
    "ExecuteTime": {
     "end_time": "2022-08-10T17:10:52.354636Z",
     "start_time": "2022-08-10T17:10:52.346519Z"
    }
   },
   "outputs": [],
   "source": [
    "#to drop non-in-game events e.g. half start, half end, injury etc.\n",
    "in_game_events = ['Pass','Ball Receipt*','Carry','Pressure',\n",
    "          'Duel','Ball Recovery','Clearance','Foul Committed',\n",
    "          'Foul Won','Dribble','Miscontrol','Dispossessed','Goal Keeper',\n",
    "          'Block','Interception','Shot','Dribbled Past','50/50','Shield',\n",
    "          'Error','Own Goal Against', 'Own Goal For', 'Referee Ball-Drop']\n"
   ]
  },
  {
   "cell_type": "markdown",
   "id": "31a24493",
   "metadata": {},
   "source": [
    "## Data Preprocessing: \n",
    "### Preparing labels (pass completion status, pass reward status)\n",
    "- Passes completed will be marked as 1, otherwise 0.\n",
    "- Passes that lead to a shot, or a pass from outside the box that leads to a ball receipt inside the box, within 15 seconds will be marked as reward = 1"
   ]
  },
  {
   "cell_type": "code",
   "execution_count": 5,
   "id": "d9009450",
   "metadata": {
    "ExecuteTime": {
     "end_time": "2022-08-10T17:10:55.424651Z",
     "start_time": "2022-08-10T17:10:55.406573Z"
    }
   },
   "outputs": [],
   "source": [
    "def pass_risk(pass_outcome):\n",
    "    return np.where(pass_outcome is np.NaN, 1, 0)\n",
    "\n",
    "#function that creates a new column to capture risk label\n",
    "\n",
    "def create_pass_risk(df):\n",
    "    df['binary_pass_risk'] = df.apply(lambda x: pass_risk(x['pass_outcome']), axis=1)\n",
    "\n"
   ]
  },
  {
   "cell_type": "code",
   "execution_count": 6,
   "id": "22bb43b3",
   "metadata": {
    "ExecuteTime": {
     "end_time": "2022-08-10T17:10:55.968481Z",
     "start_time": "2022-08-10T17:10:55.958291Z"
    }
   },
   "outputs": [],
   "source": [
    "#check if there is a ball_receipt event inside the opponent box within 15 seconds of the pass\n",
    "\n",
    "def check_br_in_box(event_type, outcome, location):\n",
    "    try: \n",
    "        check = (event_type=='Ball Receipt*') & (outcome is np.NaN) & (location[0]>102) & (location[0]<120) & (location[1]>16) & (location[1]<62)\n",
    "        return check\n",
    "    except TypeError:\n",
    "        return False\n",
    "\n",
    "\n",
    "\n",
    "def pass_reward(df, timestamp, possession_team, period, type_pass):\n",
    "    if type_pass:\n",
    "        series_all_chances=df.loc[((df['type']=='Shot')|(df['br_in_box'])) & \n",
    "                              (df['team']==possession_team) & (df['period']==period), 'timestamp']\n",
    "        series_all_chances=series_all_chances.between(timestamp,timestamp+timedelta(seconds=15)).any()\n",
    "        check = int(series_all_chances)\n",
    "        \n",
    "    else:\n",
    "        check = np.NaN\n",
    "    return check\n",
    "\n",
    "#function that creates a new column to capture reward label\n",
    "\n",
    "def create_pass_reward(dest_df, event_df):\n",
    "    #create 'br_in_box'\n",
    "    event_df['br_in_box']=event_df.apply(lambda x: check_br_in_box(x['type'], x['ball_receipt_outcome'], x['location']), axis=1)\n",
    "    #create 'reward'\n",
    "    dest_df['binary_pass_reward'] = dest_df.apply(lambda x: pass_reward(event_df, x['timestamp'], \n",
    "                                                                     x['possession_team'], x['period'], \n",
    "                                                                     x['type']=='Pass'), axis=1)\n",
    "\n"
   ]
  },
  {
   "cell_type": "markdown",
   "id": "b6a6cf30",
   "metadata": {},
   "source": [
    "### Create features from events (and ball tracking data) \n",
    "- Location of the attempted ball receipt; \n",
    "- Whether ball was received under pressure"
   ]
  },
  {
   "cell_type": "code",
   "execution_count": 7,
   "id": "5aaec051",
   "metadata": {
    "ExecuteTime": {
     "end_time": "2022-08-10T17:10:57.013738Z",
     "start_time": "2022-08-10T17:10:57.003575Z"
    }
   },
   "outputs": [],
   "source": [
    "def br_loc(df, related_events, type_pass):\n",
    "    if type_pass & isinstance(related_events, list):\n",
    "        br_df = df.loc[(df['type']=='Ball Receipt*') & (df['id'].isin(related_events)),'location']\n",
    "        result = (isinstance(br_df, list) and br_df) or (br_df.shape[0]>0 and br_df.iat[0]) or np.NaN\n",
    "    else:\n",
    "        result = np.NaN\n",
    "    return result\n",
    "\n",
    "def br_pressure(df, related_events, type_pass):\n",
    "    if type_pass & isinstance(related_events, list):\n",
    "        br_df = df.loc[(df['type']=='Ball Receipt*') & (df['id'].isin(related_events)),'under_pressure']\n",
    "        result = (isinstance(br_df, list) and br_df) or (br_df.shape[0]>0 and br_df.iat[0]) or np.NaN\n",
    "    else:\n",
    "        result = np.NaN\n",
    "    return result\n",
    "\n",
    "#get ball receipt location of the pass\n",
    "\n",
    "def create_br_loc(dest_df, event_df):\n",
    "    dest_df['pass_br_location'] = dest_df.apply(lambda x: br_loc(event_df, x['related_events'], \n",
    "                                                       x['type']=='Pass'), axis=1)\n",
    "#flag whether the pass was received under pressure\n",
    "    \n",
    "def create_br_pressure(dest_df, event_df):\n",
    "    dest_df['br_pressure'] = dest_df.apply(lambda x: br_pressure(event_df, x['related_events'], x['type']=='Pass'), axis=1)\n",
    "\n"
   ]
  },
  {
   "cell_type": "markdown",
   "id": "5bfe555e",
   "metadata": {},
   "source": [
    "- One touch pass - inferred from whether there is a carry event related to the pass"
   ]
  },
  {
   "cell_type": "code",
   "execution_count": 8,
   "id": "1d4db939",
   "metadata": {
    "ExecuteTime": {
     "end_time": "2022-08-10T17:10:58.087733Z",
     "start_time": "2022-08-10T17:10:58.082734Z"
    }
   },
   "outputs": [],
   "source": [
    "def create_one_touch_pass(dest_df, event_df):\n",
    "    carry_df = event_df.loc[(event_df['type']=='Carry'),'related_events'].explode()\n",
    "#     pass_df = dest_df.loc[(event_df['type']=='Pass'), ['id', 'possession']]\n",
    "#     pass_df['no_pass_in_possession']=dest_df.groupby(['possession']).cumcount()+1\n",
    "#     pass_df = pass_df.loc[pass_df['no_pass_in_possession']==1, 'id']\n",
    "    series = (~dest_df['id'].isin(carry_df))&(dest_df['type']=='Pass')&(\n",
    "        (dest_df['pass_type'].isnull())|(dest_df['pass_type'].isin(['Recovery','Interception'])))\n",
    "    dest_df['one_touch_pass']=series.astype(int)\n"
   ]
  },
  {
   "cell_type": "markdown",
   "id": "8bb1411c",
   "metadata": {},
   "source": [
    "- Pass from duel - inferred from whether there is a duel event related to the pass"
   ]
  },
  {
   "cell_type": "code",
   "execution_count": 9,
   "id": "8620e5b3",
   "metadata": {
    "ExecuteTime": {
     "end_time": "2022-08-10T17:10:58.957042Z",
     "start_time": "2022-08-10T17:10:58.951049Z"
    }
   },
   "outputs": [],
   "source": [
    "def create_pass_from_duel(dest_df, event_df):\n",
    "    duel_df = event_df.loc[(event_df['type'].isin(['Duel','50-50'])),'related_events'].explode()\n",
    "    series = (dest_df['id'].isin(duel_df))&(dest_df['type']=='Pass')\n",
    "    dest_df['pass_from_duel']=series.astype(int)"
   ]
  },
  {
   "cell_type": "markdown",
   "id": "e405e12d",
   "metadata": {},
   "source": [
    "- Carry speed before pass - average speed of the carry before the pass, calculated by dividing the distance of carry (in yards) over the duration.\n",
    "\n",
    "2 reusable functions for later feature calculations as well"
   ]
  },
  {
   "cell_type": "code",
   "execution_count": 10,
   "id": "6e9f69f6",
   "metadata": {
    "ExecuteTime": {
     "end_time": "2022-08-10T17:11:00.042974Z",
     "start_time": "2022-08-10T17:11:00.028986Z"
    }
   },
   "outputs": [],
   "source": [
    "#reusable funcs\n",
    "def divide(numer, denomi):\n",
    "    try:\n",
    "        return numer/denomi\n",
    "    except ZeroDivisionError:\n",
    "        return 0\n",
    "def dist(start, end):\n",
    "    start, end = np.array(start), np.array(end)\n",
    "    return np.linalg.norm(start-end)   \n",
    "\n",
    "#carry speed and carry distance before pass\n",
    "\n",
    "def create_carry_dist_speed(dest_df, event_df):\n",
    "    carry_df = event_df.loc[(event_df['type']=='Carry')].explode('related_events')\n",
    "    carry_df['carry_dist']=carry_df.apply(lambda x: dist(x['location'], x['carry_end_location']), axis=1)\n",
    "    carry_df['carry_speed']=carry_df.apply(lambda x: divide(x['carry_dist'], x['duration']), axis=1)\n",
    "    pass_df = dest_df[['id', 'type']]\n",
    "    pass_df['id']=pass_df.apply(lambda x: x['id'] if x['type']=='Pass' else np.NaN, axis=1) \n",
    "    carry_df = carry_df.loc[carry_df['related_events'].isin(pass_df['id']),['related_events','carry_dist','carry_speed']]\n",
    "    \n",
    "    \n",
    "    dest_df['carry_dist'] = pass_df['id'].map(carry_df.set_index('related_events')['carry_dist'])\n",
    "    dest_df['carry_speed'] = pass_df['id'].map(carry_df.set_index('related_events')['carry_speed'])"
   ]
  },
  {
   "cell_type": "markdown",
   "id": "5fab4b0a",
   "metadata": {},
   "source": [
    "* Pass end location: If there is ball_receipt_location: ball_receipt_location, else pass_end_location"
   ]
  },
  {
   "cell_type": "code",
   "execution_count": 11,
   "id": "3fd2a4b9",
   "metadata": {
    "ExecuteTime": {
     "end_time": "2022-08-10T17:11:01.237293Z",
     "start_time": "2022-08-10T17:11:01.222291Z"
    }
   },
   "outputs": [],
   "source": [
    "def create_pass_receipt_loc(df):\n",
    "    df['pass_receipt_loc']=np.where(~df['pass_br_location'].isnull(),df['pass_br_location'], df['pass_end_location'])"
   ]
  },
  {
   "cell_type": "markdown",
   "id": "e3f58c09",
   "metadata": {},
   "source": [
    "- Pass intention - deprecated"
   ]
  },
  {
   "cell_type": "code",
   "execution_count": 12,
   "id": "33ab240a",
   "metadata": {
    "ExecuteTime": {
     "end_time": "2022-08-10T17:11:04.321205Z",
     "start_time": "2022-08-10T17:11:04.305037Z"
    }
   },
   "outputs": [],
   "source": [
    "def pass_intention(throughball, switch, cut_back, cross):\n",
    "    if throughball:\n",
    "        return 'Through ball'\n",
    "    if switch:\n",
    "        return 'Switch'\n",
    "    if cut_back:\n",
    "        return 'Cut back'\n",
    "    if cross:\n",
    "        return 'Cross'\n",
    "    \n",
    "def create_pass_intention(df):\n",
    "    df['pass_intention'] = df.apply(lambda x: pass_intention(x['pass_through_ball'],x['pass_switch'], \n",
    "                                                             x['pass_cut_back'], x['pass_cross']), \n",
    "                                    axis=1)\n"
   ]
  },
  {
   "cell_type": "markdown",
   "id": "78587175",
   "metadata": {},
   "source": [
    "- Pass angle\n",
    "- passer and ball receipt degree to goal \n",
    "(more details of the conventions of measuring angle, please refer to Statsbomb open data documentation)"
   ]
  },
  {
   "cell_type": "code",
   "execution_count": 13,
   "id": "12fd47d3",
   "metadata": {
    "ExecuteTime": {
     "end_time": "2022-08-10T17:11:06.383003Z",
     "start_time": "2022-08-10T17:11:06.376015Z"
    }
   },
   "outputs": [],
   "source": [
    "def pi_to_degree(x):\n",
    "    return x*180/math.pi\n",
    "\n",
    "def categorical_pass_angle(angle, threshold):\n",
    "    if abs(angle)<threshold/3:\n",
    "        return 'Forward'\n",
    "    if abs(angle)<threshold/2:\n",
    "        return 'Sideways'\n",
    "    if abs(angle)<threshold:\n",
    "        return 'Backward'\n",
    "    \n",
    "def angle_to_goal(loc):\n",
    "    if isinstance(loc,list):\n",
    "        vector = [120-loc[0], 40-loc[1]]\n",
    "        return np.degrees(np.arctan2(vector[1], vector[0]))\n",
    "    else:\n",
    "        return np.NaN\n",
    "\n",
    "# add pass angle \n",
    "def create_pass_angle(df):\n",
    "    df['pass_degree']=df.apply(lambda x: pi_to_degree(x['pass_angle']), axis=1)\n",
    "    df['pass_angle_cat']=df.apply(lambda x: categorical_pass_angle(x['pass_degree'],180), axis=1)\n",
    "\n",
    "#add degree from passer or ball receipt to goal\n",
    "\n",
    "def create_angle_to_goal(df):\n",
    "    df['passer_degree_to_goal']=df.apply(lambda x: angle_to_goal(x['location']), axis=1)\n",
    "    df['br_degree_to_goal']=df.apply(lambda x: angle_to_goal(x['pass_receipt_loc']), axis=1)"
   ]
  },
  {
   "cell_type": "markdown",
   "id": "a845d892",
   "metadata": {
    "ExecuteTime": {
     "end_time": "2022-08-15T05:34:33.707464Z",
     "start_time": "2022-08-15T05:34:33.662010Z"
    }
   },
   "source": [
    "- Split coordinates"
   ]
  },
  {
   "cell_type": "code",
   "execution_count": 14,
   "id": "73371e6d",
   "metadata": {
    "ExecuteTime": {
     "end_time": "2022-08-10T17:11:15.262635Z",
     "start_time": "2022-08-10T17:11:15.252583Z"
    }
   },
   "outputs": [],
   "source": [
    "def get_1d_coor(coor, dim):\n",
    "    dim_dict = {'x':0, 'y':1}\n",
    "    try:\n",
    "        dim=dim_dict[dim]\n",
    "        if isinstance(coor,list):\n",
    "            return coor[dim]\n",
    "        else:\n",
    "            return np.NaN\n",
    "    except:\n",
    "        return np.NaN\n",
    "\n",
    "\n",
    "#split coordinates\n",
    "\n",
    "def create_1d_coor_column(df):\n",
    "    df['pass_loc_x']=df.apply(lambda x: get_1d_coor(x['location'], 'x') if x['type']=='Pass' else np.NaN, axis=1)\n",
    "    df['pass_loc_y']=df.apply(lambda x: get_1d_coor(x['location'], 'y') if x['type']=='Pass' else np.NaN, axis=1)\n",
    "    df['pass_receipt_loc_x']=df.apply(lambda x: get_1d_coor(x['pass_receipt_loc'], 'x') if x['type']=='Pass' else np.NaN, \n",
    "                                      axis=1)\n",
    "    df['pass_receipt_loc_y']=df.apply(lambda x: get_1d_coor(x['pass_receipt_loc'], 'y') if x['type']=='Pass' else np.NaN, \n",
    "                                      axis=1)"
   ]
  },
  {
   "cell_type": "markdown",
   "id": "1cfea3be",
   "metadata": {},
   "source": [
    "- Flag dead ball"
   ]
  },
  {
   "cell_type": "code",
   "execution_count": 15,
   "id": "1770a218",
   "metadata": {
    "ExecuteTime": {
     "end_time": "2022-08-10T17:11:16.647191Z",
     "start_time": "2022-08-10T17:11:16.635168Z"
    }
   },
   "outputs": [],
   "source": [
    "def dead_ball(pass_type):\n",
    "    dead_ball = not((pass_type is np.NaN)|(pass_type in ['Recovery', 'Interception']))\n",
    "    return dead_ball\n",
    "\n",
    "def create_dead_ball(df):\n",
    "    df['deadball']=df.apply(lambda x: dead_ball(x['pass_type']), axis=1)\n",
    "    "
   ]
  },
  {
   "cell_type": "markdown",
   "id": "f98cb7e0",
   "metadata": {},
   "source": [
    "- Time since the start of current possession chain"
   ]
  },
  {
   "cell_type": "code",
   "execution_count": 16,
   "id": "62d22b1b",
   "metadata": {
    "ExecuteTime": {
     "end_time": "2022-08-10T17:11:17.052561Z",
     "start_time": "2022-08-10T17:11:17.039515Z"
    }
   },
   "outputs": [],
   "source": [
    "def get_poss_timestamp(df):\n",
    "    series = df.groupby(by=\"possession\")[\"timestamp\"].min()\n",
    "    return series.to_dict()\n",
    "\n",
    "def time_since_poss(timestamp, possession, event_type, poss_dct):\n",
    "    return (timestamp-poss_dct[possession]).total_seconds() if event_type=='Pass' else np.NaN\n",
    "\n",
    "def create_time_since_poss(dest_df, event_df):\n",
    "    poss_timestamp = get_poss_timestamp(event_df)\n",
    "    dest_df['time_since_poss']=dest_df.apply(lambda x: time_since_poss(x['timestamp'], x['possession'], x['type'], poss_timestamp), \n",
    "                                                     axis=1)"
   ]
  },
  {
   "cell_type": "markdown",
   "id": "96c417cb",
   "metadata": {},
   "source": [
    "- Body part used to pass the ball with"
   ]
  },
  {
   "cell_type": "code",
   "execution_count": 17,
   "id": "2ba8bbc2",
   "metadata": {
    "ExecuteTime": {
     "end_time": "2022-08-10T17:11:17.489709Z",
     "start_time": "2022-08-10T17:11:17.481717Z"
    }
   },
   "outputs": [],
   "source": [
    "def from_keeper_held(body_part):\n",
    "    return 1 if body_part in ['Drop Kick','Keeper Arm'] else np.NaN\n",
    "\n",
    "def group_body_part(body_part):\n",
    "    if body_part in ['Drop Kick', 'Left Foot', 'Right Foot']:\n",
    "        body_part = 'Foot'\n",
    "    elif body_part=='Head':\n",
    "        pass\n",
    "    else:\n",
    "        body_part='Other'\n",
    "    return body_part\n",
    "\n",
    "def create_body_part(df):\n",
    "    df['from_keeper_held']=df.apply(lambda x: from_keeper_held(x['pass_body_part']), axis=1)\n",
    "    df['pass_body_part_gr']=df.apply(lambda x: group_body_part(x['pass_body_part']), axis=1)\n",
    "        "
   ]
  },
  {
   "cell_type": "markdown",
   "id": "ffc4d34a",
   "metadata": {},
   "source": [
    "#### Add all functions together to create event features:"
   ]
  },
  {
   "cell_type": "code",
   "execution_count": 18,
   "id": "c424f7b0",
   "metadata": {
    "ExecuteTime": {
     "end_time": "2022-08-10T17:11:18.561704Z",
     "start_time": "2022-08-10T17:11:18.548721Z"
    }
   },
   "outputs": [],
   "source": [
    "def get_event_features(dest_df, event_df):\n",
    "    \n",
    "    create_pass_risk(dest_df)\n",
    "    create_pass_reward(dest_df, event_df)\n",
    "    create_br_loc(dest_df, event_df)\n",
    "    create_br_pressure(dest_df, event_df)\n",
    "    create_one_touch_pass(dest_df, event_df)\n",
    "    create_pass_from_duel(dest_df, event_df)\n",
    "    create_carry_dist_speed(dest_df, event_df)\n",
    "#     create_pass_intention(dest_df)\n",
    "    create_pass_angle(dest_df)\n",
    "    create_pass_receipt_loc(dest_df)\n",
    "    create_angle_to_goal(dest_df)\n",
    "    create_1d_coor_column(dest_df)\n",
    "    create_dead_ball(dest_df)\n",
    "    create_time_since_poss(dest_df, event_df)\n",
    "    create_body_part(dest_df)\n"
   ]
  },
  {
   "cell_type": "markdown",
   "id": "798276ad",
   "metadata": {
    "ExecuteTime": {
     "end_time": "2022-07-30T18:28:23.899326Z",
     "start_time": "2022-07-30T18:28:23.896313Z"
    }
   },
   "source": [
    "### Create features from tracking data \n",
    "First the underlying data is calculated for each row of tracking data:\n",
    "- Dist and degree from defending team's goal\n",
    "- Dist and degree from attacking team's goal \n",
    "- Dist and degree from actor and ball receipt location to goal\n",
    "- Dist from actor, degree from actor, difference between the angle of opponent against actor vs passing_angle\n",
    "- Dist from ball receipt location, degree from ball receipt location, difference between the angle of opponent against ball receipt location vs goal"
   ]
  },
  {
   "cell_type": "code",
   "execution_count": 19,
   "id": "fa44862e",
   "metadata": {
    "ExecuteTime": {
     "end_time": "2022-08-10T17:11:20.586143Z",
     "start_time": "2022-08-10T17:11:20.572148Z"
    }
   },
   "outputs": [],
   "source": [
    "def get_angle(start_location, end_location):\n",
    "    y= end_location[1]-start_location[1]\n",
    "    x= end_location[0]-start_location[0]\n",
    "    angles = np.degrees(np.arctan2(y, x))\n",
    "    return angles\n",
    "\n",
    "def degree_diff(d1, d2):\n",
    "    return abs(d1-d2) if abs(d1-d2)<180 else 360-abs(d1-d2)\n",
    "\n",
    "\n",
    "def map_event_to_tracking(tracking_df, event_df):\n",
    "    event_df = event_df.set_index('id')[['type', 'pass_length', 'location', 'pass_end_location', 'pass_degree', 'passer_degree_to_goal', 'br_degree_to_goal']]\n",
    "    tracking_df = tracking_df.set_index('id')\n",
    "    tracking_df = tracking_df.join(event_df, how='left', rsuffix='_pass')\n",
    "    tracking_df_pass = tracking_df.loc[tracking_df['type']=='Pass']\n",
    "    return tracking_df_pass\n",
    "\n",
    "def create_features_each_player(tracking_df, event_df):\n",
    "    tracking_df = map_event_to_tracking(tracking_df, event_df)\n",
    " \n",
    "    #map actor_location for every line\n",
    "    tracking_actor = tracking_df.loc[tracking_df['actor'], ['location']]\n",
    "    tracking_df['actor_location'] = tracking_df.index.map(tracking_actor['location'])\n",
    "    \n",
    "    tracking_df['actor_location'] = tracking_df['actor_location'].fillna(tracking_df['location_pass'])\n",
    "    \n",
    "    #adjust pass_end_location with difference between ball position and actor position\n",
    "    tracking_df['pass_end_location'] = tracking_df.apply(lambda x: \n",
    "                                                         [x['pass_end_location'][i]-(x['location_pass'][i]-x['actor_location'][i]) \n",
    "                                                          for i in range(2)], axis=1)\n",
    "    #get dist and degree from oppo goal\n",
    "    \n",
    "    tracking_df['dist_from_def_goal']=tracking_df.apply(lambda x: dist(x['location'], [120, 40]), axis=1)\n",
    "    tracking_df['degree_from_def_goal'] = tracking_df.apply(lambda x: get_angle(x['location'], [120, 40]), \n",
    "                                                         axis=1)\n",
    "    tracking_df['dist_from_att_goal']=tracking_df.apply(lambda x: dist(x['location'], [0, 40]), axis=1)\n",
    "    tracking_df['degree_from_att_goal'] = tracking_df.apply(lambda x: get_angle(x['location'], [0, 40]), \n",
    "                                                         axis=1)\n",
    "    \n",
    "    #get dist from actor and br to goal\n",
    "    tracking_df['dist_actor_from_goal']=tracking_df.apply(lambda x: dist(x['actor_location'], [120, 40]), axis=1)\n",
    "    tracking_df['dist_br_from_goal']=tracking_df.apply(lambda x: dist(x['pass_end_location'], [120, 40]), axis=1)\n",
    "    \n",
    "    #get dist from actor, degree from actor, difference between the angle of opponent vs actor vs passing_angle\n",
    "    tracking_df['dist_from_actor']=tracking_df.apply(lambda x: dist(x['location'], x['actor_location']), axis=1)\n",
    "    tracking_df['degree_from_actor'] = tracking_df.apply(lambda x: get_angle(x['location'], x['actor_location']), \n",
    "                                                         axis=1)\n",
    "    tracking_df['degree_diff_pass_actor']=tracking_df.apply(lambda x: degree_diff(x['degree_from_actor'],x['pass_degree']), axis=1)\n",
    "    \n",
    "    #get dist from br, degree from br, difference between the angle of opponent vs br vs goal\n",
    "    tracking_df['degree_from_br'] = tracking_df.apply(lambda x: get_angle(x['location'], x['pass_end_location']), \n",
    "                                                      axis=1)\n",
    "    tracking_df['dist_from_br']=tracking_df.apply(lambda x: dist(x['location'], x['pass_end_location']), axis=1)\n",
    "    \n",
    "    tracking_df['degree_diff_goal_br']=tracking_df.apply(lambda x: degree_diff(x['degree_from_br'],x['passer_degree_to_goal']), axis=1)\n",
    "    return tracking_df\n",
    "\n"
   ]
  },
  {
   "cell_type": "markdown",
   "id": "5843b7a3",
   "metadata": {},
   "source": [
    "Generate feature for each pass\n",
    "- Number of oppositions 5 feet away from actor\n",
    "- Minimum degree difference of an opponent to the actor vs. the passing degree\n",
    "- Minimum opponent distance from the actor\n",
    "- Degree difference of the closest opponent to the actor vs. the passing degree"
   ]
  },
  {
   "cell_type": "code",
   "execution_count": 20,
   "id": "52025f84",
   "metadata": {
    "ExecuteTime": {
     "end_time": "2022-08-10T17:11:26.512863Z",
     "start_time": "2022-08-10T17:11:26.500842Z"
    }
   },
   "outputs": [],
   "source": [
    "def get_feature_for_closest(tracking_df, dist_metric, retrieved_metric):\n",
    "    index_lst = tracking_df.groupby(['id', 'teammate'])[dist_metric].idxmin(skipna=False)\n",
    "    index_lst = index_lst.dropna()\n",
    "    grouped_df = tracking_df.loc[index_lst]\n",
    "    return grouped_df.set_index(['id', 'teammate'])[retrieved_metric]\n",
    "\n",
    "def create_passer_features(tracking_df):\n",
    "    \n",
    "    tracking_df = tracking_df.loc[tracking_df['actor']==False].reset_index()\n",
    "\n",
    "    def f(x):\n",
    "        d = {}\n",
    "        d['no_players'] = (x['dist_from_actor']).count()\n",
    "        d['no_5ft_away_from_actor'] = (x['dist_from_actor']<5).sum()\n",
    "        d['no_closer_to_goal_actor'] = (x['dist_from_def_goal']<x['dist_actor_from_goal']).sum()\n",
    "        d['min_degree_diff_pass_actor'] = (np.where(x['dist_from_actor']<=x['pass_length'], x['degree_diff_pass_actor'],\n",
    "                                                   360)).min() \n",
    "        d['min_dist_from_actor'] = x['dist_from_actor'].min()\n",
    "        return pd.Series(d, index=['no_players', 'no_5ft_away_from_actor', 'no_closer_to_goal_actor',\n",
    "                                   'min_degree_diff_pass_actor','min_dist_from_actor'])\n",
    "\n",
    "    tracking_grouped = tracking_df.groupby(['id','teammate']).apply(f)\n",
    "    tracking_grouped['closest_from_actor_degree_diff'] = get_feature_for_closest(tracking_df, 'dist_from_actor', 'degree_diff_pass_actor')\n",
    "    tracking_grouped = tracking_grouped.reset_index()\n",
    "    \n",
    "    return tracking_grouped\n",
    "\n",
    "\n",
    "    \n"
   ]
  },
  {
   "cell_type": "markdown",
   "id": "b045ea3e",
   "metadata": {},
   "source": [
    "Generate feature for each pass\n",
    "- Number of oppositions 5 feet away from ball receipt location\n",
    "- Minimum degree difference of an opponent to the ball receipt location vs. opponent goal to ball receipt location\n",
    "- Minimum opponent distance from the ball receipt location \n",
    "- Number of opposition closer to goal than bal receipt location"
   ]
  },
  {
   "cell_type": "code",
   "execution_count": 21,
   "id": "5dc00b44",
   "metadata": {
    "ExecuteTime": {
     "end_time": "2022-08-10T17:11:28.522174Z",
     "start_time": "2022-08-10T17:11:28.516174Z"
    }
   },
   "outputs": [],
   "source": [
    "def create_br_features(tracking_df):\n",
    "    \n",
    "    tracking_df = tracking_df.reset_index()\n",
    "\n",
    "    def f(x):\n",
    "        d = {}\n",
    "        d['no_5ft_away_from_br'] = (x['dist_from_br']<5).sum()\n",
    "        d['min_dist_from_br'] = x['dist_from_br'].min()\n",
    "        #min degree diff from br to goal vs from br vs oppo (only counts oppos who are closer to br than from br to goal)\n",
    "        d['min_degree_diff_goal_br'] = (np.where(x['dist_from_br']<=x['dist_br_from_goal'], x['degree_diff_goal_br'],\n",
    "                                                   360)).min() \n",
    "        d['no_closer_to_goal_br'] = (x['dist_from_def_goal']<x['dist_br_from_goal']).sum()\n",
    "\n",
    "        return pd.Series(d, index=['no_5ft_away_from_br', 'min_dist_from_br','min_degree_diff_goal_br','no_closer_to_goal_br'])\n",
    "\n",
    "    tracking_grouped = tracking_df.groupby(['id','teammate']).apply(f)\n",
    "    tracking_grouped['closest_from_br_degree'] = get_feature_for_closest(tracking_df, 'dist_from_br', 'degree_from_br')\n",
    "    tracking_grouped = tracking_grouped.reset_index()\n",
    "    \n",
    "    return tracking_grouped"
   ]
  },
  {
   "cell_type": "markdown",
   "id": "f45d36c0",
   "metadata": {},
   "source": [
    "### Generate all tracking features"
   ]
  },
  {
   "cell_type": "code",
   "execution_count": 30,
   "id": "a27a9a0a",
   "metadata": {
    "ExecuteTime": {
     "end_time": "2022-08-10T17:40:21.699716Z",
     "start_time": "2022-08-10T17:40:21.686713Z"
    }
   },
   "outputs": [],
   "source": [
    "def get_tracking_features(dest_df, tracking_df, event_df):\n",
    "    tracking_df = create_features_each_player(tracking_df, event_df)\n",
    "    passer_grouped = create_passer_features(tracking_df).set_index(['id', 'teammate'])\n",
    "    br_grouped = create_br_features(tracking_df).set_index(['id', 'teammate'])\n",
    "    grouped = passer_grouped.join(br_grouped, how='outer').reset_index()\n",
    "    grouped['pc_5ft_away_from_actor'] = grouped.apply(lambda x: divide(x['no_5ft_away_from_actor'], x['no_players']), axis=1)\n",
    "    grouped['pc_5ft_away_from_br'] = grouped.apply(lambda x: divide(x['no_5ft_away_from_br'], x['no_players']), axis=1)\n",
    "    grouped['pc_closer_to_goal_actor'] = grouped.apply(lambda x: divide(x['no_closer_to_goal_actor'], x['no_players']), axis=1)\n",
    "    grouped['pc_closer_to_goal_br'] = grouped.apply(lambda x: divide(x['no_closer_to_goal_br'], x['no_players']), axis=1)\n",
    "\n",
    "    grouped_oppo = grouped.loc[~grouped['teammate']].set_index('id')\n",
    "    grouped_teammate = grouped.loc[grouped['teammate']].set_index('id')\n",
    "\n",
    "    dest_df = dest_df.set_index('id')\n",
    "    dest_df['pc_5ft_actor_oppo'] = dest_df.index.map(grouped_oppo['pc_5ft_away_from_actor'])\n",
    "    dest_df['pc_oppo_closer_to_goal_passer'] = dest_df.index.map(grouped_oppo['pc_closer_to_goal_actor'])\n",
    "    dest_df['oppo_min_dist_passer'] = dest_df.index.map(grouped_oppo['min_dist_from_actor'])\n",
    "    dest_df['min_degree_diff_passer_oppo'] = dest_df.index.map(grouped_oppo['min_degree_diff_pass_actor'])\n",
    "    dest_df['closest_oppo_degree_diff_passer'] = dest_df.index.map(grouped_oppo['closest_from_actor_degree_diff'])\n",
    "    \n",
    "    \n",
    "    dest_df['pc_5ft_br_oppo'] = dest_df.index.map(grouped_oppo['pc_5ft_away_from_br'])\n",
    "    dest_df['pc_oppo_closer_to_goal_br'] = dest_df.index.map(grouped_oppo['pc_closer_to_goal_br'])\n",
    "    dest_df['oppo_min_dist_br'] = dest_df.index.map(grouped_oppo['min_dist_from_br'])\n",
    "    dest_df['min_degree_diff_br_oppo'] = dest_df.index.map(grouped_oppo['min_degree_diff_goal_br'])\n",
    "    dest_df['closest_oppo_degree_diff_br'] = dest_df.index.map(grouped_oppo['closest_from_br_degree'])\n",
    "    \n",
    "    dest_df['min_dist_from_br_teammate'] = dest_df.index.map(grouped_teammate['min_dist_from_br'])\n",
    "    return dest_df, tracking_df"
   ]
  },
  {
   "cell_type": "markdown",
   "id": "2434169d",
   "metadata": {},
   "source": [
    "## Loop through all matches to create event and tracking features"
   ]
  },
  {
   "cell_type": "code",
   "execution_count": 31,
   "id": "2c35dc56",
   "metadata": {
    "ExecuteTime": {
     "end_time": "2022-08-10T17:54:59.162702Z",
     "start_time": "2022-08-10T17:40:26.141123Z"
    },
    "scrolled": true
   },
   "outputs": [
    {
     "name": "stderr",
     "output_type": "stream",
     "text": [
      "C:\\for_work\\anaconda\\lib\\site-packages\\statsbombpy\\api_client.py:20: NoAuthWarning: credentials were not supplied. open data access only\n",
      "  warnings.warn(\"credentials were not supplied. open data access only\", NoAuthWarning)\n",
      "<ipython-input-10-7752c9260c3c>:16: SettingWithCopyWarning: \n",
      "A value is trying to be set on a copy of a slice from a DataFrame.\n",
      "Try using .loc[row_indexer,col_indexer] = value instead\n",
      "\n",
      "See the caveats in the documentation: https://pandas.pydata.org/pandas-docs/stable/user_guide/indexing.html#returning-a-view-versus-a-copy\n",
      "  pass_df['id']=pass_df.apply(lambda x: x['id'] if x['type']=='Pass' else np.NaN, axis=1)\n"
     ]
    },
    {
     "name": "stdout",
     "output_type": "stream",
     "text": [
      "0\n"
     ]
    },
    {
     "name": "stderr",
     "output_type": "stream",
     "text": [
      "C:\\for_work\\anaconda\\lib\\site-packages\\statsbombpy\\api_client.py:20: NoAuthWarning: credentials were not supplied. open data access only\n",
      "  warnings.warn(\"credentials were not supplied. open data access only\", NoAuthWarning)\n",
      "<ipython-input-10-7752c9260c3c>:16: SettingWithCopyWarning: \n",
      "A value is trying to be set on a copy of a slice from a DataFrame.\n",
      "Try using .loc[row_indexer,col_indexer] = value instead\n",
      "\n",
      "See the caveats in the documentation: https://pandas.pydata.org/pandas-docs/stable/user_guide/indexing.html#returning-a-view-versus-a-copy\n",
      "  pass_df['id']=pass_df.apply(lambda x: x['id'] if x['type']=='Pass' else np.NaN, axis=1)\n"
     ]
    },
    {
     "name": "stdout",
     "output_type": "stream",
     "text": [
      "1\n"
     ]
    },
    {
     "name": "stderr",
     "output_type": "stream",
     "text": [
      "C:\\for_work\\anaconda\\lib\\site-packages\\statsbombpy\\api_client.py:20: NoAuthWarning: credentials were not supplied. open data access only\n",
      "  warnings.warn(\"credentials were not supplied. open data access only\", NoAuthWarning)\n",
      "<ipython-input-10-7752c9260c3c>:16: SettingWithCopyWarning: \n",
      "A value is trying to be set on a copy of a slice from a DataFrame.\n",
      "Try using .loc[row_indexer,col_indexer] = value instead\n",
      "\n",
      "See the caveats in the documentation: https://pandas.pydata.org/pandas-docs/stable/user_guide/indexing.html#returning-a-view-versus-a-copy\n",
      "  pass_df['id']=pass_df.apply(lambda x: x['id'] if x['type']=='Pass' else np.NaN, axis=1)\n"
     ]
    },
    {
     "name": "stdout",
     "output_type": "stream",
     "text": [
      "2\n"
     ]
    },
    {
     "name": "stderr",
     "output_type": "stream",
     "text": [
      "C:\\for_work\\anaconda\\lib\\site-packages\\statsbombpy\\api_client.py:20: NoAuthWarning: credentials were not supplied. open data access only\n",
      "  warnings.warn(\"credentials were not supplied. open data access only\", NoAuthWarning)\n",
      "<ipython-input-10-7752c9260c3c>:16: SettingWithCopyWarning: \n",
      "A value is trying to be set on a copy of a slice from a DataFrame.\n",
      "Try using .loc[row_indexer,col_indexer] = value instead\n",
      "\n",
      "See the caveats in the documentation: https://pandas.pydata.org/pandas-docs/stable/user_guide/indexing.html#returning-a-view-versus-a-copy\n",
      "  pass_df['id']=pass_df.apply(lambda x: x['id'] if x['type']=='Pass' else np.NaN, axis=1)\n"
     ]
    },
    {
     "name": "stdout",
     "output_type": "stream",
     "text": [
      "3\n"
     ]
    },
    {
     "name": "stderr",
     "output_type": "stream",
     "text": [
      "C:\\for_work\\anaconda\\lib\\site-packages\\statsbombpy\\api_client.py:20: NoAuthWarning: credentials were not supplied. open data access only\n",
      "  warnings.warn(\"credentials were not supplied. open data access only\", NoAuthWarning)\n",
      "<ipython-input-10-7752c9260c3c>:16: SettingWithCopyWarning: \n",
      "A value is trying to be set on a copy of a slice from a DataFrame.\n",
      "Try using .loc[row_indexer,col_indexer] = value instead\n",
      "\n",
      "See the caveats in the documentation: https://pandas.pydata.org/pandas-docs/stable/user_guide/indexing.html#returning-a-view-versus-a-copy\n",
      "  pass_df['id']=pass_df.apply(lambda x: x['id'] if x['type']=='Pass' else np.NaN, axis=1)\n"
     ]
    },
    {
     "name": "stdout",
     "output_type": "stream",
     "text": [
      "4\n"
     ]
    },
    {
     "name": "stderr",
     "output_type": "stream",
     "text": [
      "C:\\for_work\\anaconda\\lib\\site-packages\\statsbombpy\\api_client.py:20: NoAuthWarning: credentials were not supplied. open data access only\n",
      "  warnings.warn(\"credentials were not supplied. open data access only\", NoAuthWarning)\n",
      "<ipython-input-10-7752c9260c3c>:16: SettingWithCopyWarning: \n",
      "A value is trying to be set on a copy of a slice from a DataFrame.\n",
      "Try using .loc[row_indexer,col_indexer] = value instead\n",
      "\n",
      "See the caveats in the documentation: https://pandas.pydata.org/pandas-docs/stable/user_guide/indexing.html#returning-a-view-versus-a-copy\n",
      "  pass_df['id']=pass_df.apply(lambda x: x['id'] if x['type']=='Pass' else np.NaN, axis=1)\n"
     ]
    },
    {
     "name": "stdout",
     "output_type": "stream",
     "text": [
      "5\n"
     ]
    },
    {
     "name": "stderr",
     "output_type": "stream",
     "text": [
      "C:\\for_work\\anaconda\\lib\\site-packages\\statsbombpy\\api_client.py:20: NoAuthWarning: credentials were not supplied. open data access only\n",
      "  warnings.warn(\"credentials were not supplied. open data access only\", NoAuthWarning)\n",
      "<ipython-input-10-7752c9260c3c>:16: SettingWithCopyWarning: \n",
      "A value is trying to be set on a copy of a slice from a DataFrame.\n",
      "Try using .loc[row_indexer,col_indexer] = value instead\n",
      "\n",
      "See the caveats in the documentation: https://pandas.pydata.org/pandas-docs/stable/user_guide/indexing.html#returning-a-view-versus-a-copy\n",
      "  pass_df['id']=pass_df.apply(lambda x: x['id'] if x['type']=='Pass' else np.NaN, axis=1)\n"
     ]
    },
    {
     "name": "stdout",
     "output_type": "stream",
     "text": [
      "6\n"
     ]
    },
    {
     "name": "stderr",
     "output_type": "stream",
     "text": [
      "C:\\for_work\\anaconda\\lib\\site-packages\\statsbombpy\\api_client.py:20: NoAuthWarning: credentials were not supplied. open data access only\n",
      "  warnings.warn(\"credentials were not supplied. open data access only\", NoAuthWarning)\n",
      "<ipython-input-10-7752c9260c3c>:16: SettingWithCopyWarning: \n",
      "A value is trying to be set on a copy of a slice from a DataFrame.\n",
      "Try using .loc[row_indexer,col_indexer] = value instead\n",
      "\n",
      "See the caveats in the documentation: https://pandas.pydata.org/pandas-docs/stable/user_guide/indexing.html#returning-a-view-versus-a-copy\n",
      "  pass_df['id']=pass_df.apply(lambda x: x['id'] if x['type']=='Pass' else np.NaN, axis=1)\n"
     ]
    },
    {
     "name": "stdout",
     "output_type": "stream",
     "text": [
      "7\n"
     ]
    },
    {
     "name": "stderr",
     "output_type": "stream",
     "text": [
      "C:\\for_work\\anaconda\\lib\\site-packages\\statsbombpy\\api_client.py:20: NoAuthWarning: credentials were not supplied. open data access only\n",
      "  warnings.warn(\"credentials were not supplied. open data access only\", NoAuthWarning)\n",
      "<ipython-input-10-7752c9260c3c>:16: SettingWithCopyWarning: \n",
      "A value is trying to be set on a copy of a slice from a DataFrame.\n",
      "Try using .loc[row_indexer,col_indexer] = value instead\n",
      "\n",
      "See the caveats in the documentation: https://pandas.pydata.org/pandas-docs/stable/user_guide/indexing.html#returning-a-view-versus-a-copy\n",
      "  pass_df['id']=pass_df.apply(lambda x: x['id'] if x['type']=='Pass' else np.NaN, axis=1)\n"
     ]
    },
    {
     "name": "stdout",
     "output_type": "stream",
     "text": [
      "8\n"
     ]
    },
    {
     "name": "stderr",
     "output_type": "stream",
     "text": [
      "C:\\for_work\\anaconda\\lib\\site-packages\\statsbombpy\\api_client.py:20: NoAuthWarning: credentials were not supplied. open data access only\n",
      "  warnings.warn(\"credentials were not supplied. open data access only\", NoAuthWarning)\n",
      "<ipython-input-10-7752c9260c3c>:16: SettingWithCopyWarning: \n",
      "A value is trying to be set on a copy of a slice from a DataFrame.\n",
      "Try using .loc[row_indexer,col_indexer] = value instead\n",
      "\n",
      "See the caveats in the documentation: https://pandas.pydata.org/pandas-docs/stable/user_guide/indexing.html#returning-a-view-versus-a-copy\n",
      "  pass_df['id']=pass_df.apply(lambda x: x['id'] if x['type']=='Pass' else np.NaN, axis=1)\n"
     ]
    },
    {
     "name": "stdout",
     "output_type": "stream",
     "text": [
      "9\n"
     ]
    },
    {
     "name": "stderr",
     "output_type": "stream",
     "text": [
      "C:\\for_work\\anaconda\\lib\\site-packages\\statsbombpy\\api_client.py:20: NoAuthWarning: credentials were not supplied. open data access only\n",
      "  warnings.warn(\"credentials were not supplied. open data access only\", NoAuthWarning)\n",
      "<ipython-input-10-7752c9260c3c>:16: SettingWithCopyWarning: \n",
      "A value is trying to be set on a copy of a slice from a DataFrame.\n",
      "Try using .loc[row_indexer,col_indexer] = value instead\n",
      "\n",
      "See the caveats in the documentation: https://pandas.pydata.org/pandas-docs/stable/user_guide/indexing.html#returning-a-view-versus-a-copy\n",
      "  pass_df['id']=pass_df.apply(lambda x: x['id'] if x['type']=='Pass' else np.NaN, axis=1)\n"
     ]
    },
    {
     "name": "stdout",
     "output_type": "stream",
     "text": [
      "10\n"
     ]
    },
    {
     "name": "stderr",
     "output_type": "stream",
     "text": [
      "C:\\for_work\\anaconda\\lib\\site-packages\\statsbombpy\\api_client.py:20: NoAuthWarning: credentials were not supplied. open data access only\n",
      "  warnings.warn(\"credentials were not supplied. open data access only\", NoAuthWarning)\n",
      "<ipython-input-10-7752c9260c3c>:16: SettingWithCopyWarning: \n",
      "A value is trying to be set on a copy of a slice from a DataFrame.\n",
      "Try using .loc[row_indexer,col_indexer] = value instead\n",
      "\n",
      "See the caveats in the documentation: https://pandas.pydata.org/pandas-docs/stable/user_guide/indexing.html#returning-a-view-versus-a-copy\n",
      "  pass_df['id']=pass_df.apply(lambda x: x['id'] if x['type']=='Pass' else np.NaN, axis=1)\n"
     ]
    },
    {
     "name": "stdout",
     "output_type": "stream",
     "text": [
      "11\n"
     ]
    },
    {
     "name": "stderr",
     "output_type": "stream",
     "text": [
      "C:\\for_work\\anaconda\\lib\\site-packages\\statsbombpy\\api_client.py:20: NoAuthWarning: credentials were not supplied. open data access only\n",
      "  warnings.warn(\"credentials were not supplied. open data access only\", NoAuthWarning)\n",
      "<ipython-input-10-7752c9260c3c>:16: SettingWithCopyWarning: \n",
      "A value is trying to be set on a copy of a slice from a DataFrame.\n",
      "Try using .loc[row_indexer,col_indexer] = value instead\n",
      "\n",
      "See the caveats in the documentation: https://pandas.pydata.org/pandas-docs/stable/user_guide/indexing.html#returning-a-view-versus-a-copy\n",
      "  pass_df['id']=pass_df.apply(lambda x: x['id'] if x['type']=='Pass' else np.NaN, axis=1)\n"
     ]
    },
    {
     "name": "stdout",
     "output_type": "stream",
     "text": [
      "12\n"
     ]
    },
    {
     "name": "stderr",
     "output_type": "stream",
     "text": [
      "C:\\for_work\\anaconda\\lib\\site-packages\\statsbombpy\\api_client.py:20: NoAuthWarning: credentials were not supplied. open data access only\n",
      "  warnings.warn(\"credentials were not supplied. open data access only\", NoAuthWarning)\n",
      "<ipython-input-10-7752c9260c3c>:16: SettingWithCopyWarning: \n",
      "A value is trying to be set on a copy of a slice from a DataFrame.\n",
      "Try using .loc[row_indexer,col_indexer] = value instead\n",
      "\n",
      "See the caveats in the documentation: https://pandas.pydata.org/pandas-docs/stable/user_guide/indexing.html#returning-a-view-versus-a-copy\n",
      "  pass_df['id']=pass_df.apply(lambda x: x['id'] if x['type']=='Pass' else np.NaN, axis=1)\n"
     ]
    },
    {
     "name": "stdout",
     "output_type": "stream",
     "text": [
      "13\n"
     ]
    },
    {
     "name": "stderr",
     "output_type": "stream",
     "text": [
      "C:\\for_work\\anaconda\\lib\\site-packages\\statsbombpy\\api_client.py:20: NoAuthWarning: credentials were not supplied. open data access only\n",
      "  warnings.warn(\"credentials were not supplied. open data access only\", NoAuthWarning)\n",
      "<ipython-input-10-7752c9260c3c>:16: SettingWithCopyWarning: \n",
      "A value is trying to be set on a copy of a slice from a DataFrame.\n",
      "Try using .loc[row_indexer,col_indexer] = value instead\n",
      "\n",
      "See the caveats in the documentation: https://pandas.pydata.org/pandas-docs/stable/user_guide/indexing.html#returning-a-view-versus-a-copy\n",
      "  pass_df['id']=pass_df.apply(lambda x: x['id'] if x['type']=='Pass' else np.NaN, axis=1)\n"
     ]
    },
    {
     "name": "stdout",
     "output_type": "stream",
     "text": [
      "14\n"
     ]
    },
    {
     "name": "stderr",
     "output_type": "stream",
     "text": [
      "C:\\for_work\\anaconda\\lib\\site-packages\\statsbombpy\\api_client.py:20: NoAuthWarning: credentials were not supplied. open data access only\n",
      "  warnings.warn(\"credentials were not supplied. open data access only\", NoAuthWarning)\n",
      "<ipython-input-10-7752c9260c3c>:16: SettingWithCopyWarning: \n",
      "A value is trying to be set on a copy of a slice from a DataFrame.\n",
      "Try using .loc[row_indexer,col_indexer] = value instead\n",
      "\n",
      "See the caveats in the documentation: https://pandas.pydata.org/pandas-docs/stable/user_guide/indexing.html#returning-a-view-versus-a-copy\n",
      "  pass_df['id']=pass_df.apply(lambda x: x['id'] if x['type']=='Pass' else np.NaN, axis=1)\n"
     ]
    },
    {
     "name": "stdout",
     "output_type": "stream",
     "text": [
      "15\n"
     ]
    },
    {
     "name": "stderr",
     "output_type": "stream",
     "text": [
      "C:\\for_work\\anaconda\\lib\\site-packages\\statsbombpy\\api_client.py:20: NoAuthWarning: credentials were not supplied. open data access only\n",
      "  warnings.warn(\"credentials were not supplied. open data access only\", NoAuthWarning)\n",
      "<ipython-input-10-7752c9260c3c>:16: SettingWithCopyWarning: \n",
      "A value is trying to be set on a copy of a slice from a DataFrame.\n",
      "Try using .loc[row_indexer,col_indexer] = value instead\n",
      "\n",
      "See the caveats in the documentation: https://pandas.pydata.org/pandas-docs/stable/user_guide/indexing.html#returning-a-view-versus-a-copy\n",
      "  pass_df['id']=pass_df.apply(lambda x: x['id'] if x['type']=='Pass' else np.NaN, axis=1)\n"
     ]
    },
    {
     "name": "stdout",
     "output_type": "stream",
     "text": [
      "16\n"
     ]
    },
    {
     "name": "stderr",
     "output_type": "stream",
     "text": [
      "C:\\for_work\\anaconda\\lib\\site-packages\\statsbombpy\\api_client.py:20: NoAuthWarning: credentials were not supplied. open data access only\n",
      "  warnings.warn(\"credentials were not supplied. open data access only\", NoAuthWarning)\n",
      "<ipython-input-10-7752c9260c3c>:16: SettingWithCopyWarning: \n",
      "A value is trying to be set on a copy of a slice from a DataFrame.\n",
      "Try using .loc[row_indexer,col_indexer] = value instead\n",
      "\n",
      "See the caveats in the documentation: https://pandas.pydata.org/pandas-docs/stable/user_guide/indexing.html#returning-a-view-versus-a-copy\n",
      "  pass_df['id']=pass_df.apply(lambda x: x['id'] if x['type']=='Pass' else np.NaN, axis=1)\n"
     ]
    },
    {
     "name": "stdout",
     "output_type": "stream",
     "text": [
      "17\n"
     ]
    },
    {
     "name": "stderr",
     "output_type": "stream",
     "text": [
      "C:\\for_work\\anaconda\\lib\\site-packages\\statsbombpy\\api_client.py:20: NoAuthWarning: credentials were not supplied. open data access only\n",
      "  warnings.warn(\"credentials were not supplied. open data access only\", NoAuthWarning)\n",
      "<ipython-input-10-7752c9260c3c>:16: SettingWithCopyWarning: \n",
      "A value is trying to be set on a copy of a slice from a DataFrame.\n",
      "Try using .loc[row_indexer,col_indexer] = value instead\n",
      "\n",
      "See the caveats in the documentation: https://pandas.pydata.org/pandas-docs/stable/user_guide/indexing.html#returning-a-view-versus-a-copy\n",
      "  pass_df['id']=pass_df.apply(lambda x: x['id'] if x['type']=='Pass' else np.NaN, axis=1)\n"
     ]
    },
    {
     "name": "stdout",
     "output_type": "stream",
     "text": [
      "18\n"
     ]
    },
    {
     "name": "stderr",
     "output_type": "stream",
     "text": [
      "C:\\for_work\\anaconda\\lib\\site-packages\\statsbombpy\\api_client.py:20: NoAuthWarning: credentials were not supplied. open data access only\n",
      "  warnings.warn(\"credentials were not supplied. open data access only\", NoAuthWarning)\n",
      "<ipython-input-10-7752c9260c3c>:16: SettingWithCopyWarning: \n",
      "A value is trying to be set on a copy of a slice from a DataFrame.\n",
      "Try using .loc[row_indexer,col_indexer] = value instead\n",
      "\n",
      "See the caveats in the documentation: https://pandas.pydata.org/pandas-docs/stable/user_guide/indexing.html#returning-a-view-versus-a-copy\n",
      "  pass_df['id']=pass_df.apply(lambda x: x['id'] if x['type']=='Pass' else np.NaN, axis=1)\n"
     ]
    },
    {
     "name": "stdout",
     "output_type": "stream",
     "text": [
      "19\n"
     ]
    },
    {
     "name": "stderr",
     "output_type": "stream",
     "text": [
      "C:\\for_work\\anaconda\\lib\\site-packages\\statsbombpy\\api_client.py:20: NoAuthWarning: credentials were not supplied. open data access only\n",
      "  warnings.warn(\"credentials were not supplied. open data access only\", NoAuthWarning)\n",
      "<ipython-input-10-7752c9260c3c>:16: SettingWithCopyWarning: \n",
      "A value is trying to be set on a copy of a slice from a DataFrame.\n",
      "Try using .loc[row_indexer,col_indexer] = value instead\n",
      "\n",
      "See the caveats in the documentation: https://pandas.pydata.org/pandas-docs/stable/user_guide/indexing.html#returning-a-view-versus-a-copy\n",
      "  pass_df['id']=pass_df.apply(lambda x: x['id'] if x['type']=='Pass' else np.NaN, axis=1)\n"
     ]
    },
    {
     "name": "stdout",
     "output_type": "stream",
     "text": [
      "20\n"
     ]
    },
    {
     "name": "stderr",
     "output_type": "stream",
     "text": [
      "C:\\for_work\\anaconda\\lib\\site-packages\\statsbombpy\\api_client.py:20: NoAuthWarning: credentials were not supplied. open data access only\n",
      "  warnings.warn(\"credentials were not supplied. open data access only\", NoAuthWarning)\n",
      "<ipython-input-10-7752c9260c3c>:16: SettingWithCopyWarning: \n",
      "A value is trying to be set on a copy of a slice from a DataFrame.\n",
      "Try using .loc[row_indexer,col_indexer] = value instead\n",
      "\n",
      "See the caveats in the documentation: https://pandas.pydata.org/pandas-docs/stable/user_guide/indexing.html#returning-a-view-versus-a-copy\n",
      "  pass_df['id']=pass_df.apply(lambda x: x['id'] if x['type']=='Pass' else np.NaN, axis=1)\n"
     ]
    },
    {
     "name": "stdout",
     "output_type": "stream",
     "text": [
      "21\n"
     ]
    },
    {
     "name": "stderr",
     "output_type": "stream",
     "text": [
      "C:\\for_work\\anaconda\\lib\\site-packages\\statsbombpy\\api_client.py:20: NoAuthWarning: credentials were not supplied. open data access only\n",
      "  warnings.warn(\"credentials were not supplied. open data access only\", NoAuthWarning)\n",
      "<ipython-input-10-7752c9260c3c>:16: SettingWithCopyWarning: \n",
      "A value is trying to be set on a copy of a slice from a DataFrame.\n",
      "Try using .loc[row_indexer,col_indexer] = value instead\n",
      "\n",
      "See the caveats in the documentation: https://pandas.pydata.org/pandas-docs/stable/user_guide/indexing.html#returning-a-view-versus-a-copy\n",
      "  pass_df['id']=pass_df.apply(lambda x: x['id'] if x['type']=='Pass' else np.NaN, axis=1)\n"
     ]
    },
    {
     "name": "stdout",
     "output_type": "stream",
     "text": [
      "22\n"
     ]
    },
    {
     "name": "stderr",
     "output_type": "stream",
     "text": [
      "C:\\for_work\\anaconda\\lib\\site-packages\\statsbombpy\\api_client.py:20: NoAuthWarning: credentials were not supplied. open data access only\n",
      "  warnings.warn(\"credentials were not supplied. open data access only\", NoAuthWarning)\n",
      "<ipython-input-10-7752c9260c3c>:16: SettingWithCopyWarning: \n",
      "A value is trying to be set on a copy of a slice from a DataFrame.\n",
      "Try using .loc[row_indexer,col_indexer] = value instead\n",
      "\n",
      "See the caveats in the documentation: https://pandas.pydata.org/pandas-docs/stable/user_guide/indexing.html#returning-a-view-versus-a-copy\n",
      "  pass_df['id']=pass_df.apply(lambda x: x['id'] if x['type']=='Pass' else np.NaN, axis=1)\n"
     ]
    },
    {
     "name": "stdout",
     "output_type": "stream",
     "text": [
      "23\n"
     ]
    },
    {
     "name": "stderr",
     "output_type": "stream",
     "text": [
      "C:\\for_work\\anaconda\\lib\\site-packages\\statsbombpy\\api_client.py:20: NoAuthWarning: credentials were not supplied. open data access only\n",
      "  warnings.warn(\"credentials were not supplied. open data access only\", NoAuthWarning)\n",
      "<ipython-input-10-7752c9260c3c>:16: SettingWithCopyWarning: \n",
      "A value is trying to be set on a copy of a slice from a DataFrame.\n",
      "Try using .loc[row_indexer,col_indexer] = value instead\n",
      "\n",
      "See the caveats in the documentation: https://pandas.pydata.org/pandas-docs/stable/user_guide/indexing.html#returning-a-view-versus-a-copy\n",
      "  pass_df['id']=pass_df.apply(lambda x: x['id'] if x['type']=='Pass' else np.NaN, axis=1)\n"
     ]
    },
    {
     "name": "stdout",
     "output_type": "stream",
     "text": [
      "24\n"
     ]
    },
    {
     "name": "stderr",
     "output_type": "stream",
     "text": [
      "C:\\for_work\\anaconda\\lib\\site-packages\\statsbombpy\\api_client.py:20: NoAuthWarning: credentials were not supplied. open data access only\n",
      "  warnings.warn(\"credentials were not supplied. open data access only\", NoAuthWarning)\n",
      "<ipython-input-10-7752c9260c3c>:16: SettingWithCopyWarning: \n",
      "A value is trying to be set on a copy of a slice from a DataFrame.\n",
      "Try using .loc[row_indexer,col_indexer] = value instead\n",
      "\n",
      "See the caveats in the documentation: https://pandas.pydata.org/pandas-docs/stable/user_guide/indexing.html#returning-a-view-versus-a-copy\n",
      "  pass_df['id']=pass_df.apply(lambda x: x['id'] if x['type']=='Pass' else np.NaN, axis=1)\n"
     ]
    },
    {
     "name": "stdout",
     "output_type": "stream",
     "text": [
      "25\n"
     ]
    },
    {
     "name": "stderr",
     "output_type": "stream",
     "text": [
      "C:\\for_work\\anaconda\\lib\\site-packages\\statsbombpy\\api_client.py:20: NoAuthWarning: credentials were not supplied. open data access only\n",
      "  warnings.warn(\"credentials were not supplied. open data access only\", NoAuthWarning)\n",
      "<ipython-input-10-7752c9260c3c>:16: SettingWithCopyWarning: \n",
      "A value is trying to be set on a copy of a slice from a DataFrame.\n",
      "Try using .loc[row_indexer,col_indexer] = value instead\n",
      "\n",
      "See the caveats in the documentation: https://pandas.pydata.org/pandas-docs/stable/user_guide/indexing.html#returning-a-view-versus-a-copy\n",
      "  pass_df['id']=pass_df.apply(lambda x: x['id'] if x['type']=='Pass' else np.NaN, axis=1)\n"
     ]
    },
    {
     "name": "stdout",
     "output_type": "stream",
     "text": [
      "26\n"
     ]
    },
    {
     "name": "stderr",
     "output_type": "stream",
     "text": [
      "C:\\for_work\\anaconda\\lib\\site-packages\\statsbombpy\\api_client.py:20: NoAuthWarning: credentials were not supplied. open data access only\n",
      "  warnings.warn(\"credentials were not supplied. open data access only\", NoAuthWarning)\n",
      "<ipython-input-10-7752c9260c3c>:16: SettingWithCopyWarning: \n",
      "A value is trying to be set on a copy of a slice from a DataFrame.\n",
      "Try using .loc[row_indexer,col_indexer] = value instead\n",
      "\n",
      "See the caveats in the documentation: https://pandas.pydata.org/pandas-docs/stable/user_guide/indexing.html#returning-a-view-versus-a-copy\n",
      "  pass_df['id']=pass_df.apply(lambda x: x['id'] if x['type']=='Pass' else np.NaN, axis=1)\n"
     ]
    },
    {
     "name": "stdout",
     "output_type": "stream",
     "text": [
      "27\n"
     ]
    },
    {
     "name": "stderr",
     "output_type": "stream",
     "text": [
      "C:\\for_work\\anaconda\\lib\\site-packages\\statsbombpy\\api_client.py:20: NoAuthWarning: credentials were not supplied. open data access only\n",
      "  warnings.warn(\"credentials were not supplied. open data access only\", NoAuthWarning)\n",
      "<ipython-input-10-7752c9260c3c>:16: SettingWithCopyWarning: \n",
      "A value is trying to be set on a copy of a slice from a DataFrame.\n",
      "Try using .loc[row_indexer,col_indexer] = value instead\n",
      "\n",
      "See the caveats in the documentation: https://pandas.pydata.org/pandas-docs/stable/user_guide/indexing.html#returning-a-view-versus-a-copy\n",
      "  pass_df['id']=pass_df.apply(lambda x: x['id'] if x['type']=='Pass' else np.NaN, axis=1)\n"
     ]
    },
    {
     "name": "stdout",
     "output_type": "stream",
     "text": [
      "28\n"
     ]
    },
    {
     "name": "stderr",
     "output_type": "stream",
     "text": [
      "C:\\for_work\\anaconda\\lib\\site-packages\\statsbombpy\\api_client.py:20: NoAuthWarning: credentials were not supplied. open data access only\n",
      "  warnings.warn(\"credentials were not supplied. open data access only\", NoAuthWarning)\n",
      "<ipython-input-10-7752c9260c3c>:16: SettingWithCopyWarning: \n",
      "A value is trying to be set on a copy of a slice from a DataFrame.\n",
      "Try using .loc[row_indexer,col_indexer] = value instead\n",
      "\n",
      "See the caveats in the documentation: https://pandas.pydata.org/pandas-docs/stable/user_guide/indexing.html#returning-a-view-versus-a-copy\n",
      "  pass_df['id']=pass_df.apply(lambda x: x['id'] if x['type']=='Pass' else np.NaN, axis=1)\n"
     ]
    },
    {
     "name": "stdout",
     "output_type": "stream",
     "text": [
      "29\n"
     ]
    },
    {
     "name": "stderr",
     "output_type": "stream",
     "text": [
      "C:\\for_work\\anaconda\\lib\\site-packages\\statsbombpy\\api_client.py:20: NoAuthWarning: credentials were not supplied. open data access only\n",
      "  warnings.warn(\"credentials were not supplied. open data access only\", NoAuthWarning)\n",
      "<ipython-input-10-7752c9260c3c>:16: SettingWithCopyWarning: \n",
      "A value is trying to be set on a copy of a slice from a DataFrame.\n",
      "Try using .loc[row_indexer,col_indexer] = value instead\n",
      "\n",
      "See the caveats in the documentation: https://pandas.pydata.org/pandas-docs/stable/user_guide/indexing.html#returning-a-view-versus-a-copy\n",
      "  pass_df['id']=pass_df.apply(lambda x: x['id'] if x['type']=='Pass' else np.NaN, axis=1)\n"
     ]
    },
    {
     "name": "stdout",
     "output_type": "stream",
     "text": [
      "30\n"
     ]
    },
    {
     "name": "stderr",
     "output_type": "stream",
     "text": [
      "C:\\for_work\\anaconda\\lib\\site-packages\\statsbombpy\\api_client.py:20: NoAuthWarning: credentials were not supplied. open data access only\n",
      "  warnings.warn(\"credentials were not supplied. open data access only\", NoAuthWarning)\n",
      "<ipython-input-10-7752c9260c3c>:16: SettingWithCopyWarning: \n",
      "A value is trying to be set on a copy of a slice from a DataFrame.\n",
      "Try using .loc[row_indexer,col_indexer] = value instead\n",
      "\n",
      "See the caveats in the documentation: https://pandas.pydata.org/pandas-docs/stable/user_guide/indexing.html#returning-a-view-versus-a-copy\n",
      "  pass_df['id']=pass_df.apply(lambda x: x['id'] if x['type']=='Pass' else np.NaN, axis=1)\n"
     ]
    },
    {
     "name": "stdout",
     "output_type": "stream",
     "text": [
      "31\n"
     ]
    },
    {
     "name": "stderr",
     "output_type": "stream",
     "text": [
      "C:\\for_work\\anaconda\\lib\\site-packages\\statsbombpy\\api_client.py:20: NoAuthWarning: credentials were not supplied. open data access only\n",
      "  warnings.warn(\"credentials were not supplied. open data access only\", NoAuthWarning)\n",
      "<ipython-input-10-7752c9260c3c>:16: SettingWithCopyWarning: \n",
      "A value is trying to be set on a copy of a slice from a DataFrame.\n",
      "Try using .loc[row_indexer,col_indexer] = value instead\n",
      "\n",
      "See the caveats in the documentation: https://pandas.pydata.org/pandas-docs/stable/user_guide/indexing.html#returning-a-view-versus-a-copy\n",
      "  pass_df['id']=pass_df.apply(lambda x: x['id'] if x['type']=='Pass' else np.NaN, axis=1)\n"
     ]
    },
    {
     "name": "stdout",
     "output_type": "stream",
     "text": [
      "32\n"
     ]
    },
    {
     "name": "stderr",
     "output_type": "stream",
     "text": [
      "C:\\for_work\\anaconda\\lib\\site-packages\\statsbombpy\\api_client.py:20: NoAuthWarning: credentials were not supplied. open data access only\n",
      "  warnings.warn(\"credentials were not supplied. open data access only\", NoAuthWarning)\n",
      "<ipython-input-10-7752c9260c3c>:16: SettingWithCopyWarning: \n",
      "A value is trying to be set on a copy of a slice from a DataFrame.\n",
      "Try using .loc[row_indexer,col_indexer] = value instead\n",
      "\n",
      "See the caveats in the documentation: https://pandas.pydata.org/pandas-docs/stable/user_guide/indexing.html#returning-a-view-versus-a-copy\n",
      "  pass_df['id']=pass_df.apply(lambda x: x['id'] if x['type']=='Pass' else np.NaN, axis=1)\n"
     ]
    },
    {
     "name": "stdout",
     "output_type": "stream",
     "text": [
      "33\n"
     ]
    },
    {
     "name": "stderr",
     "output_type": "stream",
     "text": [
      "C:\\for_work\\anaconda\\lib\\site-packages\\statsbombpy\\api_client.py:20: NoAuthWarning: credentials were not supplied. open data access only\n",
      "  warnings.warn(\"credentials were not supplied. open data access only\", NoAuthWarning)\n",
      "<ipython-input-10-7752c9260c3c>:16: SettingWithCopyWarning: \n",
      "A value is trying to be set on a copy of a slice from a DataFrame.\n",
      "Try using .loc[row_indexer,col_indexer] = value instead\n",
      "\n",
      "See the caveats in the documentation: https://pandas.pydata.org/pandas-docs/stable/user_guide/indexing.html#returning-a-view-versus-a-copy\n",
      "  pass_df['id']=pass_df.apply(lambda x: x['id'] if x['type']=='Pass' else np.NaN, axis=1)\n"
     ]
    },
    {
     "name": "stdout",
     "output_type": "stream",
     "text": [
      "34\n"
     ]
    },
    {
     "name": "stderr",
     "output_type": "stream",
     "text": [
      "C:\\for_work\\anaconda\\lib\\site-packages\\statsbombpy\\api_client.py:20: NoAuthWarning: credentials were not supplied. open data access only\n",
      "  warnings.warn(\"credentials were not supplied. open data access only\", NoAuthWarning)\n",
      "<ipython-input-10-7752c9260c3c>:16: SettingWithCopyWarning: \n",
      "A value is trying to be set on a copy of a slice from a DataFrame.\n",
      "Try using .loc[row_indexer,col_indexer] = value instead\n",
      "\n",
      "See the caveats in the documentation: https://pandas.pydata.org/pandas-docs/stable/user_guide/indexing.html#returning-a-view-versus-a-copy\n",
      "  pass_df['id']=pass_df.apply(lambda x: x['id'] if x['type']=='Pass' else np.NaN, axis=1)\n"
     ]
    },
    {
     "name": "stdout",
     "output_type": "stream",
     "text": [
      "35\n"
     ]
    },
    {
     "name": "stderr",
     "output_type": "stream",
     "text": [
      "C:\\for_work\\anaconda\\lib\\site-packages\\statsbombpy\\api_client.py:20: NoAuthWarning: credentials were not supplied. open data access only\n",
      "  warnings.warn(\"credentials were not supplied. open data access only\", NoAuthWarning)\n",
      "<ipython-input-10-7752c9260c3c>:16: SettingWithCopyWarning: \n",
      "A value is trying to be set on a copy of a slice from a DataFrame.\n",
      "Try using .loc[row_indexer,col_indexer] = value instead\n",
      "\n",
      "See the caveats in the documentation: https://pandas.pydata.org/pandas-docs/stable/user_guide/indexing.html#returning-a-view-versus-a-copy\n",
      "  pass_df['id']=pass_df.apply(lambda x: x['id'] if x['type']=='Pass' else np.NaN, axis=1)\n"
     ]
    },
    {
     "name": "stdout",
     "output_type": "stream",
     "text": [
      "36\n"
     ]
    },
    {
     "name": "stderr",
     "output_type": "stream",
     "text": [
      "C:\\for_work\\anaconda\\lib\\site-packages\\statsbombpy\\api_client.py:20: NoAuthWarning: credentials were not supplied. open data access only\n",
      "  warnings.warn(\"credentials were not supplied. open data access only\", NoAuthWarning)\n",
      "<ipython-input-10-7752c9260c3c>:16: SettingWithCopyWarning: \n",
      "A value is trying to be set on a copy of a slice from a DataFrame.\n",
      "Try using .loc[row_indexer,col_indexer] = value instead\n",
      "\n",
      "See the caveats in the documentation: https://pandas.pydata.org/pandas-docs/stable/user_guide/indexing.html#returning-a-view-versus-a-copy\n",
      "  pass_df['id']=pass_df.apply(lambda x: x['id'] if x['type']=='Pass' else np.NaN, axis=1)\n"
     ]
    },
    {
     "name": "stdout",
     "output_type": "stream",
     "text": [
      "37\n"
     ]
    },
    {
     "name": "stderr",
     "output_type": "stream",
     "text": [
      "C:\\for_work\\anaconda\\lib\\site-packages\\statsbombpy\\api_client.py:20: NoAuthWarning: credentials were not supplied. open data access only\n",
      "  warnings.warn(\"credentials were not supplied. open data access only\", NoAuthWarning)\n",
      "<ipython-input-10-7752c9260c3c>:16: SettingWithCopyWarning: \n",
      "A value is trying to be set on a copy of a slice from a DataFrame.\n",
      "Try using .loc[row_indexer,col_indexer] = value instead\n",
      "\n",
      "See the caveats in the documentation: https://pandas.pydata.org/pandas-docs/stable/user_guide/indexing.html#returning-a-view-versus-a-copy\n",
      "  pass_df['id']=pass_df.apply(lambda x: x['id'] if x['type']=='Pass' else np.NaN, axis=1)\n"
     ]
    },
    {
     "name": "stdout",
     "output_type": "stream",
     "text": [
      "38\n"
     ]
    },
    {
     "name": "stderr",
     "output_type": "stream",
     "text": [
      "C:\\for_work\\anaconda\\lib\\site-packages\\statsbombpy\\api_client.py:20: NoAuthWarning: credentials were not supplied. open data access only\n",
      "  warnings.warn(\"credentials were not supplied. open data access only\", NoAuthWarning)\n",
      "<ipython-input-10-7752c9260c3c>:16: SettingWithCopyWarning: \n",
      "A value is trying to be set on a copy of a slice from a DataFrame.\n",
      "Try using .loc[row_indexer,col_indexer] = value instead\n",
      "\n",
      "See the caveats in the documentation: https://pandas.pydata.org/pandas-docs/stable/user_guide/indexing.html#returning-a-view-versus-a-copy\n",
      "  pass_df['id']=pass_df.apply(lambda x: x['id'] if x['type']=='Pass' else np.NaN, axis=1)\n"
     ]
    },
    {
     "name": "stdout",
     "output_type": "stream",
     "text": [
      "39\n"
     ]
    },
    {
     "name": "stderr",
     "output_type": "stream",
     "text": [
      "C:\\for_work\\anaconda\\lib\\site-packages\\statsbombpy\\api_client.py:20: NoAuthWarning: credentials were not supplied. open data access only\n",
      "  warnings.warn(\"credentials were not supplied. open data access only\", NoAuthWarning)\n",
      "<ipython-input-10-7752c9260c3c>:16: SettingWithCopyWarning: \n",
      "A value is trying to be set on a copy of a slice from a DataFrame.\n",
      "Try using .loc[row_indexer,col_indexer] = value instead\n",
      "\n",
      "See the caveats in the documentation: https://pandas.pydata.org/pandas-docs/stable/user_guide/indexing.html#returning-a-view-versus-a-copy\n",
      "  pass_df['id']=pass_df.apply(lambda x: x['id'] if x['type']=='Pass' else np.NaN, axis=1)\n"
     ]
    },
    {
     "name": "stdout",
     "output_type": "stream",
     "text": [
      "40\n"
     ]
    },
    {
     "name": "stderr",
     "output_type": "stream",
     "text": [
      "C:\\for_work\\anaconda\\lib\\site-packages\\statsbombpy\\api_client.py:20: NoAuthWarning: credentials were not supplied. open data access only\n",
      "  warnings.warn(\"credentials were not supplied. open data access only\", NoAuthWarning)\n",
      "<ipython-input-10-7752c9260c3c>:16: SettingWithCopyWarning: \n",
      "A value is trying to be set on a copy of a slice from a DataFrame.\n",
      "Try using .loc[row_indexer,col_indexer] = value instead\n",
      "\n",
      "See the caveats in the documentation: https://pandas.pydata.org/pandas-docs/stable/user_guide/indexing.html#returning-a-view-versus-a-copy\n",
      "  pass_df['id']=pass_df.apply(lambda x: x['id'] if x['type']=='Pass' else np.NaN, axis=1)\n"
     ]
    },
    {
     "name": "stdout",
     "output_type": "stream",
     "text": [
      "41\n"
     ]
    },
    {
     "name": "stderr",
     "output_type": "stream",
     "text": [
      "C:\\for_work\\anaconda\\lib\\site-packages\\statsbombpy\\api_client.py:20: NoAuthWarning: credentials were not supplied. open data access only\n",
      "  warnings.warn(\"credentials were not supplied. open data access only\", NoAuthWarning)\n",
      "<ipython-input-10-7752c9260c3c>:16: SettingWithCopyWarning: \n",
      "A value is trying to be set on a copy of a slice from a DataFrame.\n",
      "Try using .loc[row_indexer,col_indexer] = value instead\n",
      "\n",
      "See the caveats in the documentation: https://pandas.pydata.org/pandas-docs/stable/user_guide/indexing.html#returning-a-view-versus-a-copy\n",
      "  pass_df['id']=pass_df.apply(lambda x: x['id'] if x['type']=='Pass' else np.NaN, axis=1)\n"
     ]
    },
    {
     "name": "stdout",
     "output_type": "stream",
     "text": [
      "42\n"
     ]
    },
    {
     "name": "stderr",
     "output_type": "stream",
     "text": [
      "C:\\for_work\\anaconda\\lib\\site-packages\\statsbombpy\\api_client.py:20: NoAuthWarning: credentials were not supplied. open data access only\n",
      "  warnings.warn(\"credentials were not supplied. open data access only\", NoAuthWarning)\n",
      "<ipython-input-10-7752c9260c3c>:16: SettingWithCopyWarning: \n",
      "A value is trying to be set on a copy of a slice from a DataFrame.\n",
      "Try using .loc[row_indexer,col_indexer] = value instead\n",
      "\n",
      "See the caveats in the documentation: https://pandas.pydata.org/pandas-docs/stable/user_guide/indexing.html#returning-a-view-versus-a-copy\n",
      "  pass_df['id']=pass_df.apply(lambda x: x['id'] if x['type']=='Pass' else np.NaN, axis=1)\n"
     ]
    },
    {
     "name": "stdout",
     "output_type": "stream",
     "text": [
      "43\n"
     ]
    },
    {
     "name": "stderr",
     "output_type": "stream",
     "text": [
      "C:\\for_work\\anaconda\\lib\\site-packages\\statsbombpy\\api_client.py:20: NoAuthWarning: credentials were not supplied. open data access only\n",
      "  warnings.warn(\"credentials were not supplied. open data access only\", NoAuthWarning)\n",
      "<ipython-input-10-7752c9260c3c>:16: SettingWithCopyWarning: \n",
      "A value is trying to be set on a copy of a slice from a DataFrame.\n",
      "Try using .loc[row_indexer,col_indexer] = value instead\n",
      "\n",
      "See the caveats in the documentation: https://pandas.pydata.org/pandas-docs/stable/user_guide/indexing.html#returning-a-view-versus-a-copy\n",
      "  pass_df['id']=pass_df.apply(lambda x: x['id'] if x['type']=='Pass' else np.NaN, axis=1)\n"
     ]
    },
    {
     "name": "stdout",
     "output_type": "stream",
     "text": [
      "44\n"
     ]
    },
    {
     "name": "stderr",
     "output_type": "stream",
     "text": [
      "C:\\for_work\\anaconda\\lib\\site-packages\\statsbombpy\\api_client.py:20: NoAuthWarning: credentials were not supplied. open data access only\n",
      "  warnings.warn(\"credentials were not supplied. open data access only\", NoAuthWarning)\n",
      "<ipython-input-10-7752c9260c3c>:16: SettingWithCopyWarning: \n",
      "A value is trying to be set on a copy of a slice from a DataFrame.\n",
      "Try using .loc[row_indexer,col_indexer] = value instead\n",
      "\n",
      "See the caveats in the documentation: https://pandas.pydata.org/pandas-docs/stable/user_guide/indexing.html#returning-a-view-versus-a-copy\n",
      "  pass_df['id']=pass_df.apply(lambda x: x['id'] if x['type']=='Pass' else np.NaN, axis=1)\n"
     ]
    },
    {
     "name": "stdout",
     "output_type": "stream",
     "text": [
      "45\n"
     ]
    },
    {
     "name": "stderr",
     "output_type": "stream",
     "text": [
      "C:\\for_work\\anaconda\\lib\\site-packages\\statsbombpy\\api_client.py:20: NoAuthWarning: credentials were not supplied. open data access only\n",
      "  warnings.warn(\"credentials were not supplied. open data access only\", NoAuthWarning)\n",
      "<ipython-input-10-7752c9260c3c>:16: SettingWithCopyWarning: \n",
      "A value is trying to be set on a copy of a slice from a DataFrame.\n",
      "Try using .loc[row_indexer,col_indexer] = value instead\n",
      "\n",
      "See the caveats in the documentation: https://pandas.pydata.org/pandas-docs/stable/user_guide/indexing.html#returning-a-view-versus-a-copy\n",
      "  pass_df['id']=pass_df.apply(lambda x: x['id'] if x['type']=='Pass' else np.NaN, axis=1)\n"
     ]
    },
    {
     "name": "stdout",
     "output_type": "stream",
     "text": [
      "46\n"
     ]
    },
    {
     "name": "stderr",
     "output_type": "stream",
     "text": [
      "C:\\for_work\\anaconda\\lib\\site-packages\\statsbombpy\\api_client.py:20: NoAuthWarning: credentials were not supplied. open data access only\n",
      "  warnings.warn(\"credentials were not supplied. open data access only\", NoAuthWarning)\n",
      "<ipython-input-10-7752c9260c3c>:16: SettingWithCopyWarning: \n",
      "A value is trying to be set on a copy of a slice from a DataFrame.\n",
      "Try using .loc[row_indexer,col_indexer] = value instead\n",
      "\n",
      "See the caveats in the documentation: https://pandas.pydata.org/pandas-docs/stable/user_guide/indexing.html#returning-a-view-versus-a-copy\n",
      "  pass_df['id']=pass_df.apply(lambda x: x['id'] if x['type']=='Pass' else np.NaN, axis=1)\n"
     ]
    },
    {
     "name": "stdout",
     "output_type": "stream",
     "text": [
      "47\n"
     ]
    },
    {
     "name": "stderr",
     "output_type": "stream",
     "text": [
      "C:\\for_work\\anaconda\\lib\\site-packages\\statsbombpy\\api_client.py:20: NoAuthWarning: credentials were not supplied. open data access only\n",
      "  warnings.warn(\"credentials were not supplied. open data access only\", NoAuthWarning)\n",
      "<ipython-input-10-7752c9260c3c>:16: SettingWithCopyWarning: \n",
      "A value is trying to be set on a copy of a slice from a DataFrame.\n",
      "Try using .loc[row_indexer,col_indexer] = value instead\n",
      "\n",
      "See the caveats in the documentation: https://pandas.pydata.org/pandas-docs/stable/user_guide/indexing.html#returning-a-view-versus-a-copy\n",
      "  pass_df['id']=pass_df.apply(lambda x: x['id'] if x['type']=='Pass' else np.NaN, axis=1)\n"
     ]
    },
    {
     "name": "stdout",
     "output_type": "stream",
     "text": [
      "48\n"
     ]
    },
    {
     "name": "stderr",
     "output_type": "stream",
     "text": [
      "C:\\for_work\\anaconda\\lib\\site-packages\\statsbombpy\\api_client.py:20: NoAuthWarning: credentials were not supplied. open data access only\n",
      "  warnings.warn(\"credentials were not supplied. open data access only\", NoAuthWarning)\n",
      "<ipython-input-10-7752c9260c3c>:16: SettingWithCopyWarning: \n",
      "A value is trying to be set on a copy of a slice from a DataFrame.\n",
      "Try using .loc[row_indexer,col_indexer] = value instead\n",
      "\n",
      "See the caveats in the documentation: https://pandas.pydata.org/pandas-docs/stable/user_guide/indexing.html#returning-a-view-versus-a-copy\n",
      "  pass_df['id']=pass_df.apply(lambda x: x['id'] if x['type']=='Pass' else np.NaN, axis=1)\n"
     ]
    },
    {
     "name": "stdout",
     "output_type": "stream",
     "text": [
      "49\n"
     ]
    },
    {
     "name": "stderr",
     "output_type": "stream",
     "text": [
      "C:\\for_work\\anaconda\\lib\\site-packages\\statsbombpy\\api_client.py:20: NoAuthWarning: credentials were not supplied. open data access only\n",
      "  warnings.warn(\"credentials were not supplied. open data access only\", NoAuthWarning)\n",
      "<ipython-input-10-7752c9260c3c>:16: SettingWithCopyWarning: \n",
      "A value is trying to be set on a copy of a slice from a DataFrame.\n",
      "Try using .loc[row_indexer,col_indexer] = value instead\n",
      "\n",
      "See the caveats in the documentation: https://pandas.pydata.org/pandas-docs/stable/user_guide/indexing.html#returning-a-view-versus-a-copy\n",
      "  pass_df['id']=pass_df.apply(lambda x: x['id'] if x['type']=='Pass' else np.NaN, axis=1)\n"
     ]
    },
    {
     "name": "stdout",
     "output_type": "stream",
     "text": [
      "50\n"
     ]
    }
   ],
   "source": [
    "features_all_matches = []\n",
    "all_tracking_data = []\n",
    "i=0\n",
    "for match in files[i:]:\n",
    "    event_df = sb.events(match_id=match, flatten_attrs=True).sort_values('index')\n",
    "    event_df = event_df.loc[event_df['type'].isin(in_game_events)]\n",
    "    event_dict = sb.events(match_id=match, split=True, flatten_attrs=True)\n",
    "    tracking_df = sb.frames(match_id=match)\n",
    "\n",
    "    pass_columns = event_dict['passes'].columns\n",
    "    pass_df = event_df.loc[event_df['type']=='Pass', pass_columns]\n",
    "\n",
    "\n",
    "    event_df['timestamp']=event_df.apply(lambda x: pd.to_datetime(x['timestamp']), axis=1)\n",
    "    pass_df['timestamp']=pass_df.apply(lambda x: pd.to_datetime(x['timestamp']), axis=1)\n",
    "\n",
    "    get_event_features(pass_df, event_df)\n",
    "    pass_df, tracking_df = get_tracking_features(pass_df, tracking_df, pass_df)\n",
    "    features_all_matches.append(pass_df)\n",
    "    all_tracking_data.append(tracking_df)\n",
    "\n",
    "    print(i)\n",
    "\n",
    "    i+=1"
   ]
  },
  {
   "cell_type": "markdown",
   "id": "8796aae9",
   "metadata": {},
   "source": [
    "### Append all matches to 1 df"
   ]
  },
  {
   "cell_type": "code",
   "execution_count": 36,
   "id": "4e22e155",
   "metadata": {
    "ExecuteTime": {
     "end_time": "2022-08-10T18:01:52.597043Z",
     "start_time": "2022-08-10T18:01:51.820671Z"
    }
   },
   "outputs": [],
   "source": [
    "tracking_data = pd.concat(all_tracking_data)\n",
    "tracking_data = tracking_data.reset_index()\n",
    "appended_data = pd.concat(features_all_matches)\n",
    "# appended_data \n",
    "# tracking_data.info()"
   ]
  },
  {
   "cell_type": "code",
   "execution_count": 49,
   "id": "243b65f9",
   "metadata": {
    "ExecuteTime": {
     "end_time": "2022-08-10T18:35:51.624176Z",
     "start_time": "2022-08-10T18:35:40.678946Z"
    }
   },
   "outputs": [
    {
     "name": "stdout",
     "output_type": "stream",
     "text": [
      "<class 'pandas.core.frame.DataFrame'>\n",
      "RangeIndex: 729573 entries, 0 to 729572\n",
      "Data columns (total 29 columns):\n",
      " #   Column                  Non-Null Count   Dtype  \n",
      "---  ------                  --------------   -----  \n",
      " 0   id                      729573 non-null  object \n",
      " 1   teammate                729573 non-null  object \n",
      " 2   actor                   729573 non-null  object \n",
      " 3   keeper                  729573 non-null  bool   \n",
      " 4   location                729573 non-null  object \n",
      " 5   visible_area            729573 non-null  object \n",
      " 6   match_id                729573 non-null  object \n",
      " 7   type                    729573 non-null  object \n",
      " 8   pass_length             729573 non-null  float64\n",
      " 9   location_pass           729573 non-null  object \n",
      " 10  pass_end_location       729573 non-null  object \n",
      " 11  pass_degree             729573 non-null  float64\n",
      " 12  passer_degree_to_goal   729573 non-null  float64\n",
      " 13  br_degree_to_goal       729573 non-null  float64\n",
      " 14  actor_location          729573 non-null  object \n",
      " 15  dist_from_def_goal      729573 non-null  float64\n",
      " 16  degree_from_def_goal    729573 non-null  float64\n",
      " 17  dist_from_att_goal      729573 non-null  float64\n",
      " 18  degree_from_att_goal    729573 non-null  float64\n",
      " 19  dist_actor_from_goal    729573 non-null  float64\n",
      " 20  dist_br_from_goal       729573 non-null  float64\n",
      " 21  dist_from_actor         729573 non-null  float64\n",
      " 22  degree_from_actor       729573 non-null  float64\n",
      " 23  degree_diff_pass_actor  729573 non-null  float64\n",
      " 24  degree_from_br          729573 non-null  float64\n",
      " 25  dist_from_br            729573 non-null  float64\n",
      " 26  degree_diff_goal_br     729573 non-null  float64\n",
      " 27  loc_x                   729573 non-null  float64\n",
      " 28  loc_y                   729573 non-null  float64\n",
      "dtypes: bool(1), float64(18), object(10)\n",
      "memory usage: 156.5+ MB\n"
     ]
    },
    {
     "data": {
      "text/html": [
       "<div>\n",
       "<style scoped>\n",
       "    .dataframe tbody tr th:only-of-type {\n",
       "        vertical-align: middle;\n",
       "    }\n",
       "\n",
       "    .dataframe tbody tr th {\n",
       "        vertical-align: top;\n",
       "    }\n",
       "\n",
       "    .dataframe thead th {\n",
       "        text-align: right;\n",
       "    }\n",
       "</style>\n",
       "<table border=\"1\" class=\"dataframe\">\n",
       "  <thead>\n",
       "    <tr style=\"text-align: right;\">\n",
       "      <th></th>\n",
       "      <th>teammate</th>\n",
       "      <th>keeper</th>\n",
       "      <th>dist_from_def_goal</th>\n",
       "      <th>degree_from_def_goal</th>\n",
       "      <th>dist_from_att_goal</th>\n",
       "      <th>degree_from_att_goal</th>\n",
       "      <th>dist_from_actor</th>\n",
       "      <th>degree_from_actor</th>\n",
       "      <th>degree_diff_pass_actor</th>\n",
       "      <th>degree_from_br</th>\n",
       "      <th>dist_from_br</th>\n",
       "      <th>degree_diff_goal_br</th>\n",
       "      <th>loc_x</th>\n",
       "      <th>loc_y</th>\n",
       "    </tr>\n",
       "  </thead>\n",
       "  <tbody>\n",
       "    <tr>\n",
       "      <th>0</th>\n",
       "      <td>True</td>\n",
       "      <td>False</td>\n",
       "      <td>107.796046</td>\n",
       "      <td>14.097301</td>\n",
       "      <td>30.464443</td>\n",
       "      <td>120.474949</td>\n",
       "      <td>12.784305</td>\n",
       "      <td>4.449192</td>\n",
       "      <td>40.476567</td>\n",
       "      <td>-17.446314</td>\n",
       "      <td>26.043841</td>\n",
       "      <td>34.443493</td>\n",
       "      <td>15.450395</td>\n",
       "      <td>13.744190</td>\n",
       "    </tr>\n",
       "    <tr>\n",
       "      <th>1</th>\n",
       "      <td>False</td>\n",
       "      <td>False</td>\n",
       "      <td>106.052540</td>\n",
       "      <td>18.817579</td>\n",
       "      <td>39.433044</td>\n",
       "      <td>119.831376</td>\n",
       "      <td>12.394057</td>\n",
       "      <td>46.188593</td>\n",
       "      <td>82.215967</td>\n",
       "      <td>0.398482</td>\n",
       "      <td>20.680743</td>\n",
       "      <td>16.598698</td>\n",
       "      <td>19.615932</td>\n",
       "      <td>5.792103</td>\n",
       "    </tr>\n",
       "    <tr>\n",
       "      <th>2</th>\n",
       "      <td>True</td>\n",
       "      <td>False</td>\n",
       "      <td>100.094700</td>\n",
       "      <td>-0.320342</td>\n",
       "      <td>19.914729</td>\n",
       "      <td>-178.389707</td>\n",
       "      <td>27.121503</td>\n",
       "      <td>-72.203561</td>\n",
       "      <td>36.176187</td>\n",
       "      <td>-59.506885</td>\n",
       "      <td>40.181143</td>\n",
       "      <td>76.504065</td>\n",
       "      <td>19.906864</td>\n",
       "      <td>40.559628</td>\n",
       "    </tr>\n",
       "    <tr>\n",
       "      <th>3</th>\n",
       "      <td>True</td>\n",
       "      <td>False</td>\n",
       "      <td>102.070033</td>\n",
       "      <td>13.714230</td>\n",
       "      <td>31.935577</td>\n",
       "      <td>130.735074</td>\n",
       "      <td>7.432964</td>\n",
       "      <td>-8.240548</td>\n",
       "      <td>27.786826</td>\n",
       "      <td>-26.887489</td>\n",
       "      <td>21.814441</td>\n",
       "      <td>43.884669</td>\n",
       "      <td>20.839956</td>\n",
       "      <td>15.801295</td>\n",
       "    </tr>\n",
       "    <tr>\n",
       "      <th>4</th>\n",
       "      <td>False</td>\n",
       "      <td>False</td>\n",
       "      <td>99.040646</td>\n",
       "      <td>1.821617</td>\n",
       "      <td>21.243983</td>\n",
       "      <td>171.477558</td>\n",
       "      <td>23.254188</td>\n",
       "      <td>-71.997848</td>\n",
       "      <td>35.970474</td>\n",
       "      <td>-58.042073</td>\n",
       "      <td>36.438507</td>\n",
       "      <td>75.039253</td>\n",
       "      <td>21.009405</td>\n",
       "      <td>36.851710</td>\n",
       "    </tr>\n",
       "    <tr>\n",
       "      <th>...</th>\n",
       "      <td>...</td>\n",
       "      <td>...</td>\n",
       "      <td>...</td>\n",
       "      <td>...</td>\n",
       "      <td>...</td>\n",
       "      <td>...</td>\n",
       "      <td>...</td>\n",
       "      <td>...</td>\n",
       "      <td>...</td>\n",
       "      <td>...</td>\n",
       "      <td>...</td>\n",
       "      <td>...</td>\n",
       "      <td>...</td>\n",
       "      <td>...</td>\n",
       "    </tr>\n",
       "    <tr>\n",
       "      <th>729568</th>\n",
       "      <td>True</td>\n",
       "      <td>False</td>\n",
       "      <td>28.828032</td>\n",
       "      <td>16.954085</td>\n",
       "      <td>92.806380</td>\n",
       "      <td>174.803023</td>\n",
       "      <td>4.778083</td>\n",
       "      <td>155.279545</td>\n",
       "      <td>155.870202</td>\n",
       "      <td>3.923494</td>\n",
       "      <td>24.817952</td>\n",
       "      <td>15.875382</td>\n",
       "      <td>92.424870</td>\n",
       "      <td>31.593594</td>\n",
       "    </tr>\n",
       "    <tr>\n",
       "      <th>729569</th>\n",
       "      <td>True</td>\n",
       "      <td>False</td>\n",
       "      <td>35.873525</td>\n",
       "      <td>-39.915893</td>\n",
       "      <td>95.306986</td>\n",
       "      <td>-166.023639</td>\n",
       "      <td>29.754197</td>\n",
       "      <td>-98.505568</td>\n",
       "      <td>97.914911</td>\n",
       "      <td>-50.277867</td>\n",
       "      <td>38.648949</td>\n",
       "      <td>70.076743</td>\n",
       "      <td>92.485466</td>\n",
       "      <td>63.018692</td>\n",
       "    </tr>\n",
       "    <tr>\n",
       "      <th>729570</th>\n",
       "      <td>False</td>\n",
       "      <td>False</td>\n",
       "      <td>26.015491</td>\n",
       "      <td>14.641998</td>\n",
       "      <td>95.057130</td>\n",
       "      <td>176.033044</td>\n",
       "      <td>6.746818</td>\n",
       "      <td>178.573942</td>\n",
       "      <td>179.164599</td>\n",
       "      <td>-0.338546</td>\n",
       "      <td>22.355662</td>\n",
       "      <td>20.137422</td>\n",
       "      <td>94.829384</td>\n",
       "      <td>33.423840</td>\n",
       "    </tr>\n",
       "    <tr>\n",
       "      <th>729571</th>\n",
       "      <td>False</td>\n",
       "      <td>False</td>\n",
       "      <td>28.243955</td>\n",
       "      <td>-28.079240</td>\n",
       "      <td>96.005334</td>\n",
       "      <td>-172.040467</td>\n",
       "      <td>20.907604</td>\n",
       "      <td>-109.548477</td>\n",
       "      <td>108.957820</td>\n",
       "      <td>-42.142442</td>\n",
       "      <td>29.810993</td>\n",
       "      <td>61.941319</td>\n",
       "      <td>95.080430</td>\n",
       "      <td>53.294210</td>\n",
       "    </tr>\n",
       "    <tr>\n",
       "      <th>729572</th>\n",
       "      <td>False</td>\n",
       "      <td>False</td>\n",
       "      <td>23.827870</td>\n",
       "      <td>-9.200974</td>\n",
       "      <td>96.553911</td>\n",
       "      <td>-177.738515</td>\n",
       "      <td>13.223971</td>\n",
       "      <td>-129.402221</td>\n",
       "      <td>128.811564</td>\n",
       "      <td>-26.929823</td>\n",
       "      <td>23.224350</td>\n",
       "      <td>46.728699</td>\n",
       "      <td>96.478710</td>\n",
       "      <td>43.810028</td>\n",
       "    </tr>\n",
       "  </tbody>\n",
       "</table>\n",
       "<p>729573 rows × 14 columns</p>\n",
       "</div>"
      ],
      "text/plain": [
       "       teammate  keeper  dist_from_def_goal  degree_from_def_goal  \\\n",
       "0          True   False          107.796046             14.097301   \n",
       "1         False   False          106.052540             18.817579   \n",
       "2          True   False          100.094700             -0.320342   \n",
       "3          True   False          102.070033             13.714230   \n",
       "4         False   False           99.040646              1.821617   \n",
       "...         ...     ...                 ...                   ...   \n",
       "729568     True   False           28.828032             16.954085   \n",
       "729569     True   False           35.873525            -39.915893   \n",
       "729570    False   False           26.015491             14.641998   \n",
       "729571    False   False           28.243955            -28.079240   \n",
       "729572    False   False           23.827870             -9.200974   \n",
       "\n",
       "        dist_from_att_goal  degree_from_att_goal  dist_from_actor  \\\n",
       "0                30.464443            120.474949        12.784305   \n",
       "1                39.433044            119.831376        12.394057   \n",
       "2                19.914729           -178.389707        27.121503   \n",
       "3                31.935577            130.735074         7.432964   \n",
       "4                21.243983            171.477558        23.254188   \n",
       "...                    ...                   ...              ...   \n",
       "729568           92.806380            174.803023         4.778083   \n",
       "729569           95.306986           -166.023639        29.754197   \n",
       "729570           95.057130            176.033044         6.746818   \n",
       "729571           96.005334           -172.040467        20.907604   \n",
       "729572           96.553911           -177.738515        13.223971   \n",
       "\n",
       "        degree_from_actor  degree_diff_pass_actor  degree_from_br  \\\n",
       "0                4.449192               40.476567      -17.446314   \n",
       "1               46.188593               82.215967        0.398482   \n",
       "2              -72.203561               36.176187      -59.506885   \n",
       "3               -8.240548               27.786826      -26.887489   \n",
       "4              -71.997848               35.970474      -58.042073   \n",
       "...                   ...                     ...             ...   \n",
       "729568         155.279545              155.870202        3.923494   \n",
       "729569         -98.505568               97.914911      -50.277867   \n",
       "729570         178.573942              179.164599       -0.338546   \n",
       "729571        -109.548477              108.957820      -42.142442   \n",
       "729572        -129.402221              128.811564      -26.929823   \n",
       "\n",
       "        dist_from_br  degree_diff_goal_br      loc_x      loc_y  \n",
       "0          26.043841            34.443493  15.450395  13.744190  \n",
       "1          20.680743            16.598698  19.615932   5.792103  \n",
       "2          40.181143            76.504065  19.906864  40.559628  \n",
       "3          21.814441            43.884669  20.839956  15.801295  \n",
       "4          36.438507            75.039253  21.009405  36.851710  \n",
       "...              ...                  ...        ...        ...  \n",
       "729568     24.817952            15.875382  92.424870  31.593594  \n",
       "729569     38.648949            70.076743  92.485466  63.018692  \n",
       "729570     22.355662            20.137422  94.829384  33.423840  \n",
       "729571     29.810993            61.941319  95.080430  53.294210  \n",
       "729572     23.224350            46.728699  96.478710  43.810028  \n",
       "\n",
       "[729573 rows x 14 columns]"
      ]
     },
     "execution_count": 49,
     "metadata": {},
     "output_type": "execute_result"
    }
   ],
   "source": [
    "tracking_data.info()"
   ]
  },
  {
   "cell_type": "code",
   "execution_count": 38,
   "id": "02fcd3f0",
   "metadata": {
    "ExecuteTime": {
     "end_time": "2022-08-10T18:06:17.806315Z",
     "start_time": "2022-08-10T18:06:17.800313Z"
    },
    "scrolled": true
   },
   "outputs": [
    {
     "name": "stdout",
     "output_type": "stream",
     "text": [
      "Index(['index', 'period', 'timestamp', 'minute', 'second', 'type',\n",
      "       'possession', 'possession_team', 'play_pattern', 'team', 'player',\n",
      "       'position', 'location', 'duration', 'related_events', 'match_id',\n",
      "       'pass_recipient', 'pass_length', 'pass_angle', 'pass_height',\n",
      "       'pass_end_location', 'pass_type', 'pass_body_part',\n",
      "       'possession_team_id', 'player_id', 'pass_switch', 'pass_outcome',\n",
      "       'off_camera', 'under_pressure', 'pass_cross', 'pass_assisted_shot_id',\n",
      "       'pass_shot_assist', 'pass_aerial_won', 'pass_through_ball',\n",
      "       'pass_technique', 'counterpress', 'pass_outswinging', 'pass_deflected',\n",
      "       'pass_no_touch', 'out', 'pass_inswinging', 'pass_goal_assist',\n",
      "       'binary_pass_risk', 'binary_pass_reward', 'pass_br_location',\n",
      "       'br_pressure', 'one_touch_pass', 'pass_from_duel', 'carry_dist',\n",
      "       'carry_speed', 'pass_degree', 'pass_angle_cat', 'pass_receipt_loc',\n",
      "       'passer_degree_to_goal', 'br_degree_to_goal', 'pass_loc_x',\n",
      "       'pass_loc_y', 'pass_receipt_loc_x', 'pass_receipt_loc_y', 'deadball',\n",
      "       'time_since_poss', 'from_keeper_held', 'pass_body_part_gr',\n",
      "       'pc_5ft_actor_oppo', 'pc_oppo_closer_to_goal_passer',\n",
      "       'oppo_min_dist_passer', 'min_degree_diff_passer_oppo',\n",
      "       'closest_oppo_degree_diff_passer', 'pc_5ft_br_oppo',\n",
      "       'pc_oppo_closer_to_goal_br', 'oppo_min_dist_br',\n",
      "       'min_degree_diff_br_oppo', 'closest_oppo_degree_diff_br',\n",
      "       'min_dist_from_br_teammate', 'pass_cut_back', 'pass_straight',\n",
      "       'pass_miscommunication'],\n",
      "      dtype='object')\n"
     ]
    }
   ],
   "source": [
    "print(appended_data.columns)"
   ]
  },
  {
   "cell_type": "markdown",
   "id": "b4ac59c8",
   "metadata": {},
   "source": [
    "## Create a table called master_data for future uses"
   ]
  },
  {
   "cell_type": "code",
   "execution_count": 39,
   "id": "48fcabb3",
   "metadata": {
    "ExecuteTime": {
     "end_time": "2022-08-10T18:06:27.145719Z",
     "start_time": "2022-08-10T18:06:27.005670Z"
    }
   },
   "outputs": [],
   "source": [
    "master_data = appended_data.drop(['second', 'type','possession', 'possession_team', 'pass_body_part',\n",
    "                                  'play_pattern', 'team', 'player', 'position', 'pass_br_location', \n",
    "                                  'duration', 'related_events', 'match_id','pass_recipient',\n",
    "                                  'pass_angle', 'pass_end_location', 'possession_team_id', 'pass_type',\n",
    "                                  'player_id', 'pass_outcome', 'off_camera', 'pass_assisted_shot_id',\n",
    "                                  'pass_shot_assist', 'pass_aerial_won', 'pass_technique', 'counterpress',\n",
    "                                  'pass_outswinging', 'pass_deflected','pass_no_touch', 'out','pass_inswinging', \n",
    "                                  'pass_goal_assist', 'pass_straight', 'pass_miscommunication'], axis=1)"
   ]
  },
  {
   "cell_type": "code",
   "execution_count": 40,
   "id": "ea2b9579",
   "metadata": {
    "ExecuteTime": {
     "end_time": "2022-08-10T18:06:36.498368Z",
     "start_time": "2022-08-10T18:06:36.437351Z"
    },
    "scrolled": true
   },
   "outputs": [
    {
     "name": "stdout",
     "output_type": "stream",
     "text": [
      "Index(['index', 'period', 'timestamp', 'minute', 'location', 'pass_length',\n",
      "       'pass_height', 'pass_switch', 'under_pressure', 'pass_cross',\n",
      "       'pass_through_ball', 'binary_pass_risk', 'binary_pass_reward',\n",
      "       'br_pressure', 'one_touch_pass', 'pass_from_duel', 'carry_dist',\n",
      "       'carry_speed', 'pass_degree', 'pass_angle_cat', 'pass_receipt_loc',\n",
      "       'passer_degree_to_goal', 'br_degree_to_goal', 'pass_loc_x',\n",
      "       'pass_loc_y', 'pass_receipt_loc_x', 'pass_receipt_loc_y', 'deadball',\n",
      "       'time_since_poss', 'from_keeper_held', 'pass_body_part_gr',\n",
      "       'pc_5ft_actor_oppo', 'pc_oppo_closer_to_goal_passer',\n",
      "       'oppo_min_dist_passer', 'min_degree_diff_passer_oppo',\n",
      "       'closest_oppo_degree_diff_passer', 'pc_5ft_br_oppo',\n",
      "       'pc_oppo_closer_to_goal_br', 'oppo_min_dist_br',\n",
      "       'min_degree_diff_br_oppo', 'closest_oppo_degree_diff_br',\n",
      "       'min_dist_from_br_teammate', 'pass_cut_back'],\n",
      "      dtype='object')\n",
      "<class 'pandas.core.frame.DataFrame'>\n",
      "Index: 54820 entries, bbc398f7-c784-4958-a504-37b583caf97a to e6fa5b12-3683-4e25-912b-30180e4fc752\n",
      "Data columns (total 43 columns):\n",
      " #   Column                           Non-Null Count  Dtype         \n",
      "---  ------                           --------------  -----         \n",
      " 0   index                            54820 non-null  int64         \n",
      " 1   period                           54820 non-null  int64         \n",
      " 2   timestamp                        54820 non-null  datetime64[ns]\n",
      " 3   minute                           54820 non-null  int64         \n",
      " 4   location                         54820 non-null  object        \n",
      " 5   pass_length                      54820 non-null  float64       \n",
      " 6   pass_height                      54820 non-null  object        \n",
      " 7   pass_switch                      1622 non-null   object        \n",
      " 8   under_pressure                   7777 non-null   object        \n",
      " 9   pass_cross                       1163 non-null   object        \n",
      " 10  pass_through_ball                345 non-null    object        \n",
      " 11  binary_pass_risk                 54820 non-null  object        \n",
      " 12  binary_pass_reward               54820 non-null  int64         \n",
      " 13  br_pressure                      3909 non-null   object        \n",
      " 14  one_touch_pass                   54820 non-null  int32         \n",
      " 15  pass_from_duel                   54820 non-null  int32         \n",
      " 16  carry_dist                       38793 non-null  float64       \n",
      " 17  carry_speed                      38793 non-null  float64       \n",
      " 18  pass_degree                      54820 non-null  float64       \n",
      " 19  pass_angle_cat                   54678 non-null  object        \n",
      " 20  pass_receipt_loc                 54820 non-null  object        \n",
      " 21  passer_degree_to_goal            54820 non-null  float64       \n",
      " 22  br_degree_to_goal                54820 non-null  float64       \n",
      " 23  pass_loc_x                       54820 non-null  float64       \n",
      " 24  pass_loc_y                       54820 non-null  float64       \n",
      " 25  pass_receipt_loc_x               54820 non-null  float64       \n",
      " 26  pass_receipt_loc_y               54820 non-null  float64       \n",
      " 27  deadball                         54820 non-null  bool          \n",
      " 28  time_since_poss                  54820 non-null  float64       \n",
      " 29  from_keeper_held                 609 non-null    float64       \n",
      " 30  pass_body_part_gr                54820 non-null  object        \n",
      " 31  pc_5ft_actor_oppo                47539 non-null  float64       \n",
      " 32  pc_oppo_closer_to_goal_passer    47539 non-null  float64       \n",
      " 33  oppo_min_dist_passer             47539 non-null  float64       \n",
      " 34  min_degree_diff_passer_oppo      47539 non-null  float64       \n",
      " 35  closest_oppo_degree_diff_passer  47539 non-null  float64       \n",
      " 36  pc_5ft_br_oppo                   47539 non-null  float64       \n",
      " 37  pc_oppo_closer_to_goal_br        47539 non-null  float64       \n",
      " 38  oppo_min_dist_br                 47544 non-null  float64       \n",
      " 39  min_degree_diff_br_oppo          47544 non-null  float64       \n",
      " 40  closest_oppo_degree_diff_br      47544 non-null  float64       \n",
      " 41  min_dist_from_br_teammate        47618 non-null  float64       \n",
      " 42  pass_cut_back                    107 non-null    object        \n",
      "dtypes: bool(1), datetime64[ns](1), float64(23), int32(2), int64(4), object(12)\n",
      "memory usage: 17.6+ MB\n"
     ]
    }
   ],
   "source": [
    "print(master_data.columns)\n",
    "master_data.info()"
   ]
  },
  {
   "cell_type": "markdown",
   "id": "e9690beb",
   "metadata": {},
   "source": [
    "#### Treat missing values"
   ]
  },
  {
   "cell_type": "code",
   "execution_count": 41,
   "id": "1b6db929",
   "metadata": {
    "ExecuteTime": {
     "end_time": "2022-08-10T18:06:45.948413Z",
     "start_time": "2022-08-10T18:06:45.842583Z"
    }
   },
   "outputs": [],
   "source": [
    "master_data['pass_body_part_gr'] = master_data['pass_body_part_gr'].fillna('Other')\n",
    "\n",
    "master_data['pass_switch'] = master_data['pass_switch'].fillna(False)\n",
    "master_data['under_pressure'] = master_data['under_pressure'].fillna(False)\n",
    "master_data['from_keeper_held'] = master_data['from_keeper_held'].fillna(False)\n",
    "master_data['pass_cross'] = master_data['pass_cross'].fillna(False)\n",
    "master_data['pass_through_ball'] = master_data['pass_through_ball'].fillna(False)\n",
    "master_data['br_pressure'] = master_data['br_pressure'].fillna(False)\n",
    "master_data['pass_cut_back'] = master_data['pass_cut_back'].fillna(False)\n",
    "\n",
    "master_data['carry_dist'] = master_data['carry_dist'].fillna(0)\n",
    "master_data['carry_speed'] = master_data['carry_speed'].fillna(0)"
   ]
  },
  {
   "cell_type": "markdown",
   "id": "2de8a93e",
   "metadata": {},
   "source": [
    "#### Manual data adjustment due to numbers rounding up - pass angle"
   ]
  },
  {
   "cell_type": "code",
   "execution_count": 42,
   "id": "1fe45ac6",
   "metadata": {
    "ExecuteTime": {
     "end_time": "2022-08-10T18:06:55.229780Z",
     "start_time": "2022-08-10T18:06:55.218667Z"
    }
   },
   "outputs": [],
   "source": [
    "master_data['pass_degree'] = np.where(master_data['pass_degree']>180, 180, master_data['pass_degree'])\n",
    "master_data['pass_angle_cat'] = master_data['pass_angle_cat'].fillna('Backward')"
   ]
  },
  {
   "cell_type": "markdown",
   "id": "987ec4aa",
   "metadata": {},
   "source": [
    "#### Convert type"
   ]
  },
  {
   "cell_type": "code",
   "execution_count": 43,
   "id": "7f6a18c3",
   "metadata": {
    "ExecuteTime": {
     "end_time": "2022-08-10T18:07:04.679130Z",
     "start_time": "2022-08-10T18:07:04.553717Z"
    }
   },
   "outputs": [],
   "source": [
    "dtypes = {'timestamp': str, \n",
    "          'pass_switch': int,\n",
    "          'under_pressure': int,\n",
    "          'pass_cross': int,\n",
    "          'pass_through_ball': int,\n",
    "          'binary_pass_risk': int, \n",
    "          'br_pressure': int, \n",
    "          'deadball':int,\n",
    "          'from_keeper_held':int,\n",
    "          'pass_cut_back': int\n",
    "         }\n",
    "\n",
    "master_data=master_data.astype(dtypes)"
   ]
  },
  {
   "cell_type": "code",
   "execution_count": 44,
   "id": "daef9003",
   "metadata": {
    "ExecuteTime": {
     "end_time": "2022-08-10T18:07:13.934630Z",
     "start_time": "2022-08-10T18:07:13.890613Z"
    },
    "scrolled": true
   },
   "outputs": [
    {
     "name": "stdout",
     "output_type": "stream",
     "text": [
      "<class 'pandas.core.frame.DataFrame'>\n",
      "Index: 54820 entries, bbc398f7-c784-4958-a504-37b583caf97a to e6fa5b12-3683-4e25-912b-30180e4fc752\n",
      "Data columns (total 43 columns):\n",
      " #   Column                           Non-Null Count  Dtype  \n",
      "---  ------                           --------------  -----  \n",
      " 0   index                            54820 non-null  int64  \n",
      " 1   period                           54820 non-null  int64  \n",
      " 2   timestamp                        54820 non-null  object \n",
      " 3   minute                           54820 non-null  int64  \n",
      " 4   location                         54820 non-null  object \n",
      " 5   pass_length                      54820 non-null  float64\n",
      " 6   pass_height                      54820 non-null  object \n",
      " 7   pass_switch                      54820 non-null  int32  \n",
      " 8   under_pressure                   54820 non-null  int32  \n",
      " 9   pass_cross                       54820 non-null  int32  \n",
      " 10  pass_through_ball                54820 non-null  int32  \n",
      " 11  binary_pass_risk                 54820 non-null  int32  \n",
      " 12  binary_pass_reward               54820 non-null  int64  \n",
      " 13  br_pressure                      54820 non-null  int32  \n",
      " 14  one_touch_pass                   54820 non-null  int32  \n",
      " 15  pass_from_duel                   54820 non-null  int32  \n",
      " 16  carry_dist                       54820 non-null  float64\n",
      " 17  carry_speed                      54820 non-null  float64\n",
      " 18  pass_degree                      54820 non-null  float64\n",
      " 19  pass_angle_cat                   54820 non-null  object \n",
      " 20  pass_receipt_loc                 54820 non-null  object \n",
      " 21  passer_degree_to_goal            54820 non-null  float64\n",
      " 22  br_degree_to_goal                54820 non-null  float64\n",
      " 23  pass_loc_x                       54820 non-null  float64\n",
      " 24  pass_loc_y                       54820 non-null  float64\n",
      " 25  pass_receipt_loc_x               54820 non-null  float64\n",
      " 26  pass_receipt_loc_y               54820 non-null  float64\n",
      " 27  deadball                         54820 non-null  int32  \n",
      " 28  time_since_poss                  54820 non-null  float64\n",
      " 29  from_keeper_held                 54820 non-null  int32  \n",
      " 30  pass_body_part_gr                54820 non-null  object \n",
      " 31  pc_5ft_actor_oppo                47539 non-null  float64\n",
      " 32  pc_oppo_closer_to_goal_passer    47539 non-null  float64\n",
      " 33  oppo_min_dist_passer             47539 non-null  float64\n",
      " 34  min_degree_diff_passer_oppo      47539 non-null  float64\n",
      " 35  closest_oppo_degree_diff_passer  47539 non-null  float64\n",
      " 36  pc_5ft_br_oppo                   47539 non-null  float64\n",
      " 37  pc_oppo_closer_to_goal_br        47539 non-null  float64\n",
      " 38  oppo_min_dist_br                 47544 non-null  float64\n",
      " 39  min_degree_diff_br_oppo          47544 non-null  float64\n",
      " 40  closest_oppo_degree_diff_br      47544 non-null  float64\n",
      " 41  min_dist_from_br_teammate        47618 non-null  float64\n",
      " 42  pass_cut_back                    54820 non-null  int32  \n",
      "dtypes: float64(22), int32(11), int64(4), object(6)\n",
      "memory usage: 16.1+ MB\n"
     ]
    }
   ],
   "source": [
    "master_data.info()"
   ]
  },
  {
   "cell_type": "markdown",
   "id": "33460008",
   "metadata": {},
   "source": [
    "#### Save this data to json file for future uses\n",
    "- dir pyg_data/raw/ must be created beforehand, since this will be used in generating graph representations"
   ]
  },
  {
   "cell_type": "code",
   "execution_count": 45,
   "id": "bd53d8e7",
   "metadata": {
    "ExecuteTime": {
     "end_time": "2022-08-10T18:09:00.489608Z",
     "start_time": "2022-08-10T18:07:23.165391Z"
    }
   },
   "outputs": [],
   "source": [
    "master_data_dict = master_data.to_dict()\n",
    "tracking_data_dict = tracking_data.to_dict()\n",
    "import json\n",
    "with open(\"master_data.json\", \"w\") as outfile:\n",
    "    json.dump(master_data_dict, outfile)\n",
    "    \n",
    "with open(\"pyg_data/raw/tracking_data.json\", \"w\") as outfile:\n",
    "    json.dump(tracking_data_dict, outfile)"
   ]
  }
 ],
 "metadata": {
  "kernelspec": {
   "display_name": "Python 3",
   "language": "python",
   "name": "python3"
  },
  "language_info": {
   "codemirror_mode": {
    "name": "ipython",
    "version": 3
   },
   "file_extension": ".py",
   "mimetype": "text/x-python",
   "name": "python",
   "nbconvert_exporter": "python",
   "pygments_lexer": "ipython3",
   "version": "3.8.8"
  },
  "toc": {
   "base_numbering": 1,
   "nav_menu": {},
   "number_sections": true,
   "sideBar": true,
   "skip_h1_title": false,
   "title_cell": "Table of Contents",
   "title_sidebar": "Contents",
   "toc_cell": false,
   "toc_position": {},
   "toc_section_display": true,
   "toc_window_display": false
  },
  "varInspector": {
   "cols": {
    "lenName": 16,
    "lenType": 16,
    "lenVar": 40
   },
   "kernels_config": {
    "python": {
     "delete_cmd_postfix": "",
     "delete_cmd_prefix": "del ",
     "library": "var_list.py",
     "varRefreshCmd": "print(var_dic_list())"
    },
    "r": {
     "delete_cmd_postfix": ") ",
     "delete_cmd_prefix": "rm(",
     "library": "var_list.r",
     "varRefreshCmd": "cat(var_dic_list()) "
    }
   },
   "types_to_exclude": [
    "module",
    "function",
    "builtin_function_or_method",
    "instance",
    "_Feature"
   ],
   "window_display": false
  }
 },
 "nbformat": 4,
 "nbformat_minor": 5
}
